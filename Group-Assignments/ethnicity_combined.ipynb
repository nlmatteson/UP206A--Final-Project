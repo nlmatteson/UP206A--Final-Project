{
 "cells": [
  {
   "cell_type": "markdown",
   "id": "bd1204b8-b004-46b4-9b94-5ef2a345b087",
   "metadata": {},
   "source": [
    "# Alemada County Comparitive Ethnicity Analysis: 2011 and 2019"
   ]
  },
  {
   "cell_type": "markdown",
   "id": "5ab19fa3-9ded-441e-b8cf-304cb18829d6",
   "metadata": {},
   "source": [
    "In this short piece, I hope combine the ethinicity analysis we did individually in class last week into a single notebook.\n",
    "This will use American Community Census data from 2019 and 2011. While 2019 data is in the format condusive for analysis, 2011 data was obtained by joining dataframe with geodataframe. I hope to just call the file worked one earlier, and not have to do the joining again.\n",
    "\n",
    "I am in love with the shortcut to toggle between markdown and code esc, and then m or y. "
   ]
  },
  {
   "cell_type": "markdown",
   "id": "231fb0a6-64cf-467d-90af-8d62f93a7b68",
   "metadata": {},
   "source": [
    "To start off, Calling in all libraries."
   ]
  },
  {
   "cell_type": "code",
   "execution_count": 1,
   "id": "d6c08cdf-1c39-4bb6-bfc5-37c225d507a4",
   "metadata": {},
   "outputs": [
    {
     "name": "stderr",
     "output_type": "stream",
     "text": [
      "/opt/conda/lib/python3.9/site-packages/geopandas/_compat.py:106: UserWarning: The Shapely GEOS version (3.9.1-CAPI-1.14.2) is incompatible with the GEOS version PyGEOS was compiled with (3.10.1-CAPI-1.16.0). Conversions between both will be slow.\n",
      "  warnings.warn(\n"
     ]
    }
   ],
   "source": [
    "import pandas as pd\n",
    "import geopandas as gpd\n",
    "import contextily as ctx\n",
    "import matplotlib.pyplot as plt"
   ]
  },
  {
   "cell_type": "markdown",
   "id": "74e6f443-0ec6-4752-bc5d-7a165b5548ad",
   "metadata": {},
   "source": [
    "Now to import the data sets. Note that I downloaded copies worked on earlier, and will upload them to this folder. \n",
    "For this, i first went back to my work from week 3, and re-ran the entire code, and added the following line of code: alameda2011.to_file(\"alameda2011eth.geojson\", driver='GeoJSON')\n",
    "that gave me a geojseon file that I can easily download. Uploading it here saves me from having to repeate file joining and sorting. "
   ]
  },
  {
   "cell_type": "code",
   "execution_count": 2,
   "id": "3eca6bbe-1ccd-4b3c-bca3-d19ff72ddf1a",
   "metadata": {},
   "outputs": [],
   "source": [
    "ethn2011 = gpd.read_file(\"alameda2011eth.geojson\")\n",
    "ethn2019 = gpd.read_file(\"alameda2019eth.geojson\")"
   ]
  },
  {
   "cell_type": "markdown",
   "id": "3826ff8c-0619-4afd-88f0-a0777e7da166",
   "metadata": {},
   "source": [
    "Now let us check both the files to see if they are similar. If not we still have cleaning to do!"
   ]
  },
  {
   "cell_type": "code",
   "execution_count": 3,
   "id": "ddc97bf5-6b07-4713-a3a0-faa8f628dd7c",
   "metadata": {},
   "outputs": [
    {
     "data": {
      "text/plain": [
       "(361, 23)"
      ]
     },
     "execution_count": 3,
     "metadata": {},
     "output_type": "execute_result"
    }
   ],
   "source": [
    "ethn2011.shape"
   ]
  },
  {
   "cell_type": "code",
   "execution_count": 4,
   "id": "eed4e454-187c-4bc2-918a-1d5c65e7571c",
   "metadata": {},
   "outputs": [
    {
     "data": {
      "text/plain": [
       "(361, 45)"
      ]
     },
     "execution_count": 4,
     "metadata": {},
     "output_type": "execute_result"
    }
   ],
   "source": [
    "ethn2019.shape"
   ]
  },
  {
   "cell_type": "markdown",
   "id": "40e41c2b-33d7-46d4-9a6b-f027760fe134",
   "metadata": {},
   "source": [
    "the 2019 files needs a bit of cleaning Let us clean and match it to the 2011 file. First we check the variables in the file currently, and repeate steps from week 3 as required. "
   ]
  },
  {
   "cell_type": "code",
   "execution_count": 5,
   "id": "cacd1b48-307b-48de-bff6-0e6640d00292",
   "metadata": {},
   "outputs": [
    {
     "data": {
      "text/plain": [
       "['geoid',\n",
       " 'name',\n",
       " 'B03002001',\n",
       " 'B03002001, Error',\n",
       " 'B03002002',\n",
       " 'B03002002, Error',\n",
       " 'B03002003',\n",
       " 'B03002003, Error',\n",
       " 'B03002004',\n",
       " 'B03002004, Error',\n",
       " 'B03002005',\n",
       " 'B03002005, Error',\n",
       " 'B03002006',\n",
       " 'B03002006, Error',\n",
       " 'B03002007',\n",
       " 'B03002007, Error',\n",
       " 'B03002008',\n",
       " 'B03002008, Error',\n",
       " 'B03002009',\n",
       " 'B03002009, Error',\n",
       " 'B03002010',\n",
       " 'B03002010, Error',\n",
       " 'B03002011',\n",
       " 'B03002011, Error',\n",
       " 'B03002012',\n",
       " 'B03002012, Error',\n",
       " 'B03002013',\n",
       " 'B03002013, Error',\n",
       " 'B03002014',\n",
       " 'B03002014, Error',\n",
       " 'B03002015',\n",
       " 'B03002015, Error',\n",
       " 'B03002016',\n",
       " 'B03002016, Error',\n",
       " 'B03002017',\n",
       " 'B03002017, Error',\n",
       " 'B03002018',\n",
       " 'B03002018, Error',\n",
       " 'B03002019',\n",
       " 'B03002019, Error',\n",
       " 'B03002020',\n",
       " 'B03002020, Error',\n",
       " 'B03002021',\n",
       " 'B03002021, Error',\n",
       " 'geometry']"
      ]
     },
     "execution_count": 5,
     "metadata": {},
     "output_type": "execute_result"
    }
   ],
   "source": [
    "list(ethn2019)"
   ]
  },
  {
   "cell_type": "code",
   "execution_count": 13,
   "id": "7b27603f-b599-44fc-b57b-0a49b1fdc945",
   "metadata": {},
   "outputs": [],
   "source": [
    "columns_to_keep = ['geoid',\n",
    "                   'name',\n",
    "                   'B03002001',\n",
    "                   'B03002002',\n",
    "                   'B03002003',\n",
    "                   'B03002004',\n",
    "                   'B03002005',\n",
    "                   'B03002006',\n",
    "                   'B03002007',\n",
    "                   'B03002008',\n",
    "                   'B03002009',\n",
    "                   'B03002012',\n",
    "                   'geometry']"
   ]
  },
  {
   "cell_type": "code",
   "execution_count": 14,
   "id": "7ff415d5-4098-4c4f-abae-f1e93026c29f",
   "metadata": {},
   "outputs": [],
   "source": [
    "ethn2019 = ethn2019[columns_to_keep]"
   ]
  },
  {
   "cell_type": "code",
   "execution_count": 15,
   "id": "2a1d897f-19f1-4515-a7ee-6616d1995a7b",
   "metadata": {},
   "outputs": [
    {
     "data": {
      "text/plain": [
       "(361, 13)"
      ]
     },
     "execution_count": 15,
     "metadata": {},
     "output_type": "execute_result"
    }
   ],
   "source": [
    "ethn2019.shape"
   ]
  },
  {
   "cell_type": "markdown",
   "id": "a455eaea-67dc-44f9-b3df-e927f254cef1",
   "metadata": {},
   "source": [
    "Now there seem to be a few mising columns. Let us check the column names in both and see how they vary."
   ]
  },
  {
   "cell_type": "code",
   "execution_count": 16,
   "id": "7fb4857e-fcb0-4e51-89dc-c1bac2c3bb7c",
   "metadata": {},
   "outputs": [
    {
     "data": {
      "text/plain": [
       "['GEOID',\n",
       " 'Total',\n",
       " 'Non Hispanic',\n",
       " 'Non Hispanic White',\n",
       " 'Non Hispanic Black',\n",
       " 'Non Hispanic American Indian and Alaska Native',\n",
       " 'Non Hispanic Asian',\n",
       " 'Non Hispanic Native Hawaiian and Other Pacific Islander',\n",
       " 'Non Hispanic Some other race',\n",
       " 'Non Hispanic Two or more races',\n",
       " 'Hispanic',\n",
       " 'NAME',\n",
       " 'Percent Total',\n",
       " 'Percent Non Hispanic',\n",
       " 'Percent Non Hispanic White',\n",
       " 'Percent Non Hispanic Black',\n",
       " 'Percent Non Hispanic American Indian and Alaska Native',\n",
       " 'Percent Non Hispanic Asian',\n",
       " 'Percent Non Hispanic Native Hawaiian and Other Pacific Islander',\n",
       " 'Percent Non Hispanic Some other race',\n",
       " 'Percent Non Hispanic Two or more races',\n",
       " 'Percent Hispanic',\n",
       " 'geometry']"
      ]
     },
     "execution_count": 16,
     "metadata": {},
     "output_type": "execute_result"
    }
   ],
   "source": [
    "\n",
    "list(ethn2011)"
   ]
  },
  {
   "cell_type": "code",
   "execution_count": 17,
   "id": "4a9d9844-e4d8-4ca5-a20e-5f83fcfe9c0f",
   "metadata": {},
   "outputs": [
    {
     "data": {
      "text/plain": [
       "['geoid',\n",
       " 'name',\n",
       " 'B03002001',\n",
       " 'B03002002',\n",
       " 'B03002003',\n",
       " 'B03002004',\n",
       " 'B03002005',\n",
       " 'B03002006',\n",
       " 'B03002007',\n",
       " 'B03002008',\n",
       " 'B03002009',\n",
       " 'B03002012',\n",
       " 'geometry']"
      ]
     },
     "execution_count": 17,
     "metadata": {},
     "output_type": "execute_result"
    }
   ],
   "source": [
    "list(ethn2019)"
   ]
  },
  {
   "cell_type": "markdown",
   "id": "577cf139-add8-43e5-8f1a-1daad69286bb",
   "metadata": {},
   "source": [
    "We need to rename columns, and also add percentages to the 2019 file. There must also have been some naming errors in the earlier work. Renaming 2019 columns based on their column codes.   "
   ]
  },
  {
   "cell_type": "code",
   "execution_count": 18,
   "id": "61755193-d670-47bb-a6a1-dd547ccc41a0",
   "metadata": {},
   "outputs": [],
   "source": [
    "ethn2019.columns = [\n",
    " 'GEOID',\n",
    "    'NAME',\n",
    "    'Total',\n",
    " 'Non Hispanic',\n",
    " 'Non Hispanic White',\n",
    " 'Non Hispanic Black',\n",
    " 'Non Hispanic American Indian and Alaska Native',\n",
    " 'Non Hispanic Asian',\n",
    " 'Non Hispanic Native Hawaiian and Other Pacific Islander',\n",
    " 'Non Hispanic Some other race',\n",
    " 'Non Hispanic Two or more races',\n",
    " 'Hispanic',\n",
    "    'geometry']"
   ]
  },
  {
   "cell_type": "code",
   "execution_count": 19,
   "id": "dd5cf327-7209-4ed8-b8c4-508159e29cb4",
   "metadata": {},
   "outputs": [
    {
     "data": {
      "text/plain": [
       "['GEOID',\n",
       " 'NAME',\n",
       " 'Total',\n",
       " 'Non Hispanic',\n",
       " 'Non Hispanic White',\n",
       " 'Non Hispanic Black',\n",
       " 'Non Hispanic American Indian and Alaska Native',\n",
       " 'Non Hispanic Asian',\n",
       " 'Non Hispanic Native Hawaiian and Other Pacific Islander',\n",
       " 'Non Hispanic Some other race',\n",
       " 'Non Hispanic Two or more races',\n",
       " 'Hispanic',\n",
       " 'geometry']"
      ]
     },
     "execution_count": 19,
     "metadata": {},
     "output_type": "execute_result"
    }
   ],
   "source": [
    "list(ethn2019)"
   ]
  },
  {
   "cell_type": "markdown",
   "id": "c6c54e1f-9ead-458b-87ed-c34c877962e4",
   "metadata": {},
   "source": [
    "Checkign datatypes. Because this was issue with my data last week."
   ]
  },
  {
   "cell_type": "code",
   "execution_count": 20,
   "id": "b012191a-8a9c-4f2c-889e-1ef546010d2f",
   "metadata": {},
   "outputs": [],
   "source": [
    "dtypes = list(ethn2019)"
   ]
  },
  {
   "cell_type": "code",
   "execution_count": 21,
   "id": "48ea617f-f8f8-4a8d-a5ad-26d778c0e4a4",
   "metadata": {},
   "outputs": [
    {
     "name": "stdout",
     "output_type": "stream",
     "text": [
      "GEOID <class 'str'>\n",
      "NAME <class 'str'>\n",
      "Total <class 'numpy.float64'>\n",
      "Non Hispanic <class 'numpy.float64'>\n",
      "Non Hispanic White <class 'numpy.float64'>\n",
      "Non Hispanic Black <class 'numpy.float64'>\n",
      "Non Hispanic American Indian and Alaska Native <class 'numpy.float64'>\n",
      "Non Hispanic Asian <class 'numpy.float64'>\n",
      "Non Hispanic Native Hawaiian and Other Pacific Islander <class 'numpy.float64'>\n",
      "Non Hispanic Some other race <class 'numpy.float64'>\n",
      "Non Hispanic Two or more races <class 'numpy.float64'>\n",
      "Hispanic <class 'numpy.float64'>\n",
      "geometry <class 'shapely.geometry.multipolygon.MultiPolygon'>\n"
     ]
    }
   ],
   "source": [
    "for x in dtypes:\n",
    "    print(x,type(ethn2019[x][0]))"
   ]
  },
  {
   "cell_type": "markdown",
   "id": "1678658d-8300-447c-893e-f52a25d4e39a",
   "metadata": {},
   "source": [
    "Cool, the datatypes are correct! Now we check the they add up"
   ]
  },
  {
   "cell_type": "code",
   "execution_count": 23,
   "id": "7cf7baec-abb7-4071-9563-4007510652aa",
   "metadata": {},
   "outputs": [
    {
     "data": {
      "text/html": [
       "<div>\n",
       "<style scoped>\n",
       "    .dataframe tbody tr th:only-of-type {\n",
       "        vertical-align: middle;\n",
       "    }\n",
       "\n",
       "    .dataframe tbody tr th {\n",
       "        vertical-align: top;\n",
       "    }\n",
       "\n",
       "    .dataframe thead th {\n",
       "        text-align: right;\n",
       "    }\n",
       "</style>\n",
       "<table border=\"1\" class=\"dataframe\">\n",
       "  <thead>\n",
       "    <tr style=\"text-align: right;\">\n",
       "      <th></th>\n",
       "      <th>GEOID</th>\n",
       "      <th>NAME</th>\n",
       "      <th>Total</th>\n",
       "      <th>Non Hispanic</th>\n",
       "      <th>Non Hispanic White</th>\n",
       "      <th>Non Hispanic Black</th>\n",
       "      <th>Non Hispanic American Indian and Alaska Native</th>\n",
       "      <th>Non Hispanic Asian</th>\n",
       "      <th>Non Hispanic Native Hawaiian and Other Pacific Islander</th>\n",
       "      <th>Non Hispanic Some other race</th>\n",
       "      <th>Non Hispanic Two or more races</th>\n",
       "      <th>Hispanic</th>\n",
       "      <th>geometry</th>\n",
       "    </tr>\n",
       "  </thead>\n",
       "  <tbody>\n",
       "    <tr>\n",
       "      <th>354</th>\n",
       "      <td>14000US06001451701</td>\n",
       "      <td>Census Tract 4517.01, Alameda, CA</td>\n",
       "      <td>3112.0</td>\n",
       "      <td>2656.0</td>\n",
       "      <td>2230.0</td>\n",
       "      <td>34.0</td>\n",
       "      <td>5.0</td>\n",
       "      <td>172.0</td>\n",
       "      <td>28.0</td>\n",
       "      <td>0.0</td>\n",
       "      <td>187.0</td>\n",
       "      <td>456.0</td>\n",
       "      <td>MULTIPOLYGON (((-121.79527 37.67726, -121.7944...</td>\n",
       "    </tr>\n",
       "  </tbody>\n",
       "</table>\n",
       "</div>"
      ],
      "text/plain": [
       "                  GEOID                               NAME   Total  \\\n",
       "354  14000US06001451701  Census Tract 4517.01, Alameda, CA  3112.0   \n",
       "\n",
       "     Non Hispanic  Non Hispanic White  Non Hispanic Black  \\\n",
       "354        2656.0              2230.0                34.0   \n",
       "\n",
       "     Non Hispanic American Indian and Alaska Native  Non Hispanic Asian  \\\n",
       "354                                             5.0               172.0   \n",
       "\n",
       "     Non Hispanic Native Hawaiian and Other Pacific Islander  \\\n",
       "354                                               28.0         \n",
       "\n",
       "     Non Hispanic Some other race  Non Hispanic Two or more races  Hispanic  \\\n",
       "354                           0.0                           187.0     456.0   \n",
       "\n",
       "                                              geometry  \n",
       "354  MULTIPOLYGON (((-121.79527 37.67726, -121.7944...  "
      ]
     },
     "execution_count": 23,
     "metadata": {},
     "output_type": "execute_result"
    }
   ],
   "source": [
    "random_tract = ethn2019.sample()\n",
    "random_tract"
   ]
  },
  {
   "cell_type": "code",
   "execution_count": 24,
   "id": "8fd84cbd-7d86-440a-8a35-825467d96a8e",
   "metadata": {},
   "outputs": [
    {
     "name": "stdout",
     "output_type": "stream",
     "text": [
      "Values add\n"
     ]
    }
   ],
   "source": [
    "if random_tract.iloc[0]['Total']==random_tract.iloc[0]['Non Hispanic']+random_tract.iloc[0]['Hispanic']:\n",
    "    print(\"Values add\")\n",
    "else:\n",
    "    print(\"Values do not add\")"
   ]
  },
  {
   "cell_type": "markdown",
   "id": "01a92715-3cd2-4484-b499-121a4383e670",
   "metadata": {},
   "source": [
    "Cool, values add. Now we can add percentages. We will use a loop to quicken the work. But we first define a dataframe with only the name of the float columns to loop through. "
   ]
  },
  {
   "cell_type": "code",
   "execution_count": 26,
   "id": "f8312915-f276-4a96-b9c4-d0579ed023e0",
   "metadata": {},
   "outputs": [
    {
     "data": {
      "text/plain": [
       "['GEOID',\n",
       " 'NAME',\n",
       " 'Total',\n",
       " 'Non Hispanic',\n",
       " 'Non Hispanic White',\n",
       " 'Non Hispanic Black',\n",
       " 'Non Hispanic American Indian and Alaska Native',\n",
       " 'Non Hispanic Asian',\n",
       " 'Non Hispanic Native Hawaiian and Other Pacific Islander',\n",
       " 'Non Hispanic Some other race',\n",
       " 'Non Hispanic Two or more races',\n",
       " 'Hispanic',\n",
       " 'geometry']"
      ]
     },
     "execution_count": 26,
     "metadata": {},
     "output_type": "execute_result"
    }
   ],
   "source": [
    "list(ethn2019)"
   ]
  },
  {
   "cell_type": "code",
   "execution_count": 27,
   "id": "eb0b280d-7de0-4d55-ae72-a6ef3dba5332",
   "metadata": {},
   "outputs": [],
   "source": [
    "dtypes2 = ['Total', \n",
    " 'Non Hispanic',\n",
    " 'Non Hispanic White',\n",
    " 'Non Hispanic Black',\n",
    " 'Non Hispanic American Indian and Alaska Native',\n",
    " 'Non Hispanic Asian',\n",
    " 'Non Hispanic Native Hawaiian and Other Pacific Islander',\n",
    " 'Non Hispanic Some other race',\n",
    " 'Non Hispanic Two or more races',\n",
    " 'Hispanic']"
   ]
  },
  {
   "cell_type": "code",
   "execution_count": 28,
   "id": "0a19af4d-c14a-4175-a769-c33e9e9ac11c",
   "metadata": {},
   "outputs": [
    {
     "name": "stdout",
     "output_type": "stream",
     "text": [
      "Total Completed\n",
      "Non Hispanic Completed\n",
      "Non Hispanic White Completed\n",
      "Non Hispanic Black Completed\n",
      "Non Hispanic American Indian and Alaska Native Completed\n",
      "Non Hispanic Asian Completed\n",
      "Non Hispanic Native Hawaiian and Other Pacific Islander Completed\n",
      "Non Hispanic Some other race Completed\n",
      "Non Hispanic Two or more races Completed\n",
      "Hispanic Completed\n"
     ]
    }
   ],
   "source": [
    "for x in dtypes2:\n",
    "    ethn2019[(\"Percent \" + x)] = ethn2019[x]/ethn2019['Total']*100\n",
    "    print(x, \"Completed\")"
   ]
  },
  {
   "cell_type": "code",
   "execution_count": 29,
   "id": "c6c6e1c8-db0f-46c6-afe1-b906aaf45013",
   "metadata": {},
   "outputs": [
    {
     "data": {
      "text/plain": [
       "['GEOID',\n",
       " 'NAME',\n",
       " 'Total',\n",
       " 'Non Hispanic',\n",
       " 'Non Hispanic White',\n",
       " 'Non Hispanic Black',\n",
       " 'Non Hispanic American Indian and Alaska Native',\n",
       " 'Non Hispanic Asian',\n",
       " 'Non Hispanic Native Hawaiian and Other Pacific Islander',\n",
       " 'Non Hispanic Some other race',\n",
       " 'Non Hispanic Two or more races',\n",
       " 'Hispanic',\n",
       " 'geometry',\n",
       " 'Percent Total',\n",
       " 'Percent Non Hispanic',\n",
       " 'Percent Non Hispanic White',\n",
       " 'Percent Non Hispanic Black',\n",
       " 'Percent Non Hispanic American Indian and Alaska Native',\n",
       " 'Percent Non Hispanic Asian',\n",
       " 'Percent Non Hispanic Native Hawaiian and Other Pacific Islander',\n",
       " 'Percent Non Hispanic Some other race',\n",
       " 'Percent Non Hispanic Two or more races',\n",
       " 'Percent Hispanic']"
      ]
     },
     "execution_count": 29,
     "metadata": {},
     "output_type": "execute_result"
    }
   ],
   "source": [
    "list(ethn2019)"
   ]
  },
  {
   "cell_type": "markdown",
   "id": "d06df70c-7364-44b9-9187-425e169720a9",
   "metadata": {},
   "source": [
    "That sorts our data! Now for us to try plotting a side-by-side graph!"
   ]
  },
  {
   "cell_type": "code",
   "execution_count": 30,
   "id": "dafe39a2-3283-427a-9ed5-af056e6f5896",
   "metadata": {},
   "outputs": [
    {
     "data": {
      "text/plain": [
       "Text(0.5, 1.0, 'Percent White in 2019')"
      ]
     },
     "execution_count": 30,
     "metadata": {},
     "output_type": "execute_result"
    },
    {
     "data": {
      "image/png": "[encoded data removed]",
      "text/plain": [
       "<Figure size 1440x1080 with 3 Axes>"
      ]
     },
     "metadata": {
      "needs_background": "light"
     },
     "output_type": "display_data"
    }
   ],
   "source": [
    "fig, axs = plt.subplots(1, 3, figsize=(20, 15), sharex=True, sharey=True)\n",
    "ax1, ax2, ax3 = axs\n",
    "ethn2011.plot(column='Percent Hispanic', \n",
    "            cmap='PiYG', \n",
    "            scheme='user_defined',\n",
    "            classification_kwds={'bins':[20,40,60,80,100]},\n",
    "            edgecolor='white', \n",
    "            linewidth=0.3, \n",
    "            ax=ax1, \n",
    "            legend=True\n",
    "           )\n",
    "ax1.axis(\"off\")\n",
    "ax1.set_title(\"Percent Hispanic in 2011\")\n",
    "\n",
    "ethn2019.plot(column='Percent Hispanic', \n",
    "            cmap='PiYG', \n",
    "            scheme='user_defined',\n",
    "            classification_kwds={'bins':[20,40,60,80,100]},\n",
    "            edgecolor='white', \n",
    "            linewidth=0.3, \n",
    "            ax=ax2, \n",
    "            legend=True\n",
    "           )\n",
    "ax2.axis(\"off\")\n",
    "ax2.set_title(\"Percent White in 2019\")"
   ]
  },
  {
   "cell_type": "markdown",
   "id": "7a9e233a-45d8-453d-b53e-f42859b64c6a",
   "metadata": {},
   "source": [
    "Yay! That is a success. We will work on improving the graphics later. before we go, saving the files.\n"
   ]
  },
  {
   "cell_type": "code",
   "execution_count": 32,
   "id": "b1f19f97-9cc0-49b1-ac8e-bb0838d32457",
   "metadata": {},
   "outputs": [],
   "source": [
    "ethn2019.to_file(\"ethn2019v2.geojson\", driver='GeoJSON')"
   ]
  },
  {
   "cell_type": "code",
   "execution_count": 33,
   "id": "b68b7baa-35be-48d8-be44-f5bb1cc6a77e",
   "metadata": {},
   "outputs": [],
   "source": [
    "ethn2011.to_file(\"ethn2011v2.geojson\", driver='GeoJSON')"
   ]
  },
  {
   "cell_type": "code",
   "execution_count": null,
   "id": "aab029fb-a653-4f03-a650-22dc5429e3f0",
   "metadata": {},
   "outputs": [],
   "source": []
  }
 ],
 "metadata": {
  "kernelspec": {
   "display_name": "Python 3 (ipykernel)",
   "language": "python",
   "name": "python3"
  },
  "language_info": {
   "codemirror_mode": {
    "name": "ipython",
    "version": 3
   },
   "file_extension": ".py",
   "mimetype": "text/x-python",
   "name": "python",
   "nbconvert_exporter": "python",
   "pygments_lexer": "ipython3",
   "version": "3.9.6"
  }
 },
 "nbformat": 4,
 "nbformat_minor": 5
}
