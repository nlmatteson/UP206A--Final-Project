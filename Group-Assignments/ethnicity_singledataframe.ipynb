{
 "cells": [
  {
   "cell_type": "markdown",
   "id": "97f5e7e6-cc2b-4b8f-b860-2a3c0d77d629",
   "metadata": {},
   "source": [
    "# work"
   ]
  },
  {
   "cell_type": "code",
   "execution_count": 1,
   "id": "09e7a716-4bcb-4a04-856d-4e9bb46a6aeb",
   "metadata": {},
   "outputs": [
    {
     "name": "stderr",
     "output_type": "stream",
     "text": [
      "/opt/conda/lib/python3.9/site-packages/geopandas/_compat.py:106: UserWarning: The Shapely GEOS version (3.9.1-CAPI-1.14.2) is incompatible with the GEOS version PyGEOS was compiled with (3.10.1-CAPI-1.16.0). Conversions between both will be slow.\n",
      "  warnings.warn(\n"
     ]
    }
   ],
   "source": [
    "import pandas as pd\n",
    "import geopandas as gpd\n",
    "import contextily as ctx\n",
    "import matplotlib.pyplot as plt"
   ]
  },
  {
   "cell_type": "code",
   "execution_count": 2,
   "id": "5d0ac3b6-d754-47b0-a738-771bc0f4e568",
   "metadata": {},
   "outputs": [],
   "source": [
    "ethn2011 = gpd.read_file(\"ethn2011v2.geojson\")\n",
    "ethn2019 = gpd.read_file(\"ethn2019v2.geojson\")"
   ]
  },
  {
   "cell_type": "code",
   "execution_count": 7,
   "id": "7daa3c28-06ed-4d68-a56a-8e47207b0a40",
   "metadata": {},
   "outputs": [
    {
     "data": {
      "text/plain": [
       "(361, 22)"
      ]
     },
     "execution_count": 7,
     "metadata": {},
     "output_type": "execute_result"
    }
   ],
   "source": [
    "ethn2011.shape"
   ]
  },
  {
   "cell_type": "code",
   "execution_count": 8,
   "id": "10760c60-03c0-4589-8364-9029aed1998e",
   "metadata": {},
   "outputs": [
    {
     "data": {
      "text/plain": [
       "(361, 23)"
      ]
     },
     "execution_count": 8,
     "metadata": {},
     "output_type": "execute_result"
    }
   ],
   "source": [
    "ethn2019.shape"
   ]
  },
  {
   "cell_type": "code",
   "execution_count": 5,
   "id": "8f404a69-7df9-49d8-bf3c-a6dbc8089b8d",
   "metadata": {},
   "outputs": [],
   "source": [
    "ethn2011=ethn2011.loc[:, ethn2011.columns !='geometry']"
   ]
  },
  {
   "cell_type": "code",
   "execution_count": 10,
   "id": "ddb8a581-18a9-4029-9c33-38db1f316e01",
   "metadata": {},
   "outputs": [],
   "source": [
    "ethn2011=ethn2011.loc[:, ethn2011.columns !='NAME']"
   ]
  },
  {
   "cell_type": "code",
   "execution_count": 11,
   "id": "1b5a89d1-717a-40ec-abcb-646254bd78a2",
   "metadata": {},
   "outputs": [
    {
     "data": {
      "text/plain": [
       "(361, 21)"
      ]
     },
     "execution_count": 11,
     "metadata": {},
     "output_type": "execute_result"
    }
   ],
   "source": [
    "ethn2011.shape"
   ]
  },
  {
   "cell_type": "code",
   "execution_count": null,
   "id": "e9154fa0-1644-44fb-a7ee-3c35f7e12063",
   "metadata": {},
   "outputs": [],
   "source": [
    "ethn2011.head()"
   ]
  },
  {
   "cell_type": "code",
   "execution_count": 13,
   "id": "91d2562d-87df-48e4-a61a-3b2c0b7b9c17",
   "metadata": {},
   "outputs": [
    {
     "data": {
      "text/plain": [
       "['GEOID',\n",
       " 'Total',\n",
       " 'Non Hispanic',\n",
       " 'Non Hispanic White',\n",
       " 'Non Hispanic Black',\n",
       " 'Non Hispanic American Indian and Alaska Native',\n",
       " 'Non Hispanic Asian',\n",
       " 'Non Hispanic Native Hawaiian and Other Pacific Islander',\n",
       " 'Non Hispanic Some other race',\n",
       " 'Non Hispanic Two or more races',\n",
       " 'Hispanic',\n",
       " 'Percent Total',\n",
       " 'Percent Non Hispanic',\n",
       " 'Percent Non Hispanic White',\n",
       " 'Percent Non Hispanic Black',\n",
       " 'Percent Non Hispanic American Indian and Alaska Native',\n",
       " 'Percent Non Hispanic Asian',\n",
       " 'Percent Non Hispanic Native Hawaiian and Other Pacific Islander',\n",
       " 'Percent Non Hispanic Some other race',\n",
       " 'Percent Non Hispanic Two or more races',\n",
       " 'Percent Hispanic']"
      ]
     },
     "execution_count": 13,
     "metadata": {},
     "output_type": "execute_result"
    }
   ],
   "source": [
    "list(ethn2011)"
   ]
  },
  {
   "cell_type": "code",
   "execution_count": 14,
   "id": "b39ebda6-aeee-4534-91cf-740b8635ff23",
   "metadata": {},
   "outputs": [],
   "source": [
    "col2011=['GEOID',\n",
    " 'Total_2011',\n",
    " 'Non Hispanic_2011',\n",
    " 'Non Hispanic White_2011',\n",
    " 'Non Hispanic Black_2011',\n",
    " 'Non Hispanic American Indian and Alaska Native_2011',\n",
    " 'Non Hispanic Asian_2011',\n",
    " 'Non Hispanic Native Hawaiian and Other Pacific Islander_2011',\n",
    " 'Non Hispanic Some other race_2011',\n",
    " 'Non Hispanic Two or more races_2011',\n",
    " 'Hispanic_2011',\n",
    " 'Percent Total_2011',\n",
    " 'Percent Non Hispanic_2011',\n",
    " 'Percent Non Hispanic White_2011',\n",
    " 'Percent Non Hispanic Black_2011',\n",
    " 'Percent Non Hispanic American Indian and Alaska Native_2011',\n",
    " 'Percent Non Hispanic Asian_2011',\n",
    " 'Percent Non Hispanic Native Hawaiian and Other Pacific Islander_2011',\n",
    " 'Percent Non Hispanic Some other race_2011',\n",
    " 'Percent Non Hispanic Two or more races_2011',\n",
    " 'Percent Hispanic_2011']"
   ]
  },
  {
   "cell_type": "code",
   "execution_count": 15,
   "id": "8c23d515-96b7-4701-a954-59da22d597dd",
   "metadata": {},
   "outputs": [],
   "source": [
    "ethn2011.columns=col2011"
   ]
  },
  {
   "cell_type": "code",
   "execution_count": 16,
   "id": "94a94a94-491c-4ad9-80a7-cccd51fb9c33",
   "metadata": {},
   "outputs": [
    {
     "data": {
      "text/html": [
       "<div>\n",
       "<style scoped>\n",
       "    .dataframe tbody tr th:only-of-type {\n",
       "        vertical-align: middle;\n",
       "    }\n",
       "\n",
       "    .dataframe tbody tr th {\n",
       "        vertical-align: top;\n",
       "    }\n",
       "\n",
       "    .dataframe thead th {\n",
       "        text-align: right;\n",
       "    }\n",
       "</style>\n",
       "<table border=\"1\" class=\"dataframe\">\n",
       "  <thead>\n",
       "    <tr style=\"text-align: right;\">\n",
       "      <th></th>\n",
       "      <th>GEOID</th>\n",
       "      <th>Total_2011</th>\n",
       "      <th>Non Hispanic_2011</th>\n",
       "      <th>Non Hispanic White_2011</th>\n",
       "      <th>Non Hispanic Black_2011</th>\n",
       "      <th>Non Hispanic American Indian and Alaska Native_2011</th>\n",
       "      <th>Non Hispanic Asian_2011</th>\n",
       "      <th>Non Hispanic Native Hawaiian and Other Pacific Islander_2011</th>\n",
       "      <th>Non Hispanic Some other race_2011</th>\n",
       "      <th>Non Hispanic Two or more races_2011</th>\n",
       "      <th>...</th>\n",
       "      <th>Percent Total_2011</th>\n",
       "      <th>Percent Non Hispanic_2011</th>\n",
       "      <th>Percent Non Hispanic White_2011</th>\n",
       "      <th>Percent Non Hispanic Black_2011</th>\n",
       "      <th>Percent Non Hispanic American Indian and Alaska Native_2011</th>\n",
       "      <th>Percent Non Hispanic Asian_2011</th>\n",
       "      <th>Percent Non Hispanic Native Hawaiian and Other Pacific Islander_2011</th>\n",
       "      <th>Percent Non Hispanic Some other race_2011</th>\n",
       "      <th>Percent Non Hispanic Two or more races_2011</th>\n",
       "      <th>Percent Hispanic_2011</th>\n",
       "    </tr>\n",
       "  </thead>\n",
       "  <tbody>\n",
       "    <tr>\n",
       "      <th>0</th>\n",
       "      <td>06001427200</td>\n",
       "      <td>4376.0</td>\n",
       "      <td>3710.0</td>\n",
       "      <td>1616.0</td>\n",
       "      <td>135.0</td>\n",
       "      <td>0.0</td>\n",
       "      <td>1702.0</td>\n",
       "      <td>97.0</td>\n",
       "      <td>8.0</td>\n",
       "      <td>152.0</td>\n",
       "      <td>...</td>\n",
       "      <td>100.0</td>\n",
       "      <td>84.780622</td>\n",
       "      <td>36.928702</td>\n",
       "      <td>3.085009</td>\n",
       "      <td>0.000000</td>\n",
       "      <td>38.893967</td>\n",
       "      <td>2.216636</td>\n",
       "      <td>0.182815</td>\n",
       "      <td>3.473492</td>\n",
       "      <td>15.219378</td>\n",
       "    </tr>\n",
       "    <tr>\n",
       "      <th>1</th>\n",
       "      <td>06001436200</td>\n",
       "      <td>3804.0</td>\n",
       "      <td>1608.0</td>\n",
       "      <td>583.0</td>\n",
       "      <td>684.0</td>\n",
       "      <td>0.0</td>\n",
       "      <td>62.0</td>\n",
       "      <td>147.0</td>\n",
       "      <td>0.0</td>\n",
       "      <td>132.0</td>\n",
       "      <td>...</td>\n",
       "      <td>100.0</td>\n",
       "      <td>42.271293</td>\n",
       "      <td>15.325973</td>\n",
       "      <td>17.981073</td>\n",
       "      <td>0.000000</td>\n",
       "      <td>1.629863</td>\n",
       "      <td>3.864353</td>\n",
       "      <td>0.000000</td>\n",
       "      <td>3.470032</td>\n",
       "      <td>57.728707</td>\n",
       "    </tr>\n",
       "    <tr>\n",
       "      <th>2</th>\n",
       "      <td>06001427100</td>\n",
       "      <td>3480.0</td>\n",
       "      <td>3196.0</td>\n",
       "      <td>2464.0</td>\n",
       "      <td>114.0</td>\n",
       "      <td>0.0</td>\n",
       "      <td>381.0</td>\n",
       "      <td>0.0</td>\n",
       "      <td>20.0</td>\n",
       "      <td>217.0</td>\n",
       "      <td>...</td>\n",
       "      <td>100.0</td>\n",
       "      <td>91.839080</td>\n",
       "      <td>70.804598</td>\n",
       "      <td>3.275862</td>\n",
       "      <td>0.000000</td>\n",
       "      <td>10.948276</td>\n",
       "      <td>0.000000</td>\n",
       "      <td>0.574713</td>\n",
       "      <td>6.235632</td>\n",
       "      <td>8.160920</td>\n",
       "    </tr>\n",
       "    <tr>\n",
       "      <th>3</th>\n",
       "      <td>06001427800</td>\n",
       "      <td>4655.0</td>\n",
       "      <td>4038.0</td>\n",
       "      <td>2654.0</td>\n",
       "      <td>188.0</td>\n",
       "      <td>17.0</td>\n",
       "      <td>1018.0</td>\n",
       "      <td>0.0</td>\n",
       "      <td>0.0</td>\n",
       "      <td>161.0</td>\n",
       "      <td>...</td>\n",
       "      <td>100.0</td>\n",
       "      <td>86.745435</td>\n",
       "      <td>57.013963</td>\n",
       "      <td>4.038668</td>\n",
       "      <td>0.365199</td>\n",
       "      <td>21.868958</td>\n",
       "      <td>0.000000</td>\n",
       "      <td>0.000000</td>\n",
       "      <td>3.458647</td>\n",
       "      <td>13.254565</td>\n",
       "    </tr>\n",
       "    <tr>\n",
       "      <th>4</th>\n",
       "      <td>06001403300</td>\n",
       "      <td>4061.0</td>\n",
       "      <td>3884.0</td>\n",
       "      <td>1159.0</td>\n",
       "      <td>250.0</td>\n",
       "      <td>0.0</td>\n",
       "      <td>2376.0</td>\n",
       "      <td>0.0</td>\n",
       "      <td>0.0</td>\n",
       "      <td>99.0</td>\n",
       "      <td>...</td>\n",
       "      <td>100.0</td>\n",
       "      <td>95.641468</td>\n",
       "      <td>28.539769</td>\n",
       "      <td>6.156119</td>\n",
       "      <td>0.000000</td>\n",
       "      <td>58.507757</td>\n",
       "      <td>0.000000</td>\n",
       "      <td>0.000000</td>\n",
       "      <td>2.437823</td>\n",
       "      <td>4.358532</td>\n",
       "    </tr>\n",
       "  </tbody>\n",
       "</table>\n",
       "<p>5 rows × 21 columns</p>\n",
       "</div>"
      ],
      "text/plain": [
       "         GEOID  Total_2011  Non Hispanic_2011  Non Hispanic White_2011  \\\n",
       "0  06001427200      4376.0             3710.0                   1616.0   \n",
       "1  06001436200      3804.0             1608.0                    583.0   \n",
       "2  06001427100      3480.0             3196.0                   2464.0   \n",
       "3  06001427800      4655.0             4038.0                   2654.0   \n",
       "4  06001403300      4061.0             3884.0                   1159.0   \n",
       "\n",
       "   Non Hispanic Black_2011  \\\n",
       "0                    135.0   \n",
       "1                    684.0   \n",
       "2                    114.0   \n",
       "3                    188.0   \n",
       "4                    250.0   \n",
       "\n",
       "   Non Hispanic American Indian and Alaska Native_2011  \\\n",
       "0                                                0.0     \n",
       "1                                                0.0     \n",
       "2                                                0.0     \n",
       "3                                               17.0     \n",
       "4                                                0.0     \n",
       "\n",
       "   Non Hispanic Asian_2011  \\\n",
       "0                   1702.0   \n",
       "1                     62.0   \n",
       "2                    381.0   \n",
       "3                   1018.0   \n",
       "4                   2376.0   \n",
       "\n",
       "   Non Hispanic Native Hawaiian and Other Pacific Islander_2011  \\\n",
       "0                                               97.0              \n",
       "1                                              147.0              \n",
       "2                                                0.0              \n",
       "3                                                0.0              \n",
       "4                                                0.0              \n",
       "\n",
       "   Non Hispanic Some other race_2011  Non Hispanic Two or more races_2011  \\\n",
       "0                                8.0                                152.0   \n",
       "1                                0.0                                132.0   \n",
       "2                               20.0                                217.0   \n",
       "3                                0.0                                161.0   \n",
       "4                                0.0                                 99.0   \n",
       "\n",
       "   ...  Percent Total_2011  Percent Non Hispanic_2011  \\\n",
       "0  ...               100.0                  84.780622   \n",
       "1  ...               100.0                  42.271293   \n",
       "2  ...               100.0                  91.839080   \n",
       "3  ...               100.0                  86.745435   \n",
       "4  ...               100.0                  95.641468   \n",
       "\n",
       "   Percent Non Hispanic White_2011  Percent Non Hispanic Black_2011  \\\n",
       "0                        36.928702                         3.085009   \n",
       "1                        15.325973                        17.981073   \n",
       "2                        70.804598                         3.275862   \n",
       "3                        57.013963                         4.038668   \n",
       "4                        28.539769                         6.156119   \n",
       "\n",
       "   Percent Non Hispanic American Indian and Alaska Native_2011  \\\n",
       "0                                           0.000000             \n",
       "1                                           0.000000             \n",
       "2                                           0.000000             \n",
       "3                                           0.365199             \n",
       "4                                           0.000000             \n",
       "\n",
       "   Percent Non Hispanic Asian_2011  \\\n",
       "0                        38.893967   \n",
       "1                         1.629863   \n",
       "2                        10.948276   \n",
       "3                        21.868958   \n",
       "4                        58.507757   \n",
       "\n",
       "   Percent Non Hispanic Native Hawaiian and Other Pacific Islander_2011  \\\n",
       "0                                           2.216636                      \n",
       "1                                           3.864353                      \n",
       "2                                           0.000000                      \n",
       "3                                           0.000000                      \n",
       "4                                           0.000000                      \n",
       "\n",
       "   Percent Non Hispanic Some other race_2011  \\\n",
       "0                                   0.182815   \n",
       "1                                   0.000000   \n",
       "2                                   0.574713   \n",
       "3                                   0.000000   \n",
       "4                                   0.000000   \n",
       "\n",
       "   Percent Non Hispanic Two or more races_2011  Percent Hispanic_2011  \n",
       "0                                     3.473492              15.219378  \n",
       "1                                     3.470032              57.728707  \n",
       "2                                     6.235632               8.160920  \n",
       "3                                     3.458647              13.254565  \n",
       "4                                     2.437823               4.358532  \n",
       "\n",
       "[5 rows x 21 columns]"
      ]
     },
     "execution_count": 16,
     "metadata": {},
     "output_type": "execute_result"
    }
   ],
   "source": [
    "ethn2011.head()"
   ]
  },
  {
   "cell_type": "code",
   "execution_count": 17,
   "id": "e86aecbe-6ebc-4413-ab93-0cfd9d86154e",
   "metadata": {},
   "outputs": [
    {
     "data": {
      "text/plain": [
       "(361, 21)"
      ]
     },
     "execution_count": 17,
     "metadata": {},
     "output_type": "execute_result"
    }
   ],
   "source": [
    "ethn2011.shape"
   ]
  },
  {
   "cell_type": "code",
   "execution_count": 18,
   "id": "0b29c0e4-0f8b-4e6e-8978-b6ebe7759375",
   "metadata": {},
   "outputs": [],
   "source": [
    "col2019=['GEOID',\n",
    " 'NAME',\n",
    " 'Total_2019',\n",
    " 'Non Hispanic_2019',\n",
    " 'Non Hispanic White_2019',\n",
    " 'Non Hispanic Black_2019',\n",
    " 'Non Hispanic American Indian and Alaska Native_2019',\n",
    " 'Non Hispanic Asian_2019',\n",
    " 'Non Hispanic Native Hawaiian and Other Pacific Islander_2019',\n",
    " 'Non Hispanic Some other race_2019',\n",
    " 'Non Hispanic Two or more races_2019',\n",
    " 'Hispanic_2019',\n",
    " 'Percent Total_2019',\n",
    " 'Percent Non Hispanic_2019',\n",
    " 'Percent Non Hispanic White_2019',\n",
    " 'Percent Non Hispanic Black_2019',\n",
    " 'Percent Non Hispanic American Indian and Alaska Native_2019',\n",
    " 'Percent Non Hispanic Asian_2019',\n",
    " 'Percent Non Hispanic Native Hawaiian and Other Pacific Islander_2019',\n",
    " 'Percent Non Hispanic Some other race_2019',\n",
    " 'Percent Non Hispanic Two or more races_2019',\n",
    " 'Percent Hispanic_2019',\n",
    " 'geometry']"
   ]
  },
  {
   "cell_type": "code",
   "execution_count": 19,
   "id": "0ee5b31f-5228-47e7-adc8-9dbf2375f633",
   "metadata": {},
   "outputs": [],
   "source": [
    "ethn2019.columns=col2019"
   ]
  },
  {
   "cell_type": "code",
   "execution_count": 20,
   "id": "646f077b-798f-498e-a519-77c057d03ba4",
   "metadata": {},
   "outputs": [
    {
     "data": {
      "text/plain": [
       "(361, 23)"
      ]
     },
     "execution_count": 20,
     "metadata": {},
     "output_type": "execute_result"
    }
   ],
   "source": [
    "ethn2019.shape"
   ]
  },
  {
   "cell_type": "code",
   "execution_count": 21,
   "id": "26a9facb-103b-4fcc-a1d4-c08c4a603b3f",
   "metadata": {},
   "outputs": [
    {
     "name": "stdout",
     "output_type": "stream",
     "text": [
      "<class 'geopandas.geodataframe.GeoDataFrame'>\n",
      "RangeIndex: 361 entries, 0 to 360\n",
      "Data columns (total 23 columns):\n",
      " #   Column                                                                Non-Null Count  Dtype   \n",
      "---  ------                                                                --------------  -----   \n",
      " 0   GEOID                                                                 361 non-null    object  \n",
      " 1   NAME                                                                  361 non-null    object  \n",
      " 2   Total_2019                                                            361 non-null    float64 \n",
      " 3   Non Hispanic_2019                                                     361 non-null    float64 \n",
      " 4   Non Hispanic White_2019                                               361 non-null    float64 \n",
      " 5   Non Hispanic Black_2019                                               361 non-null    float64 \n",
      " 6   Non Hispanic American Indian and Alaska Native_2019                   361 non-null    float64 \n",
      " 7   Non Hispanic Asian_2019                                               361 non-null    float64 \n",
      " 8   Non Hispanic Native Hawaiian and Other Pacific Islander_2019          361 non-null    float64 \n",
      " 9   Non Hispanic Some other race_2019                                     361 non-null    float64 \n",
      " 10  Non Hispanic Two or more races_2019                                   361 non-null    float64 \n",
      " 11  Hispanic_2019                                                         361 non-null    float64 \n",
      " 12  Percent Total_2019                                                    360 non-null    float64 \n",
      " 13  Percent Non Hispanic_2019                                             360 non-null    float64 \n",
      " 14  Percent Non Hispanic White_2019                                       360 non-null    float64 \n",
      " 15  Percent Non Hispanic Black_2019                                       360 non-null    float64 \n",
      " 16  Percent Non Hispanic American Indian and Alaska Native_2019           360 non-null    float64 \n",
      " 17  Percent Non Hispanic Asian_2019                                       360 non-null    float64 \n",
      " 18  Percent Non Hispanic Native Hawaiian and Other Pacific Islander_2019  360 non-null    float64 \n",
      " 19  Percent Non Hispanic Some other race_2019                             360 non-null    float64 \n",
      " 20  Percent Non Hispanic Two or more races_2019                           360 non-null    float64 \n",
      " 21  Percent Hispanic_2019                                                 360 non-null    float64 \n",
      " 22  geometry                                                              361 non-null    geometry\n",
      "dtypes: float64(20), geometry(1), object(2)\n",
      "memory usage: 65.0+ KB\n"
     ]
    }
   ],
   "source": [
    "ethn2019.info()"
   ]
  },
  {
   "cell_type": "code",
   "execution_count": 29,
   "id": "95ea3fed-94ab-4a8d-b41f-bb40bc6f4d5e",
   "metadata": {},
   "outputs": [],
   "source": [
    "ealameda=ethn2019.merge(ethn2011, how='inner', on='GEOID')"
   ]
  },
  {
   "cell_type": "code",
   "execution_count": 28,
   "id": "7402ec55-4a3d-4b9b-ad85-23a034dff45a",
   "metadata": {},
   "outputs": [
    {
     "name": "stdout",
     "output_type": "stream",
     "text": [
      "<class 'geopandas.geodataframe.GeoDataFrame'>\n",
      "Int64Index: 722 entries, 0 to 721\n",
      "Data columns (total 43 columns):\n",
      " #   Column                                                                Non-Null Count  Dtype   \n",
      "---  ------                                                                --------------  -----   \n",
      " 0   GEOID                                                                 722 non-null    object  \n",
      " 1   NAME                                                                  361 non-null    object  \n",
      " 2   Total_2019                                                            361 non-null    float64 \n",
      " 3   Non Hispanic_2019                                                     361 non-null    float64 \n",
      " 4   Non Hispanic White_2019                                               361 non-null    float64 \n",
      " 5   Non Hispanic Black_2019                                               361 non-null    float64 \n",
      " 6   Non Hispanic American Indian and Alaska Native_2019                   361 non-null    float64 \n",
      " 7   Non Hispanic Asian_2019                                               361 non-null    float64 \n",
      " 8   Non Hispanic Native Hawaiian and Other Pacific Islander_2019          361 non-null    float64 \n",
      " 9   Non Hispanic Some other race_2019                                     361 non-null    float64 \n",
      " 10  Non Hispanic Two or more races_2019                                   361 non-null    float64 \n",
      " 11  Hispanic_2019                                                         361 non-null    float64 \n",
      " 12  Percent Total_2019                                                    360 non-null    float64 \n",
      " 13  Percent Non Hispanic_2019                                             360 non-null    float64 \n",
      " 14  Percent Non Hispanic White_2019                                       360 non-null    float64 \n",
      " 15  Percent Non Hispanic Black_2019                                       360 non-null    float64 \n",
      " 16  Percent Non Hispanic American Indian and Alaska Native_2019           360 non-null    float64 \n",
      " 17  Percent Non Hispanic Asian_2019                                       360 non-null    float64 \n",
      " 18  Percent Non Hispanic Native Hawaiian and Other Pacific Islander_2019  360 non-null    float64 \n",
      " 19  Percent Non Hispanic Some other race_2019                             360 non-null    float64 \n",
      " 20  Percent Non Hispanic Two or more races_2019                           360 non-null    float64 \n",
      " 21  Percent Hispanic_2019                                                 360 non-null    float64 \n",
      " 22  geometry                                                              361 non-null    geometry\n",
      " 23  Total_2011                                                            361 non-null    float64 \n",
      " 24  Non Hispanic_2011                                                     361 non-null    float64 \n",
      " 25  Non Hispanic White_2011                                               361 non-null    float64 \n",
      " 26  Non Hispanic Black_2011                                               361 non-null    float64 \n",
      " 27  Non Hispanic American Indian and Alaska Native_2011                   361 non-null    float64 \n",
      " 28  Non Hispanic Asian_2011                                               361 non-null    float64 \n",
      " 29  Non Hispanic Native Hawaiian and Other Pacific Islander_2011          361 non-null    float64 \n",
      " 30  Non Hispanic Some other race_2011                                     361 non-null    float64 \n",
      " 31  Non Hispanic Two or more races_2011                                   361 non-null    float64 \n",
      " 32  Hispanic_2011                                                         361 non-null    float64 \n",
      " 33  Percent Total_2011                                                    360 non-null    float64 \n",
      " 34  Percent Non Hispanic_2011                                             360 non-null    float64 \n",
      " 35  Percent Non Hispanic White_2011                                       360 non-null    float64 \n",
      " 36  Percent Non Hispanic Black_2011                                       360 non-null    float64 \n",
      " 37  Percent Non Hispanic American Indian and Alaska Native_2011           360 non-null    float64 \n",
      " 38  Percent Non Hispanic Asian_2011                                       360 non-null    float64 \n",
      " 39  Percent Non Hispanic Native Hawaiian and Other Pacific Islander_2011  360 non-null    float64 \n",
      " 40  Percent Non Hispanic Some other race_2011                             360 non-null    float64 \n",
      " 41  Percent Non Hispanic Two or more races_2011                           360 non-null    float64 \n",
      " 42  Percent Hispanic_2011                                                 360 non-null    float64 \n",
      "dtypes: float64(40), geometry(1), object(2)\n",
      "memory usage: 248.2+ KB\n"
     ]
    }
   ],
   "source": [
    "ealameda.info()"
   ]
  },
  {
   "cell_type": "code",
   "execution_count": null,
   "id": "e61d39a6-629b-4788-ab9d-8c6722965003",
   "metadata": {},
   "outputs": [],
   "source": [
    "for i,j in ethn2011, ethn2019:\n",
    "    if "
   ]
  },
  {
   "cell_type": "code",
   "execution_count": null,
   "id": "0b9e93a7-e3ed-4c07-b5c9-a8eb5b453b3d",
   "metadata": {},
   "outputs": [],
   "source": [
    "ethnalameda=ethnalameda.loc[:,ethnalameda.columns!='NAME_y']"
   ]
  },
  {
   "cell_type": "code",
   "execution_count": null,
   "id": "ee5f0c69-023b-483f-ab01-e9dea1d6c365",
   "metadata": {},
   "outputs": [],
   "source": [
    "ethnalameda.head()"
   ]
  },
  {
   "cell_type": "code",
   "execution_count": null,
   "id": "077928f9-367f-4660-8ee8-13c61ecd675b",
   "metadata": {},
   "outputs": [],
   "source": []
  }
 ],
 "metadata": {
  "kernelspec": {
   "display_name": "Python 3 (ipykernel)",
   "language": "python",
   "name": "python3"
  },
  "language_info": {
   "codemirror_mode": {
    "name": "ipython",
    "version": 3
   },
   "file_extension": ".py",
   "mimetype": "text/x-python",
   "name": "python",
   "nbconvert_exporter": "python",
   "pygments_lexer": "ipython3",
   "version": "3.9.6"
  }
 },
 "nbformat": 4,
 "nbformat_minor": 5
}
