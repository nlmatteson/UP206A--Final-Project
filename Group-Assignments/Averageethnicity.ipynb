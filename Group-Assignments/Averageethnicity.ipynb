{
 "cells": [
  {
   "cell_type": "code",
   "execution_count": 1,
   "id": "50aa0b35-bc8b-4689-86ad-1984f12e8923",
   "metadata": {},
   "outputs": [
    {
     "name": "stderr",
     "output_type": "stream",
     "text": [
      "/opt/conda/lib/python3.9/site-packages/geopandas/_compat.py:106: UserWarning: The Shapely GEOS version (3.9.1-CAPI-1.14.2) is incompatible with the GEOS version PyGEOS was compiled with (3.10.1-CAPI-1.16.0). Conversions between both will be slow.\n",
      "  warnings.warn(\n"
     ]
    }
   ],
   "source": [
    "import pandas as pd\n",
    "import geopandas as gpd\n",
    "import contextily as ctx\n",
    "import matplotlib.pyplot as plt\n",
    "import numpy as np\n"
   ]
  },
  {
   "cell_type": "code",
   "execution_count": 2,
   "id": "73f5ede2-655a-46c5-bc51-db748b3c97b3",
   "metadata": {},
   "outputs": [],
   "source": [
    "ethnala=gpd.read_file('ealamed2.geojson')"
   ]
  },
  {
   "cell_type": "code",
   "execution_count": 3,
   "id": "dc854702-b6b7-4c92-9334-b6e27707aaf5",
   "metadata": {},
   "outputs": [],
   "source": [
    "county2019=ethnala[['Total_2019',\n",
    " 'Non Hispanic_2019',\n",
    " 'Non Hispanic White_2019',\n",
    " 'Non Hispanic Black_2019',\n",
    " 'Non Hispanic American Indian and Alaska Native_2019',\n",
    " 'Non Hispanic Asian_2019',\n",
    " 'Non Hispanic Native Hawaiian and Other Pacific Islander_2019',\n",
    " 'Non Hispanic Some other race_2019',\n",
    " 'Non Hispanic Two or more races_2019',\n",
    " 'Hispanic_2019']]"
   ]
  },
  {
   "cell_type": "code",
   "execution_count": 4,
   "id": "70e0f28d-d507-428c-aa57-47d131b42dcb",
   "metadata": {},
   "outputs": [
    {
     "data": {
      "text/html": [
       "<div>\n",
       "<style scoped>\n",
       "    .dataframe tbody tr th:only-of-type {\n",
       "        vertical-align: middle;\n",
       "    }\n",
       "\n",
       "    .dataframe tbody tr th {\n",
       "        vertical-align: top;\n",
       "    }\n",
       "\n",
       "    .dataframe thead th {\n",
       "        text-align: right;\n",
       "    }\n",
       "</style>\n",
       "<table border=\"1\" class=\"dataframe\">\n",
       "  <thead>\n",
       "    <tr style=\"text-align: right;\">\n",
       "      <th></th>\n",
       "      <th>Total_2019</th>\n",
       "      <th>Non Hispanic_2019</th>\n",
       "      <th>Non Hispanic White_2019</th>\n",
       "      <th>Non Hispanic Black_2019</th>\n",
       "      <th>Non Hispanic American Indian and Alaska Native_2019</th>\n",
       "      <th>Non Hispanic Asian_2019</th>\n",
       "      <th>Non Hispanic Native Hawaiian and Other Pacific Islander_2019</th>\n",
       "      <th>Non Hispanic Some other race_2019</th>\n",
       "      <th>Non Hispanic Two or more races_2019</th>\n",
       "      <th>Hispanic_2019</th>\n",
       "    </tr>\n",
       "  </thead>\n",
       "  <tbody>\n",
       "    <tr>\n",
       "      <th>0</th>\n",
       "      <td>3120.0</td>\n",
       "      <td>3002.0</td>\n",
       "      <td>2317.0</td>\n",
       "      <td>107.0</td>\n",
       "      <td>0.0</td>\n",
       "      <td>391.0</td>\n",
       "      <td>0.0</td>\n",
       "      <td>0.0</td>\n",
       "      <td>187.0</td>\n",
       "      <td>118.0</td>\n",
       "    </tr>\n",
       "    <tr>\n",
       "      <th>1</th>\n",
       "      <td>2007.0</td>\n",
       "      <td>1833.0</td>\n",
       "      <td>1475.0</td>\n",
       "      <td>52.0</td>\n",
       "      <td>4.0</td>\n",
       "      <td>171.0</td>\n",
       "      <td>0.0</td>\n",
       "      <td>0.0</td>\n",
       "      <td>131.0</td>\n",
       "      <td>174.0</td>\n",
       "    </tr>\n",
       "    <tr>\n",
       "      <th>2</th>\n",
       "      <td>5051.0</td>\n",
       "      <td>4700.0</td>\n",
       "      <td>3434.0</td>\n",
       "      <td>459.0</td>\n",
       "      <td>0.0</td>\n",
       "      <td>590.0</td>\n",
       "      <td>23.0</td>\n",
       "      <td>97.0</td>\n",
       "      <td>97.0</td>\n",
       "      <td>351.0</td>\n",
       "    </tr>\n",
       "    <tr>\n",
       "      <th>3</th>\n",
       "      <td>4007.0</td>\n",
       "      <td>3522.0</td>\n",
       "      <td>2554.0</td>\n",
       "      <td>266.0</td>\n",
       "      <td>35.0</td>\n",
       "      <td>420.0</td>\n",
       "      <td>0.0</td>\n",
       "      <td>0.0</td>\n",
       "      <td>247.0</td>\n",
       "      <td>485.0</td>\n",
       "    </tr>\n",
       "    <tr>\n",
       "      <th>4</th>\n",
       "      <td>4124.0</td>\n",
       "      <td>3734.0</td>\n",
       "      <td>1874.0</td>\n",
       "      <td>882.0</td>\n",
       "      <td>0.0</td>\n",
       "      <td>446.0</td>\n",
       "      <td>22.0</td>\n",
       "      <td>6.0</td>\n",
       "      <td>504.0</td>\n",
       "      <td>390.0</td>\n",
       "    </tr>\n",
       "  </tbody>\n",
       "</table>\n",
       "</div>"
      ],
      "text/plain": [
       "   Total_2019  Non Hispanic_2019  Non Hispanic White_2019  \\\n",
       "0      3120.0             3002.0                   2317.0   \n",
       "1      2007.0             1833.0                   1475.0   \n",
       "2      5051.0             4700.0                   3434.0   \n",
       "3      4007.0             3522.0                   2554.0   \n",
       "4      4124.0             3734.0                   1874.0   \n",
       "\n",
       "   Non Hispanic Black_2019  \\\n",
       "0                    107.0   \n",
       "1                     52.0   \n",
       "2                    459.0   \n",
       "3                    266.0   \n",
       "4                    882.0   \n",
       "\n",
       "   Non Hispanic American Indian and Alaska Native_2019  \\\n",
       "0                                                0.0     \n",
       "1                                                4.0     \n",
       "2                                                0.0     \n",
       "3                                               35.0     \n",
       "4                                                0.0     \n",
       "\n",
       "   Non Hispanic Asian_2019  \\\n",
       "0                    391.0   \n",
       "1                    171.0   \n",
       "2                    590.0   \n",
       "3                    420.0   \n",
       "4                    446.0   \n",
       "\n",
       "   Non Hispanic Native Hawaiian and Other Pacific Islander_2019  \\\n",
       "0                                                0.0              \n",
       "1                                                0.0              \n",
       "2                                               23.0              \n",
       "3                                                0.0              \n",
       "4                                               22.0              \n",
       "\n",
       "   Non Hispanic Some other race_2019  Non Hispanic Two or more races_2019  \\\n",
       "0                                0.0                                187.0   \n",
       "1                                0.0                                131.0   \n",
       "2                               97.0                                 97.0   \n",
       "3                                0.0                                247.0   \n",
       "4                                6.0                                504.0   \n",
       "\n",
       "   Hispanic_2019  \n",
       "0          118.0  \n",
       "1          174.0  \n",
       "2          351.0  \n",
       "3          485.0  \n",
       "4          390.0  "
      ]
     },
     "execution_count": 4,
     "metadata": {},
     "output_type": "execute_result"
    }
   ],
   "source": [
    "county2019.head()"
   ]
  },
  {
   "cell_type": "code",
   "execution_count": 5,
   "id": "463bf4da-0d46-47ac-983e-f7c212ac6d58",
   "metadata": {},
   "outputs": [],
   "source": [
    "countyaverage2019=county2019.mean(axis=0, numeric_only=True)"
   ]
  },
  {
   "cell_type": "code",
   "execution_count": 6,
   "id": "0ded73ef-9e0c-42fb-b9c1-7403d9fa34ee",
   "metadata": {},
   "outputs": [
    {
     "data": {
      "text/plain": [
       "Total_2019                                                      4589.346260\n",
       "Non Hispanic_2019                                               3561.592798\n",
       "Non Hispanic White_2019                                         1441.681440\n",
       "Non Hispanic Black_2019                                          474.149584\n",
       "Non Hispanic American Indian and Alaska Native_2019               14.432133\n",
       "Non Hispanic Asian_2019                                         1373.977839\n",
       "Non Hispanic Native Hawaiian and Other Pacific Islander_2019      36.778393\n",
       "Non Hispanic Some other race_2019                                 14.977839\n",
       "Non Hispanic Two or more races_2019                              205.595568\n",
       "Hispanic_2019                                                   1027.753463\n",
       "dtype: float64"
      ]
     },
     "execution_count": 6,
     "metadata": {},
     "output_type": "execute_result"
    }
   ],
   "source": [
    "countyaverage2019"
   ]
  },
  {
   "cell_type": "code",
   "execution_count": 26,
   "id": "18baae3a-0d80-4447-93df-a4dbd5da401c",
   "metadata": {},
   "outputs": [],
   "source": [
    "county2019=countyaverage2019.to_frame().rename(columns={0:'Value 2019'})"
   ]
  },
  {
   "cell_type": "code",
   "execution_count": 8,
   "id": "5162e218-51b9-41db-8c78-0cc000a4872e",
   "metadata": {},
   "outputs": [],
   "source": [
    "county2011=ethnala[['Total_2011',\n",
    " 'Non Hispanic_2011',\n",
    " 'Non Hispanic White_2011',\n",
    " 'Non Hispanic Black_2011',\n",
    " 'Non Hispanic American Indian and Alaska Native_2011',\n",
    " 'Non Hispanic Asian_2011',\n",
    " 'Non Hispanic Native Hawaiian and Other Pacific Islander_2011',\n",
    " 'Non Hispanic Some other race_2011',\n",
    " 'Non Hispanic Two or more races_2011',\n",
    " 'Hispanic_2011']]"
   ]
  },
  {
   "cell_type": "code",
   "execution_count": 9,
   "id": "87e37a3b-66bf-4c90-a425-e8e165cb825f",
   "metadata": {},
   "outputs": [],
   "source": [
    "countyaverage2011=county2011.mean(axis=0, numeric_only=True)"
   ]
  },
  {
   "cell_type": "code",
   "execution_count": 10,
   "id": "b5e1128d-3392-4ed3-915f-e024f9726124",
   "metadata": {},
   "outputs": [
    {
     "data": {
      "text/plain": [
       "Total_2011                                                      4140.930748\n",
       "Non Hispanic_2011                                               3220.977839\n",
       "Non Hispanic White_2011                                         1433.650970\n",
       "Non Hispanic Black_2011                                          506.445983\n",
       "Non Hispanic American Indian and Alaska Native_2011               10.601108\n",
       "Non Hispanic Asian_2011                                         1076.152355\n",
       "Non Hispanic Native Hawaiian and Other Pacific Islander_2011      33.221607\n",
       "Non Hispanic Some other race_2011                                 16.398892\n",
       "Non Hispanic Two or more races_2011                              144.506925\n",
       "Hispanic_2011                                                    919.952909\n",
       "dtype: float64"
      ]
     },
     "execution_count": 10,
     "metadata": {},
     "output_type": "execute_result"
    }
   ],
   "source": [
    "countyaverage2011"
   ]
  },
  {
   "cell_type": "code",
   "execution_count": 13,
   "id": "4b458d1f-4dcf-47ef-801b-de50362c676e",
   "metadata": {},
   "outputs": [],
   "source": [
    "county2011=countyaverage2011.to_frame().rename(columns={0:'Value 2011'})"
   ]
  },
  {
   "cell_type": "code",
   "execution_count": 24,
   "id": "10adfdcc-3a76-4848-bbfc-20247745e14a",
   "metadata": {},
   "outputs": [
    {
     "data": {
      "text/plain": [
       "Total_2019                                                      4589.346260\n",
       "Non Hispanic_2019                                               3561.592798\n",
       "Non Hispanic White_2019                                         1441.681440\n",
       "Non Hispanic Black_2019                                          474.149584\n",
       "Non Hispanic American Indian and Alaska Native_2019               14.432133\n",
       "Non Hispanic Asian_2019                                         1373.977839\n",
       "Non Hispanic Native Hawaiian and Other Pacific Islander_2019      36.778393\n",
       "Non Hispanic Some other race_2019                                 14.977839\n",
       "Non Hispanic Two or more races_2019                              205.595568\n",
       "Hispanic_2019                                                   1027.753463\n",
       "dtype: float64"
      ]
     },
     "execution_count": 24,
     "metadata": {},
     "output_type": "execute_result"
    }
   ],
   "source": [
    "countyaverage2019"
   ]
  },
  {
   "cell_type": "code",
   "execution_count": 27,
   "id": "c770fd03-0039-4adc-9c92-da8b2db015a3",
   "metadata": {},
   "outputs": [],
   "source": [
    "county=['Total',\n",
    " 'Non Hispanic',\n",
    " 'Non Hispanic White',\n",
    " 'Non Hispanic Black',\n",
    " 'Non Hispanic American Indian and Alaska Native',\n",
    " 'Non Hispanic Asian',\n",
    " 'Non Hispanic Native Hawaiian and Other Pacific Islander',\n",
    " 'Non Hispanic Some other race',\n",
    " 'Non Hispanic Two or more races',\n",
    " 'Hispanic']"
   ]
  },
  {
   "cell_type": "code",
   "execution_count": 28,
   "id": "da4273bc-86b7-46e6-b137-7f6dec739e94",
   "metadata": {},
   "outputs": [],
   "source": [
    "county2019['Ethnicity']=county"
   ]
  },
  {
   "cell_type": "code",
   "execution_count": 29,
   "id": "4624f21a-8294-47ae-8b2d-fe49d2cd1ac4",
   "metadata": {},
   "outputs": [
    {
     "data": {
      "text/html": [
       "<div>\n",
       "<style scoped>\n",
       "    .dataframe tbody tr th:only-of-type {\n",
       "        vertical-align: middle;\n",
       "    }\n",
       "\n",
       "    .dataframe tbody tr th {\n",
       "        vertical-align: top;\n",
       "    }\n",
       "\n",
       "    .dataframe thead th {\n",
       "        text-align: right;\n",
       "    }\n",
       "</style>\n",
       "<table border=\"1\" class=\"dataframe\">\n",
       "  <thead>\n",
       "    <tr style=\"text-align: right;\">\n",
       "      <th></th>\n",
       "      <th>Value 2019</th>\n",
       "      <th>Ethnicity</th>\n",
       "    </tr>\n",
       "  </thead>\n",
       "  <tbody>\n",
       "    <tr>\n",
       "      <th>Total_2019</th>\n",
       "      <td>4589.346260</td>\n",
       "      <td>Total</td>\n",
       "    </tr>\n",
       "    <tr>\n",
       "      <th>Non Hispanic_2019</th>\n",
       "      <td>3561.592798</td>\n",
       "      <td>Non Hispanic</td>\n",
       "    </tr>\n",
       "    <tr>\n",
       "      <th>Non Hispanic White_2019</th>\n",
       "      <td>1441.681440</td>\n",
       "      <td>Non Hispanic White</td>\n",
       "    </tr>\n",
       "    <tr>\n",
       "      <th>Non Hispanic Black_2019</th>\n",
       "      <td>474.149584</td>\n",
       "      <td>Non Hispanic Black</td>\n",
       "    </tr>\n",
       "    <tr>\n",
       "      <th>Non Hispanic American Indian and Alaska Native_2019</th>\n",
       "      <td>14.432133</td>\n",
       "      <td>Non Hispanic American Indian and Alaska Native</td>\n",
       "    </tr>\n",
       "    <tr>\n",
       "      <th>Non Hispanic Asian_2019</th>\n",
       "      <td>1373.977839</td>\n",
       "      <td>Non Hispanic Asian</td>\n",
       "    </tr>\n",
       "    <tr>\n",
       "      <th>Non Hispanic Native Hawaiian and Other Pacific Islander_2019</th>\n",
       "      <td>36.778393</td>\n",
       "      <td>Non Hispanic Native Hawaiian and Other Pacific...</td>\n",
       "    </tr>\n",
       "    <tr>\n",
       "      <th>Non Hispanic Some other race_2019</th>\n",
       "      <td>14.977839</td>\n",
       "      <td>Non Hispanic Some other race</td>\n",
       "    </tr>\n",
       "    <tr>\n",
       "      <th>Non Hispanic Two or more races_2019</th>\n",
       "      <td>205.595568</td>\n",
       "      <td>Non Hispanic Two or more races</td>\n",
       "    </tr>\n",
       "    <tr>\n",
       "      <th>Hispanic_2019</th>\n",
       "      <td>1027.753463</td>\n",
       "      <td>Hispanic</td>\n",
       "    </tr>\n",
       "  </tbody>\n",
       "</table>\n",
       "</div>"
      ],
      "text/plain": [
       "                                                     Value 2019  \\\n",
       "Total_2019                                          4589.346260   \n",
       "Non Hispanic_2019                                   3561.592798   \n",
       "Non Hispanic White_2019                             1441.681440   \n",
       "Non Hispanic Black_2019                              474.149584   \n",
       "Non Hispanic American Indian and Alaska Native_...    14.432133   \n",
       "Non Hispanic Asian_2019                             1373.977839   \n",
       "Non Hispanic Native Hawaiian and Other Pacific ...    36.778393   \n",
       "Non Hispanic Some other race_2019                     14.977839   \n",
       "Non Hispanic Two or more races_2019                  205.595568   \n",
       "Hispanic_2019                                       1027.753463   \n",
       "\n",
       "                                                                                            Ethnicity  \n",
       "Total_2019                                                                                      Total  \n",
       "Non Hispanic_2019                                                                        Non Hispanic  \n",
       "Non Hispanic White_2019                                                            Non Hispanic White  \n",
       "Non Hispanic Black_2019                                                            Non Hispanic Black  \n",
       "Non Hispanic American Indian and Alaska Native_...     Non Hispanic American Indian and Alaska Native  \n",
       "Non Hispanic Asian_2019                                                            Non Hispanic Asian  \n",
       "Non Hispanic Native Hawaiian and Other Pacific ...  Non Hispanic Native Hawaiian and Other Pacific...  \n",
       "Non Hispanic Some other race_2019                                        Non Hispanic Some other race  \n",
       "Non Hispanic Two or more races_2019                                    Non Hispanic Two or more races  \n",
       "Hispanic_2019                                                                                Hispanic  "
      ]
     },
     "execution_count": 29,
     "metadata": {},
     "output_type": "execute_result"
    }
   ],
   "source": [
    "county2019"
   ]
  },
  {
   "cell_type": "code",
   "execution_count": 30,
   "id": "06c3d355-422f-4c47-97fd-efaeaf5fb4c6",
   "metadata": {},
   "outputs": [],
   "source": [
    "county2011['Ethnicity']=county"
   ]
  },
  {
   "cell_type": "code",
   "execution_count": 31,
   "id": "efec3e5b-c406-44b7-87ca-3c6be362231b",
   "metadata": {},
   "outputs": [
    {
     "data": {
      "text/html": [
       "<div>\n",
       "<style scoped>\n",
       "    .dataframe tbody tr th:only-of-type {\n",
       "        vertical-align: middle;\n",
       "    }\n",
       "\n",
       "    .dataframe tbody tr th {\n",
       "        vertical-align: top;\n",
       "    }\n",
       "\n",
       "    .dataframe thead th {\n",
       "        text-align: right;\n",
       "    }\n",
       "</style>\n",
       "<table border=\"1\" class=\"dataframe\">\n",
       "  <thead>\n",
       "    <tr style=\"text-align: right;\">\n",
       "      <th></th>\n",
       "      <th>Value 2011</th>\n",
       "      <th>Ethnicity</th>\n",
       "    </tr>\n",
       "  </thead>\n",
       "  <tbody>\n",
       "    <tr>\n",
       "      <th>Total_2011</th>\n",
       "      <td>4140.930748</td>\n",
       "      <td>Total</td>\n",
       "    </tr>\n",
       "    <tr>\n",
       "      <th>Non Hispanic_2011</th>\n",
       "      <td>3220.977839</td>\n",
       "      <td>Non Hispanic</td>\n",
       "    </tr>\n",
       "    <tr>\n",
       "      <th>Non Hispanic White_2011</th>\n",
       "      <td>1433.650970</td>\n",
       "      <td>Non Hispanic White</td>\n",
       "    </tr>\n",
       "    <tr>\n",
       "      <th>Non Hispanic Black_2011</th>\n",
       "      <td>506.445983</td>\n",
       "      <td>Non Hispanic Black</td>\n",
       "    </tr>\n",
       "    <tr>\n",
       "      <th>Non Hispanic American Indian and Alaska Native_2011</th>\n",
       "      <td>10.601108</td>\n",
       "      <td>Non Hispanic American Indian and Alaska Native</td>\n",
       "    </tr>\n",
       "    <tr>\n",
       "      <th>Non Hispanic Asian_2011</th>\n",
       "      <td>1076.152355</td>\n",
       "      <td>Non Hispanic Asian</td>\n",
       "    </tr>\n",
       "    <tr>\n",
       "      <th>Non Hispanic Native Hawaiian and Other Pacific Islander_2011</th>\n",
       "      <td>33.221607</td>\n",
       "      <td>Non Hispanic Native Hawaiian and Other Pacific...</td>\n",
       "    </tr>\n",
       "    <tr>\n",
       "      <th>Non Hispanic Some other race_2011</th>\n",
       "      <td>16.398892</td>\n",
       "      <td>Non Hispanic Some other race</td>\n",
       "    </tr>\n",
       "    <tr>\n",
       "      <th>Non Hispanic Two or more races_2011</th>\n",
       "      <td>144.506925</td>\n",
       "      <td>Non Hispanic Two or more races</td>\n",
       "    </tr>\n",
       "    <tr>\n",
       "      <th>Hispanic_2011</th>\n",
       "      <td>919.952909</td>\n",
       "      <td>Hispanic</td>\n",
       "    </tr>\n",
       "  </tbody>\n",
       "</table>\n",
       "</div>"
      ],
      "text/plain": [
       "                                                     Value 2011  \\\n",
       "Total_2011                                          4140.930748   \n",
       "Non Hispanic_2011                                   3220.977839   \n",
       "Non Hispanic White_2011                             1433.650970   \n",
       "Non Hispanic Black_2011                              506.445983   \n",
       "Non Hispanic American Indian and Alaska Native_...    10.601108   \n",
       "Non Hispanic Asian_2011                             1076.152355   \n",
       "Non Hispanic Native Hawaiian and Other Pacific ...    33.221607   \n",
       "Non Hispanic Some other race_2011                     16.398892   \n",
       "Non Hispanic Two or more races_2011                  144.506925   \n",
       "Hispanic_2011                                        919.952909   \n",
       "\n",
       "                                                                                            Ethnicity  \n",
       "Total_2011                                                                                      Total  \n",
       "Non Hispanic_2011                                                                        Non Hispanic  \n",
       "Non Hispanic White_2011                                                            Non Hispanic White  \n",
       "Non Hispanic Black_2011                                                            Non Hispanic Black  \n",
       "Non Hispanic American Indian and Alaska Native_...     Non Hispanic American Indian and Alaska Native  \n",
       "Non Hispanic Asian_2011                                                            Non Hispanic Asian  \n",
       "Non Hispanic Native Hawaiian and Other Pacific ...  Non Hispanic Native Hawaiian and Other Pacific...  \n",
       "Non Hispanic Some other race_2011                                        Non Hispanic Some other race  \n",
       "Non Hispanic Two or more races_2011                                    Non Hispanic Two or more races  \n",
       "Hispanic_2011                                                                                Hispanic  "
      ]
     },
     "execution_count": 31,
     "metadata": {},
     "output_type": "execute_result"
    }
   ],
   "source": [
    "county2011"
   ]
  },
  {
   "cell_type": "code",
   "execution_count": 32,
   "id": "8c61bde1-9484-4690-a849-97cb3f43cdcb",
   "metadata": {},
   "outputs": [],
   "source": [
    "countyeth=county2011.merge(county2019, on='Ethnicity')"
   ]
  },
  {
   "cell_type": "code",
   "execution_count": 33,
   "id": "aa2a6536-47d2-44f7-8777-7c6a4e544803",
   "metadata": {},
   "outputs": [
    {
     "data": {
      "text/html": [
       "<div>\n",
       "<style scoped>\n",
       "    .dataframe tbody tr th:only-of-type {\n",
       "        vertical-align: middle;\n",
       "    }\n",
       "\n",
       "    .dataframe tbody tr th {\n",
       "        vertical-align: top;\n",
       "    }\n",
       "\n",
       "    .dataframe thead th {\n",
       "        text-align: right;\n",
       "    }\n",
       "</style>\n",
       "<table border=\"1\" class=\"dataframe\">\n",
       "  <thead>\n",
       "    <tr style=\"text-align: right;\">\n",
       "      <th></th>\n",
       "      <th>Value 2011</th>\n",
       "      <th>Ethnicity</th>\n",
       "      <th>Value 2019</th>\n",
       "    </tr>\n",
       "  </thead>\n",
       "  <tbody>\n",
       "    <tr>\n",
       "      <th>0</th>\n",
       "      <td>4140.930748</td>\n",
       "      <td>Total</td>\n",
       "      <td>4589.346260</td>\n",
       "    </tr>\n",
       "    <tr>\n",
       "      <th>1</th>\n",
       "      <td>3220.977839</td>\n",
       "      <td>Non Hispanic</td>\n",
       "      <td>3561.592798</td>\n",
       "    </tr>\n",
       "    <tr>\n",
       "      <th>2</th>\n",
       "      <td>1433.650970</td>\n",
       "      <td>Non Hispanic White</td>\n",
       "      <td>1441.681440</td>\n",
       "    </tr>\n",
       "    <tr>\n",
       "      <th>3</th>\n",
       "      <td>506.445983</td>\n",
       "      <td>Non Hispanic Black</td>\n",
       "      <td>474.149584</td>\n",
       "    </tr>\n",
       "    <tr>\n",
       "      <th>4</th>\n",
       "      <td>10.601108</td>\n",
       "      <td>Non Hispanic American Indian and Alaska Native</td>\n",
       "      <td>14.432133</td>\n",
       "    </tr>\n",
       "    <tr>\n",
       "      <th>5</th>\n",
       "      <td>1076.152355</td>\n",
       "      <td>Non Hispanic Asian</td>\n",
       "      <td>1373.977839</td>\n",
       "    </tr>\n",
       "    <tr>\n",
       "      <th>6</th>\n",
       "      <td>33.221607</td>\n",
       "      <td>Non Hispanic Native Hawaiian and Other Pacific...</td>\n",
       "      <td>36.778393</td>\n",
       "    </tr>\n",
       "    <tr>\n",
       "      <th>7</th>\n",
       "      <td>16.398892</td>\n",
       "      <td>Non Hispanic Some other race</td>\n",
       "      <td>14.977839</td>\n",
       "    </tr>\n",
       "    <tr>\n",
       "      <th>8</th>\n",
       "      <td>144.506925</td>\n",
       "      <td>Non Hispanic Two or more races</td>\n",
       "      <td>205.595568</td>\n",
       "    </tr>\n",
       "    <tr>\n",
       "      <th>9</th>\n",
       "      <td>919.952909</td>\n",
       "      <td>Hispanic</td>\n",
       "      <td>1027.753463</td>\n",
       "    </tr>\n",
       "  </tbody>\n",
       "</table>\n",
       "</div>"
      ],
      "text/plain": [
       "    Value 2011                                          Ethnicity   Value 2019\n",
       "0  4140.930748                                              Total  4589.346260\n",
       "1  3220.977839                                       Non Hispanic  3561.592798\n",
       "2  1433.650970                                 Non Hispanic White  1441.681440\n",
       "3   506.445983                                 Non Hispanic Black   474.149584\n",
       "4    10.601108     Non Hispanic American Indian and Alaska Native    14.432133\n",
       "5  1076.152355                                 Non Hispanic Asian  1373.977839\n",
       "6    33.221607  Non Hispanic Native Hawaiian and Other Pacific...    36.778393\n",
       "7    16.398892                       Non Hispanic Some other race    14.977839\n",
       "8   144.506925                     Non Hispanic Two or more races   205.595568\n",
       "9   919.952909                                           Hispanic  1027.753463"
      ]
     },
     "execution_count": 33,
     "metadata": {},
     "output_type": "execute_result"
    }
   ],
   "source": [
    "countyeth"
   ]
  },
  {
   "cell_type": "code",
   "execution_count": 36,
   "id": "01aba8a9-f22b-4474-b685-38bb6f7d6c2f",
   "metadata": {},
   "outputs": [],
   "source": [
    "ethaverage=countyeth.drop([0])"
   ]
  },
  {
   "cell_type": "code",
   "execution_count": 39,
   "id": "73a8c6a7-11cb-4be4-886e-af5e362fe7ae",
   "metadata": {},
   "outputs": [
    {
     "data": {
      "text/html": [
       "<div>\n",
       "<style scoped>\n",
       "    .dataframe tbody tr th:only-of-type {\n",
       "        vertical-align: middle;\n",
       "    }\n",
       "\n",
       "    .dataframe tbody tr th {\n",
       "        vertical-align: top;\n",
       "    }\n",
       "\n",
       "    .dataframe thead th {\n",
       "        text-align: right;\n",
       "    }\n",
       "</style>\n",
       "<table border=\"1\" class=\"dataframe\">\n",
       "  <thead>\n",
       "    <tr style=\"text-align: right;\">\n",
       "      <th></th>\n",
       "      <th>Value 2011</th>\n",
       "      <th>Ethnicity</th>\n",
       "      <th>Value 2019</th>\n",
       "    </tr>\n",
       "  </thead>\n",
       "  <tbody>\n",
       "    <tr>\n",
       "      <th>1</th>\n",
       "      <td>3220.977839</td>\n",
       "      <td>Non Hispanic</td>\n",
       "      <td>3561.592798</td>\n",
       "    </tr>\n",
       "    <tr>\n",
       "      <th>2</th>\n",
       "      <td>1433.650970</td>\n",
       "      <td>Non Hispanic White</td>\n",
       "      <td>1441.681440</td>\n",
       "    </tr>\n",
       "    <tr>\n",
       "      <th>3</th>\n",
       "      <td>506.445983</td>\n",
       "      <td>Non Hispanic Black</td>\n",
       "      <td>474.149584</td>\n",
       "    </tr>\n",
       "    <tr>\n",
       "      <th>4</th>\n",
       "      <td>10.601108</td>\n",
       "      <td>Non Hispanic American Indian and Alaska Native</td>\n",
       "      <td>14.432133</td>\n",
       "    </tr>\n",
       "    <tr>\n",
       "      <th>5</th>\n",
       "      <td>1076.152355</td>\n",
       "      <td>Non Hispanic Asian</td>\n",
       "      <td>1373.977839</td>\n",
       "    </tr>\n",
       "    <tr>\n",
       "      <th>6</th>\n",
       "      <td>33.221607</td>\n",
       "      <td>Non Hispanic Native Hawaiian and Other Pacific...</td>\n",
       "      <td>36.778393</td>\n",
       "    </tr>\n",
       "    <tr>\n",
       "      <th>7</th>\n",
       "      <td>16.398892</td>\n",
       "      <td>Non Hispanic Some other race</td>\n",
       "      <td>14.977839</td>\n",
       "    </tr>\n",
       "    <tr>\n",
       "      <th>8</th>\n",
       "      <td>144.506925</td>\n",
       "      <td>Non Hispanic Two or more races</td>\n",
       "      <td>205.595568</td>\n",
       "    </tr>\n",
       "    <tr>\n",
       "      <th>9</th>\n",
       "      <td>919.952909</td>\n",
       "      <td>Hispanic</td>\n",
       "      <td>1027.753463</td>\n",
       "    </tr>\n",
       "  </tbody>\n",
       "</table>\n",
       "</div>"
      ],
      "text/plain": [
       "    Value 2011                                          Ethnicity   Value 2019\n",
       "1  3220.977839                                       Non Hispanic  3561.592798\n",
       "2  1433.650970                                 Non Hispanic White  1441.681440\n",
       "3   506.445983                                 Non Hispanic Black   474.149584\n",
       "4    10.601108     Non Hispanic American Indian and Alaska Native    14.432133\n",
       "5  1076.152355                                 Non Hispanic Asian  1373.977839\n",
       "6    33.221607  Non Hispanic Native Hawaiian and Other Pacific...    36.778393\n",
       "7    16.398892                       Non Hispanic Some other race    14.977839\n",
       "8   144.506925                     Non Hispanic Two or more races   205.595568\n",
       "9   919.952909                                           Hispanic  1027.753463"
      ]
     },
     "execution_count": 39,
     "metadata": {},
     "output_type": "execute_result"
    }
   ],
   "source": [
    "ethaverage"
   ]
  },
  {
   "cell_type": "code",
   "execution_count": 40,
   "id": "e70026c5-a435-496a-bd18-95d0d906b8ad",
   "metadata": {},
   "outputs": [],
   "source": [
    "\n",
    "import plotly.express as px\n",
    "\n"
   ]
  },
  {
   "cell_type": "code",
   "execution_count": 61,
   "id": "61d82db9-74d4-4462-8875-cc96423e3eb3",
   "metadata": {},
   "outputs": [
    {
     "data": {
      "application/vnd.plotly.v1+json": {
       "config": {
        "plotlyServerURL": "https://plot.ly"
       },
       "data": [
        {
         "alignmentgroup": "True",
         "hovertemplate": "variable=Value 2011<br>Ethnicity=%{x}<br>value=%{y}<extra></extra>",
         "legendgroup": "Value 2011",
         "marker": {
          "color": "#636efa",
          "line": {
           "width": 0
          },
          "pattern": {
           "shape": ""
          }
         },
         "name": "Value 2011",
         "offsetgroup": "Value 2011",
         "orientation": "v",
         "showlegend": true,
         "textposition": "auto",
         "type": "bar",
         "x": [
          "Non Hispanic",
          "Non Hispanic White",
          "Non Hispanic Black",
          "Non Hispanic American Indian and Alaska Native",
          "Non Hispanic Asian",
          "Non Hispanic Native Hawaiian and Other Pacific Islander",
          "Non Hispanic Some other race",
          "Non Hispanic Two or more races",
          "Hispanic"
         ],
         "xaxis": "x",
         "y": [
          3220.97783933518,
          1433.6509695290858,
          506.4459833795014,
          10.601108033240997,
          1076.152354570637,
          33.22160664819945,
          16.398891966759003,
          144.50692520775624,
          919.9529085872576
         ],
         "yaxis": "y"
        },
        {
         "alignmentgroup": "True",
         "hovertemplate": "variable=Value 2019<br>Ethnicity=%{x}<br>value=%{y}<extra></extra>",
         "legendgroup": "Value 2019",
         "marker": {
          "color": "#EF553B",
          "line": {
           "width": 0
          },
          "pattern": {
           "shape": ""
          }
         },
         "name": "Value 2019",
         "offsetgroup": "Value 2019",
         "orientation": "v",
         "showlegend": true,
         "textposition": "auto",
         "type": "bar",
         "x": [
          "Non Hispanic",
          "Non Hispanic White",
          "Non Hispanic Black",
          "Non Hispanic American Indian and Alaska Native",
          "Non Hispanic Asian",
          "Non Hispanic Native Hawaiian and Other Pacific Islander",
          "Non Hispanic Some other race",
          "Non Hispanic Two or more races",
          "Hispanic"
         ],
         "xaxis": "x",
         "y": [
          3561.5927977839333,
          1441.6814404432132,
          474.14958448753464,
          14.43213296398892,
          1373.97783933518,
          36.77839335180055,
          14.977839335180056,
          205.595567867036,
          1027.753462603878
         ],
         "yaxis": "y"
        }
       ],
       "layout": {
        "autosize": true,
        "barmode": "group",
        "legend": {
         "title": {
          "text": "variable"
         },
         "tracegroupgap": 0
        },
        "template": {
         "data": {
          "bar": [
           {
            "error_x": {
             "color": "#2a3f5f"
            },
            "error_y": {
             "color": "#2a3f5f"
            },
            "marker": {
             "line": {
              "color": "#E5ECF6",
              "width": 0.5
             },
             "pattern": {
              "fillmode": "overlay",
              "size": 10,
              "solidity": 0.2
             }
            },
            "type": "bar"
           }
          ],
          "barpolar": [
           {
            "marker": {
             "line": {
              "color": "#E5ECF6",
              "width": 0.5
             },
             "pattern": {
              "fillmode": "overlay",
              "size": 10,
              "solidity": 0.2
             }
            },
            "type": "barpolar"
           }
          ],
          "carpet": [
           {
            "aaxis": {
             "endlinecolor": "#2a3f5f",
             "gridcolor": "white",
             "linecolor": "white",
             "minorgridcolor": "white",
             "startlinecolor": "#2a3f5f"
            },
            "baxis": {
             "endlinecolor": "#2a3f5f",
             "gridcolor": "white",
             "linecolor": "white",
             "minorgridcolor": "white",
             "startlinecolor": "#2a3f5f"
            },
            "type": "carpet"
           }
          ],
          "choropleth": [
           {
            "colorbar": {
             "outlinewidth": 0,
             "ticks": ""
            },
            "type": "choropleth"
           }
          ],
          "contour": [
           {
            "colorbar": {
             "outlinewidth": 0,
             "ticks": ""
            },
            "colorscale": [
             [
              0,
              "#0d0887"
             ],
             [
              0.1111111111111111,
              "#46039f"
             ],
             [
              0.2222222222222222,
              "#7201a8"
             ],
             [
              0.3333333333333333,
              "#9c179e"
             ],
             [
              0.4444444444444444,
              "#bd3786"
             ],
             [
              0.5555555555555556,
              "#d8576b"
             ],
             [
              0.6666666666666666,
              "#ed7953"
             ],
             [
              0.7777777777777778,
              "#fb9f3a"
             ],
             [
              0.8888888888888888,
              "#fdca26"
             ],
             [
              1,
              "#f0f921"
             ]
            ],
            "type": "contour"
           }
          ],
          "contourcarpet": [
           {
            "colorbar": {
             "outlinewidth": 0,
             "ticks": ""
            },
            "type": "contourcarpet"
           }
          ],
          "heatmap": [
           {
            "colorbar": {
             "outlinewidth": 0,
             "ticks": ""
            },
            "colorscale": [
             [
              0,
              "#0d0887"
             ],
             [
              0.1111111111111111,
              "#46039f"
             ],
             [
              0.2222222222222222,
              "#7201a8"
             ],
             [
              0.3333333333333333,
              "#9c179e"
             ],
             [
              0.4444444444444444,
              "#bd3786"
             ],
             [
              0.5555555555555556,
              "#d8576b"
             ],
             [
              0.6666666666666666,
              "#ed7953"
             ],
             [
              0.7777777777777778,
              "#fb9f3a"
             ],
             [
              0.8888888888888888,
              "#fdca26"
             ],
             [
              1,
              "#f0f921"
             ]
            ],
            "type": "heatmap"
           }
          ],
          "heatmapgl": [
           {
            "colorbar": {
             "outlinewidth": 0,
             "ticks": ""
            },
            "colorscale": [
             [
              0,
              "#0d0887"
             ],
             [
              0.1111111111111111,
              "#46039f"
             ],
             [
              0.2222222222222222,
              "#7201a8"
             ],
             [
              0.3333333333333333,
              "#9c179e"
             ],
             [
              0.4444444444444444,
              "#bd3786"
             ],
             [
              0.5555555555555556,
              "#d8576b"
             ],
             [
              0.6666666666666666,
              "#ed7953"
             ],
             [
              0.7777777777777778,
              "#fb9f3a"
             ],
             [
              0.8888888888888888,
              "#fdca26"
             ],
             [
              1,
              "#f0f921"
             ]
            ],
            "type": "heatmapgl"
           }
          ],
          "histogram": [
           {
            "marker": {
             "pattern": {
              "fillmode": "overlay",
              "size": 10,
              "solidity": 0.2
             }
            },
            "type": "histogram"
           }
          ],
          "histogram2d": [
           {
            "colorbar": {
             "outlinewidth": 0,
             "ticks": ""
            },
            "colorscale": [
             [
              0,
              "#0d0887"
             ],
             [
              0.1111111111111111,
              "#46039f"
             ],
             [
              0.2222222222222222,
              "#7201a8"
             ],
             [
              0.3333333333333333,
              "#9c179e"
             ],
             [
              0.4444444444444444,
              "#bd3786"
             ],
             [
              0.5555555555555556,
              "#d8576b"
             ],
             [
              0.6666666666666666,
              "#ed7953"
             ],
             [
              0.7777777777777778,
              "#fb9f3a"
             ],
             [
              0.8888888888888888,
              "#fdca26"
             ],
             [
              1,
              "#f0f921"
             ]
            ],
            "type": "histogram2d"
           }
          ],
          "histogram2dcontour": [
           {
            "colorbar": {
             "outlinewidth": 0,
             "ticks": ""
            },
            "colorscale": [
             [
              0,
              "#0d0887"
             ],
             [
              0.1111111111111111,
              "#46039f"
             ],
             [
              0.2222222222222222,
              "#7201a8"
             ],
             [
              0.3333333333333333,
              "#9c179e"
             ],
             [
              0.4444444444444444,
              "#bd3786"
             ],
             [
              0.5555555555555556,
              "#d8576b"
             ],
             [
              0.6666666666666666,
              "#ed7953"
             ],
             [
              0.7777777777777778,
              "#fb9f3a"
             ],
             [
              0.8888888888888888,
              "#fdca26"
             ],
             [
              1,
              "#f0f921"
             ]
            ],
            "type": "histogram2dcontour"
           }
          ],
          "mesh3d": [
           {
            "colorbar": {
             "outlinewidth": 0,
             "ticks": ""
            },
            "type": "mesh3d"
           }
          ],
          "parcoords": [
           {
            "line": {
             "colorbar": {
              "outlinewidth": 0,
              "ticks": ""
             }
            },
            "type": "parcoords"
           }
          ],
          "pie": [
           {
            "automargin": true,
            "type": "pie"
           }
          ],
          "scatter": [
           {
            "marker": {
             "colorbar": {
              "outlinewidth": 0,
              "ticks": ""
             }
            },
            "type": "scatter"
           }
          ],
          "scatter3d": [
           {
            "line": {
             "colorbar": {
              "outlinewidth": 0,
              "ticks": ""
             }
            },
            "marker": {
             "colorbar": {
              "outlinewidth": 0,
              "ticks": ""
             }
            },
            "type": "scatter3d"
           }
          ],
          "scattercarpet": [
           {
            "marker": {
             "colorbar": {
              "outlinewidth": 0,
              "ticks": ""
             }
            },
            "type": "scattercarpet"
           }
          ],
          "scattergeo": [
           {
            "marker": {
             "colorbar": {
              "outlinewidth": 0,
              "ticks": ""
             }
            },
            "type": "scattergeo"
           }
          ],
          "scattergl": [
           {
            "marker": {
             "colorbar": {
              "outlinewidth": 0,
              "ticks": ""
             }
            },
            "type": "scattergl"
           }
          ],
          "scattermapbox": [
           {
            "marker": {
             "colorbar": {
              "outlinewidth": 0,
              "ticks": ""
             }
            },
            "type": "scattermapbox"
           }
          ],
          "scatterpolar": [
           {
            "marker": {
             "colorbar": {
              "outlinewidth": 0,
              "ticks": ""
             }
            },
            "type": "scatterpolar"
           }
          ],
          "scatterpolargl": [
           {
            "marker": {
             "colorbar": {
              "outlinewidth": 0,
              "ticks": ""
             }
            },
            "type": "scatterpolargl"
           }
          ],
          "scatterternary": [
           {
            "marker": {
             "colorbar": {
              "outlinewidth": 0,
              "ticks": ""
             }
            },
            "type": "scatterternary"
           }
          ],
          "surface": [
           {
            "colorbar": {
             "outlinewidth": 0,
             "ticks": ""
            },
            "colorscale": [
             [
              0,
              "#0d0887"
             ],
             [
              0.1111111111111111,
              "#46039f"
             ],
             [
              0.2222222222222222,
              "#7201a8"
             ],
             [
              0.3333333333333333,
              "#9c179e"
             ],
             [
              0.4444444444444444,
              "#bd3786"
             ],
             [
              0.5555555555555556,
              "#d8576b"
             ],
             [
              0.6666666666666666,
              "#ed7953"
             ],
             [
              0.7777777777777778,
              "#fb9f3a"
             ],
             [
              0.8888888888888888,
              "#fdca26"
             ],
             [
              1,
              "#f0f921"
             ]
            ],
            "type": "surface"
           }
          ],
          "table": [
           {
            "cells": {
             "fill": {
              "color": "#EBF0F8"
             },
             "line": {
              "color": "white"
             }
            },
            "header": {
             "fill": {
              "color": "#C8D4E3"
             },
             "line": {
              "color": "white"
             }
            },
            "type": "table"
           }
          ]
         },
         "layout": {
          "annotationdefaults": {
           "arrowcolor": "#2a3f5f",
           "arrowhead": 0,
           "arrowwidth": 1
          },
          "autotypenumbers": "strict",
          "coloraxis": {
           "colorbar": {
            "outlinewidth": 0,
            "ticks": ""
           }
          },
          "colorscale": {
           "diverging": [
            [
             0,
             "#8e0152"
            ],
            [
             0.1,
             "#c51b7d"
            ],
            [
             0.2,
             "#de77ae"
            ],
            [
             0.3,
             "#f1b6da"
            ],
            [
             0.4,
             "#fde0ef"
            ],
            [
             0.5,
             "#f7f7f7"
            ],
            [
             0.6,
             "#e6f5d0"
            ],
            [
             0.7,
             "#b8e186"
            ],
            [
             0.8,
             "#7fbc41"
            ],
            [
             0.9,
             "#4d9221"
            ],
            [
             1,
             "#276419"
            ]
           ],
           "sequential": [
            [
             0,
             "#0d0887"
            ],
            [
             0.1111111111111111,
             "#46039f"
            ],
            [
             0.2222222222222222,
             "#7201a8"
            ],
            [
             0.3333333333333333,
             "#9c179e"
            ],
            [
             0.4444444444444444,
             "#bd3786"
            ],
            [
             0.5555555555555556,
             "#d8576b"
            ],
            [
             0.6666666666666666,
             "#ed7953"
            ],
            [
             0.7777777777777778,
             "#fb9f3a"
            ],
            [
             0.8888888888888888,
             "#fdca26"
            ],
            [
             1,
             "#f0f921"
            ]
           ],
           "sequentialminus": [
            [
             0,
             "#0d0887"
            ],
            [
             0.1111111111111111,
             "#46039f"
            ],
            [
             0.2222222222222222,
             "#7201a8"
            ],
            [
             0.3333333333333333,
             "#9c179e"
            ],
            [
             0.4444444444444444,
             "#bd3786"
            ],
            [
             0.5555555555555556,
             "#d8576b"
            ],
            [
             0.6666666666666666,
             "#ed7953"
            ],
            [
             0.7777777777777778,
             "#fb9f3a"
            ],
            [
             0.8888888888888888,
             "#fdca26"
            ],
            [
             1,
             "#f0f921"
            ]
           ]
          },
          "colorway": [
           "#636efa",
           "#EF553B",
           "#00cc96",
           "#ab63fa",
           "#FFA15A",
           "#19d3f3",
           "#FF6692",
           "#B6E880",
           "#FF97FF",
           "#FECB52"
          ],
          "font": {
           "color": "#2a3f5f"
          },
          "geo": {
           "bgcolor": "white",
           "lakecolor": "white",
           "landcolor": "#E5ECF6",
           "showlakes": true,
           "showland": true,
           "subunitcolor": "white"
          },
          "hoverlabel": {
           "align": "left"
          },
          "hovermode": "closest",
          "mapbox": {
           "style": "light"
          },
          "paper_bgcolor": "white",
          "plot_bgcolor": "#E5ECF6",
          "polar": {
           "angularaxis": {
            "gridcolor": "white",
            "linecolor": "white",
            "ticks": ""
           },
           "bgcolor": "#E5ECF6",
           "radialaxis": {
            "gridcolor": "white",
            "linecolor": "white",
            "ticks": ""
           }
          },
          "scene": {
           "xaxis": {
            "backgroundcolor": "#E5ECF6",
            "gridcolor": "white",
            "gridwidth": 2,
            "linecolor": "white",
            "showbackground": true,
            "ticks": "",
            "zerolinecolor": "white"
           },
           "yaxis": {
            "backgroundcolor": "#E5ECF6",
            "gridcolor": "white",
            "gridwidth": 2,
            "linecolor": "white",
            "showbackground": true,
            "ticks": "",
            "zerolinecolor": "white"
           },
           "zaxis": {
            "backgroundcolor": "#E5ECF6",
            "gridcolor": "white",
            "gridwidth": 2,
            "linecolor": "white",
            "showbackground": true,
            "ticks": "",
            "zerolinecolor": "white"
           }
          },
          "shapedefaults": {
           "line": {
            "color": "#2a3f5f"
           }
          },
          "ternary": {
           "aaxis": {
            "gridcolor": "white",
            "linecolor": "white",
            "ticks": ""
           },
           "baxis": {
            "gridcolor": "white",
            "linecolor": "white",
            "ticks": ""
           },
           "bgcolor": "#E5ECF6",
           "caxis": {
            "gridcolor": "white",
            "linecolor": "white",
            "ticks": ""
           }
          },
          "title": {
           "x": 0.05
          },
          "xaxis": {
           "automargin": true,
           "gridcolor": "white",
           "linecolor": "white",
           "ticks": "",
           "title": {
            "standoff": 15
           },
           "zerolinecolor": "white",
           "zerolinewidth": 2
          },
          "yaxis": {
           "automargin": true,
           "gridcolor": "white",
           "linecolor": "white",
           "ticks": "",
           "title": {
            "standoff": 15
           },
           "zerolinecolor": "white",
           "zerolinewidth": 2
          }
         }
        },
        "title": {
         "text": "Average Census Tract Ethnicity Makeup"
        },
        "xaxis": {
         "anchor": "y",
         "autorange": true,
         "domain": [
          0,
          1
         ],
         "range": [
          -0.5,
          8.5
         ],
         "title": {
          "text": "Ethnicity"
         },
         "type": "category"
        },
        "yaxis": {
         "anchor": "x",
         "autorange": true,
         "domain": [
          0,
          1
         ],
         "range": [
          0,
          3749.045050298877
         ],
         "title": {
          "text": "value"
         },
         "type": "linear"
        }
       }
      },
      "image/png": "[encoded data removed]",
      "text/html": [
       "<div>                            <div id=\"5d3dfc6b-b169-4ab0-a3b2-b73ee5121dc7\" class=\"plotly-graph-div\" style=\"height:800px; width:100%;\"></div>            <script type=\"text/javascript\">                require([\"plotly\"], function(Plotly) {                    window.PLOTLYENV=window.PLOTLYENV || {};                                    if (document.getElementById(\"5d3dfc6b-b169-4ab0-a3b2-b73ee5121dc7\")) {                    Plotly.newPlot(                        \"5d3dfc6b-b169-4ab0-a3b2-b73ee5121dc7\",                        [{\"alignmentgroup\":\"True\",\"hovertemplate\":\"variable=Value 2011<br>Ethnicity=%{x}<br>value=%{y}<extra></extra>\",\"legendgroup\":\"Value 2011\",\"marker\":{\"color\":\"#636efa\",\"line\":{\"width\":0},\"pattern\":{\"shape\":\"\"}},\"name\":\"Value 2011\",\"offsetgroup\":\"Value 2011\",\"orientation\":\"v\",\"showlegend\":true,\"textposition\":\"auto\",\"type\":\"bar\",\"x\":[\"Non Hispanic\",\"Non Hispanic White\",\"Non Hispanic Black\",\"Non Hispanic American Indian and Alaska Native\",\"Non Hispanic Asian\",\"Non Hispanic Native Hawaiian and Other Pacific Islander\",\"Non Hispanic Some other race\",\"Non Hispanic Two or more races\",\"Hispanic\"],\"xaxis\":\"x\",\"y\":[3220.97783933518,1433.6509695290858,506.4459833795014,10.601108033240997,1076.152354570637,33.22160664819945,16.398891966759003,144.50692520775624,919.9529085872576],\"yaxis\":\"y\"},{\"alignmentgroup\":\"True\",\"hovertemplate\":\"variable=Value 2019<br>Ethnicity=%{x}<br>value=%{y}<extra></extra>\",\"legendgroup\":\"Value 2019\",\"marker\":{\"color\":\"#EF553B\",\"line\":{\"width\":0},\"pattern\":{\"shape\":\"\"}},\"name\":\"Value 2019\",\"offsetgroup\":\"Value 2019\",\"orientation\":\"v\",\"showlegend\":true,\"textposition\":\"auto\",\"type\":\"bar\",\"x\":[\"Non Hispanic\",\"Non Hispanic White\",\"Non Hispanic Black\",\"Non Hispanic American Indian and Alaska Native\",\"Non Hispanic Asian\",\"Non Hispanic Native Hawaiian and Other Pacific Islander\",\"Non Hispanic Some other race\",\"Non Hispanic Two or more races\",\"Hispanic\"],\"xaxis\":\"x\",\"y\":[3561.5927977839333,1441.6814404432132,474.14958448753464,14.43213296398892,1373.97783933518,36.77839335180055,14.977839335180056,205.595567867036,1027.753462603878],\"yaxis\":\"y\"}],                        {\"barmode\":\"group\",\"height\":800,\"legend\":{\"title\":{\"text\":\"variable\"},\"tracegroupgap\":0},\"template\":{\"data\":{\"bar\":[{\"error_x\":{\"color\":\"#2a3f5f\"},\"error_y\":{\"color\":\"#2a3f5f\"},\"marker\":{\"line\":{\"color\":\"#E5ECF6\",\"width\":0.5},\"pattern\":{\"fillmode\":\"overlay\",\"size\":10,\"solidity\":0.2}},\"type\":\"bar\"}],\"barpolar\":[{\"marker\":{\"line\":{\"color\":\"#E5ECF6\",\"width\":0.5},\"pattern\":{\"fillmode\":\"overlay\",\"size\":10,\"solidity\":0.2}},\"type\":\"barpolar\"}],\"carpet\":[{\"aaxis\":{\"endlinecolor\":\"#2a3f5f\",\"gridcolor\":\"white\",\"linecolor\":\"white\",\"minorgridcolor\":\"white\",\"startlinecolor\":\"#2a3f5f\"},\"baxis\":{\"endlinecolor\":\"#2a3f5f\",\"gridcolor\":\"white\",\"linecolor\":\"white\",\"minorgridcolor\":\"white\",\"startlinecolor\":\"#2a3f5f\"},\"type\":\"carpet\"}],\"choropleth\":[{\"colorbar\":{\"outlinewidth\":0,\"ticks\":\"\"},\"type\":\"choropleth\"}],\"contour\":[{\"colorbar\":{\"outlinewidth\":0,\"ticks\":\"\"},\"colorscale\":[[0.0,\"#0d0887\"],[0.1111111111111111,\"#46039f\"],[0.2222222222222222,\"#7201a8\"],[0.3333333333333333,\"#9c179e\"],[0.4444444444444444,\"#bd3786\"],[0.5555555555555556,\"#d8576b\"],[0.6666666666666666,\"#ed7953\"],[0.7777777777777778,\"#fb9f3a\"],[0.8888888888888888,\"#fdca26\"],[1.0,\"#f0f921\"]],\"type\":\"contour\"}],\"contourcarpet\":[{\"colorbar\":{\"outlinewidth\":0,\"ticks\":\"\"},\"type\":\"contourcarpet\"}],\"heatmap\":[{\"colorbar\":{\"outlinewidth\":0,\"ticks\":\"\"},\"colorscale\":[[0.0,\"#0d0887\"],[0.1111111111111111,\"#46039f\"],[0.2222222222222222,\"#7201a8\"],[0.3333333333333333,\"#9c179e\"],[0.4444444444444444,\"#bd3786\"],[0.5555555555555556,\"#d8576b\"],[0.6666666666666666,\"#ed7953\"],[0.7777777777777778,\"#fb9f3a\"],[0.8888888888888888,\"#fdca26\"],[1.0,\"#f0f921\"]],\"type\":\"heatmap\"}],\"heatmapgl\":[{\"colorbar\":{\"outlinewidth\":0,\"ticks\":\"\"},\"colorscale\":[[0.0,\"#0d0887\"],[0.1111111111111111,\"#46039f\"],[0.2222222222222222,\"#7201a8\"],[0.3333333333333333,\"#9c179e\"],[0.4444444444444444,\"#bd3786\"],[0.5555555555555556,\"#d8576b\"],[0.6666666666666666,\"#ed7953\"],[0.7777777777777778,\"#fb9f3a\"],[0.8888888888888888,\"#fdca26\"],[1.0,\"#f0f921\"]],\"type\":\"heatmapgl\"}],\"histogram\":[{\"marker\":{\"pattern\":{\"fillmode\":\"overlay\",\"size\":10,\"solidity\":0.2}},\"type\":\"histogram\"}],\"histogram2d\":[{\"colorbar\":{\"outlinewidth\":0,\"ticks\":\"\"},\"colorscale\":[[0.0,\"#0d0887\"],[0.1111111111111111,\"#46039f\"],[0.2222222222222222,\"#7201a8\"],[0.3333333333333333,\"#9c179e\"],[0.4444444444444444,\"#bd3786\"],[0.5555555555555556,\"#d8576b\"],[0.6666666666666666,\"#ed7953\"],[0.7777777777777778,\"#fb9f3a\"],[0.8888888888888888,\"#fdca26\"],[1.0,\"#f0f921\"]],\"type\":\"histogram2d\"}],\"histogram2dcontour\":[{\"colorbar\":{\"outlinewidth\":0,\"ticks\":\"\"},\"colorscale\":[[0.0,\"#0d0887\"],[0.1111111111111111,\"#46039f\"],[0.2222222222222222,\"#7201a8\"],[0.3333333333333333,\"#9c179e\"],[0.4444444444444444,\"#bd3786\"],[0.5555555555555556,\"#d8576b\"],[0.6666666666666666,\"#ed7953\"],[0.7777777777777778,\"#fb9f3a\"],[0.8888888888888888,\"#fdca26\"],[1.0,\"#f0f921\"]],\"type\":\"histogram2dcontour\"}],\"mesh3d\":[{\"colorbar\":{\"outlinewidth\":0,\"ticks\":\"\"},\"type\":\"mesh3d\"}],\"parcoords\":[{\"line\":{\"colorbar\":{\"outlinewidth\":0,\"ticks\":\"\"}},\"type\":\"parcoords\"}],\"pie\":[{\"automargin\":true,\"type\":\"pie\"}],\"scatter\":[{\"marker\":{\"colorbar\":{\"outlinewidth\":0,\"ticks\":\"\"}},\"type\":\"scatter\"}],\"scatter3d\":[{\"line\":{\"colorbar\":{\"outlinewidth\":0,\"ticks\":\"\"}},\"marker\":{\"colorbar\":{\"outlinewidth\":0,\"ticks\":\"\"}},\"type\":\"scatter3d\"}],\"scattercarpet\":[{\"marker\":{\"colorbar\":{\"outlinewidth\":0,\"ticks\":\"\"}},\"type\":\"scattercarpet\"}],\"scattergeo\":[{\"marker\":{\"colorbar\":{\"outlinewidth\":0,\"ticks\":\"\"}},\"type\":\"scattergeo\"}],\"scattergl\":[{\"marker\":{\"colorbar\":{\"outlinewidth\":0,\"ticks\":\"\"}},\"type\":\"scattergl\"}],\"scattermapbox\":[{\"marker\":{\"colorbar\":{\"outlinewidth\":0,\"ticks\":\"\"}},\"type\":\"scattermapbox\"}],\"scatterpolar\":[{\"marker\":{\"colorbar\":{\"outlinewidth\":0,\"ticks\":\"\"}},\"type\":\"scatterpolar\"}],\"scatterpolargl\":[{\"marker\":{\"colorbar\":{\"outlinewidth\":0,\"ticks\":\"\"}},\"type\":\"scatterpolargl\"}],\"scatterternary\":[{\"marker\":{\"colorbar\":{\"outlinewidth\":0,\"ticks\":\"\"}},\"type\":\"scatterternary\"}],\"surface\":[{\"colorbar\":{\"outlinewidth\":0,\"ticks\":\"\"},\"colorscale\":[[0.0,\"#0d0887\"],[0.1111111111111111,\"#46039f\"],[0.2222222222222222,\"#7201a8\"],[0.3333333333333333,\"#9c179e\"],[0.4444444444444444,\"#bd3786\"],[0.5555555555555556,\"#d8576b\"],[0.6666666666666666,\"#ed7953\"],[0.7777777777777778,\"#fb9f3a\"],[0.8888888888888888,\"#fdca26\"],[1.0,\"#f0f921\"]],\"type\":\"surface\"}],\"table\":[{\"cells\":{\"fill\":{\"color\":\"#EBF0F8\"},\"line\":{\"color\":\"white\"}},\"header\":{\"fill\":{\"color\":\"#C8D4E3\"},\"line\":{\"color\":\"white\"}},\"type\":\"table\"}]},\"layout\":{\"annotationdefaults\":{\"arrowcolor\":\"#2a3f5f\",\"arrowhead\":0,\"arrowwidth\":1},\"autotypenumbers\":\"strict\",\"coloraxis\":{\"colorbar\":{\"outlinewidth\":0,\"ticks\":\"\"}},\"colorscale\":{\"diverging\":[[0,\"#8e0152\"],[0.1,\"#c51b7d\"],[0.2,\"#de77ae\"],[0.3,\"#f1b6da\"],[0.4,\"#fde0ef\"],[0.5,\"#f7f7f7\"],[0.6,\"#e6f5d0\"],[0.7,\"#b8e186\"],[0.8,\"#7fbc41\"],[0.9,\"#4d9221\"],[1,\"#276419\"]],\"sequential\":[[0.0,\"#0d0887\"],[0.1111111111111111,\"#46039f\"],[0.2222222222222222,\"#7201a8\"],[0.3333333333333333,\"#9c179e\"],[0.4444444444444444,\"#bd3786\"],[0.5555555555555556,\"#d8576b\"],[0.6666666666666666,\"#ed7953\"],[0.7777777777777778,\"#fb9f3a\"],[0.8888888888888888,\"#fdca26\"],[1.0,\"#f0f921\"]],\"sequentialminus\":[[0.0,\"#0d0887\"],[0.1111111111111111,\"#46039f\"],[0.2222222222222222,\"#7201a8\"],[0.3333333333333333,\"#9c179e\"],[0.4444444444444444,\"#bd3786\"],[0.5555555555555556,\"#d8576b\"],[0.6666666666666666,\"#ed7953\"],[0.7777777777777778,\"#fb9f3a\"],[0.8888888888888888,\"#fdca26\"],[1.0,\"#f0f921\"]]},\"colorway\":[\"#636efa\",\"#EF553B\",\"#00cc96\",\"#ab63fa\",\"#FFA15A\",\"#19d3f3\",\"#FF6692\",\"#B6E880\",\"#FF97FF\",\"#FECB52\"],\"font\":{\"color\":\"#2a3f5f\"},\"geo\":{\"bgcolor\":\"white\",\"lakecolor\":\"white\",\"landcolor\":\"#E5ECF6\",\"showlakes\":true,\"showland\":true,\"subunitcolor\":\"white\"},\"hoverlabel\":{\"align\":\"left\"},\"hovermode\":\"closest\",\"mapbox\":{\"style\":\"light\"},\"paper_bgcolor\":\"white\",\"plot_bgcolor\":\"#E5ECF6\",\"polar\":{\"angularaxis\":{\"gridcolor\":\"white\",\"linecolor\":\"white\",\"ticks\":\"\"},\"bgcolor\":\"#E5ECF6\",\"radialaxis\":{\"gridcolor\":\"white\",\"linecolor\":\"white\",\"ticks\":\"\"}},\"scene\":{\"xaxis\":{\"backgroundcolor\":\"#E5ECF6\",\"gridcolor\":\"white\",\"gridwidth\":2,\"linecolor\":\"white\",\"showbackground\":true,\"ticks\":\"\",\"zerolinecolor\":\"white\"},\"yaxis\":{\"backgroundcolor\":\"#E5ECF6\",\"gridcolor\":\"white\",\"gridwidth\":2,\"linecolor\":\"white\",\"showbackground\":true,\"ticks\":\"\",\"zerolinecolor\":\"white\"},\"zaxis\":{\"backgroundcolor\":\"#E5ECF6\",\"gridcolor\":\"white\",\"gridwidth\":2,\"linecolor\":\"white\",\"showbackground\":true,\"ticks\":\"\",\"zerolinecolor\":\"white\"}},\"shapedefaults\":{\"line\":{\"color\":\"#2a3f5f\"}},\"ternary\":{\"aaxis\":{\"gridcolor\":\"white\",\"linecolor\":\"white\",\"ticks\":\"\"},\"baxis\":{\"gridcolor\":\"white\",\"linecolor\":\"white\",\"ticks\":\"\"},\"bgcolor\":\"#E5ECF6\",\"caxis\":{\"gridcolor\":\"white\",\"linecolor\":\"white\",\"ticks\":\"\"}},\"title\":{\"x\":0.05},\"xaxis\":{\"automargin\":true,\"gridcolor\":\"white\",\"linecolor\":\"white\",\"ticks\":\"\",\"title\":{\"standoff\":15},\"zerolinecolor\":\"white\",\"zerolinewidth\":2},\"yaxis\":{\"automargin\":true,\"gridcolor\":\"white\",\"linecolor\":\"white\",\"ticks\":\"\",\"title\":{\"standoff\":15},\"zerolinecolor\":\"white\",\"zerolinewidth\":2}}},\"title\":{\"text\":\"Average Census Tract Ethnicity Makeup\"},\"xaxis\":{\"anchor\":\"y\",\"domain\":[0.0,1.0],\"title\":{\"text\":\"Ethnicity\"}},\"yaxis\":{\"anchor\":\"x\",\"domain\":[0.0,1.0],\"title\":{\"text\":\"value\"}}},                        {\"responsive\": true}                    ).then(function(){\n",
       "                            \n",
       "var gd = document.getElementById('5d3dfc6b-b169-4ab0-a3b2-b73ee5121dc7');\n",
       "var x = new MutationObserver(function (mutations, observer) {{\n",
       "        var display = window.getComputedStyle(gd).display;\n",
       "        if (!display || display === 'none') {{\n",
       "            console.log([gd, 'removed!']);\n",
       "            Plotly.purge(gd);\n",
       "            observer.disconnect();\n",
       "        }}\n",
       "}});\n",
       "\n",
       "// Listen for the removal of the full notebook cells\n",
       "var notebookContainer = gd.closest('#notebook-container');\n",
       "if (notebookContainer) {{\n",
       "    x.observe(notebookContainer, {childList: true});\n",
       "}}\n",
       "\n",
       "// Listen for the clearing of the current output cell\n",
       "var outputEl = gd.closest('.output');\n",
       "if (outputEl) {{\n",
       "    x.observe(outputEl, {childList: true});\n",
       "}}\n",
       "\n",
       "                        })                };                });            </script>        </div>"
      ]
     },
     "metadata": {},
     "output_type": "display_data"
    }
   ],
   "source": [
    "# a simple bar chart, putting date on the x-axis\n",
    "fig = px.bar(ethaverage,\n",
    "       x='Ethnicity',\n",
    "       y=['Value 2011', 'Value 2019'],\n",
    "       barmode='group',\n",
    "       title='Average Census Tract Ethnicity Makeup',\n",
    "       height=800,\n",
    "       labels={\"Value 2011\":\"2011 Population\"}\n",
    "      )\n",
    "\n",
    "# get rid of white lines inside the bars\n",
    "fig.update_traces(marker_line_width=0)\n",
    "\n",
    "# show the figure\n",
    "fig.show()"
   ]
  },
  {
   "cell_type": "code",
   "execution_count": 62,
   "id": "4b54f3ae-da22-476c-9e82-1b8d3381008b",
   "metadata": {},
   "outputs": [],
   "source": [
    "avgeth=ethaverage['Ethnicity']"
   ]
  },
  {
   "cell_type": "code",
   "execution_count": 63,
   "id": "f86359b6-f617-4219-a9d2-301ec676aa55",
   "metadata": {},
   "outputs": [
    {
     "name": "stderr",
     "output_type": "stream",
     "text": [
      "/tmp/ipykernel_720/3671752063.py:1: SettingWithCopyWarning:\n",
      "\n",
      "\n",
      "A value is trying to be set on a copy of a slice from a DataFrame\n",
      "\n",
      "See the caveats in the documentation: https://pandas.pydata.org/pandas-docs/stable/user_guide/indexing.html#returning-a-view-versus-a-copy\n",
      "\n"
     ]
    }
   ],
   "source": [
    "avgeth['2011']=ethaverage['Value 2011']"
   ]
  },
  {
   "cell_type": "code",
   "execution_count": 64,
   "id": "bc797df5-5159-489a-bd52-3ed8b0173138",
   "metadata": {},
   "outputs": [
    {
     "data": {
      "text/plain": [
       "1                                            Non Hispanic\n",
       "2                                      Non Hispanic White\n",
       "3                                      Non Hispanic Black\n",
       "4          Non Hispanic American Indian and Alaska Native\n",
       "5                                      Non Hispanic Asian\n",
       "6       Non Hispanic Native Hawaiian and Other Pacific...\n",
       "7                            Non Hispanic Some other race\n",
       "8                          Non Hispanic Two or more races\n",
       "9                                                Hispanic\n",
       "2011    1    3220.977839\n",
       "2    1433.650970\n",
       "3     506.44...\n",
       "Name: Ethnicity, dtype: object"
      ]
     },
     "execution_count": 64,
     "metadata": {},
     "output_type": "execute_result"
    }
   ],
   "source": [
    "avgeth"
   ]
  },
  {
   "cell_type": "code",
   "execution_count": null,
   "id": "5291f24b-3e15-4970-a51c-4ab890bd6848",
   "metadata": {},
   "outputs": [],
   "source": []
  }
 ],
 "metadata": {
  "kernelspec": {
   "display_name": "Python 3 (ipykernel)",
   "language": "python",
   "name": "python3"
  },
  "language_info": {
   "codemirror_mode": {
    "name": "ipython",
    "version": 3
   },
   "file_extension": ".py",
   "mimetype": "text/x-python",
   "name": "python",
   "nbconvert_exporter": "python",
   "pygments_lexer": "ipython3",
   "version": "3.9.6"
  }
 },
 "nbformat": 4,
 "nbformat_minor": 5
}
