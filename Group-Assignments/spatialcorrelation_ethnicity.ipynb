{
 "cells": [
  {
   "cell_type": "markdown",
   "id": "16ce7c82-a383-4274-9f95-bccbc27afa3a",
   "metadata": {},
   "source": [
    "# Group Assignment #3: A Clean Notebook\n",
    "\n",
    "## Compilation of Work\n",
    "\n",
    "We decide to shift to block group data for further analysis as it will help us perform better autocorrelations studies. For this purpose, we downloaded data for two years, 2019 and 2013. There is no 2013 block group level data avaliable for our variables,  hence we shift to 2013, which is still before the projects were competed and hence within the time frame.  \n",
    "In this note book we will\n",
    "1. Import 2019 data and narrow it down to relevant variables.\n",
    "2. Import 2013 data and do a spatial join to obtain geodataframe, and also narrow it down to relevant variables\n",
    "3. Create percentage for different ethnicity groups for each year.\n",
    "4. Create a percentage change for various ethnicity groups from 2013 to 2019. \n",
    "\n",
    "We only need the pandas and geopandas library for all these tasks. "
   ]
  },
  {
   "cell_type": "code",
   "execution_count": 2,
   "id": "e36d1498-a846-4dfc-93de-851f967ecb67",
   "metadata": {},
   "outputs": [
    {
     "name": "stderr",
     "output_type": "stream",
     "text": [
      "/opt/conda/lib/python3.9/site-packages/geopandas/_compat.py:106: UserWarning: The Shapely GEOS version (3.9.1-CAPI-1.14.2) is incompatible with the GEOS version PyGEOS was compiled with (3.10.1-CAPI-1.16.0). Conversions between both will be slow.\n",
      "  warnings.warn(\n"
     ]
    }
   ],
   "source": [
    "# for general data wrangling tasks\n",
    "import pandas as pd\n",
    "\n",
    "# to read and visualize spatial data\n",
    "import geopandas as gpd"
   ]
  },
  {
   "cell_type": "markdown",
   "id": "e2e0b2d0-9ecd-4590-aa8e-6db3fb810198",
   "metadata": {},
   "source": [
    "## Import 2019 data and narrow it down to relevant variables.\n",
    "\n",
    "The data is avaialble at census explorer as a geoJSON format, hence saving considerable time. First to check our data."
   ]
  },
  {
   "cell_type": "code",
   "execution_count": 1,
   "id": "608a298d-a520-49c2-8096-e4df4ba96429",
   "metadata": {},
   "outputs": [
    {
     "ename": "NameError",
     "evalue": "name 'gpd' is not defined",
     "output_type": "error",
     "traceback": [
      "\u001b[0;31m---------------------------------------------------------------------------\u001b[0m",
      "\u001b[0;31mNameError\u001b[0m                                 Traceback (most recent call last)",
      "\u001b[0;32m/tmp/ipykernel_1096/1275734702.py\u001b[0m in \u001b[0;36m<module>\u001b[0;34m\u001b[0m\n\u001b[0;32m----> 1\u001b[0;31m \u001b[0mb2019\u001b[0m \u001b[0;34m=\u001b[0m \u001b[0mgpd\u001b[0m\u001b[0;34m.\u001b[0m\u001b[0mread_file\u001b[0m\u001b[0;34m(\u001b[0m\u001b[0;34m\"acs2019_5yr_B03002_15000US060014094001.geojson\"\u001b[0m\u001b[0;34m)\u001b[0m\u001b[0;34m\u001b[0m\u001b[0;34m\u001b[0m\u001b[0m\n\u001b[0m\u001b[1;32m      2\u001b[0m \u001b[0mb2019\u001b[0m\u001b[0;34m.\u001b[0m\u001b[0mhead\u001b[0m\u001b[0;34m(\u001b[0m\u001b[0;34m)\u001b[0m\u001b[0;34m\u001b[0m\u001b[0;34m\u001b[0m\u001b[0m\n",
      "\u001b[0;31mNameError\u001b[0m: name 'gpd' is not defined"
     ]
    }
   ],
   "source": [
    "b2019 = gpd.read_file(\"acs2019_5yr_B03002_15000US060014094001.geojson\")\n",
    "b2019.head()"
   ]
  },
  {
   "cell_type": "code",
   "execution_count": null,
   "id": "bdd53c0f-0845-45f9-8311-33048ab4bc69",
   "metadata": {},
   "outputs": [],
   "source": [
    "b2019=b2019.drop([0])\n",
    "b2019.head()"
   ]
  },
  {
   "cell_type": "code",
   "execution_count": null,
   "id": "874fd1d6-5763-4bd1-809f-98da55f795bd",
   "metadata": {},
   "outputs": [],
   "source": [
    "list(b2019)"
   ]
  },
  {
   "cell_type": "code",
   "execution_count": null,
   "id": "5ff55b18-7a83-43a8-a17a-379b1b0caef9",
   "metadata": {},
   "outputs": [],
   "source": [
    "columns_to_keep = ['geoid',\n",
    "                   'name',\n",
    "                   'B03002001',\n",
    "                   'B03002002',\n",
    "                   'B03002003',\n",
    "                   'B03002004',\n",
    "                   'B03002005',\n",
    "                   'B03002006',\n",
    "                   'B03002007',\n",
    "                   'B03002008',\n",
    "                   'B03002009',\n",
    "                   'B03002012',\n",
    "                   'geometry']\n",
    "block2019=b2019[columns_to_keep]\n",
    "block2019.head()"
   ]
  },
  {
   "cell_type": "code",
   "execution_count": null,
   "id": "3e08e061-72a5-438e-a394-6dc32c8a19ee",
   "metadata": {},
   "outputs": [],
   "source": [
    "block2019['geoid'] = block2019['geoid'].str.replace('15000US','')\n",
    "block2019.head()"
   ]
  },
  {
   "cell_type": "code",
   "execution_count": null,
   "id": "d95d117b-9ac3-4ce7-a06c-ea6c18e3be00",
   "metadata": {},
   "outputs": [],
   "source": [
    "block2019.columns = ['GEOID',\n",
    " 'NAME',\n",
    " 'Total_2019',\n",
    " 'Non Hispanic_2019',\n",
    " 'Non Hispanic White_2019',\n",
    " 'Non Hispanic Black_2019',\n",
    " 'Non Hispanic American Indian and Alaska Native_2019',\n",
    " 'Non Hispanic Asian_2019',\n",
    " 'Non Hispanic Native Hawaiian and Other Pacific Islander_2019',\n",
    " 'Non Hispanic Some other race_2019',\n",
    " 'Non Hispanic Two or more races_2019',\n",
    " 'Hispanic_2019',\n",
    " 'geometry']\n",
    "block2019.head()"
   ]
  },
  {
   "cell_type": "markdown",
   "id": "43738797-ad1a-4396-8667-830dfb3ce808",
   "metadata": {},
   "source": [
    "## 2013 block group data for alameda county"
   ]
  },
  {
   "cell_type": "code",
   "execution_count": null,
   "id": "0beb4029-b64e-4fde-8fa1-3271ea3ef776",
   "metadata": {},
   "outputs": [],
   "source": [
    "b2013 = gpd.read_file(\"ACSDT5Y2013.B03002_data_with_overlays_2022-02-21T160847.csv\")\n",
    "b2013.head()"
   ]
  },
  {
   "cell_type": "markdown",
   "id": "a5476897-246b-47cf-8162-9370930baeba",
   "metadata": {},
   "source": [
    "The total row is not present in the head. So let us check the tail. "
   ]
  },
  {
   "cell_type": "code",
   "execution_count": null,
   "id": "c1da449a-0988-4272-ad29-c1ba0b91cb18",
   "metadata": {},
   "outputs": [],
   "source": [
    "b2013.tail()"
   ]
  },
  {
   "cell_type": "code",
   "execution_count": null,
   "id": "b30e2330-67c5-431b-b302-9e3bf0cb6653",
   "metadata": {},
   "outputs": [],
   "source": [
    "b2013=b2013.drop([1047])"
   ]
  },
  {
   "cell_type": "code",
   "execution_count": null,
   "id": "9e62bfa1-d439-4d56-8e37-24f432b0903c",
   "metadata": {},
   "outputs": [],
   "source": [
    "b2013.tail()"
   ]
  },
  {
   "cell_type": "code",
   "execution_count": null,
   "id": "ab165797-38d7-46c0-a1bb-76b127364536",
   "metadata": {},
   "outputs": [],
   "source": [
    "list(b2013)"
   ]
  },
  {
   "cell_type": "code",
   "execution_count": null,
   "id": "8de08fba-3e11-4cae-b577-b5d1222fcfb8",
   "metadata": {},
   "outputs": [],
   "source": [
    "columns_to_keep2= ['B03002_001E',\n",
    "                   'B03002_002E',\n",
    "                   'B03002_003E',\n",
    "                   'B03002_004E',\n",
    "                   'B03002_005E',\n",
    "                   'B03002_006E',\n",
    "                   'B03002_007E',\n",
    "                   'B03002_008E',\n",
    "                   'B03002_009E',\n",
    "                   'B03002_012E',\n",
    "                   'GEO_ID',\n",
    "                   'NAME',\n",
    "                   'geometry']"
   ]
  },
  {
   "cell_type": "code",
   "execution_count": null,
   "id": "b9f64a62-dc71-4e10-b87e-99a5c0e9674f",
   "metadata": {},
   "outputs": [],
   "source": [
    "block2013=b2013[columns_to_keep2]"
   ]
  },
  {
   "cell_type": "code",
   "execution_count": null,
   "id": "b3d3626b-243c-4822-a5e4-2da0d99c6a46",
   "metadata": {},
   "outputs": [],
   "source": [
    "block2013.head()"
   ]
  },
  {
   "cell_type": "code",
   "execution_count": null,
   "id": "0d0f8154-bb86-4fcb-be3b-1028bebc2d4d",
   "metadata": {},
   "outputs": [],
   "source": [
    "block2013=block2013.drop([0])"
   ]
  },
  {
   "cell_type": "code",
   "execution_count": null,
   "id": "d518aca2-da0e-4622-b7e5-48d3741a8acb",
   "metadata": {},
   "outputs": [],
   "source": [
    "block2013.columns = [\n",
    " 'Total_2013',\n",
    " 'Non Hispanic_2013',\n",
    " 'Non Hispanic White_2013',\n",
    " 'Non Hispanic Black_2013',\n",
    " 'Non Hispanic American Indian and Alaska Native_2013',\n",
    " 'Non Hispanic Asian_2013',\n",
    " 'Non Hispanic Native Hawaiian and Other Pacific Islander_2013',\n",
    " 'Non Hispanic Some other race_2013',\n",
    " 'Non Hispanic Two or more races_2013',\n",
    " 'Hispanic_2013',\n",
    " 'GEOID',\n",
    " 'NAME',\n",
    " 'geometry']"
   ]
  },
  {
   "cell_type": "code",
   "execution_count": null,
   "id": "3c7e8eaf-c31a-4f68-8543-6ad3bae189c8",
   "metadata": {},
   "outputs": [],
   "source": [
    "block2013.head()"
   ]
  },
  {
   "cell_type": "code",
   "execution_count": null,
   "id": "26c655e7-fa75-4fe1-b7ed-545ad6b6530e",
   "metadata": {},
   "outputs": [],
   "source": [
    "block2013['GEOID'] = block2013['GEOID'].str.replace('1500000US','')\n",
    "block2013.head()"
   ]
  },
  {
   "cell_type": "code",
   "execution_count": null,
   "id": "564c2326-fdd9-4ec2-8682-9fa8b1ba55c9",
   "metadata": {},
   "outputs": [],
   "source": [
    "block2013=block2013[[\n",
    " 'Total_2013',\n",
    " 'Non Hispanic_2013',\n",
    " 'Non Hispanic White_2013',\n",
    " 'Non Hispanic Black_2013',\n",
    " 'Non Hispanic American Indian and Alaska Native_2013',\n",
    " 'Non Hispanic Asian_2013',\n",
    " 'Non Hispanic Native Hawaiian and Other Pacific Islander_2013',\n",
    " 'Non Hispanic Some other race_2013',\n",
    " 'Non Hispanic Two or more races_2013',\n",
    " 'Hispanic_2013',\n",
    " 'GEOID',\n",
    " 'NAME']]"
   ]
  },
  {
   "cell_type": "code",
   "execution_count": null,
   "id": "1636646e-f241-48bf-b2d2-b67850672598",
   "metadata": {},
   "outputs": [],
   "source": [
    "block2013.head()"
   ]
  },
  {
   "cell_type": "markdown",
   "id": "4dceec57-5a14-4334-9ad7-b0babac27d67",
   "metadata": {},
   "source": [
    "## To convert the dataframe into a geodata frame"
   ]
  },
  {
   "cell_type": "code",
   "execution_count": null,
   "id": "6e4c282d-d922-46e2-b75a-03e6e2459e1c",
   "metadata": {},
   "outputs": [],
   "source": [
    "blockshape = gpd.read_file(\"2013_block/tl_2013_06_bg.shp\")"
   ]
  },
  {
   "cell_type": "code",
   "execution_count": null,
   "id": "b2a8fd84-c115-4c7a-a2ee-3d40f23ade66",
   "metadata": {},
   "outputs": [],
   "source": [
    "blockshape.head()"
   ]
  },
  {
   "cell_type": "code",
   "execution_count": null,
   "id": "72772e0c-8ef0-461c-9f18-e388c741836b",
   "metadata": {},
   "outputs": [],
   "source": [
    "blockshape.tail()"
   ]
  },
  {
   "cell_type": "code",
   "execution_count": null,
   "id": "bf0963f5-820d-443b-8843-a0ab61a9ae1f",
   "metadata": {},
   "outputs": [],
   "source": [
    "blockshape=blockshape[['GEOID', 'geometry']]"
   ]
  },
  {
   "cell_type": "code",
   "execution_count": null,
   "id": "4f1775ca-1998-4aa8-a8e7-68c7b09110a5",
   "metadata": {},
   "outputs": [],
   "source": [
    "blockshape.plot(figsize=(10,10))"
   ]
  },
  {
   "cell_type": "code",
   "execution_count": null,
   "id": "18f2229f-7e6e-4444-b3b0-4c527259f180",
   "metadata": {},
   "outputs": [],
   "source": [
    "block2013v = blockshape.merge(block2013, on='GEOID')"
   ]
  },
  {
   "cell_type": "code",
   "execution_count": null,
   "id": "b6cf0a1d-6588-42c0-9f3a-93015a44ceae",
   "metadata": {},
   "outputs": [],
   "source": [
    "block2013v.head()"
   ]
  },
  {
   "cell_type": "code",
   "execution_count": null,
   "id": "c7013094-9c00-4fe4-bb39-bad36cdfdafb",
   "metadata": {},
   "outputs": [],
   "source": [
    "block2013v.shape"
   ]
  },
  {
   "cell_type": "code",
   "execution_count": null,
   "id": "8630bf3d-3b55-4c64-851d-fb885b1f016f",
   "metadata": {},
   "outputs": [],
   "source": [
    "block2013.shape"
   ]
  },
  {
   "cell_type": "code",
   "execution_count": null,
   "id": "e32f5de1-e5a5-4872-923f-5bfac88457ef",
   "metadata": {},
   "outputs": [],
   "source": [
    "block2013v.plot(figsize=(10,10))"
   ]
  },
  {
   "cell_type": "code",
   "execution_count": null,
   "id": "1f621de5-719e-45a8-919b-ed5b06b16cfb",
   "metadata": {},
   "outputs": [],
   "source": [
    "\n",
    "# for basemaps\n",
    "import contextily as ctx\n",
    "\n",
    "# For spatial statistics\n",
    "import esda\n",
    "from esda.moran import Moran, Moran_Local\n",
    "\n",
    "import splot\n",
    "from splot.esda import moran_scatterplot, plot_moran, lisa_cluster,plot_moran_simulation\n",
    "\n",
    "import libpysal as lps\n",
    "\n",
    "# Graphics\n",
    "import matplotlib.pyplot as plt\n",
    "import plotly.express as px"
   ]
  },
  {
   "cell_type": "markdown",
   "id": "c7f826b9-ab1e-4308-915c-3da99271a2fb",
   "metadata": {},
   "source": [
    "## To Create % of ethnicity within each census tract"
   ]
  },
  {
   "cell_type": "code",
   "execution_count": null,
   "id": "6b576c02-1acf-46c0-b3db-f1fa6bacb8b9",
   "metadata": {},
   "outputs": [],
   "source": [
    "block2013v.sort_values(by='Total_2013').head(20)"
   ]
  },
  {
   "cell_type": "code",
   "execution_count": null,
   "id": "82d4255a-fc67-49f1-b247-3aa2b0133840",
   "metadata": {},
   "outputs": [],
   "source": [
    "block2013v.head()"
   ]
  },
  {
   "cell_type": "code",
   "execution_count": null,
   "id": "e939f8c5-142b-4795-a5ec-fd2daad3a407",
   "metadata": {},
   "outputs": [],
   "source": [
    "random_tract= block2013v.sample(1)"
   ]
  },
  {
   "cell_type": "code",
   "execution_count": null,
   "id": "bc4090dc-f01f-497c-a4b5-1b7409aa2e36",
   "metadata": {},
   "outputs": [],
   "source": [
    "random_tract"
   ]
  },
  {
   "cell_type": "code",
   "execution_count": null,
   "id": "47486870-16d9-4991-adc8-b0ba996e1046",
   "metadata": {},
   "outputs": [],
   "source": [
    "type(random_tract.iloc[0]['Non Hispanic_2013'])"
   ]
  },
  {
   "cell_type": "code",
   "execution_count": null,
   "id": "7aabc6f8-c055-4c95-bf5b-2596ccae89b0",
   "metadata": {},
   "outputs": [],
   "source": [
    "dtypes = ['Total_2013', \n",
    " 'Non Hispanic_2013',\n",
    " 'Non Hispanic White_2013',\n",
    " 'Non Hispanic Black_2013',\n",
    " 'Non Hispanic American Indian and Alaska Native_2013',\n",
    " 'Non Hispanic Asian_2013',\n",
    " 'Non Hispanic Native Hawaiian and Other Pacific Islander_2013',\n",
    " 'Non Hispanic Some other race_2013',\n",
    " 'Non Hispanic Two or more races_2013',\n",
    " 'Hispanic_2013']"
   ]
  },
  {
   "cell_type": "code",
   "execution_count": null,
   "id": "aabfc808-54cd-4927-98f6-040c187ccff8",
   "metadata": {},
   "outputs": [],
   "source": [
    "for i in dtypes:\n",
    "    block2013v[i]=block2013v[i].astype(float)"
   ]
  },
  {
   "cell_type": "code",
   "execution_count": null,
   "id": "f9c18a36-6ad8-4d55-a847-7abc3b8cc079",
   "metadata": {},
   "outputs": [],
   "source": [
    "random_tract2 = block2013v.sample(1)"
   ]
  },
  {
   "cell_type": "code",
   "execution_count": null,
   "id": "27dea18b-1af5-4b37-aa0a-5d1a5acf0f43",
   "metadata": {},
   "outputs": [],
   "source": [
    "type(random_tract2.iloc[0]['Non Hispanic_2013'])"
   ]
  },
  {
   "cell_type": "code",
   "execution_count": null,
   "id": "dd79388b-18f5-48f2-8180-5474602a9aef",
   "metadata": {},
   "outputs": [],
   "source": [
    "random_block=block2019.sample(1)"
   ]
  },
  {
   "cell_type": "code",
   "execution_count": null,
   "id": "e64d5301-6184-450d-8f24-e45bbd013c09",
   "metadata": {},
   "outputs": [],
   "source": [
    "type(random_block.iloc[0]['Non Hispanic_2019'])"
   ]
  },
  {
   "cell_type": "code",
   "execution_count": null,
   "id": "ecaa3338-d6be-48df-833f-e973e1563b82",
   "metadata": {},
   "outputs": [],
   "source": [
    "block2019.info()"
   ]
  },
  {
   "cell_type": "code",
   "execution_count": null,
   "id": "243d771e-55f6-4f40-a9ce-c34ac0f0ca05",
   "metadata": {},
   "outputs": [],
   "source": [
    "block2013v.info()"
   ]
  },
  {
   "cell_type": "code",
   "execution_count": null,
   "id": "1bbe2c46-ae61-4efb-9523-2d41888dfc68",
   "metadata": {},
   "outputs": [],
   "source": [
    "def createpercentage(block):\n",
    "    for x in dtypes:\n",
    "        block[(\"Percent \" + x)] = block[x]/block['Total_2013']*100\n",
    "        print(x, \"Completed\")"
   ]
  },
  {
   "cell_type": "code",
   "execution_count": null,
   "id": "b142b8d8-8733-498d-b8e5-bb3b26b41fca",
   "metadata": {},
   "outputs": [],
   "source": [
    "createpercentage(block2013v)"
   ]
  },
  {
   "cell_type": "code",
   "execution_count": null,
   "id": "1fae9231-41f6-4834-b56b-98fc126988f1",
   "metadata": {},
   "outputs": [],
   "source": [
    "block2013v.head()"
   ]
  },
  {
   "cell_type": "code",
   "execution_count": null,
   "id": "52db4afc-d627-4bed-a627-f99a7d613844",
   "metadata": {},
   "outputs": [],
   "source": [
    "col2019=list(block2019)"
   ]
  },
  {
   "cell_type": "code",
   "execution_count": null,
   "id": "62e05ad9-ef67-4eeb-b979-687d04a27b46",
   "metadata": {},
   "outputs": [],
   "source": [
    "col2019"
   ]
  },
  {
   "cell_type": "code",
   "execution_count": null,
   "id": "a538f2ec-148a-4cef-9b18-1a8f47086705",
   "metadata": {},
   "outputs": [],
   "source": [
    "dtypes19 = ['Total_2019', \n",
    " 'Non Hispanic_2019',\n",
    " 'Non Hispanic White_2019',\n",
    " 'Non Hispanic Black_2019',\n",
    " 'Non Hispanic American Indian and Alaska Native_2019',\n",
    " 'Non Hispanic Asian_2019',\n",
    " 'Non Hispanic Native Hawaiian and Other Pacific Islander_2019',\n",
    " 'Non Hispanic Some other race_2019',\n",
    " 'Non Hispanic Two or more races_2019',\n",
    " 'Hispanic_2019']"
   ]
  },
  {
   "cell_type": "code",
   "execution_count": null,
   "id": "11e612fd-0621-4166-8904-c18a41634e4d",
   "metadata": {},
   "outputs": [],
   "source": [
    "def createpercentage19(block):\n",
    "    for x in dtypes19:\n",
    "        block[(\"Percent \" + x)] = block[x]/block['Total_2019']*100\n",
    "        print(x, \"Completed\")"
   ]
  },
  {
   "cell_type": "code",
   "execution_count": null,
   "id": "e7f77d2f-2109-4e78-a3a1-7a0deda052dd",
   "metadata": {},
   "outputs": [],
   "source": [
    "createpercentage19(block2019)"
   ]
  },
  {
   "cell_type": "code",
   "execution_count": null,
   "id": "091a9813-b73e-4d23-82a7-9b486048af8f",
   "metadata": {},
   "outputs": [],
   "source": [
    "block2019.head()"
   ]
  },
  {
   "cell_type": "code",
   "execution_count": null,
   "id": "ec8216bd-2904-4761-bcc2-398525074673",
   "metadata": {},
   "outputs": [],
   "source": [
    "block2013v=block2013v.to_crs(epsg=4326)"
   ]
  },
  {
   "cell_type": "code",
   "execution_count": null,
   "id": "589187a8-08e0-4dc9-8147-26cbee6886f9",
   "metadata": {},
   "outputs": [],
   "source": [
    "blockall=gpd.sjoin(block2019, block2013v)"
   ]
  },
  {
   "cell_type": "code",
   "execution_count": null,
   "id": "f7ea3a88-4759-466f-8f43-e7496f583bd4",
   "metadata": {},
   "outputs": [],
   "source": [
    "blockall.info()"
   ]
  },
  {
   "cell_type": "markdown",
   "id": "9e71af07-3162-46e6-94b3-3ef484784a13",
   "metadata": {},
   "source": [
    "## % change from 2013 to 2019"
   ]
  },
  {
   "cell_type": "code",
   "execution_count": null,
   "id": "9951f76a-ecbe-4771-bace-bdb4532a29e3",
   "metadata": {},
   "outputs": [],
   "source": [
    "ball=blockall"
   ]
  },
  {
   "cell_type": "code",
   "execution_count": null,
   "id": "be0fb9df-1150-4832-b287-6092d166aa1f",
   "metadata": {},
   "outputs": [],
   "source": [
    "for i in list(ball.columns):\n",
    "    if \"2019\" in i:\n",
    "        if \"Percent\" in i:\n",
    "            print(i)\n",
    "        else:\n",
    "            ball[i.split(\"_\")[0]+\"_change\"]= (((ball[i]-ball[i.split(\"_\")[0]+\"_2013\"])/ball[i.split(\"_\")[0]+\"_2013\"])*100)\n",
    "       "
   ]
  },
  {
   "cell_type": "code",
   "execution_count": null,
   "id": "c33c5a26-a7f2-4f3c-a969-04f947712673",
   "metadata": {},
   "outputs": [],
   "source": [
    "ball.info()"
   ]
  },
  {
   "cell_type": "code",
   "execution_count": null,
   "id": "37dd75c4-1c30-41b0-923c-61f80ef9cb93",
   "metadata": {},
   "outputs": [],
   "source": [
    "ball.head()"
   ]
  },
  {
   "cell_type": "code",
   "execution_count": null,
   "id": "b0e0b628-c4b1-4d12-a31e-474f5e7ccfbe",
   "metadata": {},
   "outputs": [],
   "source": [
    "ball.to_file(\"blockgroupethnicity.geojson\", driver='GeoJSON')"
   ]
  },
  {
   "cell_type": "code",
   "execution_count": null,
   "id": "b66d0a28-eade-4998-b8c4-a1f3eaa13eb0",
   "metadata": {},
   "outputs": [],
   "source": []
  }
 ],
 "metadata": {
  "kernelspec": {
   "display_name": "Python 3 (ipykernel)",
   "language": "python",
   "name": "python3"
  },
  "language_info": {
   "codemirror_mode": {
    "name": "ipython",
    "version": 3
   },
   "file_extension": ".py",
   "mimetype": "text/x-python",
   "name": "python",
   "nbconvert_exporter": "python",
   "pygments_lexer": "ipython3",
   "version": "3.9.6"
  }
 },
 "nbformat": 4,
 "nbformat_minor": 5
}
