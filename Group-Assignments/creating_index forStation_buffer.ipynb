{
 "cells": [
  {
   "cell_type": "code",
   "execution_count": 1,
   "id": "a948cf80-23b1-456b-a62c-1dfaa25432f6",
   "metadata": {},
   "outputs": [
    {
     "name": "stderr",
     "output_type": "stream",
     "text": [
      "/opt/conda/lib/python3.9/site-packages/geopandas/_compat.py:106: UserWarning: The Shapely GEOS version (3.9.1-CAPI-1.14.2) is incompatible with the GEOS version PyGEOS was compiled with (3.10.1-CAPI-1.16.0). Conversions between both will be slow.\n",
      "  warnings.warn(\n"
     ]
    }
   ],
   "source": [
    "import pandas as pd\n",
    "\n",
    "# for spatial data\n",
    "import geopandas as gpd\n",
    "\n",
    "# for plotting\n",
    "import matplotlib.pyplot as plt\n",
    "# for basemaps\n",
    "import contextily as ctx\n",
    "\n",
    "import folium\n",
    "from folium.plugins import MarkerCluster\n",
    "import pandas as pd\n",
    "\n",
    "import plotly.express as px"
   ]
  },
  {
   "cell_type": "code",
   "execution_count": 5,
   "id": "e66f8313-dc37-4914-8fa4-53652a83eac5",
   "metadata": {},
   "outputs": [],
   "source": [
    "stationarea=gpd.read_file(\"stationarea.geojson\")\n",
    "ethindex=gpd.read_file(\"ethnicityindex.geojson\")\n",
    "index=gpd.read_file(\"iqv_average.csv\")\n",
    "tod=stationarea[stationarea['TOD']=='Yes']\n",
    "ntod=stationarea[stationarea['TOD']=='No']"
   ]
  },
  {
   "cell_type": "code",
   "execution_count": 6,
   "id": "823e59a1-0c88-4192-9c10-9d549af88a12",
   "metadata": {},
   "outputs": [
    {
     "data": {
      "text/html": [
       "<div>\n",
       "<style scoped>\n",
       "    .dataframe tbody tr th:only-of-type {\n",
       "        vertical-align: middle;\n",
       "    }\n",
       "\n",
       "    .dataframe tbody tr th {\n",
       "        vertical-align: top;\n",
       "    }\n",
       "\n",
       "    .dataframe thead th {\n",
       "        text-align: right;\n",
       "    }\n",
       "</style>\n",
       "<table border=\"1\" class=\"dataframe\">\n",
       "  <thead>\n",
       "    <tr style=\"text-align: right;\">\n",
       "      <th></th>\n",
       "      <th>GEOID_left</th>\n",
       "      <th>NAME_left</th>\n",
       "      <th>iqv_2019_sq</th>\n",
       "      <th>iqv_2013_sq</th>\n",
       "      <th>geometry</th>\n",
       "    </tr>\n",
       "  </thead>\n",
       "  <tbody>\n",
       "    <tr>\n",
       "      <th>0</th>\n",
       "      <td>060014001001</td>\n",
       "      <td>Block Group 1, Alameda, CA</td>\n",
       "      <td>0.487542</td>\n",
       "      <td>0.611353</td>\n",
       "      <td>MULTIPOLYGON (((-122.24692 37.88544, -122.2466...</td>\n",
       "    </tr>\n",
       "    <tr>\n",
       "      <th>1</th>\n",
       "      <td>060014002001</td>\n",
       "      <td>Block Group 1, Alameda, CA</td>\n",
       "      <td>0.448085</td>\n",
       "      <td>0.611353</td>\n",
       "      <td>MULTIPOLYGON (((-122.25508 37.84607, -122.2542...</td>\n",
       "    </tr>\n",
       "    <tr>\n",
       "      <th>2</th>\n",
       "      <td>060014002002</td>\n",
       "      <td>Block Group 2, Alameda, CA</td>\n",
       "      <td>0.549006</td>\n",
       "      <td>0.611353</td>\n",
       "      <td>MULTIPOLYGON (((-122.25792 37.84261, -122.2577...</td>\n",
       "    </tr>\n",
       "    <tr>\n",
       "      <th>3</th>\n",
       "      <td>060014003001</td>\n",
       "      <td>Block Group 1, Alameda, CA</td>\n",
       "      <td>0.588805</td>\n",
       "      <td>0.611353</td>\n",
       "      <td>MULTIPOLYGON (((-122.25186 37.84475, -122.2517...</td>\n",
       "    </tr>\n",
       "    <tr>\n",
       "      <th>4</th>\n",
       "      <td>060014042001</td>\n",
       "      <td>Block Group 1, Alameda, CA</td>\n",
       "      <td>0.520958</td>\n",
       "      <td>0.611353</td>\n",
       "      <td>MULTIPOLYGON (((-122.23661 37.84110, -122.2364...</td>\n",
       "    </tr>\n",
       "  </tbody>\n",
       "</table>\n",
       "</div>"
      ],
      "text/plain": [
       "     GEOID_left                   NAME_left  iqv_2019_sq  iqv_2013_sq  \\\n",
       "0  060014001001  Block Group 1, Alameda, CA     0.487542     0.611353   \n",
       "1  060014002001  Block Group 1, Alameda, CA     0.448085     0.611353   \n",
       "2  060014002002  Block Group 2, Alameda, CA     0.549006     0.611353   \n",
       "3  060014003001  Block Group 1, Alameda, CA     0.588805     0.611353   \n",
       "4  060014042001  Block Group 1, Alameda, CA     0.520958     0.611353   \n",
       "\n",
       "                                            geometry  \n",
       "0  MULTIPOLYGON (((-122.24692 37.88544, -122.2466...  \n",
       "1  MULTIPOLYGON (((-122.25508 37.84607, -122.2542...  \n",
       "2  MULTIPOLYGON (((-122.25792 37.84261, -122.2577...  \n",
       "3  MULTIPOLYGON (((-122.25186 37.84475, -122.2517...  \n",
       "4  MULTIPOLYGON (((-122.23661 37.84110, -122.2364...  "
      ]
     },
     "execution_count": 6,
     "metadata": {},
     "output_type": "execute_result"
    }
   ],
   "source": [
    "ethnover=ethindex[['GEOID_left',\n",
    " 'NAME_left','iqv_2019_sq',\n",
    " 'iqv_2013_sq',\n",
    " 'geometry']]\n",
    "ethnover.head()"
   ]
  },
  {
   "cell_type": "code",
   "execution_count": 6,
   "id": "466edb56-a650-4c85-98a5-1398a41168ca",
   "metadata": {},
   "outputs": [],
   "source": [
    "def averageoverlap(lc, x, df1=stationarea, df2=ethnover):\n",
    "    st=df1.loc[[lc]]\n",
    "    st_ol=gpd.sjoin(st,df2, how='inner')\n",
    "    st_av=st_ol.mean(axis=0, numeric_only=True)\n",
    "    st_av=st_av.to_frame().rename(columns={0:'Value 2011'})\n",
    "    st_av=st_av.transpose()\n",
    "    st_av['Station']=x\n",
    "    return (st_av)"
   ]
  },
  {
   "cell_type": "code",
   "execution_count": 8,
   "id": "57a4a1dc-c076-46bf-916a-de9f08eff90d",
   "metadata": {},
   "outputs": [],
   "source": [
    "df=['ASHBY',\n",
    "'MACARTHUR',\n",
    "'HAYWARD',\n",
    "'SOUTH',\n",
    "'FRUITVALE',\n",
    "'BERKELEY',\n",
    "'OAKLAND',\n",
    "'BAYFAIR',\n",
    "'UNIONCITY',\n",
    "'LAKEMERRITT',]"
   ]
  },
  {
   "cell_type": "code",
   "execution_count": 9,
   "id": "854a2b63-f413-4d0e-b8cc-009f7f223e4b",
   "metadata": {},
   "outputs": [
    {
     "data": {
      "text/plain": [
       "['ASHBY',\n",
       " 'MACARTHUR',\n",
       " 'HAYWARD',\n",
       " 'SOUTH',\n",
       " 'FRUITVALE',\n",
       " 'BERKELEY',\n",
       " 'OAKLAND',\n",
       " 'BAYFAIR',\n",
       " 'UNIONCITY',\n",
       " 'LAKEMERRITT']"
      ]
     },
     "execution_count": 9,
     "metadata": {},
     "output_type": "execute_result"
    }
   ],
   "source": [
    "df"
   ]
  },
  {
   "cell_type": "code",
   "execution_count": null,
   "id": "5049733a-8647-4b3b-bc89-7bb949250c3e",
   "metadata": {},
   "outputs": [],
   "source": [
    "for i in df:\n",
    "    split"
   ]
  },
  {
   "cell_type": "code",
   "execution_count": 6,
   "id": "20795044-9395-44e6-92c4-e03674ed0bc0",
   "metadata": {},
   "outputs": [],
   "source": [
    "ASHBY=averageoverlap(0,'ASHBY')\n",
    "MACARTHUR=averageoverlap(1,'MACARTHUR')\n",
    "HAYWARD=averageoverlap(2,'HAYWARD')\n",
    "SOUTH=averageoverlap(3,'SOUTH HAYWARD')\n",
    "FRUITVALE=averageoverlap(4,'FRUITVALE')\n",
    "BERKELEY=averageoverlap(5,'NORTH BERKELEY')\n",
    "OAKLAND=averageoverlap(6,'19TH STREET/OAKLAND')\n",
    "BAYFAIR=averageoverlap(7,'BAY FAIR')\n",
    "UNIONCITY=averageoverlap(8,'UNION CITY')\n",
    "LAKEMERRITT=averageoverlap(9,'LAKE MERRITT')"
   ]
  },
  {
   "cell_type": "code",
   "execution_count": 7,
   "id": "d984eb12-3e6b-46c2-98a2-e0a8e6cee25c",
   "metadata": {},
   "outputs": [],
   "source": [
    "lakeall=ASHBY\n",
    "lakeall=lakeall.append(MACARTHUR, ignore_index = True)\n",
    "lakeall=lakeall.append(HAYWARD, ignore_index = True)\n",
    "lakeall=lakeall.append(SOUTH, ignore_index = True)\n",
    "lakeall=lakeall.append(FRUITVALE, ignore_index = True)\n",
    "lakeall=lakeall.append(BERKELEY, ignore_index = True)\n",
    "lakeall=lakeall.append(OAKLAND, ignore_index = True)\n",
    "lakeall=lakeall.append(BAYFAIR, ignore_index = True)\n",
    "lakeall=lakeall.append(UNIONCITY, ignore_index = True)\n",
    "lakeall=lakeall.append(LAKEMERRITT, ignore_index = True)\n",
    "\n"
   ]
  },
  {
   "cell_type": "code",
   "execution_count": 8,
   "id": "70a939b0-9b8f-472a-b305-952a504dc236",
   "metadata": {},
   "outputs": [
    {
     "data": {
      "text/html": [
       "<div>\n",
       "<style scoped>\n",
       "    .dataframe tbody tr th:only-of-type {\n",
       "        vertical-align: middle;\n",
       "    }\n",
       "\n",
       "    .dataframe tbody tr th {\n",
       "        vertical-align: top;\n",
       "    }\n",
       "\n",
       "    .dataframe thead th {\n",
       "        text-align: right;\n",
       "    }\n",
       "</style>\n",
       "<table border=\"1\" class=\"dataframe\">\n",
       "  <thead>\n",
       "    <tr style=\"text-align: right;\">\n",
       "      <th></th>\n",
       "      <th>index_right</th>\n",
       "      <th>iqv_2019_sq</th>\n",
       "      <th>iqv_2013_sq</th>\n",
       "      <th>Station</th>\n",
       "    </tr>\n",
       "  </thead>\n",
       "  <tbody>\n",
       "    <tr>\n",
       "      <th>0</th>\n",
       "      <td>961.000000</td>\n",
       "      <td>0.807620</td>\n",
       "      <td>0.779275</td>\n",
       "      <td>ASHBY</td>\n",
       "    </tr>\n",
       "    <tr>\n",
       "      <th>1</th>\n",
       "      <td>520.096774</td>\n",
       "      <td>0.798501</td>\n",
       "      <td>0.764635</td>\n",
       "      <td>MACARTHUR</td>\n",
       "    </tr>\n",
       "    <tr>\n",
       "      <th>2</th>\n",
       "      <td>4988.000000</td>\n",
       "      <td>0.801418</td>\n",
       "      <td>0.673415</td>\n",
       "      <td>HAYWARD</td>\n",
       "    </tr>\n",
       "    <tr>\n",
       "      <th>3</th>\n",
       "      <td>5375.888889</td>\n",
       "      <td>0.753841</td>\n",
       "      <td>0.720262</td>\n",
       "      <td>SOUTH HAYWARD</td>\n",
       "    </tr>\n",
       "    <tr>\n",
       "      <th>4</th>\n",
       "      <td>2513.545455</td>\n",
       "      <td>0.611173</td>\n",
       "      <td>0.633157</td>\n",
       "      <td>FRUITVALE</td>\n",
       "    </tr>\n",
       "    <tr>\n",
       "      <th>5</th>\n",
       "      <td>3115.260870</td>\n",
       "      <td>0.804234</td>\n",
       "      <td>0.705502</td>\n",
       "      <td>NORTH BERKELEY</td>\n",
       "    </tr>\n",
       "    <tr>\n",
       "      <th>6</th>\n",
       "      <td>928.600000</td>\n",
       "      <td>0.757193</td>\n",
       "      <td>0.657919</td>\n",
       "      <td>19TH STREET/OAKLAND</td>\n",
       "    </tr>\n",
       "    <tr>\n",
       "      <th>7</th>\n",
       "      <td>4494.076923</td>\n",
       "      <td>0.596338</td>\n",
       "      <td>0.806828</td>\n",
       "      <td>BAY FAIR</td>\n",
       "    </tr>\n",
       "    <tr>\n",
       "      <th>8</th>\n",
       "      <td>5691.962963</td>\n",
       "      <td>0.708905</td>\n",
       "      <td>0.699273</td>\n",
       "      <td>UNION CITY</td>\n",
       "    </tr>\n",
       "    <tr>\n",
       "      <th>9</th>\n",
       "      <td>1474.740000</td>\n",
       "      <td>0.695569</td>\n",
       "      <td>0.680033</td>\n",
       "      <td>LAKE MERRITT</td>\n",
       "    </tr>\n",
       "  </tbody>\n",
       "</table>\n",
       "</div>"
      ],
      "text/plain": [
       "   index_right  iqv_2019_sq  iqv_2013_sq              Station\n",
       "0   961.000000     0.807620     0.779275                ASHBY\n",
       "1   520.096774     0.798501     0.764635            MACARTHUR\n",
       "2  4988.000000     0.801418     0.673415              HAYWARD\n",
       "3  5375.888889     0.753841     0.720262        SOUTH HAYWARD\n",
       "4  2513.545455     0.611173     0.633157            FRUITVALE\n",
       "5  3115.260870     0.804234     0.705502       NORTH BERKELEY\n",
       "6   928.600000     0.757193     0.657919  19TH STREET/OAKLAND\n",
       "7  4494.076923     0.596338     0.806828             BAY FAIR\n",
       "8  5691.962963     0.708905     0.699273           UNION CITY\n",
       "9  1474.740000     0.695569     0.680033         LAKE MERRITT"
      ]
     },
     "execution_count": 8,
     "metadata": {},
     "output_type": "execute_result"
    }
   ],
   "source": [
    "lakeall"
   ]
  },
  {
   "cell_type": "code",
   "execution_count": 9,
   "id": "70692d53-8b5a-4583-a0ca-a66904d9921b",
   "metadata": {},
   "outputs": [
    {
     "data": {
      "text/html": [
       "<div>\n",
       "<style scoped>\n",
       "    .dataframe tbody tr th:only-of-type {\n",
       "        vertical-align: middle;\n",
       "    }\n",
       "\n",
       "    .dataframe tbody tr th {\n",
       "        vertical-align: top;\n",
       "    }\n",
       "\n",
       "    .dataframe thead th {\n",
       "        text-align: right;\n",
       "    }\n",
       "</style>\n",
       "<table border=\"1\" class=\"dataframe\">\n",
       "  <thead>\n",
       "    <tr style=\"text-align: right;\">\n",
       "      <th></th>\n",
       "      <th>Station</th>\n",
       "      <th>City</th>\n",
       "      <th>Code</th>\n",
       "      <th>TOD</th>\n",
       "      <th>County</th>\n",
       "      <th>Marker</th>\n",
       "      <th>buffer_polygon</th>\n",
       "      <th>geometry</th>\n",
       "      <th>Index 2019</th>\n",
       "      <th>Index 2013</th>\n",
       "    </tr>\n",
       "  </thead>\n",
       "  <tbody>\n",
       "    <tr>\n",
       "      <th>0</th>\n",
       "      <td>ASHBY</td>\n",
       "      <td>Berkeley</td>\n",
       "      <td>BKY</td>\n",
       "      <td>Yes</td>\n",
       "      <td>ALA</td>\n",
       "      <td>D</td>\n",
       "      <td>POLYGON ((563770.9742351742 4188779.586837385,...</td>\n",
       "      <td>POLYGON ((-122.27519 37.84423, -122.27886 37.8...</td>\n",
       "      <td>0.807620</td>\n",
       "      <td>0.779275</td>\n",
       "    </tr>\n",
       "    <tr>\n",
       "      <th>1</th>\n",
       "      <td>MACARTHUR</td>\n",
       "      <td>Oakland</td>\n",
       "      <td>OAK</td>\n",
       "      <td>Yes</td>\n",
       "      <td>ALA</td>\n",
       "      <td>D</td>\n",
       "      <td>POLYGON ((563693.8852295046 4186061.965723997,...</td>\n",
       "      <td>POLYGON ((-122.27631 37.81974, -122.27785 37.8...</td>\n",
       "      <td>0.798501</td>\n",
       "      <td>0.764635</td>\n",
       "    </tr>\n",
       "    <tr>\n",
       "      <th>2</th>\n",
       "      <td>HAYWARD</td>\n",
       "      <td>Hayward</td>\n",
       "      <td>HAY</td>\n",
       "      <td>Yes</td>\n",
       "      <td>ALA</td>\n",
       "      <td>D</td>\n",
       "      <td>POLYGON ((580092.9554610827 4168606.360613972,...</td>\n",
       "      <td>POLYGON ((-122.09192 37.66114, -122.09221 37.6...</td>\n",
       "      <td>0.801418</td>\n",
       "      <td>0.673415</td>\n",
       "    </tr>\n",
       "    <tr>\n",
       "      <th>3</th>\n",
       "      <td>SOUTH HAYWARD</td>\n",
       "      <td>Hayward</td>\n",
       "      <td>HAY</td>\n",
       "      <td>Yes</td>\n",
       "      <td>ALA</td>\n",
       "      <td>D</td>\n",
       "      <td>POLYGON ((582418.4676641112 4164677.51896479, ...</td>\n",
       "      <td>POLYGON ((-122.06600 37.62552, -122.06785 37.6...</td>\n",
       "      <td>0.753841</td>\n",
       "      <td>0.720262</td>\n",
       "    </tr>\n",
       "    <tr>\n",
       "      <th>4</th>\n",
       "      <td>FRUITVALE</td>\n",
       "      <td>Oakland</td>\n",
       "      <td>OAK</td>\n",
       "      <td>Yes</td>\n",
       "      <td>ALA</td>\n",
       "      <td>D</td>\n",
       "      <td>POLYGON ((567336.267085615 4180096.87365391, 5...</td>\n",
       "      <td>POLYGON ((-122.23548 37.76572, -122.23554 37.7...</td>\n",
       "      <td>0.611173</td>\n",
       "      <td>0.633157</td>\n",
       "    </tr>\n",
       "    <tr>\n",
       "      <th>5</th>\n",
       "      <td>NORTH BERKELEY</td>\n",
       "      <td>Berkeley</td>\n",
       "      <td>BKY</td>\n",
       "      <td>No</td>\n",
       "      <td>ALA</td>\n",
       "      <td>o</td>\n",
       "      <td>POLYGON ((562158.4961938841 4191096.300319521,...</td>\n",
       "      <td>POLYGON ((-122.29332 37.86522, -122.29466 37.8...</td>\n",
       "      <td>0.804234</td>\n",
       "      <td>0.705502</td>\n",
       "    </tr>\n",
       "    <tr>\n",
       "      <th>6</th>\n",
       "      <td>19TH STREET/OAKLAND</td>\n",
       "      <td>Oakland</td>\n",
       "      <td>OAK</td>\n",
       "      <td>No</td>\n",
       "      <td>ALA</td>\n",
       "      <td>o</td>\n",
       "      <td>POLYGON ((563608.8389169731 4183769.339677225,...</td>\n",
       "      <td>POLYGON ((-122.27748 37.79909, -122.27882 37.7...</td>\n",
       "      <td>0.757193</td>\n",
       "      <td>0.657919</td>\n",
       "    </tr>\n",
       "    <tr>\n",
       "      <th>7</th>\n",
       "      <td>BAY FAIR</td>\n",
       "      <td>San Leandro</td>\n",
       "      <td>SAN</td>\n",
       "      <td>No</td>\n",
       "      <td>ALA</td>\n",
       "      <td>o</td>\n",
       "      <td>POLYGON ((576458.9770771035 4171618.447772438,...</td>\n",
       "      <td>POLYGON ((-122.13281 37.68859, -122.13353 37.6...</td>\n",
       "      <td>0.596338</td>\n",
       "      <td>0.806828</td>\n",
       "    </tr>\n",
       "    <tr>\n",
       "      <th>8</th>\n",
       "      <td>UNION CITY</td>\n",
       "      <td>Union City</td>\n",
       "      <td>UNC</td>\n",
       "      <td>No</td>\n",
       "      <td>ALA</td>\n",
       "      <td>o</td>\n",
       "      <td>POLYGON ((586339.0999929304 4159876.292845242,...</td>\n",
       "      <td>POLYGON ((-122.02215 37.58189, -122.02477 37.5...</td>\n",
       "      <td>0.708905</td>\n",
       "      <td>0.699273</td>\n",
       "    </tr>\n",
       "    <tr>\n",
       "      <th>9</th>\n",
       "      <td>LAKE MERRITT</td>\n",
       "      <td>Oakland</td>\n",
       "      <td>OAK</td>\n",
       "      <td>No</td>\n",
       "      <td>ALA</td>\n",
       "      <td>o</td>\n",
       "      <td>POLYGON ((563781.1147714683 4182741.967714277,...</td>\n",
       "      <td>POLYGON ((-122.27561 37.78981, -122.27509 37.7...</td>\n",
       "      <td>0.695569</td>\n",
       "      <td>0.680033</td>\n",
       "    </tr>\n",
       "  </tbody>\n",
       "</table>\n",
       "</div>"
      ],
      "text/plain": [
       "               Station         City Code  TOD County Marker  \\\n",
       "0                ASHBY     Berkeley  BKY  Yes    ALA      D   \n",
       "1            MACARTHUR      Oakland  OAK  Yes    ALA      D   \n",
       "2              HAYWARD      Hayward  HAY  Yes    ALA      D   \n",
       "3        SOUTH HAYWARD      Hayward  HAY  Yes    ALA      D   \n",
       "4            FRUITVALE      Oakland  OAK  Yes    ALA      D   \n",
       "5       NORTH BERKELEY     Berkeley  BKY   No    ALA      o   \n",
       "6  19TH STREET/OAKLAND      Oakland  OAK   No    ALA      o   \n",
       "7             BAY FAIR  San Leandro  SAN   No    ALA      o   \n",
       "8           UNION CITY   Union City  UNC   No    ALA      o   \n",
       "9         LAKE MERRITT      Oakland  OAK   No    ALA      o   \n",
       "\n",
       "                                      buffer_polygon  \\\n",
       "0  POLYGON ((563770.9742351742 4188779.586837385,...   \n",
       "1  POLYGON ((563693.8852295046 4186061.965723997,...   \n",
       "2  POLYGON ((580092.9554610827 4168606.360613972,...   \n",
       "3  POLYGON ((582418.4676641112 4164677.51896479, ...   \n",
       "4  POLYGON ((567336.267085615 4180096.87365391, 5...   \n",
       "5  POLYGON ((562158.4961938841 4191096.300319521,...   \n",
       "6  POLYGON ((563608.8389169731 4183769.339677225,...   \n",
       "7  POLYGON ((576458.9770771035 4171618.447772438,...   \n",
       "8  POLYGON ((586339.0999929304 4159876.292845242,...   \n",
       "9  POLYGON ((563781.1147714683 4182741.967714277,...   \n",
       "\n",
       "                                            geometry  Index 2019  Index 2013  \n",
       "0  POLYGON ((-122.27519 37.84423, -122.27886 37.8...    0.807620    0.779275  \n",
       "1  POLYGON ((-122.27631 37.81974, -122.27785 37.8...    0.798501    0.764635  \n",
       "2  POLYGON ((-122.09192 37.66114, -122.09221 37.6...    0.801418    0.673415  \n",
       "3  POLYGON ((-122.06600 37.62552, -122.06785 37.6...    0.753841    0.720262  \n",
       "4  POLYGON ((-122.23548 37.76572, -122.23554 37.7...    0.611173    0.633157  \n",
       "5  POLYGON ((-122.29332 37.86522, -122.29466 37.8...    0.804234    0.705502  \n",
       "6  POLYGON ((-122.27748 37.79909, -122.27882 37.7...    0.757193    0.657919  \n",
       "7  POLYGON ((-122.13281 37.68859, -122.13353 37.6...    0.596338    0.806828  \n",
       "8  POLYGON ((-122.02215 37.58189, -122.02477 37.5...    0.708905    0.699273  \n",
       "9  POLYGON ((-122.27561 37.78981, -122.27509 37.7...    0.695569    0.680033  "
      ]
     },
     "execution_count": 9,
     "metadata": {},
     "output_type": "execute_result"
    }
   ],
   "source": [
    "buffer_plot=stationarea\n",
    "buffer_plot['Index 2019']=lakeall['iqv_2019_sq']\n",
    "buffer_plot['Index 2013']=lakeall['iqv_2013_sq']\n",
    "buffer_plot"
   ]
  },
  {
   "cell_type": "code",
   "execution_count": 10,
   "id": "736f8f23-31c7-4909-912c-9fdc585b31c4",
   "metadata": {},
   "outputs": [
    {
     "data": {
      "text/plain": [
       "<AxesSubplot:>"
      ]
     },
     "execution_count": 10,
     "metadata": {},
     "output_type": "execute_result"
    },
    {
     "data": {
      "image/png": "[encoded data removed]",
      "text/plain": [
       "<Figure size 720x720 with 1 Axes>"
      ]
     },
     "metadata": {
      "needs_background": "light"
     },
     "output_type": "display_data"
    }
   ],
   "source": [
    "buffer_plot.plot(figsize=(10,10))"
   ]
  },
  {
   "cell_type": "code",
   "execution_count": 11,
   "id": "38390c89-76eb-432e-bd05-adec164f212f",
   "metadata": {},
   "outputs": [],
   "source": [
    "buffer_plot.to_file(\"buffer_plot.geojson\", driver='GeoJSON')"
   ]
  },
  {
   "cell_type": "code",
   "execution_count": 12,
   "id": "99961778-e947-4843-a39d-43d63743325f",
   "metadata": {},
   "outputs": [],
   "source": [
    "buffer_plot=buffer_plot.to_crs(epsg=3857)\n",
    "ethindex_wm=ethindex.to_crs(epsg=3857)\n",
    "\n",
    "minx, miny, maxx, maxy = buffer_plot.geometry.total_bounds"
   ]
  },
  {
   "cell_type": "code",
   "execution_count": 13,
   "id": "9733edfb-72f3-4f7e-8d63-7e6dad11dccc",
   "metadata": {},
   "outputs": [
    {
     "data": {
      "text/plain": [
       "['GEOID_left',\n",
       " 'NAME_left',\n",
       " 'Total_2019',\n",
       " 'Non Hispanic_2019',\n",
       " 'Non Hispanic White_2019',\n",
       " 'Non Hispanic Black_2019',\n",
       " 'Non Hispanic American Indian and Alaska Native_2019',\n",
       " 'Non Hispanic Asian_2019',\n",
       " 'Non Hispanic Native Hawaiian and Other Pacific Islander_2019',\n",
       " 'Non Hispanic Some other race_2019',\n",
       " 'Non Hispanic Two or more races_2019',\n",
       " 'Hispanic_2019',\n",
       " 'Percent Total_2019',\n",
       " 'Percent Non Hispanic_2019',\n",
       " 'Percent Non Hispanic White_2019',\n",
       " 'Percent Non Hispanic Black_2019',\n",
       " 'Percent Non Hispanic American Indian and Alaska Native_2019',\n",
       " 'Percent Non Hispanic Asian_2019',\n",
       " 'Percent Non Hispanic Native Hawaiian and Other Pacific Islander_2019',\n",
       " 'Percent Non Hispanic Some other race_2019',\n",
       " 'Percent Non Hispanic Two or more races_2019',\n",
       " 'Percent Hispanic_2019',\n",
       " 'index_right',\n",
       " 'GEOID_right',\n",
       " 'Total_2013',\n",
       " 'Non Hispanic_2013',\n",
       " 'Non Hispanic White_2013',\n",
       " 'Non Hispanic Black_2013',\n",
       " 'Non Hispanic American Indian and Alaska Native_2013',\n",
       " 'Non Hispanic Asian_2013',\n",
       " 'Non Hispanic Native Hawaiian and Other Pacific Islander_2013',\n",
       " 'Non Hispanic Some other race_2013',\n",
       " 'Non Hispanic Two or more races_2013',\n",
       " 'Hispanic_2013',\n",
       " 'NAME_right',\n",
       " 'Percent Total_2013',\n",
       " 'Percent Non Hispanic_2013',\n",
       " 'Percent Non Hispanic White_2013',\n",
       " 'Percent Non Hispanic Black_2013',\n",
       " 'Percent Non Hispanic American Indian and Alaska Native_2013',\n",
       " 'Percent Non Hispanic Asian_2013',\n",
       " 'Percent Non Hispanic Native Hawaiian and Other Pacific Islander_2013',\n",
       " 'Percent Non Hispanic Some other race_2013',\n",
       " 'Percent Non Hispanic Two or more races_2013',\n",
       " 'Percent Hispanic_2013',\n",
       " 'Total_change',\n",
       " 'Non Hispanic_change',\n",
       " 'Non Hispanic White_change',\n",
       " 'Non Hispanic Black_change',\n",
       " 'Non Hispanic American Indian and Alaska Native_change',\n",
       " 'Non Hispanic Asian_change',\n",
       " 'Non Hispanic Native Hawaiian and Other Pacific Islander_change',\n",
       " 'Non Hispanic Some other race_change',\n",
       " 'Non Hispanic Two or more races_change',\n",
       " 'Hispanic_change',\n",
       " 'perc_2019_sq',\n",
       " 'iqv_2019_sq',\n",
       " 'perc_2013_sq',\n",
       " 'iqv_2013_sq',\n",
       " 'geometry']"
      ]
     },
     "execution_count": 13,
     "metadata": {},
     "output_type": "execute_result"
    }
   ],
   "source": [
    "ethindex.columns.to_list()"
   ]
  },
  {
   "cell_type": "code",
   "execution_count": 14,
   "id": "6be3817b-72f4-4592-8fec-c33888e69863",
   "metadata": {},
   "outputs": [],
   "source": [
    "ethnover2=ethindex[['GEOID_left',\n",
    " 'NAME_left',\n",
    " 'Total_2019',\n",
    " 'Non Hispanic_2019',\n",
    " 'Non Hispanic White_2019',\n",
    " 'Non Hispanic Black_2019',\n",
    " 'Non Hispanic American Indian and Alaska Native_2019',\n",
    " 'Non Hispanic Asian_2019',\n",
    " 'Non Hispanic Native Hawaiian and Other Pacific Islander_2019',\n",
    " 'Non Hispanic Some other race_2019',\n",
    " 'Non Hispanic Two or more races_2019',\n",
    " 'Hispanic_2019',\n",
    " 'Percent Total_2019',\n",
    " 'Percent Non Hispanic_2019',\n",
    " 'Percent Non Hispanic White_2019',\n",
    " 'Percent Non Hispanic Black_2019',\n",
    " 'Percent Non Hispanic American Indian and Alaska Native_2019',\n",
    " 'Percent Non Hispanic Asian_2019',\n",
    " 'Percent Non Hispanic Native Hawaiian and Other Pacific Islander_2019',\n",
    " 'Percent Non Hispanic Some other race_2019',\n",
    " 'Percent Non Hispanic Two or more races_2019',\n",
    " 'Percent Hispanic_2019',\n",
    " 'Total_2013',\n",
    " 'Non Hispanic_2013',\n",
    " 'Non Hispanic White_2013',\n",
    " 'Non Hispanic Black_2013',\n",
    " 'Non Hispanic American Indian and Alaska Native_2013',\n",
    " 'Non Hispanic Asian_2013',\n",
    " 'Non Hispanic Native Hawaiian and Other Pacific Islander_2013',\n",
    " 'Non Hispanic Some other race_2013',\n",
    " 'Non Hispanic Two or more races_2013',\n",
    " 'Hispanic_2013',\n",
    " 'Percent Total_2013',\n",
    " 'Percent Non Hispanic_2013',\n",
    " 'Percent Non Hispanic White_2013',\n",
    " 'Percent Non Hispanic Black_2013',\n",
    " 'Percent Non Hispanic American Indian and Alaska Native_2013',\n",
    " 'Percent Non Hispanic Asian_2013',\n",
    " 'Percent Non Hispanic Native Hawaiian and Other Pacific Islander_2013',\n",
    " 'Percent Non Hispanic Some other race_2013',\n",
    " 'Percent Non Hispanic Two or more races_2013',\n",
    " 'Percent Hispanic_2013',\n",
    " 'Total_change',\n",
    " 'Non Hispanic_change',\n",
    " 'Non Hispanic White_change',\n",
    " 'Non Hispanic Black_change',\n",
    " 'Non Hispanic American Indian and Alaska Native_change',\n",
    " 'Non Hispanic Asian_change',\n",
    " 'Non Hispanic Native Hawaiian and Other Pacific Islander_change',\n",
    " 'Non Hispanic Some other race_change',\n",
    " 'Non Hispanic Two or more races_change',\n",
    " 'Hispanic_change',\n",
    " 'iqv_2019_sq',\n",
    " 'iqv_2013_sq',\n",
    " 'geometry']]"
   ]
  },
  {
   "cell_type": "code",
   "execution_count": 15,
   "id": "c912bbf6-7bb8-4879-aa6a-4d874b758338",
   "metadata": {},
   "outputs": [],
   "source": [
    "ethnover2.columns=['GEOID',\n",
    " 'NAME',\n",
    " 'Total_2019',\n",
    " 'Non Hispanic_2019',\n",
    " 'Non Hispanic White_2019',\n",
    " 'Non Hispanic Black_2019',\n",
    " 'Non Hispanic American Indian and Alaska Native_2019',\n",
    " 'Non Hispanic Asian_2019',\n",
    " 'Non Hispanic Native Hawaiian and Other Pacific Islander_2019',\n",
    " 'Non Hispanic Some other race_2019',\n",
    " 'Non Hispanic Two or more races_2019',\n",
    " 'Hispanic_2019',\n",
    " 'Percent Total_2019',\n",
    " 'Percent Non Hispanic_2019',\n",
    " 'Percent Non Hispanic White_2019',\n",
    " 'Percent Non Hispanic Black_2019',\n",
    " 'Percent Non Hispanic American Indian and Alaska Native_2019',\n",
    " 'Percent Non Hispanic Asian_2019',\n",
    " 'Percent Non Hispanic Native Hawaiian and Other Pacific Islander_2019',\n",
    " 'Percent Non Hispanic Some other race_2019',\n",
    " 'Percent Non Hispanic Two or more races_2019',\n",
    " 'Percent Hispanic_2019',\n",
    " 'Total_2013',\n",
    " 'Non Hispanic_2013',\n",
    " 'Non Hispanic White_2013',\n",
    " 'Non Hispanic Black_2013',\n",
    " 'Non Hispanic American Indian and Alaska Native_2013',\n",
    " 'Non Hispanic Asian_2013',\n",
    " 'Non Hispanic Native Hawaiian and Other Pacific Islander_2013',\n",
    " 'Non Hispanic Some other race_2013',\n",
    " 'Non Hispanic Two or more races_2013',\n",
    " 'Hispanic_2013',\n",
    " 'Percent Total_2013',\n",
    " 'Percent Non Hispanic_2013',\n",
    " 'Percent Non Hispanic White_2013',\n",
    " 'Percent Non Hispanic Black_2013',\n",
    " 'Percent Non Hispanic American Indian and Alaska Native_2013',\n",
    " 'Percent Non Hispanic Asian_2013',\n",
    " 'Percent Non Hispanic Native Hawaiian and Other Pacific Islander_2013',\n",
    " 'Percent Non Hispanic Some other race_2013',\n",
    " 'Percent Non Hispanic Two or more races_2013',\n",
    " 'Percent Hispanic_2013',\n",
    " 'Total_change',\n",
    " 'Non Hispanic_change',\n",
    " 'Non Hispanic White_change',\n",
    " 'Non Hispanic Black_change',\n",
    " 'Non Hispanic American Indian and Alaska Native_change',\n",
    " 'Non Hispanic Asian_change',\n",
    " 'Non Hispanic Native Hawaiian and Other Pacific Islander_change',\n",
    " 'Non Hispanic Some other race_change',\n",
    " 'Non Hispanic Two or more races_change',\n",
    " 'Hispanic_change',\n",
    " 'iqv_2019_sq',\n",
    " 'iqv_2013_sq',\n",
    " 'geometry']"
   ]
  },
  {
   "cell_type": "code",
   "execution_count": 16,
   "id": "7af6b30b-e895-45d8-8ba8-09c33047b338",
   "metadata": {},
   "outputs": [],
   "source": [
    "def indexvalues(lc, x, df1=stationarea, df2=ethnover2):\n",
    "    st=df1.loc[[lc]]\n",
    "    st_ol=gpd.sjoin(df2, st, how='inner')\n",
    "    return(st_ol)"
   ]
  },
  {
   "cell_type": "code",
   "execution_count": 19,
   "id": "ba714be2-f3c6-47fa-9fa7-635ab6adf44d",
   "metadata": {},
   "outputs": [],
   "source": [
    "ASHBY2=indexvalues(0,'ASHBY')\n",
    "MACARTHUR2=indexvalues(1,'MACARTHUR')\n",
    "HAYWARD2=indexvalues(2,'HAYWARD')\n",
    "SOUTH2=indexvalues(3,'SOUTH HAYWARD')\n",
    "FRUITVALE2=indexvalues(4,'FRUITVALE')\n",
    "BERKELEY2=indexvalues(5,'NORTH BERKELEY')\n",
    "OAKLAND2=indexvalues(6,'19TH STREET/OAKLAND')\n",
    "BAYFAIR2=indexvalues(7,'BAY FAIR')\n",
    "UNIONCITY2=indexvalues(8,'UNION CITY')\n",
    "LAKEMERRITT2=indexvalues(9,'LAKE MERRITT')"
   ]
  },
  {
   "cell_type": "code",
   "execution_count": null,
   "id": "70259b1e-762a-4ae1-8451-4ab8629d11bd",
   "metadata": {},
   "outputs": [],
   "source": [
    "df=df.[['GEOID',\n",
    " 'NAME',\n",
    " 'Total_2019',\n",
    " 'Non Hispanic_2019',\n",
    " 'Non Hispanic White_2019',\n",
    " 'Non Hispanic Black_2019',\n",
    " 'Non Hispanic American Indian and Alaska Native_2019',\n",
    " 'Non Hispanic Asian_2019',\n",
    " 'Non Hispanic Native Hawaiian and Other Pacific Islander_2019',\n",
    " 'Non Hispanic Some other race_2019',\n",
    " 'Non Hispanic Two or more races_2019',\n",
    " 'Hispanic_2019',\n",
    " 'Percent Total_2019',\n",
    " 'Percent Non Hispanic_2019',\n",
    " 'Percent Non Hispanic White_2019',\n",
    " 'Percent Non Hispanic Black_2019',\n",
    " 'Percent Non Hispanic American Indian and Alaska Native_2019',\n",
    " 'Percent Non Hispanic Asian_2019',\n",
    " 'Percent Non Hispanic Native Hawaiian and Other Pacific Islander_2019',\n",
    " 'Percent Non Hispanic Some other race_2019',\n",
    " 'Percent Non Hispanic Two or more races_2019',\n",
    " 'Percent Hispanic_2019',\n",
    " 'Total_2013',\n",
    " 'Non Hispanic_2013',\n",
    " 'Non Hispanic White_2013',\n",
    " 'Non Hispanic Black_2013',\n",
    " 'Non Hispanic American Indian and Alaska Native_2013',\n",
    " 'Non Hispanic Asian_2013',\n",
    " 'Non Hispanic Native Hawaiian and Other Pacific Islander_2013',\n",
    " 'Non Hispanic Some other race_2013',\n",
    " 'Non Hispanic Two or more races_2013',\n",
    " 'Hispanic_2013',\n",
    " 'Percent Total_2013',\n",
    " 'Percent Non Hispanic_2013',\n",
    " 'Percent Non Hispanic White_2013',\n",
    " 'Percent Non Hispanic Black_2013',\n",
    " 'Percent Non Hispanic American Indian and Alaska Native_2013',\n",
    " 'Percent Non Hispanic Asian_2013',\n",
    " 'Percent Non Hispanic Native Hawaiian and Other Pacific Islander_2013',\n",
    " 'Percent Non Hispanic Some other race_2013',\n",
    " 'Percent Non Hispanic Two or more races_2013',\n",
    " 'Percent Hispanic_2013',\n",
    " 'Total_change',\n",
    " 'Non Hispanic_change',\n",
    " 'Non Hispanic White_change',\n",
    " 'Non Hispanic Black_change',\n",
    " 'Non Hispanic American Indian and Alaska Native_change',\n",
    " 'Non Hispanic Asian_change',\n",
    " 'Non Hispanic Native Hawaiian and Other Pacific Islander_change',\n",
    " 'Non Hispanic Some other race_change',\n",
    " 'Non Hispanic Two or more races_change',\n",
    " 'Hispanic_change',\n",
    " 'iqv_2019_sq',\n",
    " 'iqv_2013_sq',\n",
    " 'geometry',\n",
    " 'index_right',\n",
    " 'Station',\n",
    " 'City',\n",
    " 'Code',\n",
    " 'TOD',\n",
    " 'County',\n",
    " 'Marker',\n",
    " 'buffer_polygon',\n",
    " 'Index 2019',\n",
    " 'Index 2013']]"
   ]
  },
  {
   "cell_type": "code",
   "execution_count": 23,
   "id": "5dcf2e2d-a8dd-4e44-a170-97f3dabb26fd",
   "metadata": {},
   "outputs": [],
   "source": [
    "def stationbufferdata(station, x):\n",
    "    averageblock=station.mean(axis=0, numeric_only=True)\n",
    "    averageblock=averageblock.to_frame().rename(columns={0:x})\n",
    "    return(averageblock)"
   ]
  },
  {
   "cell_type": "code",
   "execution_count": 24,
   "id": "00930b8b-e750-4727-9726-7f30e89bc2d7",
   "metadata": {},
   "outputs": [],
   "source": [
    "\n",
    "ASHBY3=stationbufferdata(ASHBY2,'ASHBY')\n",
    "MACARTHUR3=stationbufferdata(MACARTHUR2,'MACARTHUR')\n",
    "HAYWARD3=stationbufferdata(HAYWARD2,'HAYWARD')\n",
    "SOUTH3=stationbufferdata(SOUTH2,'SOUTH HAYWARD')\n",
    "FRUITVALE3=stationbufferdata(FRUITVALE2,'FRUITVALE')\n",
    "BERKELEY3=stationbufferdata(BERKELEY2,'NORTH BERKELEY')\n",
    "OAKLAND3=stationbufferdata(OAKLAND2,'19TH STREET/OAKLAND')\n",
    "BAYFAIR3=stationbufferdata(BAYFAIR2,'BAY FAIR')\n",
    "UNIONCITY3=stationbufferdata(UNIONCITY2,'UNION CITY')\n",
    "LAKEMERRITT3=stationbufferdata(LAKEMERRITT2,'LAKE MERRITT')\n",
    "\n"
   ]
  },
  {
   "cell_type": "code",
   "execution_count": 29,
   "id": "2f5f61a9-6cfb-4227-9639-38752c9d0475",
   "metadata": {},
   "outputs": [],
   "source": [
    "def datatranspose(df):\n",
    "    df1=df.transpose()\n",
    "    df1=df1.reset_index()\n",
    "    return(df1)"
   ]
  },
  {
   "cell_type": "code",
   "execution_count": 30,
   "id": "a3ce9df0-280c-45cf-8869-89454a13b47c",
   "metadata": {},
   "outputs": [],
   "source": [
    "ASHBY4=datatranspose(ASHBY3)\n",
    "MACARTHUR4=datatranspose(MACARTHUR3)\n",
    "HAYWARD4=datatranspose(HAYWARD3)\n",
    "SOUTH4=datatranspose(SOUTH3)\n",
    "FRUITVALE4=datatranspose(FRUITVALE3)\n",
    "BERKELEY4=datatranspose(BERKELEY3)\n",
    "OAKLAND4=datatranspose(OAKLAND3)\n",
    "BAYFAIR4=datatranspose(BAYFAIR3)\n",
    "UNIONCITY4=datatranspose(UNIONCITY3)\n",
    "LAKEMERRITT4=datatranspose(LAKEMERRITT3)"
   ]
  },
  {
   "cell_type": "code",
   "execution_count": 31,
   "id": "310a1c52-bc10-448c-8370-5ab7989951f1",
   "metadata": {},
   "outputs": [],
   "source": [
    "stationbuffer=ASHBY4\n",
    "stationbuffer=stationbuffer.append(MACARTHUR4, ignore_index = True)\n",
    "stationbuffer=stationbuffer.append(HAYWARD4, ignore_index = True)\n",
    "stationbuffer=stationbuffer.append(SOUTH4, ignore_index = True)\n",
    "stationbuffer=stationbuffer.append(FRUITVALE4, ignore_index = True)\n",
    "stationbuffer=stationbuffer.append(BERKELEY4, ignore_index = True)\n",
    "stationbuffer=stationbuffer.append(OAKLAND4, ignore_index = True)\n",
    "stationbuffer=stationbuffer.append(BAYFAIR4, ignore_index = True)\n",
    "stationbuffer=stationbuffer.append(UNIONCITY4, ignore_index = True)\n",
    "stationbuffer=stationbuffer.append(LAKEMERRITT4, ignore_index = True)"
   ]
  },
  {
   "cell_type": "code",
   "execution_count": 34,
   "id": "26112742-9846-49e1-8053-dd1883242ef6",
   "metadata": {},
   "outputs": [
    {
     "data": {
      "text/html": [
       "<div>\n",
       "<style scoped>\n",
       "    .dataframe tbody tr th:only-of-type {\n",
       "        vertical-align: middle;\n",
       "    }\n",
       "\n",
       "    .dataframe tbody tr th {\n",
       "        vertical-align: top;\n",
       "    }\n",
       "\n",
       "    .dataframe thead th {\n",
       "        text-align: right;\n",
       "    }\n",
       "</style>\n",
       "<table border=\"1\" class=\"dataframe\">\n",
       "  <thead>\n",
       "    <tr style=\"text-align: right;\">\n",
       "      <th></th>\n",
       "      <th>index</th>\n",
       "      <th>Total_2019</th>\n",
       "      <th>Non Hispanic_2019</th>\n",
       "      <th>Non Hispanic White_2019</th>\n",
       "      <th>Non Hispanic Black_2019</th>\n",
       "      <th>Non Hispanic American Indian and Alaska Native_2019</th>\n",
       "      <th>Non Hispanic Asian_2019</th>\n",
       "      <th>Non Hispanic Native Hawaiian and Other Pacific Islander_2019</th>\n",
       "      <th>Non Hispanic Some other race_2019</th>\n",
       "      <th>Non Hispanic Two or more races_2019</th>\n",
       "      <th>...</th>\n",
       "      <th>Non Hispanic Asian_change</th>\n",
       "      <th>Non Hispanic Native Hawaiian and Other Pacific Islander_change</th>\n",
       "      <th>Non Hispanic Some other race_change</th>\n",
       "      <th>Non Hispanic Two or more races_change</th>\n",
       "      <th>Hispanic_change</th>\n",
       "      <th>iqv_2019_sq</th>\n",
       "      <th>iqv_2013_sq</th>\n",
       "      <th>index_right</th>\n",
       "      <th>Index 2019</th>\n",
       "      <th>Index 2013</th>\n",
       "    </tr>\n",
       "  </thead>\n",
       "  <tbody>\n",
       "    <tr>\n",
       "      <th>0</th>\n",
       "      <td>ASHBY</td>\n",
       "      <td>1218.967742</td>\n",
       "      <td>1021.129032</td>\n",
       "      <td>467.935484</td>\n",
       "      <td>312.177419</td>\n",
       "      <td>4.145161</td>\n",
       "      <td>155.161290</td>\n",
       "      <td>0.000000</td>\n",
       "      <td>6.258065</td>\n",
       "      <td>75.451613</td>\n",
       "      <td>...</td>\n",
       "      <td>203.745500</td>\n",
       "      <td>-100.000000</td>\n",
       "      <td>-6.153846</td>\n",
       "      <td>508.718676</td>\n",
       "      <td>54.352075</td>\n",
       "      <td>0.807620</td>\n",
       "      <td>0.779275</td>\n",
       "      <td>0.0</td>\n",
       "      <td>0.807620</td>\n",
       "      <td>0.779275</td>\n",
       "    </tr>\n",
       "    <tr>\n",
       "      <th>1</th>\n",
       "      <td>MACARTHUR</td>\n",
       "      <td>1330.935484</td>\n",
       "      <td>1127.741935</td>\n",
       "      <td>386.000000</td>\n",
       "      <td>495.709677</td>\n",
       "      <td>5.419355</td>\n",
       "      <td>119.935484</td>\n",
       "      <td>8.322581</td>\n",
       "      <td>9.677419</td>\n",
       "      <td>102.677419</td>\n",
       "      <td>...</td>\n",
       "      <td>591.252973</td>\n",
       "      <td>-56.944444</td>\n",
       "      <td>66.666667</td>\n",
       "      <td>645.140299</td>\n",
       "      <td>188.744454</td>\n",
       "      <td>0.798501</td>\n",
       "      <td>0.764635</td>\n",
       "      <td>1.0</td>\n",
       "      <td>0.798501</td>\n",
       "      <td>0.764635</td>\n",
       "    </tr>\n",
       "    <tr>\n",
       "      <th>2</th>\n",
       "      <td>HAYWARD</td>\n",
       "      <td>2545.000000</td>\n",
       "      <td>1773.000000</td>\n",
       "      <td>381.000000</td>\n",
       "      <td>211.000000</td>\n",
       "      <td>0.000000</td>\n",
       "      <td>1067.000000</td>\n",
       "      <td>10.000000</td>\n",
       "      <td>0.000000</td>\n",
       "      <td>104.000000</td>\n",
       "      <td>...</td>\n",
       "      <td>426.494367</td>\n",
       "      <td>-87.073357</td>\n",
       "      <td>NaN</td>\n",
       "      <td>166.174197</td>\n",
       "      <td>-12.763094</td>\n",
       "      <td>0.801418</td>\n",
       "      <td>0.673415</td>\n",
       "      <td>2.0</td>\n",
       "      <td>0.801418</td>\n",
       "      <td>0.673415</td>\n",
       "    </tr>\n",
       "    <tr>\n",
       "      <th>3</th>\n",
       "      <td>SOUTH HAYWARD</td>\n",
       "      <td>2119.388889</td>\n",
       "      <td>1455.111111</td>\n",
       "      <td>234.111111</td>\n",
       "      <td>156.277778</td>\n",
       "      <td>7.333333</td>\n",
       "      <td>896.333333</td>\n",
       "      <td>71.888889</td>\n",
       "      <td>0.000000</td>\n",
       "      <td>89.166667</td>\n",
       "      <td>...</td>\n",
       "      <td>135.108458</td>\n",
       "      <td>141.656367</td>\n",
       "      <td>-100.000000</td>\n",
       "      <td>123.292584</td>\n",
       "      <td>84.733863</td>\n",
       "      <td>0.753841</td>\n",
       "      <td>0.720262</td>\n",
       "      <td>3.0</td>\n",
       "      <td>0.753841</td>\n",
       "      <td>0.720262</td>\n",
       "    </tr>\n",
       "    <tr>\n",
       "      <th>4</th>\n",
       "      <td>FRUITVALE</td>\n",
       "      <td>1471.136364</td>\n",
       "      <td>1218.954545</td>\n",
       "      <td>921.000000</td>\n",
       "      <td>23.772727</td>\n",
       "      <td>8.000000</td>\n",
       "      <td>220.272727</td>\n",
       "      <td>3.272727</td>\n",
       "      <td>10.772727</td>\n",
       "      <td>31.863636</td>\n",
       "      <td>...</td>\n",
       "      <td>377.652111</td>\n",
       "      <td>-45.476190</td>\n",
       "      <td>-4.389981</td>\n",
       "      <td>18.270109</td>\n",
       "      <td>348.509527</td>\n",
       "      <td>0.611173</td>\n",
       "      <td>0.633157</td>\n",
       "      <td>4.0</td>\n",
       "      <td>0.611173</td>\n",
       "      <td>0.633157</td>\n",
       "    </tr>\n",
       "    <tr>\n",
       "      <th>5</th>\n",
       "      <td>NORTH BERKELEY</td>\n",
       "      <td>1413.913043</td>\n",
       "      <td>1118.000000</td>\n",
       "      <td>586.478261</td>\n",
       "      <td>264.739130</td>\n",
       "      <td>0.000000</td>\n",
       "      <td>168.173913</td>\n",
       "      <td>46.260870</td>\n",
       "      <td>0.000000</td>\n",
       "      <td>52.347826</td>\n",
       "      <td>...</td>\n",
       "      <td>31.128317</td>\n",
       "      <td>83.234127</td>\n",
       "      <td>-100.000000</td>\n",
       "      <td>205.836231</td>\n",
       "      <td>430.485243</td>\n",
       "      <td>0.804234</td>\n",
       "      <td>0.705502</td>\n",
       "      <td>5.0</td>\n",
       "      <td>0.804234</td>\n",
       "      <td>0.705502</td>\n",
       "    </tr>\n",
       "    <tr>\n",
       "      <th>6</th>\n",
       "      <td>19TH STREET/OAKLAND</td>\n",
       "      <td>1120.925000</td>\n",
       "      <td>990.900000</td>\n",
       "      <td>256.225000</td>\n",
       "      <td>180.800000</td>\n",
       "      <td>5.050000</td>\n",
       "      <td>500.975000</td>\n",
       "      <td>9.800000</td>\n",
       "      <td>4.550000</td>\n",
       "      <td>33.500000</td>\n",
       "      <td>...</td>\n",
       "      <td>281.442358</td>\n",
       "      <td>-15.619202</td>\n",
       "      <td>-47.222222</td>\n",
       "      <td>69.985892</td>\n",
       "      <td>343.491149</td>\n",
       "      <td>0.757193</td>\n",
       "      <td>0.657919</td>\n",
       "      <td>6.0</td>\n",
       "      <td>0.757193</td>\n",
       "      <td>0.657919</td>\n",
       "    </tr>\n",
       "    <tr>\n",
       "      <th>7</th>\n",
       "      <td>BAY FAIR</td>\n",
       "      <td>1220.538462</td>\n",
       "      <td>503.000000</td>\n",
       "      <td>67.076923</td>\n",
       "      <td>183.923077</td>\n",
       "      <td>4.307692</td>\n",
       "      <td>212.000000</td>\n",
       "      <td>0.000000</td>\n",
       "      <td>0.000000</td>\n",
       "      <td>35.692308</td>\n",
       "      <td>...</td>\n",
       "      <td>-47.115901</td>\n",
       "      <td>-100.000000</td>\n",
       "      <td>NaN</td>\n",
       "      <td>-20.648036</td>\n",
       "      <td>119.834956</td>\n",
       "      <td>0.596338</td>\n",
       "      <td>0.806828</td>\n",
       "      <td>7.0</td>\n",
       "      <td>0.596338</td>\n",
       "      <td>0.806828</td>\n",
       "    </tr>\n",
       "    <tr>\n",
       "      <th>8</th>\n",
       "      <td>UNION CITY</td>\n",
       "      <td>2266.925926</td>\n",
       "      <td>1994.703704</td>\n",
       "      <td>326.481481</td>\n",
       "      <td>99.370370</td>\n",
       "      <td>4.444444</td>\n",
       "      <td>1277.666667</td>\n",
       "      <td>19.666667</td>\n",
       "      <td>5.333333</td>\n",
       "      <td>261.740741</td>\n",
       "      <td>...</td>\n",
       "      <td>96.398873</td>\n",
       "      <td>-31.982018</td>\n",
       "      <td>-80.104066</td>\n",
       "      <td>801.365365</td>\n",
       "      <td>-8.630578</td>\n",
       "      <td>0.708905</td>\n",
       "      <td>0.699273</td>\n",
       "      <td>8.0</td>\n",
       "      <td>0.708905</td>\n",
       "      <td>0.699273</td>\n",
       "    </tr>\n",
       "    <tr>\n",
       "      <th>9</th>\n",
       "      <td>LAKE MERRITT</td>\n",
       "      <td>1797.840000</td>\n",
       "      <td>1647.540000</td>\n",
       "      <td>500.580000</td>\n",
       "      <td>142.680000</td>\n",
       "      <td>13.040000</td>\n",
       "      <td>869.380000</td>\n",
       "      <td>6.280000</td>\n",
       "      <td>2.600000</td>\n",
       "      <td>112.980000</td>\n",
       "      <td>...</td>\n",
       "      <td>950.472571</td>\n",
       "      <td>-4.845959</td>\n",
       "      <td>-4.166667</td>\n",
       "      <td>260.282341</td>\n",
       "      <td>316.586759</td>\n",
       "      <td>0.695569</td>\n",
       "      <td>0.680033</td>\n",
       "      <td>9.0</td>\n",
       "      <td>0.695569</td>\n",
       "      <td>0.680033</td>\n",
       "    </tr>\n",
       "  </tbody>\n",
       "</table>\n",
       "<p>10 rows × 56 columns</p>\n",
       "</div>"
      ],
      "text/plain": [
       "                 index   Total_2019  Non Hispanic_2019  \\\n",
       "0                ASHBY  1218.967742        1021.129032   \n",
       "1            MACARTHUR  1330.935484        1127.741935   \n",
       "2              HAYWARD  2545.000000        1773.000000   \n",
       "3        SOUTH HAYWARD  2119.388889        1455.111111   \n",
       "4            FRUITVALE  1471.136364        1218.954545   \n",
       "5       NORTH BERKELEY  1413.913043        1118.000000   \n",
       "6  19TH STREET/OAKLAND  1120.925000         990.900000   \n",
       "7             BAY FAIR  1220.538462         503.000000   \n",
       "8           UNION CITY  2266.925926        1994.703704   \n",
       "9         LAKE MERRITT  1797.840000        1647.540000   \n",
       "\n",
       "   Non Hispanic White_2019  Non Hispanic Black_2019  \\\n",
       "0               467.935484               312.177419   \n",
       "1               386.000000               495.709677   \n",
       "2               381.000000               211.000000   \n",
       "3               234.111111               156.277778   \n",
       "4               921.000000                23.772727   \n",
       "5               586.478261               264.739130   \n",
       "6               256.225000               180.800000   \n",
       "7                67.076923               183.923077   \n",
       "8               326.481481                99.370370   \n",
       "9               500.580000               142.680000   \n",
       "\n",
       "   Non Hispanic American Indian and Alaska Native_2019  \\\n",
       "0                                           4.145161     \n",
       "1                                           5.419355     \n",
       "2                                           0.000000     \n",
       "3                                           7.333333     \n",
       "4                                           8.000000     \n",
       "5                                           0.000000     \n",
       "6                                           5.050000     \n",
       "7                                           4.307692     \n",
       "8                                           4.444444     \n",
       "9                                          13.040000     \n",
       "\n",
       "   Non Hispanic Asian_2019  \\\n",
       "0               155.161290   \n",
       "1               119.935484   \n",
       "2              1067.000000   \n",
       "3               896.333333   \n",
       "4               220.272727   \n",
       "5               168.173913   \n",
       "6               500.975000   \n",
       "7               212.000000   \n",
       "8              1277.666667   \n",
       "9               869.380000   \n",
       "\n",
       "   Non Hispanic Native Hawaiian and Other Pacific Islander_2019  \\\n",
       "0                                           0.000000              \n",
       "1                                           8.322581              \n",
       "2                                          10.000000              \n",
       "3                                          71.888889              \n",
       "4                                           3.272727              \n",
       "5                                          46.260870              \n",
       "6                                           9.800000              \n",
       "7                                           0.000000              \n",
       "8                                          19.666667              \n",
       "9                                           6.280000              \n",
       "\n",
       "   Non Hispanic Some other race_2019  Non Hispanic Two or more races_2019  \\\n",
       "0                           6.258065                            75.451613   \n",
       "1                           9.677419                           102.677419   \n",
       "2                           0.000000                           104.000000   \n",
       "3                           0.000000                            89.166667   \n",
       "4                          10.772727                            31.863636   \n",
       "5                           0.000000                            52.347826   \n",
       "6                           4.550000                            33.500000   \n",
       "7                           0.000000                            35.692308   \n",
       "8                           5.333333                           261.740741   \n",
       "9                           2.600000                           112.980000   \n",
       "\n",
       "   ...  Non Hispanic Asian_change  \\\n",
       "0  ...                 203.745500   \n",
       "1  ...                 591.252973   \n",
       "2  ...                 426.494367   \n",
       "3  ...                 135.108458   \n",
       "4  ...                 377.652111   \n",
       "5  ...                  31.128317   \n",
       "6  ...                 281.442358   \n",
       "7  ...                 -47.115901   \n",
       "8  ...                  96.398873   \n",
       "9  ...                 950.472571   \n",
       "\n",
       "   Non Hispanic Native Hawaiian and Other Pacific Islander_change  \\\n",
       "0                                        -100.000000                \n",
       "1                                         -56.944444                \n",
       "2                                         -87.073357                \n",
       "3                                         141.656367                \n",
       "4                                         -45.476190                \n",
       "5                                          83.234127                \n",
       "6                                         -15.619202                \n",
       "7                                        -100.000000                \n",
       "8                                         -31.982018                \n",
       "9                                          -4.845959                \n",
       "\n",
       "   Non Hispanic Some other race_change  Non Hispanic Two or more races_change  \\\n",
       "0                            -6.153846                             508.718676   \n",
       "1                            66.666667                             645.140299   \n",
       "2                                  NaN                             166.174197   \n",
       "3                          -100.000000                             123.292584   \n",
       "4                            -4.389981                              18.270109   \n",
       "5                          -100.000000                             205.836231   \n",
       "6                           -47.222222                              69.985892   \n",
       "7                                  NaN                             -20.648036   \n",
       "8                           -80.104066                             801.365365   \n",
       "9                            -4.166667                             260.282341   \n",
       "\n",
       "   Hispanic_change  iqv_2019_sq  iqv_2013_sq  index_right  Index 2019  \\\n",
       "0        54.352075     0.807620     0.779275          0.0    0.807620   \n",
       "1       188.744454     0.798501     0.764635          1.0    0.798501   \n",
       "2       -12.763094     0.801418     0.673415          2.0    0.801418   \n",
       "3        84.733863     0.753841     0.720262          3.0    0.753841   \n",
       "4       348.509527     0.611173     0.633157          4.0    0.611173   \n",
       "5       430.485243     0.804234     0.705502          5.0    0.804234   \n",
       "6       343.491149     0.757193     0.657919          6.0    0.757193   \n",
       "7       119.834956     0.596338     0.806828          7.0    0.596338   \n",
       "8        -8.630578     0.708905     0.699273          8.0    0.708905   \n",
       "9       316.586759     0.695569     0.680033          9.0    0.695569   \n",
       "\n",
       "   Index 2013  \n",
       "0    0.779275  \n",
       "1    0.764635  \n",
       "2    0.673415  \n",
       "3    0.720262  \n",
       "4    0.633157  \n",
       "5    0.705502  \n",
       "6    0.657919  \n",
       "7    0.806828  \n",
       "8    0.699273  \n",
       "9    0.680033  \n",
       "\n",
       "[10 rows x 56 columns]"
      ]
     },
     "execution_count": 34,
     "metadata": {},
     "output_type": "execute_result"
    }
   ],
   "source": [
    "stationbuffer"
   ]
  },
  {
   "cell_type": "code",
   "execution_count": 35,
   "id": "bd2a8861-6444-414f-9787-d6cb26254369",
   "metadata": {},
   "outputs": [],
   "source": [
    "stationbuffer.to_csv(r'stationbuffer.csv')"
   ]
  },
  {
   "cell_type": "code",
   "execution_count": 36,
   "id": "14bf51e0-80ca-4750-ba1d-66f6afbf6692",
   "metadata": {},
   "outputs": [],
   "source": [
    "stationbuffer2=gpd.read_file('stationbuffer_v2.csv')"
   ]
  },
  {
   "cell_type": "code",
   "execution_count": 37,
   "id": "1e7a90c7-243f-4b46-8610-a9a557e1dd3d",
   "metadata": {},
   "outputs": [
    {
     "data": {
      "text/html": [
       "<div>\n",
       "<style scoped>\n",
       "    .dataframe tbody tr th:only-of-type {\n",
       "        vertical-align: middle;\n",
       "    }\n",
       "\n",
       "    .dataframe tbody tr th {\n",
       "        vertical-align: top;\n",
       "    }\n",
       "\n",
       "    .dataframe thead th {\n",
       "        text-align: right;\n",
       "    }\n",
       "</style>\n",
       "<table border=\"1\" class=\"dataframe\">\n",
       "  <thead>\n",
       "    <tr style=\"text-align: right;\">\n",
       "      <th></th>\n",
       "      <th>field_1</th>\n",
       "      <th>index</th>\n",
       "      <th>Year</th>\n",
       "      <th>Total</th>\n",
       "      <th>Non Hispanic</th>\n",
       "      <th>Non Hispanic White</th>\n",
       "      <th>Non Hispanic Black</th>\n",
       "      <th>Non Hispanic American Indian and Alaska Native</th>\n",
       "      <th>Non Hispanic Asian</th>\n",
       "      <th>Non Hispanic Native Hawaiian and Other Pacific Islander</th>\n",
       "      <th>...</th>\n",
       "      <th>field_49</th>\n",
       "      <th>field_50</th>\n",
       "      <th>field_51</th>\n",
       "      <th>field_52</th>\n",
       "      <th>field_53</th>\n",
       "      <th>field_54</th>\n",
       "      <th>field_55</th>\n",
       "      <th>field_56</th>\n",
       "      <th>field_57</th>\n",
       "      <th>geometry</th>\n",
       "    </tr>\n",
       "  </thead>\n",
       "  <tbody>\n",
       "    <tr>\n",
       "      <th>0</th>\n",
       "      <td>0</td>\n",
       "      <td>ASHBY</td>\n",
       "      <td>2019</td>\n",
       "      <td>1218.967742</td>\n",
       "      <td>1021.129032</td>\n",
       "      <td>467.9354839</td>\n",
       "      <td>312.1774194</td>\n",
       "      <td>4.14516129</td>\n",
       "      <td>155.1612903</td>\n",
       "      <td>0</td>\n",
       "      <td>...</td>\n",
       "      <td></td>\n",
       "      <td></td>\n",
       "      <td></td>\n",
       "      <td></td>\n",
       "      <td></td>\n",
       "      <td></td>\n",
       "      <td></td>\n",
       "      <td></td>\n",
       "      <td></td>\n",
       "      <td>None</td>\n",
       "    </tr>\n",
       "    <tr>\n",
       "      <th>1</th>\n",
       "      <td>1</td>\n",
       "      <td>MACARTHUR</td>\n",
       "      <td>2019</td>\n",
       "      <td>1330.935484</td>\n",
       "      <td>1127.741935</td>\n",
       "      <td>386</td>\n",
       "      <td>495.7096774</td>\n",
       "      <td>5.419354839</td>\n",
       "      <td>119.9354839</td>\n",
       "      <td>8.322580645</td>\n",
       "      <td>...</td>\n",
       "      <td></td>\n",
       "      <td></td>\n",
       "      <td></td>\n",
       "      <td></td>\n",
       "      <td></td>\n",
       "      <td></td>\n",
       "      <td></td>\n",
       "      <td></td>\n",
       "      <td></td>\n",
       "      <td>None</td>\n",
       "    </tr>\n",
       "    <tr>\n",
       "      <th>2</th>\n",
       "      <td>2</td>\n",
       "      <td>HAYWARD</td>\n",
       "      <td>2019</td>\n",
       "      <td>2545</td>\n",
       "      <td>1773</td>\n",
       "      <td>381</td>\n",
       "      <td>211</td>\n",
       "      <td>0</td>\n",
       "      <td>1067</td>\n",
       "      <td>10</td>\n",
       "      <td>...</td>\n",
       "      <td></td>\n",
       "      <td></td>\n",
       "      <td></td>\n",
       "      <td></td>\n",
       "      <td></td>\n",
       "      <td></td>\n",
       "      <td></td>\n",
       "      <td></td>\n",
       "      <td></td>\n",
       "      <td>None</td>\n",
       "    </tr>\n",
       "    <tr>\n",
       "      <th>3</th>\n",
       "      <td>3</td>\n",
       "      <td>SOUTH HAYWARD</td>\n",
       "      <td>2019</td>\n",
       "      <td>2119.388889</td>\n",
       "      <td>1455.111111</td>\n",
       "      <td>234.1111111</td>\n",
       "      <td>156.2777778</td>\n",
       "      <td>7.333333333</td>\n",
       "      <td>896.3333333</td>\n",
       "      <td>71.88888889</td>\n",
       "      <td>...</td>\n",
       "      <td></td>\n",
       "      <td></td>\n",
       "      <td></td>\n",
       "      <td></td>\n",
       "      <td></td>\n",
       "      <td></td>\n",
       "      <td></td>\n",
       "      <td></td>\n",
       "      <td></td>\n",
       "      <td>None</td>\n",
       "    </tr>\n",
       "    <tr>\n",
       "      <th>4</th>\n",
       "      <td>4</td>\n",
       "      <td>FRUITVALE</td>\n",
       "      <td>2019</td>\n",
       "      <td>1471.136364</td>\n",
       "      <td>1218.954545</td>\n",
       "      <td>921</td>\n",
       "      <td>23.77272727</td>\n",
       "      <td>8</td>\n",
       "      <td>220.2727273</td>\n",
       "      <td>3.272727273</td>\n",
       "      <td>...</td>\n",
       "      <td></td>\n",
       "      <td></td>\n",
       "      <td></td>\n",
       "      <td></td>\n",
       "      <td></td>\n",
       "      <td></td>\n",
       "      <td></td>\n",
       "      <td></td>\n",
       "      <td></td>\n",
       "      <td>None</td>\n",
       "    </tr>\n",
       "    <tr>\n",
       "      <th>5</th>\n",
       "      <td>5</td>\n",
       "      <td>NORTH BERKELEY</td>\n",
       "      <td>2019</td>\n",
       "      <td>1413.913043</td>\n",
       "      <td>1118</td>\n",
       "      <td>586.4782609</td>\n",
       "      <td>264.7391304</td>\n",
       "      <td>0</td>\n",
       "      <td>168.173913</td>\n",
       "      <td>46.26086957</td>\n",
       "      <td>...</td>\n",
       "      <td></td>\n",
       "      <td></td>\n",
       "      <td></td>\n",
       "      <td></td>\n",
       "      <td></td>\n",
       "      <td></td>\n",
       "      <td></td>\n",
       "      <td></td>\n",
       "      <td></td>\n",
       "      <td>None</td>\n",
       "    </tr>\n",
       "    <tr>\n",
       "      <th>6</th>\n",
       "      <td>6</td>\n",
       "      <td>19TH STREET/OAKLAND</td>\n",
       "      <td>2019</td>\n",
       "      <td>1120.925</td>\n",
       "      <td>990.9</td>\n",
       "      <td>256.225</td>\n",
       "      <td>180.8</td>\n",
       "      <td>5.05</td>\n",
       "      <td>500.975</td>\n",
       "      <td>9.8</td>\n",
       "      <td>...</td>\n",
       "      <td></td>\n",
       "      <td></td>\n",
       "      <td></td>\n",
       "      <td></td>\n",
       "      <td></td>\n",
       "      <td></td>\n",
       "      <td></td>\n",
       "      <td></td>\n",
       "      <td></td>\n",
       "      <td>None</td>\n",
       "    </tr>\n",
       "    <tr>\n",
       "      <th>7</th>\n",
       "      <td>7</td>\n",
       "      <td>BAY FAIR</td>\n",
       "      <td>2019</td>\n",
       "      <td>1220.538462</td>\n",
       "      <td>503</td>\n",
       "      <td>67.07692308</td>\n",
       "      <td>183.9230769</td>\n",
       "      <td>4.307692308</td>\n",
       "      <td>212</td>\n",
       "      <td>0</td>\n",
       "      <td>...</td>\n",
       "      <td></td>\n",
       "      <td></td>\n",
       "      <td></td>\n",
       "      <td></td>\n",
       "      <td></td>\n",
       "      <td></td>\n",
       "      <td></td>\n",
       "      <td></td>\n",
       "      <td></td>\n",
       "      <td>None</td>\n",
       "    </tr>\n",
       "    <tr>\n",
       "      <th>8</th>\n",
       "      <td>8</td>\n",
       "      <td>UNION CITY</td>\n",
       "      <td>2019</td>\n",
       "      <td>2266.925926</td>\n",
       "      <td>1994.703704</td>\n",
       "      <td>326.4814815</td>\n",
       "      <td>99.37037037</td>\n",
       "      <td>4.444444444</td>\n",
       "      <td>1277.666667</td>\n",
       "      <td>19.66666667</td>\n",
       "      <td>...</td>\n",
       "      <td></td>\n",
       "      <td></td>\n",
       "      <td></td>\n",
       "      <td></td>\n",
       "      <td></td>\n",
       "      <td></td>\n",
       "      <td></td>\n",
       "      <td></td>\n",
       "      <td></td>\n",
       "      <td>None</td>\n",
       "    </tr>\n",
       "    <tr>\n",
       "      <th>9</th>\n",
       "      <td>9</td>\n",
       "      <td>LAKE MERRITT</td>\n",
       "      <td>2019</td>\n",
       "      <td>1797.84</td>\n",
       "      <td>1647.54</td>\n",
       "      <td>500.58</td>\n",
       "      <td>142.68</td>\n",
       "      <td>13.04</td>\n",
       "      <td>869.38</td>\n",
       "      <td>6.28</td>\n",
       "      <td>...</td>\n",
       "      <td></td>\n",
       "      <td></td>\n",
       "      <td></td>\n",
       "      <td></td>\n",
       "      <td></td>\n",
       "      <td></td>\n",
       "      <td></td>\n",
       "      <td></td>\n",
       "      <td></td>\n",
       "      <td>None</td>\n",
       "    </tr>\n",
       "    <tr>\n",
       "      <th>10</th>\n",
       "      <td>10</td>\n",
       "      <td>ASHBY</td>\n",
       "      <td>2013</td>\n",
       "      <td>1052.5</td>\n",
       "      <td>876.2096774</td>\n",
       "      <td>361.5806452</td>\n",
       "      <td>369.6451613</td>\n",
       "      <td>2.629032258</td>\n",
       "      <td>95.59677419</td>\n",
       "      <td>1.612903226</td>\n",
       "      <td>...</td>\n",
       "      <td></td>\n",
       "      <td></td>\n",
       "      <td></td>\n",
       "      <td></td>\n",
       "      <td></td>\n",
       "      <td></td>\n",
       "      <td></td>\n",
       "      <td></td>\n",
       "      <td></td>\n",
       "      <td>None</td>\n",
       "    </tr>\n",
       "    <tr>\n",
       "      <th>11</th>\n",
       "      <td>11</td>\n",
       "      <td>MACARTHUR</td>\n",
       "      <td>2013</td>\n",
       "      <td>1084.645161</td>\n",
       "      <td>883.5806452</td>\n",
       "      <td>235.0967742</td>\n",
       "      <td>464.2258065</td>\n",
       "      <td>0.870967742</td>\n",
       "      <td>146.2258065</td>\n",
       "      <td>5.161290323</td>\n",
       "      <td>...</td>\n",
       "      <td></td>\n",
       "      <td></td>\n",
       "      <td></td>\n",
       "      <td></td>\n",
       "      <td></td>\n",
       "      <td></td>\n",
       "      <td></td>\n",
       "      <td></td>\n",
       "      <td></td>\n",
       "      <td>None</td>\n",
       "    </tr>\n",
       "    <tr>\n",
       "      <th>12</th>\n",
       "      <td>12</td>\n",
       "      <td>HAYWARD</td>\n",
       "      <td>2013</td>\n",
       "      <td>2107.571429</td>\n",
       "      <td>866.4285714</td>\n",
       "      <td>272.1428571</td>\n",
       "      <td>176.5714286</td>\n",
       "      <td>2.857142857</td>\n",
       "      <td>284</td>\n",
       "      <td>29</td>\n",
       "      <td>...</td>\n",
       "      <td></td>\n",
       "      <td></td>\n",
       "      <td></td>\n",
       "      <td></td>\n",
       "      <td></td>\n",
       "      <td></td>\n",
       "      <td></td>\n",
       "      <td></td>\n",
       "      <td></td>\n",
       "      <td>None</td>\n",
       "    </tr>\n",
       "    <tr>\n",
       "      <th>13</th>\n",
       "      <td>13</td>\n",
       "      <td>SOUTH HAYWARD</td>\n",
       "      <td>2013</td>\n",
       "      <td>1926.666667</td>\n",
       "      <td>1236.166667</td>\n",
       "      <td>296.3888889</td>\n",
       "      <td>118.2222222</td>\n",
       "      <td>3.277777778</td>\n",
       "      <td>682.1666667</td>\n",
       "      <td>66.27777778</td>\n",
       "      <td>...</td>\n",
       "      <td></td>\n",
       "      <td></td>\n",
       "      <td></td>\n",
       "      <td></td>\n",
       "      <td></td>\n",
       "      <td></td>\n",
       "      <td></td>\n",
       "      <td></td>\n",
       "      <td></td>\n",
       "      <td>None</td>\n",
       "    </tr>\n",
       "    <tr>\n",
       "      <th>14</th>\n",
       "      <td>14</td>\n",
       "      <td>FRUITVALE</td>\n",
       "      <td>2013</td>\n",
       "      <td>1149.363636</td>\n",
       "      <td>908.4090909</td>\n",
       "      <td>567.0454545</td>\n",
       "      <td>56.86363636</td>\n",
       "      <td>4.772727273</td>\n",
       "      <td>224.4545455</td>\n",
       "      <td>2.136363636</td>\n",
       "      <td>...</td>\n",
       "      <td></td>\n",
       "      <td></td>\n",
       "      <td></td>\n",
       "      <td></td>\n",
       "      <td></td>\n",
       "      <td></td>\n",
       "      <td></td>\n",
       "      <td></td>\n",
       "      <td></td>\n",
       "      <td>None</td>\n",
       "    </tr>\n",
       "    <tr>\n",
       "      <th>15</th>\n",
       "      <td>15</td>\n",
       "      <td>NORTH BERKELEY</td>\n",
       "      <td>2013</td>\n",
       "      <td>1174.826087</td>\n",
       "      <td>951.0869565</td>\n",
       "      <td>578.6956522</td>\n",
       "      <td>135.3478261</td>\n",
       "      <td>4.043478261</td>\n",
       "      <td>178.3043478</td>\n",
       "      <td>6.695652174</td>\n",
       "      <td>...</td>\n",
       "      <td></td>\n",
       "      <td></td>\n",
       "      <td></td>\n",
       "      <td></td>\n",
       "      <td></td>\n",
       "      <td></td>\n",
       "      <td></td>\n",
       "      <td></td>\n",
       "      <td></td>\n",
       "      <td>None</td>\n",
       "    </tr>\n",
       "    <tr>\n",
       "      <th>16</th>\n",
       "      <td>16</td>\n",
       "      <td>19TH STREET/OAKLAND</td>\n",
       "      <td>2013</td>\n",
       "      <td>1123.975</td>\n",
       "      <td>1015.475</td>\n",
       "      <td>233.8</td>\n",
       "      <td>304.025</td>\n",
       "      <td>4.825</td>\n",
       "      <td>421.3</td>\n",
       "      <td>3.975</td>\n",
       "      <td>...</td>\n",
       "      <td></td>\n",
       "      <td></td>\n",
       "      <td></td>\n",
       "      <td></td>\n",
       "      <td></td>\n",
       "      <td></td>\n",
       "      <td></td>\n",
       "      <td></td>\n",
       "      <td></td>\n",
       "      <td>None</td>\n",
       "    </tr>\n",
       "    <tr>\n",
       "      <th>17</th>\n",
       "      <td>17</td>\n",
       "      <td>BAY FAIR</td>\n",
       "      <td>2013</td>\n",
       "      <td>1574.538462</td>\n",
       "      <td>1087.769231</td>\n",
       "      <td>306.4615385</td>\n",
       "      <td>185.6923077</td>\n",
       "      <td>9.461538462</td>\n",
       "      <td>494.7692308</td>\n",
       "      <td>23.23076923</td>\n",
       "      <td>...</td>\n",
       "      <td></td>\n",
       "      <td></td>\n",
       "      <td></td>\n",
       "      <td></td>\n",
       "      <td></td>\n",
       "      <td></td>\n",
       "      <td></td>\n",
       "      <td></td>\n",
       "      <td></td>\n",
       "      <td>None</td>\n",
       "    </tr>\n",
       "    <tr>\n",
       "      <th>18</th>\n",
       "      <td>18</td>\n",
       "      <td>UNION CITY</td>\n",
       "      <td>2013</td>\n",
       "      <td>2059.222222</td>\n",
       "      <td>1634.592593</td>\n",
       "      <td>351</td>\n",
       "      <td>79.33333333</td>\n",
       "      <td>8.925925926</td>\n",
       "      <td>1024</td>\n",
       "      <td>22.44444444</td>\n",
       "      <td>...</td>\n",
       "      <td></td>\n",
       "      <td></td>\n",
       "      <td></td>\n",
       "      <td></td>\n",
       "      <td></td>\n",
       "      <td></td>\n",
       "      <td></td>\n",
       "      <td></td>\n",
       "      <td></td>\n",
       "      <td>None</td>\n",
       "    </tr>\n",
       "    <tr>\n",
       "      <th>19</th>\n",
       "      <td>19</td>\n",
       "      <td>LAKE MERRITT</td>\n",
       "      <td>2013</td>\n",
       "      <td>1223.9</td>\n",
       "      <td>1106.96</td>\n",
       "      <td>332.3</td>\n",
       "      <td>142.54</td>\n",
       "      <td>3.6</td>\n",
       "      <td>559</td>\n",
       "      <td>3.96</td>\n",
       "      <td>...</td>\n",
       "      <td></td>\n",
       "      <td></td>\n",
       "      <td></td>\n",
       "      <td></td>\n",
       "      <td></td>\n",
       "      <td></td>\n",
       "      <td></td>\n",
       "      <td></td>\n",
       "      <td></td>\n",
       "      <td>None</td>\n",
       "    </tr>\n",
       "  </tbody>\n",
       "</table>\n",
       "<p>20 rows × 58 columns</p>\n",
       "</div>"
      ],
      "text/plain": [
       "   field_1                index  Year        Total Non Hispanic  \\\n",
       "0        0                ASHBY  2019  1218.967742  1021.129032   \n",
       "1        1            MACARTHUR  2019  1330.935484  1127.741935   \n",
       "2        2              HAYWARD  2019         2545         1773   \n",
       "3        3        SOUTH HAYWARD  2019  2119.388889  1455.111111   \n",
       "4        4            FRUITVALE  2019  1471.136364  1218.954545   \n",
       "5        5       NORTH BERKELEY  2019  1413.913043         1118   \n",
       "6        6  19TH STREET/OAKLAND  2019     1120.925        990.9   \n",
       "7        7             BAY FAIR  2019  1220.538462          503   \n",
       "8        8           UNION CITY  2019  2266.925926  1994.703704   \n",
       "9        9         LAKE MERRITT  2019      1797.84      1647.54   \n",
       "10      10                ASHBY  2013       1052.5  876.2096774   \n",
       "11      11            MACARTHUR  2013  1084.645161  883.5806452   \n",
       "12      12              HAYWARD  2013  2107.571429  866.4285714   \n",
       "13      13        SOUTH HAYWARD  2013  1926.666667  1236.166667   \n",
       "14      14            FRUITVALE  2013  1149.363636  908.4090909   \n",
       "15      15       NORTH BERKELEY  2013  1174.826087  951.0869565   \n",
       "16      16  19TH STREET/OAKLAND  2013     1123.975     1015.475   \n",
       "17      17             BAY FAIR  2013  1574.538462  1087.769231   \n",
       "18      18           UNION CITY  2013  2059.222222  1634.592593   \n",
       "19      19         LAKE MERRITT  2013       1223.9      1106.96   \n",
       "\n",
       "   Non Hispanic White Non Hispanic Black  \\\n",
       "0         467.9354839        312.1774194   \n",
       "1                 386        495.7096774   \n",
       "2                 381                211   \n",
       "3         234.1111111        156.2777778   \n",
       "4                 921        23.77272727   \n",
       "5         586.4782609        264.7391304   \n",
       "6             256.225              180.8   \n",
       "7         67.07692308        183.9230769   \n",
       "8         326.4814815        99.37037037   \n",
       "9              500.58             142.68   \n",
       "10        361.5806452        369.6451613   \n",
       "11        235.0967742        464.2258065   \n",
       "12        272.1428571        176.5714286   \n",
       "13        296.3888889        118.2222222   \n",
       "14        567.0454545        56.86363636   \n",
       "15        578.6956522        135.3478261   \n",
       "16              233.8            304.025   \n",
       "17        306.4615385        185.6923077   \n",
       "18                351        79.33333333   \n",
       "19              332.3             142.54   \n",
       "\n",
       "   Non Hispanic American Indian and Alaska Native Non Hispanic Asian  \\\n",
       "0                                      4.14516129        155.1612903   \n",
       "1                                     5.419354839        119.9354839   \n",
       "2                                               0               1067   \n",
       "3                                     7.333333333        896.3333333   \n",
       "4                                               8        220.2727273   \n",
       "5                                               0         168.173913   \n",
       "6                                            5.05            500.975   \n",
       "7                                     4.307692308                212   \n",
       "8                                     4.444444444        1277.666667   \n",
       "9                                           13.04             869.38   \n",
       "10                                    2.629032258        95.59677419   \n",
       "11                                    0.870967742        146.2258065   \n",
       "12                                    2.857142857                284   \n",
       "13                                    3.277777778        682.1666667   \n",
       "14                                    4.772727273        224.4545455   \n",
       "15                                    4.043478261        178.3043478   \n",
       "16                                          4.825              421.3   \n",
       "17                                    9.461538462        494.7692308   \n",
       "18                                    8.925925926               1024   \n",
       "19                                            3.6                559   \n",
       "\n",
       "   Non Hispanic Native Hawaiian and Other Pacific Islander  ... field_49  \\\n",
       "0                                                   0       ...            \n",
       "1                                         8.322580645       ...            \n",
       "2                                                  10       ...            \n",
       "3                                         71.88888889       ...            \n",
       "4                                         3.272727273       ...            \n",
       "5                                         46.26086957       ...            \n",
       "6                                                 9.8       ...            \n",
       "7                                                   0       ...            \n",
       "8                                         19.66666667       ...            \n",
       "9                                                6.28       ...            \n",
       "10                                        1.612903226       ...            \n",
       "11                                        5.161290323       ...            \n",
       "12                                                 29       ...            \n",
       "13                                        66.27777778       ...            \n",
       "14                                        2.136363636       ...            \n",
       "15                                        6.695652174       ...            \n",
       "16                                              3.975       ...            \n",
       "17                                        23.23076923       ...            \n",
       "18                                        22.44444444       ...            \n",
       "19                                               3.96       ...            \n",
       "\n",
       "   field_50 field_51 field_52 field_53 field_54 field_55 field_56 field_57  \\\n",
       "0                                                                            \n",
       "1                                                                            \n",
       "2                                                                            \n",
       "3                                                                            \n",
       "4                                                                            \n",
       "5                                                                            \n",
       "6                                                                            \n",
       "7                                                                            \n",
       "8                                                                            \n",
       "9                                                                            \n",
       "10                                                                           \n",
       "11                                                                           \n",
       "12                                                                           \n",
       "13                                                                           \n",
       "14                                                                           \n",
       "15                                                                           \n",
       "16                                                                           \n",
       "17                                                                           \n",
       "18                                                                           \n",
       "19                                                                           \n",
       "\n",
       "   geometry  \n",
       "0      None  \n",
       "1      None  \n",
       "2      None  \n",
       "3      None  \n",
       "4      None  \n",
       "5      None  \n",
       "6      None  \n",
       "7      None  \n",
       "8      None  \n",
       "9      None  \n",
       "10     None  \n",
       "11     None  \n",
       "12     None  \n",
       "13     None  \n",
       "14     None  \n",
       "15     None  \n",
       "16     None  \n",
       "17     None  \n",
       "18     None  \n",
       "19     None  \n",
       "\n",
       "[20 rows x 58 columns]"
      ]
     },
     "execution_count": 37,
     "metadata": {},
     "output_type": "execute_result"
    }
   ],
   "source": [
    "stationbuffer2"
   ]
  },
  {
   "cell_type": "code",
   "execution_count": 40,
   "id": "0b04317e-6173-4fb5-b160-5730107e4045",
   "metadata": {},
   "outputs": [
    {
     "data": {
      "text/plain": [
       "['field_1',\n",
       " 'index',\n",
       " 'Year',\n",
       " 'Total',\n",
       " 'Non Hispanic',\n",
       " 'Non Hispanic White',\n",
       " 'Non Hispanic Black',\n",
       " 'Non Hispanic American Indian and Alaska Native',\n",
       " 'Non Hispanic Asian',\n",
       " 'Non Hispanic Native Hawaiian and Other Pacific Islander',\n",
       " 'Non Hispanic Some other race',\n",
       " 'Non Hispanic Two or more races',\n",
       " 'Hispanic',\n",
       " 'Percent Total',\n",
       " 'Percent Non Hispanic',\n",
       " 'Percent Non Hispanic White',\n",
       " 'Percent Non Hispanic Black',\n",
       " 'Percent Non Hispanic American Indian and Alaska Native',\n",
       " 'Percent Non Hispanic Asian',\n",
       " 'Percent Non Hispanic Native Hawaiian and Other Pacific Islander',\n",
       " 'Percent Non Hispanic Some other race',\n",
       " 'Percent Non Hispanic Two or more races',\n",
       " 'Percent Hispanic',\n",
       " 'Index',\n",
       " 'field_25',\n",
       " 'field_26',\n",
       " 'field_27',\n",
       " 'field_28',\n",
       " 'field_29',\n",
       " 'field_30',\n",
       " 'field_31',\n",
       " 'field_32',\n",
       " 'field_33',\n",
       " 'field_34',\n",
       " 'field_35',\n",
       " 'field_36',\n",
       " 'field_37',\n",
       " 'field_38',\n",
       " 'field_39',\n",
       " 'field_40',\n",
       " 'field_41',\n",
       " 'field_42',\n",
       " 'field_43',\n",
       " 'field_44',\n",
       " 'field_45',\n",
       " 'field_46',\n",
       " 'field_47',\n",
       " 'field_48',\n",
       " 'field_49',\n",
       " 'field_50',\n",
       " 'field_51',\n",
       " 'field_52',\n",
       " 'field_53',\n",
       " 'field_54',\n",
       " 'field_55',\n",
       " 'field_56',\n",
       " 'field_57',\n",
       " 'geometry']"
      ]
     },
     "execution_count": 40,
     "metadata": {},
     "output_type": "execute_result"
    }
   ],
   "source": [
    "stationbuffer2.columns.to_list()"
   ]
  },
  {
   "cell_type": "code",
   "execution_count": 41,
   "id": "f336960b-df9f-4f33-9b0d-04124cd44e18",
   "metadata": {},
   "outputs": [],
   "source": [
    "stationbuffer2=stationbuffer2[['index',\n",
    " 'Year',\n",
    " 'Total',\n",
    " 'Non Hispanic',\n",
    " 'Non Hispanic White',\n",
    " 'Non Hispanic Black',\n",
    " 'Non Hispanic American Indian and Alaska Native',\n",
    " 'Non Hispanic Asian',\n",
    " 'Non Hispanic Native Hawaiian and Other Pacific Islander',\n",
    " 'Non Hispanic Some other race',\n",
    " 'Non Hispanic Two or more races',\n",
    " 'Hispanic',\n",
    " 'Percent Total',\n",
    " 'Percent Non Hispanic',\n",
    " 'Percent Non Hispanic White',\n",
    " 'Percent Non Hispanic Black',\n",
    " 'Percent Non Hispanic American Indian and Alaska Native',\n",
    " 'Percent Non Hispanic Asian',\n",
    " 'Percent Non Hispanic Native Hawaiian and Other Pacific Islander',\n",
    " 'Percent Non Hispanic Some other race',\n",
    " 'Percent Non Hispanic Two or more races',\n",
    " 'Percent Hispanic',\n",
    " 'Index']]"
   ]
  },
  {
   "cell_type": "code",
   "execution_count": 84,
   "id": "f6a7bfe5-292c-4099-a078-5cd5b801720d",
   "metadata": {},
   "outputs": [
    {
     "data": {
      "application/vnd.plotly.v1+json": {
       "config": {
        "plotlyServerURL": "https://plot.ly"
       },
       "data": [
        {
         "alignmentgroup": "True",
         "hovertemplate": "Ethnicity=Non Hispanic White_2019<br># Residents=%{x}<br>Station=%{y}<extra></extra>",
         "legendgroup": "Non Hispanic White_2019",
         "marker": {
          "color": "rgb(133, 92, 117)",
          "line": {
           "width": 0
          },
          "pattern": {
           "shape": ""
          }
         },
         "name": "Non Hispanic White_2019",
         "offsetgroup": "Non Hispanic White_2019",
         "orientation": "h",
         "showlegend": true,
         "textposition": "auto",
         "type": "bar",
         "x": [
          467.93548387096774,
          386,
          381,
          234.11111111111111,
          921,
          586.4782608695652,
          256.225,
          67.07692307692308,
          326.48148148148147,
          500.58
         ],
         "xaxis": "x",
         "y": [
          "ASHBY",
          "MACARTHUR",
          "HAYWARD",
          "SOUTH HAYWARD",
          "FRUITVALE",
          "NORTH BERKELEY",
          "19TH STREET/OAKLAND",
          "BAY FAIR",
          "UNION CITY",
          "LAKE MERRITT"
         ],
         "yaxis": "y"
        },
        {
         "alignmentgroup": "True",
         "hovertemplate": "Ethnicity=Non Hispanic Black_2019<br># Residents=%{x}<br>Station=%{y}<extra></extra>",
         "legendgroup": "Non Hispanic Black_2019",
         "marker": {
          "color": "rgb(217, 175, 107)",
          "line": {
           "width": 0
          },
          "pattern": {
           "shape": ""
          }
         },
         "name": "Non Hispanic Black_2019",
         "offsetgroup": "Non Hispanic Black_2019",
         "orientation": "h",
         "showlegend": true,
         "textposition": "auto",
         "type": "bar",
         "x": [
          312.1774193548387,
          495.7096774193548,
          211,
          156.27777777777777,
          23.772727272727273,
          264.7391304347826,
          180.8,
          183.92307692307693,
          99.37037037037037,
          142.68
         ],
         "xaxis": "x",
         "y": [
          "ASHBY",
          "MACARTHUR",
          "HAYWARD",
          "SOUTH HAYWARD",
          "FRUITVALE",
          "NORTH BERKELEY",
          "19TH STREET/OAKLAND",
          "BAY FAIR",
          "UNION CITY",
          "LAKE MERRITT"
         ],
         "yaxis": "y"
        },
        {
         "alignmentgroup": "True",
         "hovertemplate": "Ethnicity=Non Hispanic American Indian and Alaska Native_2019<br># Residents=%{x}<br>Station=%{y}<extra></extra>",
         "legendgroup": "Non Hispanic American Indian and Alaska Native_2019",
         "marker": {
          "color": "rgb(175, 100, 88)",
          "line": {
           "width": 0
          },
          "pattern": {
           "shape": ""
          }
         },
         "name": "Non Hispanic American Indian and Alaska Native_2019",
         "offsetgroup": "Non Hispanic American Indian and Alaska Native_2019",
         "orientation": "h",
         "showlegend": true,
         "textposition": "auto",
         "type": "bar",
         "x": [
          4.145161290322581,
          5.419354838709677,
          0,
          7.333333333333333,
          8,
          0,
          5.05,
          4.3076923076923075,
          4.444444444444445,
          13.04
         ],
         "xaxis": "x",
         "y": [
          "ASHBY",
          "MACARTHUR",
          "HAYWARD",
          "SOUTH HAYWARD",
          "FRUITVALE",
          "NORTH BERKELEY",
          "19TH STREET/OAKLAND",
          "BAY FAIR",
          "UNION CITY",
          "LAKE MERRITT"
         ],
         "yaxis": "y"
        },
        {
         "alignmentgroup": "True",
         "hovertemplate": "Ethnicity=Non Hispanic Asian_2019<br># Residents=%{x}<br>Station=%{y}<extra></extra>",
         "legendgroup": "Non Hispanic Asian_2019",
         "marker": {
          "color": "rgb(115, 111, 76)",
          "line": {
           "width": 0
          },
          "pattern": {
           "shape": ""
          }
         },
         "name": "Non Hispanic Asian_2019",
         "offsetgroup": "Non Hispanic Asian_2019",
         "orientation": "h",
         "showlegend": true,
         "textposition": "auto",
         "type": "bar",
         "x": [
          155.16129032258064,
          119.93548387096774,
          1067,
          896.3333333333334,
          220.27272727272728,
          168.17391304347825,
          500.975,
          212,
          1277.6666666666667,
          869.38
         ],
         "xaxis": "x",
         "y": [
          "ASHBY",
          "MACARTHUR",
          "HAYWARD",
          "SOUTH HAYWARD",
          "FRUITVALE",
          "NORTH BERKELEY",
          "19TH STREET/OAKLAND",
          "BAY FAIR",
          "UNION CITY",
          "LAKE MERRITT"
         ],
         "yaxis": "y"
        },
        {
         "alignmentgroup": "True",
         "hovertemplate": "Ethnicity=Non Hispanic Native Hawaiian and Other Pacific Islander_2019<br># Residents=%{x}<br>Station=%{y}<extra></extra>",
         "legendgroup": "Non Hispanic Native Hawaiian and Other Pacific Islander_2019",
         "marker": {
          "color": "rgb(82, 106, 131)",
          "line": {
           "width": 0
          },
          "pattern": {
           "shape": ""
          }
         },
         "name": "Non Hispanic Native Hawaiian and Other Pacific Islander_2019",
         "offsetgroup": "Non Hispanic Native Hawaiian and Other Pacific Islander_2019",
         "orientation": "h",
         "showlegend": true,
         "textposition": "auto",
         "type": "bar",
         "x": [
          0,
          8.32258064516129,
          10,
          71.88888888888889,
          3.272727272727273,
          46.26086956521739,
          9.8,
          0,
          19.666666666666668,
          6.28
         ],
         "xaxis": "x",
         "y": [
          "ASHBY",
          "MACARTHUR",
          "HAYWARD",
          "SOUTH HAYWARD",
          "FRUITVALE",
          "NORTH BERKELEY",
          "19TH STREET/OAKLAND",
          "BAY FAIR",
          "UNION CITY",
          "LAKE MERRITT"
         ],
         "yaxis": "y"
        },
        {
         "alignmentgroup": "True",
         "hovertemplate": "Ethnicity=Non Hispanic Some other race_2019<br># Residents=%{x}<br>Station=%{y}<extra></extra>",
         "legendgroup": "Non Hispanic Some other race_2019",
         "marker": {
          "color": "rgb(98, 83, 119)",
          "line": {
           "width": 0
          },
          "pattern": {
           "shape": ""
          }
         },
         "name": "Non Hispanic Some other race_2019",
         "offsetgroup": "Non Hispanic Some other race_2019",
         "orientation": "h",
         "showlegend": true,
         "textposition": "auto",
         "type": "bar",
         "x": [
          6.258064516129032,
          9.67741935483871,
          0,
          0,
          10.772727272727273,
          0,
          4.55,
          0,
          5.333333333333333,
          2.6
         ],
         "xaxis": "x",
         "y": [
          "ASHBY",
          "MACARTHUR",
          "HAYWARD",
          "SOUTH HAYWARD",
          "FRUITVALE",
          "NORTH BERKELEY",
          "19TH STREET/OAKLAND",
          "BAY FAIR",
          "UNION CITY",
          "LAKE MERRITT"
         ],
         "yaxis": "y"
        },
        {
         "alignmentgroup": "True",
         "hovertemplate": "Ethnicity=Non Hispanic Two or more races_2019<br># Residents=%{x}<br>Station=%{y}<extra></extra>",
         "legendgroup": "Non Hispanic Two or more races_2019",
         "marker": {
          "color": "rgb(104, 133, 92)",
          "line": {
           "width": 0
          },
          "pattern": {
           "shape": ""
          }
         },
         "name": "Non Hispanic Two or more races_2019",
         "offsetgroup": "Non Hispanic Two or more races_2019",
         "orientation": "h",
         "showlegend": true,
         "textposition": "auto",
         "type": "bar",
         "x": [
          75.45161290322581,
          102.6774193548387,
          104,
          89.16666666666667,
          31.863636363636363,
          52.34782608695652,
          33.5,
          35.69230769230769,
          261.74074074074076,
          112.98
         ],
         "xaxis": "x",
         "y": [
          "ASHBY",
          "MACARTHUR",
          "HAYWARD",
          "SOUTH HAYWARD",
          "FRUITVALE",
          "NORTH BERKELEY",
          "19TH STREET/OAKLAND",
          "BAY FAIR",
          "UNION CITY",
          "LAKE MERRITT"
         ],
         "yaxis": "y"
        },
        {
         "alignmentgroup": "True",
         "hovertemplate": "Ethnicity=Hispanic_2019<br># Residents=%{x}<br>Station=%{y}<extra></extra>",
         "legendgroup": "Hispanic_2019",
         "marker": {
          "color": "rgb(156, 156, 94)",
          "line": {
           "width": 0
          },
          "pattern": {
           "shape": ""
          }
         },
         "name": "Hispanic_2019",
         "offsetgroup": "Hispanic_2019",
         "orientation": "h",
         "showlegend": true,
         "textposition": "auto",
         "type": "bar",
         "x": [
          197.83870967741936,
          203.19354838709677,
          772,
          664.2777777777778,
          252.1818181818182,
          295.9130434782609,
          130.025,
          717.5384615384615,
          272.22222222222223,
          150.3
         ],
         "xaxis": "x",
         "y": [
          "ASHBY",
          "MACARTHUR",
          "HAYWARD",
          "SOUTH HAYWARD",
          "FRUITVALE",
          "NORTH BERKELEY",
          "19TH STREET/OAKLAND",
          "BAY FAIR",
          "UNION CITY",
          "LAKE MERRITT"
         ],
         "yaxis": "y"
        }
       ],
       "layout": {
        "autosize": true,
        "barmode": "group",
        "legend": {
         "title": {
          "text": "Ethnicity"
         },
         "tracegroupgap": 0
        },
        "template": {
         "data": {
          "bar": [
           {
            "error_x": {
             "color": "#2a3f5f"
            },
            "error_y": {
             "color": "#2a3f5f"
            },
            "marker": {
             "line": {
              "color": "#E5ECF6",
              "width": 0.5
             },
             "pattern": {
              "fillmode": "overlay",
              "size": 10,
              "solidity": 0.2
             }
            },
            "type": "bar"
           }
          ],
          "barpolar": [
           {
            "marker": {
             "line": {
              "color": "#E5ECF6",
              "width": 0.5
             },
             "pattern": {
              "fillmode": "overlay",
              "size": 10,
              "solidity": 0.2
             }
            },
            "type": "barpolar"
           }
          ],
          "carpet": [
           {
            "aaxis": {
             "endlinecolor": "#2a3f5f",
             "gridcolor": "white",
             "linecolor": "white",
             "minorgridcolor": "white",
             "startlinecolor": "#2a3f5f"
            },
            "baxis": {
             "endlinecolor": "#2a3f5f",
             "gridcolor": "white",
             "linecolor": "white",
             "minorgridcolor": "white",
             "startlinecolor": "#2a3f5f"
            },
            "type": "carpet"
           }
          ],
          "choropleth": [
           {
            "colorbar": {
             "outlinewidth": 0,
             "ticks": ""
            },
            "type": "choropleth"
           }
          ],
          "contour": [
           {
            "colorbar": {
             "outlinewidth": 0,
             "ticks": ""
            },
            "colorscale": [
             [
              0,
              "#0d0887"
             ],
             [
              0.1111111111111111,
              "#46039f"
             ],
             [
              0.2222222222222222,
              "#7201a8"
             ],
             [
              0.3333333333333333,
              "#9c179e"
             ],
             [
              0.4444444444444444,
              "#bd3786"
             ],
             [
              0.5555555555555556,
              "#d8576b"
             ],
             [
              0.6666666666666666,
              "#ed7953"
             ],
             [
              0.7777777777777778,
              "#fb9f3a"
             ],
             [
              0.8888888888888888,
              "#fdca26"
             ],
             [
              1,
              "#f0f921"
             ]
            ],
            "type": "contour"
           }
          ],
          "contourcarpet": [
           {
            "colorbar": {
             "outlinewidth": 0,
             "ticks": ""
            },
            "type": "contourcarpet"
           }
          ],
          "heatmap": [
           {
            "colorbar": {
             "outlinewidth": 0,
             "ticks": ""
            },
            "colorscale": [
             [
              0,
              "#0d0887"
             ],
             [
              0.1111111111111111,
              "#46039f"
             ],
             [
              0.2222222222222222,
              "#7201a8"
             ],
             [
              0.3333333333333333,
              "#9c179e"
             ],
             [
              0.4444444444444444,
              "#bd3786"
             ],
             [
              0.5555555555555556,
              "#d8576b"
             ],
             [
              0.6666666666666666,
              "#ed7953"
             ],
             [
              0.7777777777777778,
              "#fb9f3a"
             ],
             [
              0.8888888888888888,
              "#fdca26"
             ],
             [
              1,
              "#f0f921"
             ]
            ],
            "type": "heatmap"
           }
          ],
          "heatmapgl": [
           {
            "colorbar": {
             "outlinewidth": 0,
             "ticks": ""
            },
            "colorscale": [
             [
              0,
              "#0d0887"
             ],
             [
              0.1111111111111111,
              "#46039f"
             ],
             [
              0.2222222222222222,
              "#7201a8"
             ],
             [
              0.3333333333333333,
              "#9c179e"
             ],
             [
              0.4444444444444444,
              "#bd3786"
             ],
             [
              0.5555555555555556,
              "#d8576b"
             ],
             [
              0.6666666666666666,
              "#ed7953"
             ],
             [
              0.7777777777777778,
              "#fb9f3a"
             ],
             [
              0.8888888888888888,
              "#fdca26"
             ],
             [
              1,
              "#f0f921"
             ]
            ],
            "type": "heatmapgl"
           }
          ],
          "histogram": [
           {
            "marker": {
             "pattern": {
              "fillmode": "overlay",
              "size": 10,
              "solidity": 0.2
             }
            },
            "type": "histogram"
           }
          ],
          "histogram2d": [
           {
            "colorbar": {
             "outlinewidth": 0,
             "ticks": ""
            },
            "colorscale": [
             [
              0,
              "#0d0887"
             ],
             [
              0.1111111111111111,
              "#46039f"
             ],
             [
              0.2222222222222222,
              "#7201a8"
             ],
             [
              0.3333333333333333,
              "#9c179e"
             ],
             [
              0.4444444444444444,
              "#bd3786"
             ],
             [
              0.5555555555555556,
              "#d8576b"
             ],
             [
              0.6666666666666666,
              "#ed7953"
             ],
             [
              0.7777777777777778,
              "#fb9f3a"
             ],
             [
              0.8888888888888888,
              "#fdca26"
             ],
             [
              1,
              "#f0f921"
             ]
            ],
            "type": "histogram2d"
           }
          ],
          "histogram2dcontour": [
           {
            "colorbar": {
             "outlinewidth": 0,
             "ticks": ""
            },
            "colorscale": [
             [
              0,
              "#0d0887"
             ],
             [
              0.1111111111111111,
              "#46039f"
             ],
             [
              0.2222222222222222,
              "#7201a8"
             ],
             [
              0.3333333333333333,
              "#9c179e"
             ],
             [
              0.4444444444444444,
              "#bd3786"
             ],
             [
              0.5555555555555556,
              "#d8576b"
             ],
             [
              0.6666666666666666,
              "#ed7953"
             ],
             [
              0.7777777777777778,
              "#fb9f3a"
             ],
             [
              0.8888888888888888,
              "#fdca26"
             ],
             [
              1,
              "#f0f921"
             ]
            ],
            "type": "histogram2dcontour"
           }
          ],
          "mesh3d": [
           {
            "colorbar": {
             "outlinewidth": 0,
             "ticks": ""
            },
            "type": "mesh3d"
           }
          ],
          "parcoords": [
           {
            "line": {
             "colorbar": {
              "outlinewidth": 0,
              "ticks": ""
             }
            },
            "type": "parcoords"
           }
          ],
          "pie": [
           {
            "automargin": true,
            "type": "pie"
           }
          ],
          "scatter": [
           {
            "marker": {
             "colorbar": {
              "outlinewidth": 0,
              "ticks": ""
             }
            },
            "type": "scatter"
           }
          ],
          "scatter3d": [
           {
            "line": {
             "colorbar": {
              "outlinewidth": 0,
              "ticks": ""
             }
            },
            "marker": {
             "colorbar": {
              "outlinewidth": 0,
              "ticks": ""
             }
            },
            "type": "scatter3d"
           }
          ],
          "scattercarpet": [
           {
            "marker": {
             "colorbar": {
              "outlinewidth": 0,
              "ticks": ""
             }
            },
            "type": "scattercarpet"
           }
          ],
          "scattergeo": [
           {
            "marker": {
             "colorbar": {
              "outlinewidth": 0,
              "ticks": ""
             }
            },
            "type": "scattergeo"
           }
          ],
          "scattergl": [
           {
            "marker": {
             "colorbar": {
              "outlinewidth": 0,
              "ticks": ""
             }
            },
            "type": "scattergl"
           }
          ],
          "scattermapbox": [
           {
            "marker": {
             "colorbar": {
              "outlinewidth": 0,
              "ticks": ""
             }
            },
            "type": "scattermapbox"
           }
          ],
          "scatterpolar": [
           {
            "marker": {
             "colorbar": {
              "outlinewidth": 0,
              "ticks": ""
             }
            },
            "type": "scatterpolar"
           }
          ],
          "scatterpolargl": [
           {
            "marker": {
             "colorbar": {
              "outlinewidth": 0,
              "ticks": ""
             }
            },
            "type": "scatterpolargl"
           }
          ],
          "scatterternary": [
           {
            "marker": {
             "colorbar": {
              "outlinewidth": 0,
              "ticks": ""
             }
            },
            "type": "scatterternary"
           }
          ],
          "surface": [
           {
            "colorbar": {
             "outlinewidth": 0,
             "ticks": ""
            },
            "colorscale": [
             [
              0,
              "#0d0887"
             ],
             [
              0.1111111111111111,
              "#46039f"
             ],
             [
              0.2222222222222222,
              "#7201a8"
             ],
             [
              0.3333333333333333,
              "#9c179e"
             ],
             [
              0.4444444444444444,
              "#bd3786"
             ],
             [
              0.5555555555555556,
              "#d8576b"
             ],
             [
              0.6666666666666666,
              "#ed7953"
             ],
             [
              0.7777777777777778,
              "#fb9f3a"
             ],
             [
              0.8888888888888888,
              "#fdca26"
             ],
             [
              1,
              "#f0f921"
             ]
            ],
            "type": "surface"
           }
          ],
          "table": [
           {
            "cells": {
             "fill": {
              "color": "#EBF0F8"
             },
             "line": {
              "color": "white"
             }
            },
            "header": {
             "fill": {
              "color": "#C8D4E3"
             },
             "line": {
              "color": "white"
             }
            },
            "type": "table"
           }
          ]
         },
         "layout": {
          "annotationdefaults": {
           "arrowcolor": "#2a3f5f",
           "arrowhead": 0,
           "arrowwidth": 1
          },
          "autotypenumbers": "strict",
          "coloraxis": {
           "colorbar": {
            "outlinewidth": 0,
            "ticks": ""
           }
          },
          "colorscale": {
           "diverging": [
            [
             0,
             "#8e0152"
            ],
            [
             0.1,
             "#c51b7d"
            ],
            [
             0.2,
             "#de77ae"
            ],
            [
             0.3,
             "#f1b6da"
            ],
            [
             0.4,
             "#fde0ef"
            ],
            [
             0.5,
             "#f7f7f7"
            ],
            [
             0.6,
             "#e6f5d0"
            ],
            [
             0.7,
             "#b8e186"
            ],
            [
             0.8,
             "#7fbc41"
            ],
            [
             0.9,
             "#4d9221"
            ],
            [
             1,
             "#276419"
            ]
           ],
           "sequential": [
            [
             0,
             "#0d0887"
            ],
            [
             0.1111111111111111,
             "#46039f"
            ],
            [
             0.2222222222222222,
             "#7201a8"
            ],
            [
             0.3333333333333333,
             "#9c179e"
            ],
            [
             0.4444444444444444,
             "#bd3786"
            ],
            [
             0.5555555555555556,
             "#d8576b"
            ],
            [
             0.6666666666666666,
             "#ed7953"
            ],
            [
             0.7777777777777778,
             "#fb9f3a"
            ],
            [
             0.8888888888888888,
             "#fdca26"
            ],
            [
             1,
             "#f0f921"
            ]
           ],
           "sequentialminus": [
            [
             0,
             "#0d0887"
            ],
            [
             0.1111111111111111,
             "#46039f"
            ],
            [
             0.2222222222222222,
             "#7201a8"
            ],
            [
             0.3333333333333333,
             "#9c179e"
            ],
            [
             0.4444444444444444,
             "#bd3786"
            ],
            [
             0.5555555555555556,
             "#d8576b"
            ],
            [
             0.6666666666666666,
             "#ed7953"
            ],
            [
             0.7777777777777778,
             "#fb9f3a"
            ],
            [
             0.8888888888888888,
             "#fdca26"
            ],
            [
             1,
             "#f0f921"
            ]
           ]
          },
          "colorway": [
           "#636efa",
           "#EF553B",
           "#00cc96",
           "#ab63fa",
           "#FFA15A",
           "#19d3f3",
           "#FF6692",
           "#B6E880",
           "#FF97FF",
           "#FECB52"
          ],
          "font": {
           "color": "#2a3f5f"
          },
          "geo": {
           "bgcolor": "white",
           "lakecolor": "white",
           "landcolor": "#E5ECF6",
           "showlakes": true,
           "showland": true,
           "subunitcolor": "white"
          },
          "hoverlabel": {
           "align": "left"
          },
          "hovermode": "closest",
          "mapbox": {
           "style": "light"
          },
          "paper_bgcolor": "white",
          "plot_bgcolor": "#E5ECF6",
          "polar": {
           "angularaxis": {
            "gridcolor": "white",
            "linecolor": "white",
            "ticks": ""
           },
           "bgcolor": "#E5ECF6",
           "radialaxis": {
            "gridcolor": "white",
            "linecolor": "white",
            "ticks": ""
           }
          },
          "scene": {
           "xaxis": {
            "backgroundcolor": "#E5ECF6",
            "gridcolor": "white",
            "gridwidth": 2,
            "linecolor": "white",
            "showbackground": true,
            "ticks": "",
            "zerolinecolor": "white"
           },
           "yaxis": {
            "backgroundcolor": "#E5ECF6",
            "gridcolor": "white",
            "gridwidth": 2,
            "linecolor": "white",
            "showbackground": true,
            "ticks": "",
            "zerolinecolor": "white"
           },
           "zaxis": {
            "backgroundcolor": "#E5ECF6",
            "gridcolor": "white",
            "gridwidth": 2,
            "linecolor": "white",
            "showbackground": true,
            "ticks": "",
            "zerolinecolor": "white"
           }
          },
          "shapedefaults": {
           "line": {
            "color": "#2a3f5f"
           }
          },
          "ternary": {
           "aaxis": {
            "gridcolor": "white",
            "linecolor": "white",
            "ticks": ""
           },
           "baxis": {
            "gridcolor": "white",
            "linecolor": "white",
            "ticks": ""
           },
           "bgcolor": "#E5ECF6",
           "caxis": {
            "gridcolor": "white",
            "linecolor": "white",
            "ticks": ""
           }
          },
          "title": {
           "x": 0.05
          },
          "xaxis": {
           "automargin": true,
           "gridcolor": "white",
           "linecolor": "white",
           "ticks": "",
           "title": {
            "standoff": 15
           },
           "zerolinecolor": "white",
           "zerolinewidth": 2
          },
          "yaxis": {
           "automargin": true,
           "gridcolor": "white",
           "linecolor": "white",
           "ticks": "",
           "title": {
            "standoff": 15
           },
           "zerolinecolor": "white",
           "zerolinewidth": 2
          }
         }
        },
        "title": {
         "text": "Ethnic Compositon in 2013 and 2019: Average for all Block Groups"
        },
        "xaxis": {
         "anchor": "y",
         "autorange": true,
         "domain": [
          0,
          1
         ],
         "range": [
          0,
          1344.9122807017545
         ],
         "title": {
          "text": "# Residents"
         },
         "type": "linear"
        },
        "yaxis": {
         "anchor": "x",
         "autorange": true,
         "domain": [
          0,
          1
         ],
         "range": [
          -0.5,
          9.5
         ],
         "title": {
          "text": "Station"
         },
         "type": "category"
        }
       }
      },
      "image/png": "[encoded data removed]",
      "text/html": [
       "<div>                            <div id=\"a0604e42-e845-4302-8edd-5063b1346dbc\" class=\"plotly-graph-div\" style=\"height:1200px; width:100%;\"></div>            <script type=\"text/javascript\">                require([\"plotly\"], function(Plotly) {                    window.PLOTLYENV=window.PLOTLYENV || {};                                    if (document.getElementById(\"a0604e42-e845-4302-8edd-5063b1346dbc\")) {                    Plotly.newPlot(                        \"a0604e42-e845-4302-8edd-5063b1346dbc\",                        [{\"alignmentgroup\":\"True\",\"hovertemplate\":\"Ethnicity=Non Hispanic White_2019<br># Residents=%{x}<br>Station=%{y}<extra></extra>\",\"legendgroup\":\"Non Hispanic White_2019\",\"marker\":{\"color\":\"rgb(133, 92, 117)\",\"line\":{\"width\":0},\"pattern\":{\"shape\":\"\"}},\"name\":\"Non Hispanic White_2019\",\"offsetgroup\":\"Non Hispanic White_2019\",\"orientation\":\"h\",\"showlegend\":true,\"textposition\":\"auto\",\"type\":\"bar\",\"x\":[467.93548387096774,386.0,381.0,234.11111111111111,921.0,586.4782608695652,256.225,67.07692307692308,326.48148148148147,500.58],\"xaxis\":\"x\",\"y\":[\"ASHBY\",\"MACARTHUR\",\"HAYWARD\",\"SOUTH HAYWARD\",\"FRUITVALE\",\"NORTH BERKELEY\",\"19TH STREET/OAKLAND\",\"BAY FAIR\",\"UNION CITY\",\"LAKE MERRITT\"],\"yaxis\":\"y\"},{\"alignmentgroup\":\"True\",\"hovertemplate\":\"Ethnicity=Non Hispanic Black_2019<br># Residents=%{x}<br>Station=%{y}<extra></extra>\",\"legendgroup\":\"Non Hispanic Black_2019\",\"marker\":{\"color\":\"rgb(217, 175, 107)\",\"line\":{\"width\":0},\"pattern\":{\"shape\":\"\"}},\"name\":\"Non Hispanic Black_2019\",\"offsetgroup\":\"Non Hispanic Black_2019\",\"orientation\":\"h\",\"showlegend\":true,\"textposition\":\"auto\",\"type\":\"bar\",\"x\":[312.1774193548387,495.7096774193548,211.0,156.27777777777777,23.772727272727273,264.7391304347826,180.8,183.92307692307693,99.37037037037037,142.68],\"xaxis\":\"x\",\"y\":[\"ASHBY\",\"MACARTHUR\",\"HAYWARD\",\"SOUTH HAYWARD\",\"FRUITVALE\",\"NORTH BERKELEY\",\"19TH STREET/OAKLAND\",\"BAY FAIR\",\"UNION CITY\",\"LAKE MERRITT\"],\"yaxis\":\"y\"},{\"alignmentgroup\":\"True\",\"hovertemplate\":\"Ethnicity=Non Hispanic American Indian and Alaska Native_2019<br># Residents=%{x}<br>Station=%{y}<extra></extra>\",\"legendgroup\":\"Non Hispanic American Indian and Alaska Native_2019\",\"marker\":{\"color\":\"rgb(175, 100, 88)\",\"line\":{\"width\":0},\"pattern\":{\"shape\":\"\"}},\"name\":\"Non Hispanic American Indian and Alaska Native_2019\",\"offsetgroup\":\"Non Hispanic American Indian and Alaska Native_2019\",\"orientation\":\"h\",\"showlegend\":true,\"textposition\":\"auto\",\"type\":\"bar\",\"x\":[4.145161290322581,5.419354838709677,0.0,7.333333333333333,8.0,0.0,5.05,4.3076923076923075,4.444444444444445,13.04],\"xaxis\":\"x\",\"y\":[\"ASHBY\",\"MACARTHUR\",\"HAYWARD\",\"SOUTH HAYWARD\",\"FRUITVALE\",\"NORTH BERKELEY\",\"19TH STREET/OAKLAND\",\"BAY FAIR\",\"UNION CITY\",\"LAKE MERRITT\"],\"yaxis\":\"y\"},{\"alignmentgroup\":\"True\",\"hovertemplate\":\"Ethnicity=Non Hispanic Asian_2019<br># Residents=%{x}<br>Station=%{y}<extra></extra>\",\"legendgroup\":\"Non Hispanic Asian_2019\",\"marker\":{\"color\":\"rgb(115, 111, 76)\",\"line\":{\"width\":0},\"pattern\":{\"shape\":\"\"}},\"name\":\"Non Hispanic Asian_2019\",\"offsetgroup\":\"Non Hispanic Asian_2019\",\"orientation\":\"h\",\"showlegend\":true,\"textposition\":\"auto\",\"type\":\"bar\",\"x\":[155.16129032258064,119.93548387096774,1067.0,896.3333333333334,220.27272727272728,168.17391304347825,500.975,212.0,1277.6666666666667,869.38],\"xaxis\":\"x\",\"y\":[\"ASHBY\",\"MACARTHUR\",\"HAYWARD\",\"SOUTH HAYWARD\",\"FRUITVALE\",\"NORTH BERKELEY\",\"19TH STREET/OAKLAND\",\"BAY FAIR\",\"UNION CITY\",\"LAKE MERRITT\"],\"yaxis\":\"y\"},{\"alignmentgroup\":\"True\",\"hovertemplate\":\"Ethnicity=Non Hispanic Native Hawaiian and Other Pacific Islander_2019<br># Residents=%{x}<br>Station=%{y}<extra></extra>\",\"legendgroup\":\"Non Hispanic Native Hawaiian and Other Pacific Islander_2019\",\"marker\":{\"color\":\"rgb(82, 106, 131)\",\"line\":{\"width\":0},\"pattern\":{\"shape\":\"\"}},\"name\":\"Non Hispanic Native Hawaiian and Other Pacific Islander_2019\",\"offsetgroup\":\"Non Hispanic Native Hawaiian and Other Pacific Islander_2019\",\"orientation\":\"h\",\"showlegend\":true,\"textposition\":\"auto\",\"type\":\"bar\",\"x\":[0.0,8.32258064516129,10.0,71.88888888888889,3.272727272727273,46.26086956521739,9.8,0.0,19.666666666666668,6.28],\"xaxis\":\"x\",\"y\":[\"ASHBY\",\"MACARTHUR\",\"HAYWARD\",\"SOUTH HAYWARD\",\"FRUITVALE\",\"NORTH BERKELEY\",\"19TH STREET/OAKLAND\",\"BAY FAIR\",\"UNION CITY\",\"LAKE MERRITT\"],\"yaxis\":\"y\"},{\"alignmentgroup\":\"True\",\"hovertemplate\":\"Ethnicity=Non Hispanic Some other race_2019<br># Residents=%{x}<br>Station=%{y}<extra></extra>\",\"legendgroup\":\"Non Hispanic Some other race_2019\",\"marker\":{\"color\":\"rgb(98, 83, 119)\",\"line\":{\"width\":0},\"pattern\":{\"shape\":\"\"}},\"name\":\"Non Hispanic Some other race_2019\",\"offsetgroup\":\"Non Hispanic Some other race_2019\",\"orientation\":\"h\",\"showlegend\":true,\"textposition\":\"auto\",\"type\":\"bar\",\"x\":[6.258064516129032,9.67741935483871,0.0,0.0,10.772727272727273,0.0,4.55,0.0,5.333333333333333,2.6],\"xaxis\":\"x\",\"y\":[\"ASHBY\",\"MACARTHUR\",\"HAYWARD\",\"SOUTH HAYWARD\",\"FRUITVALE\",\"NORTH BERKELEY\",\"19TH STREET/OAKLAND\",\"BAY FAIR\",\"UNION CITY\",\"LAKE MERRITT\"],\"yaxis\":\"y\"},{\"alignmentgroup\":\"True\",\"hovertemplate\":\"Ethnicity=Non Hispanic Two or more races_2019<br># Residents=%{x}<br>Station=%{y}<extra></extra>\",\"legendgroup\":\"Non Hispanic Two or more races_2019\",\"marker\":{\"color\":\"rgb(104, 133, 92)\",\"line\":{\"width\":0},\"pattern\":{\"shape\":\"\"}},\"name\":\"Non Hispanic Two or more races_2019\",\"offsetgroup\":\"Non Hispanic Two or more races_2019\",\"orientation\":\"h\",\"showlegend\":true,\"textposition\":\"auto\",\"type\":\"bar\",\"x\":[75.45161290322581,102.6774193548387,104.0,89.16666666666667,31.863636363636363,52.34782608695652,33.5,35.69230769230769,261.74074074074076,112.98],\"xaxis\":\"x\",\"y\":[\"ASHBY\",\"MACARTHUR\",\"HAYWARD\",\"SOUTH HAYWARD\",\"FRUITVALE\",\"NORTH BERKELEY\",\"19TH STREET/OAKLAND\",\"BAY FAIR\",\"UNION CITY\",\"LAKE MERRITT\"],\"yaxis\":\"y\"},{\"alignmentgroup\":\"True\",\"hovertemplate\":\"Ethnicity=Hispanic_2019<br># Residents=%{x}<br>Station=%{y}<extra></extra>\",\"legendgroup\":\"Hispanic_2019\",\"marker\":{\"color\":\"rgb(156, 156, 94)\",\"line\":{\"width\":0},\"pattern\":{\"shape\":\"\"}},\"name\":\"Hispanic_2019\",\"offsetgroup\":\"Hispanic_2019\",\"orientation\":\"h\",\"showlegend\":true,\"textposition\":\"auto\",\"type\":\"bar\",\"x\":[197.83870967741936,203.19354838709677,772.0,664.2777777777778,252.1818181818182,295.9130434782609,130.025,717.5384615384615,272.22222222222223,150.3],\"xaxis\":\"x\",\"y\":[\"ASHBY\",\"MACARTHUR\",\"HAYWARD\",\"SOUTH HAYWARD\",\"FRUITVALE\",\"NORTH BERKELEY\",\"19TH STREET/OAKLAND\",\"BAY FAIR\",\"UNION CITY\",\"LAKE MERRITT\"],\"yaxis\":\"y\"}],                        {\"barmode\":\"group\",\"height\":1200,\"legend\":{\"title\":{\"text\":\"Ethnicity\"},\"tracegroupgap\":0},\"template\":{\"data\":{\"bar\":[{\"error_x\":{\"color\":\"#2a3f5f\"},\"error_y\":{\"color\":\"#2a3f5f\"},\"marker\":{\"line\":{\"color\":\"#E5ECF6\",\"width\":0.5},\"pattern\":{\"fillmode\":\"overlay\",\"size\":10,\"solidity\":0.2}},\"type\":\"bar\"}],\"barpolar\":[{\"marker\":{\"line\":{\"color\":\"#E5ECF6\",\"width\":0.5},\"pattern\":{\"fillmode\":\"overlay\",\"size\":10,\"solidity\":0.2}},\"type\":\"barpolar\"}],\"carpet\":[{\"aaxis\":{\"endlinecolor\":\"#2a3f5f\",\"gridcolor\":\"white\",\"linecolor\":\"white\",\"minorgridcolor\":\"white\",\"startlinecolor\":\"#2a3f5f\"},\"baxis\":{\"endlinecolor\":\"#2a3f5f\",\"gridcolor\":\"white\",\"linecolor\":\"white\",\"minorgridcolor\":\"white\",\"startlinecolor\":\"#2a3f5f\"},\"type\":\"carpet\"}],\"choropleth\":[{\"colorbar\":{\"outlinewidth\":0,\"ticks\":\"\"},\"type\":\"choropleth\"}],\"contour\":[{\"colorbar\":{\"outlinewidth\":0,\"ticks\":\"\"},\"colorscale\":[[0.0,\"#0d0887\"],[0.1111111111111111,\"#46039f\"],[0.2222222222222222,\"#7201a8\"],[0.3333333333333333,\"#9c179e\"],[0.4444444444444444,\"#bd3786\"],[0.5555555555555556,\"#d8576b\"],[0.6666666666666666,\"#ed7953\"],[0.7777777777777778,\"#fb9f3a\"],[0.8888888888888888,\"#fdca26\"],[1.0,\"#f0f921\"]],\"type\":\"contour\"}],\"contourcarpet\":[{\"colorbar\":{\"outlinewidth\":0,\"ticks\":\"\"},\"type\":\"contourcarpet\"}],\"heatmap\":[{\"colorbar\":{\"outlinewidth\":0,\"ticks\":\"\"},\"colorscale\":[[0.0,\"#0d0887\"],[0.1111111111111111,\"#46039f\"],[0.2222222222222222,\"#7201a8\"],[0.3333333333333333,\"#9c179e\"],[0.4444444444444444,\"#bd3786\"],[0.5555555555555556,\"#d8576b\"],[0.6666666666666666,\"#ed7953\"],[0.7777777777777778,\"#fb9f3a\"],[0.8888888888888888,\"#fdca26\"],[1.0,\"#f0f921\"]],\"type\":\"heatmap\"}],\"heatmapgl\":[{\"colorbar\":{\"outlinewidth\":0,\"ticks\":\"\"},\"colorscale\":[[0.0,\"#0d0887\"],[0.1111111111111111,\"#46039f\"],[0.2222222222222222,\"#7201a8\"],[0.3333333333333333,\"#9c179e\"],[0.4444444444444444,\"#bd3786\"],[0.5555555555555556,\"#d8576b\"],[0.6666666666666666,\"#ed7953\"],[0.7777777777777778,\"#fb9f3a\"],[0.8888888888888888,\"#fdca26\"],[1.0,\"#f0f921\"]],\"type\":\"heatmapgl\"}],\"histogram\":[{\"marker\":{\"pattern\":{\"fillmode\":\"overlay\",\"size\":10,\"solidity\":0.2}},\"type\":\"histogram\"}],\"histogram2d\":[{\"colorbar\":{\"outlinewidth\":0,\"ticks\":\"\"},\"colorscale\":[[0.0,\"#0d0887\"],[0.1111111111111111,\"#46039f\"],[0.2222222222222222,\"#7201a8\"],[0.3333333333333333,\"#9c179e\"],[0.4444444444444444,\"#bd3786\"],[0.5555555555555556,\"#d8576b\"],[0.6666666666666666,\"#ed7953\"],[0.7777777777777778,\"#fb9f3a\"],[0.8888888888888888,\"#fdca26\"],[1.0,\"#f0f921\"]],\"type\":\"histogram2d\"}],\"histogram2dcontour\":[{\"colorbar\":{\"outlinewidth\":0,\"ticks\":\"\"},\"colorscale\":[[0.0,\"#0d0887\"],[0.1111111111111111,\"#46039f\"],[0.2222222222222222,\"#7201a8\"],[0.3333333333333333,\"#9c179e\"],[0.4444444444444444,\"#bd3786\"],[0.5555555555555556,\"#d8576b\"],[0.6666666666666666,\"#ed7953\"],[0.7777777777777778,\"#fb9f3a\"],[0.8888888888888888,\"#fdca26\"],[1.0,\"#f0f921\"]],\"type\":\"histogram2dcontour\"}],\"mesh3d\":[{\"colorbar\":{\"outlinewidth\":0,\"ticks\":\"\"},\"type\":\"mesh3d\"}],\"parcoords\":[{\"line\":{\"colorbar\":{\"outlinewidth\":0,\"ticks\":\"\"}},\"type\":\"parcoords\"}],\"pie\":[{\"automargin\":true,\"type\":\"pie\"}],\"scatter\":[{\"marker\":{\"colorbar\":{\"outlinewidth\":0,\"ticks\":\"\"}},\"type\":\"scatter\"}],\"scatter3d\":[{\"line\":{\"colorbar\":{\"outlinewidth\":0,\"ticks\":\"\"}},\"marker\":{\"colorbar\":{\"outlinewidth\":0,\"ticks\":\"\"}},\"type\":\"scatter3d\"}],\"scattercarpet\":[{\"marker\":{\"colorbar\":{\"outlinewidth\":0,\"ticks\":\"\"}},\"type\":\"scattercarpet\"}],\"scattergeo\":[{\"marker\":{\"colorbar\":{\"outlinewidth\":0,\"ticks\":\"\"}},\"type\":\"scattergeo\"}],\"scattergl\":[{\"marker\":{\"colorbar\":{\"outlinewidth\":0,\"ticks\":\"\"}},\"type\":\"scattergl\"}],\"scattermapbox\":[{\"marker\":{\"colorbar\":{\"outlinewidth\":0,\"ticks\":\"\"}},\"type\":\"scattermapbox\"}],\"scatterpolar\":[{\"marker\":{\"colorbar\":{\"outlinewidth\":0,\"ticks\":\"\"}},\"type\":\"scatterpolar\"}],\"scatterpolargl\":[{\"marker\":{\"colorbar\":{\"outlinewidth\":0,\"ticks\":\"\"}},\"type\":\"scatterpolargl\"}],\"scatterternary\":[{\"marker\":{\"colorbar\":{\"outlinewidth\":0,\"ticks\":\"\"}},\"type\":\"scatterternary\"}],\"surface\":[{\"colorbar\":{\"outlinewidth\":0,\"ticks\":\"\"},\"colorscale\":[[0.0,\"#0d0887\"],[0.1111111111111111,\"#46039f\"],[0.2222222222222222,\"#7201a8\"],[0.3333333333333333,\"#9c179e\"],[0.4444444444444444,\"#bd3786\"],[0.5555555555555556,\"#d8576b\"],[0.6666666666666666,\"#ed7953\"],[0.7777777777777778,\"#fb9f3a\"],[0.8888888888888888,\"#fdca26\"],[1.0,\"#f0f921\"]],\"type\":\"surface\"}],\"table\":[{\"cells\":{\"fill\":{\"color\":\"#EBF0F8\"},\"line\":{\"color\":\"white\"}},\"header\":{\"fill\":{\"color\":\"#C8D4E3\"},\"line\":{\"color\":\"white\"}},\"type\":\"table\"}]},\"layout\":{\"annotationdefaults\":{\"arrowcolor\":\"#2a3f5f\",\"arrowhead\":0,\"arrowwidth\":1},\"autotypenumbers\":\"strict\",\"coloraxis\":{\"colorbar\":{\"outlinewidth\":0,\"ticks\":\"\"}},\"colorscale\":{\"diverging\":[[0,\"#8e0152\"],[0.1,\"#c51b7d\"],[0.2,\"#de77ae\"],[0.3,\"#f1b6da\"],[0.4,\"#fde0ef\"],[0.5,\"#f7f7f7\"],[0.6,\"#e6f5d0\"],[0.7,\"#b8e186\"],[0.8,\"#7fbc41\"],[0.9,\"#4d9221\"],[1,\"#276419\"]],\"sequential\":[[0.0,\"#0d0887\"],[0.1111111111111111,\"#46039f\"],[0.2222222222222222,\"#7201a8\"],[0.3333333333333333,\"#9c179e\"],[0.4444444444444444,\"#bd3786\"],[0.5555555555555556,\"#d8576b\"],[0.6666666666666666,\"#ed7953\"],[0.7777777777777778,\"#fb9f3a\"],[0.8888888888888888,\"#fdca26\"],[1.0,\"#f0f921\"]],\"sequentialminus\":[[0.0,\"#0d0887\"],[0.1111111111111111,\"#46039f\"],[0.2222222222222222,\"#7201a8\"],[0.3333333333333333,\"#9c179e\"],[0.4444444444444444,\"#bd3786\"],[0.5555555555555556,\"#d8576b\"],[0.6666666666666666,\"#ed7953\"],[0.7777777777777778,\"#fb9f3a\"],[0.8888888888888888,\"#fdca26\"],[1.0,\"#f0f921\"]]},\"colorway\":[\"#636efa\",\"#EF553B\",\"#00cc96\",\"#ab63fa\",\"#FFA15A\",\"#19d3f3\",\"#FF6692\",\"#B6E880\",\"#FF97FF\",\"#FECB52\"],\"font\":{\"color\":\"#2a3f5f\"},\"geo\":{\"bgcolor\":\"white\",\"lakecolor\":\"white\",\"landcolor\":\"#E5ECF6\",\"showlakes\":true,\"showland\":true,\"subunitcolor\":\"white\"},\"hoverlabel\":{\"align\":\"left\"},\"hovermode\":\"closest\",\"mapbox\":{\"style\":\"light\"},\"paper_bgcolor\":\"white\",\"plot_bgcolor\":\"#E5ECF6\",\"polar\":{\"angularaxis\":{\"gridcolor\":\"white\",\"linecolor\":\"white\",\"ticks\":\"\"},\"bgcolor\":\"#E5ECF6\",\"radialaxis\":{\"gridcolor\":\"white\",\"linecolor\":\"white\",\"ticks\":\"\"}},\"scene\":{\"xaxis\":{\"backgroundcolor\":\"#E5ECF6\",\"gridcolor\":\"white\",\"gridwidth\":2,\"linecolor\":\"white\",\"showbackground\":true,\"ticks\":\"\",\"zerolinecolor\":\"white\"},\"yaxis\":{\"backgroundcolor\":\"#E5ECF6\",\"gridcolor\":\"white\",\"gridwidth\":2,\"linecolor\":\"white\",\"showbackground\":true,\"ticks\":\"\",\"zerolinecolor\":\"white\"},\"zaxis\":{\"backgroundcolor\":\"#E5ECF6\",\"gridcolor\":\"white\",\"gridwidth\":2,\"linecolor\":\"white\",\"showbackground\":true,\"ticks\":\"\",\"zerolinecolor\":\"white\"}},\"shapedefaults\":{\"line\":{\"color\":\"#2a3f5f\"}},\"ternary\":{\"aaxis\":{\"gridcolor\":\"white\",\"linecolor\":\"white\",\"ticks\":\"\"},\"baxis\":{\"gridcolor\":\"white\",\"linecolor\":\"white\",\"ticks\":\"\"},\"bgcolor\":\"#E5ECF6\",\"caxis\":{\"gridcolor\":\"white\",\"linecolor\":\"white\",\"ticks\":\"\"}},\"title\":{\"x\":0.05},\"xaxis\":{\"automargin\":true,\"gridcolor\":\"white\",\"linecolor\":\"white\",\"ticks\":\"\",\"title\":{\"standoff\":15},\"zerolinecolor\":\"white\",\"zerolinewidth\":2},\"yaxis\":{\"automargin\":true,\"gridcolor\":\"white\",\"linecolor\":\"white\",\"ticks\":\"\",\"title\":{\"standoff\":15},\"zerolinecolor\":\"white\",\"zerolinewidth\":2}}},\"title\":{\"text\":\"Ethnic Compositon in 2013 and 2019: Average for all Block Groups\"},\"xaxis\":{\"anchor\":\"y\",\"domain\":[0.0,1.0],\"title\":{\"text\":\"# Residents\"}},\"yaxis\":{\"anchor\":\"x\",\"domain\":[0.0,1.0],\"title\":{\"text\":\"Station\"}}},                        {\"responsive\": true}                    ).then(function(){\n",
       "                            \n",
       "var gd = document.getElementById('a0604e42-e845-4302-8edd-5063b1346dbc');\n",
       "var x = new MutationObserver(function (mutations, observer) {{\n",
       "        var display = window.getComputedStyle(gd).display;\n",
       "        if (!display || display === 'none') {{\n",
       "            console.log([gd, 'removed!']);\n",
       "            Plotly.purge(gd);\n",
       "            observer.disconnect();\n",
       "        }}\n",
       "}});\n",
       "\n",
       "// Listen for the removal of the full notebook cells\n",
       "var notebookContainer = gd.closest('#notebook-container');\n",
       "if (notebookContainer) {{\n",
       "    x.observe(notebookContainer, {childList: true});\n",
       "}}\n",
       "\n",
       "// Listen for the clearing of the current output cell\n",
       "var outputEl = gd.closest('.output');\n",
       "if (outputEl) {{\n",
       "    x.observe(outputEl, {childList: true});\n",
       "}}\n",
       "\n",
       "                        })                };                });            </script>        </div>"
      ]
     },
     "metadata": {},
     "output_type": "display_data"
    }
   ],
   "source": [
    "# a simple bar chart, putting date on the x-axis\n",
    "\n",
    "fig = px.bar( stationbuffer,\n",
    "             y='index',\n",
    "             x=['Non Hispanic White_2019',\n",
    "                'Non Hispanic Black_2019',\n",
    "                'Non Hispanic American Indian and Alaska Native_2019',\n",
    "                'Non Hispanic Asian_2019',\n",
    "                'Non Hispanic Native Hawaiian and Other Pacific Islander_2019',\n",
    "                'Non Hispanic Some other race_2019',\n",
    "                'Non Hispanic Two or more races_2019',\n",
    "                'Hispanic_2019'],\n",
    "             barmode='group',\n",
    "            orientation='h',\n",
    "             height=1200,\n",
    "             #color='index',\n",
    "             title=\"Ethnic Compositon in 2013 and 2019: Average for all Block Groups\",\n",
    "             #color_discrete_sequence=[\"#e9967a\",\"#a52a2a\"],\n",
    "             color_discrete_sequence=px.colors.qualitative.Antique,\n",
    "             labels={'index':'Station','value':'# Residents', 'variable':'Ethnicity',\n",
    "                     'Non Hispanic White_2019':'White',\n",
    "                'Non Hispanic Black_2019':'Black',\n",
    "                'Non Hispanic American Indian and Alaska Native_2019':'AI/AN',\n",
    "                'Non Hispanic Asian_2019':'Asian',\n",
    "                'Non Hispanic Native Hawaiian and Other Pacific Islander_2019':'NH/PI',\n",
    "                'Non Hispanic Some other race_2019':'Other races',\n",
    "                'Non Hispanic Two or more races_2019':'Two or more race',\n",
    "                'Hispanic_2019':'Hispanic'})\n",
    "\n",
    "# get rid of white lines inside the bars\n",
    "fig.update_traces(marker_line_width=0)\n",
    "\n",
    "# show the figure\n",
    "fig.show()"
   ]
  },
  {
   "cell_type": "code",
   "execution_count": 77,
   "id": "92b77293-ab43-47e4-a284-5a7e43771616",
   "metadata": {},
   "outputs": [
    {
     "data": {
      "application/vnd.plotly.v1+json": {
       "config": {
        "plotlyServerURL": "https://plot.ly"
       },
       "data": [
        {
         "alignmentgroup": "True",
         "hovertemplate": "Year=2019<br>count=%{x}<br>value=%{y}<extra></extra>",
         "legendgroup": "2019",
         "marker": {
          "color": "#636efa",
          "line": {
           "width": 0
          },
          "pattern": {
           "shape": ""
          }
         },
         "name": "2019",
         "offsetgroup": "2019",
         "orientation": "h",
         "showlegend": true,
         "textposition": "auto",
         "type": "bar",
         "x": [
          1,
          1,
          1,
          1,
          1,
          1,
          1,
          1,
          1,
          1
         ],
         "xaxis": "x",
         "y": [
          "467.9354839",
          "386",
          "381",
          "234.1111111",
          "921",
          "586.4782609",
          "256.225",
          "67.07692308",
          "326.4814815",
          "500.58"
         ],
         "yaxis": "y"
        },
        {
         "alignmentgroup": "True",
         "hovertemplate": "Year=2013<br>count=%{x}<br>value=%{y}<extra></extra>",
         "legendgroup": "2013",
         "marker": {
          "color": "#EF553B",
          "line": {
           "width": 0
          },
          "pattern": {
           "shape": ""
          }
         },
         "name": "2013",
         "offsetgroup": "2013",
         "orientation": "h",
         "showlegend": true,
         "textposition": "auto",
         "type": "bar",
         "x": [
          1,
          1,
          1,
          1,
          1,
          1,
          1,
          1,
          1,
          1
         ],
         "xaxis": "x",
         "y": [
          "361.5806452",
          "235.0967742",
          "272.1428571",
          "296.3888889",
          "567.0454545",
          "578.6956522",
          "233.8",
          "306.4615385",
          "351",
          "332.3"
         ],
         "yaxis": "y"
        }
       ],
       "layout": {
        "autosize": true,
        "barmode": "group",
        "legend": {
         "title": {
          "text": "Year"
         },
         "tracegroupgap": 0
        },
        "template": {
         "data": {
          "bar": [
           {
            "error_x": {
             "color": "#2a3f5f"
            },
            "error_y": {
             "color": "#2a3f5f"
            },
            "marker": {
             "line": {
              "color": "#E5ECF6",
              "width": 0.5
             },
             "pattern": {
              "fillmode": "overlay",
              "size": 10,
              "solidity": 0.2
             }
            },
            "type": "bar"
           }
          ],
          "barpolar": [
           {
            "marker": {
             "line": {
              "color": "#E5ECF6",
              "width": 0.5
             },
             "pattern": {
              "fillmode": "overlay",
              "size": 10,
              "solidity": 0.2
             }
            },
            "type": "barpolar"
           }
          ],
          "carpet": [
           {
            "aaxis": {
             "endlinecolor": "#2a3f5f",
             "gridcolor": "white",
             "linecolor": "white",
             "minorgridcolor": "white",
             "startlinecolor": "#2a3f5f"
            },
            "baxis": {
             "endlinecolor": "#2a3f5f",
             "gridcolor": "white",
             "linecolor": "white",
             "minorgridcolor": "white",
             "startlinecolor": "#2a3f5f"
            },
            "type": "carpet"
           }
          ],
          "choropleth": [
           {
            "colorbar": {
             "outlinewidth": 0,
             "ticks": ""
            },
            "type": "choropleth"
           }
          ],
          "contour": [
           {
            "colorbar": {
             "outlinewidth": 0,
             "ticks": ""
            },
            "colorscale": [
             [
              0,
              "#0d0887"
             ],
             [
              0.1111111111111111,
              "#46039f"
             ],
             [
              0.2222222222222222,
              "#7201a8"
             ],
             [
              0.3333333333333333,
              "#9c179e"
             ],
             [
              0.4444444444444444,
              "#bd3786"
             ],
             [
              0.5555555555555556,
              "#d8576b"
             ],
             [
              0.6666666666666666,
              "#ed7953"
             ],
             [
              0.7777777777777778,
              "#fb9f3a"
             ],
             [
              0.8888888888888888,
              "#fdca26"
             ],
             [
              1,
              "#f0f921"
             ]
            ],
            "type": "contour"
           }
          ],
          "contourcarpet": [
           {
            "colorbar": {
             "outlinewidth": 0,
             "ticks": ""
            },
            "type": "contourcarpet"
           }
          ],
          "heatmap": [
           {
            "colorbar": {
             "outlinewidth": 0,
             "ticks": ""
            },
            "colorscale": [
             [
              0,
              "#0d0887"
             ],
             [
              0.1111111111111111,
              "#46039f"
             ],
             [
              0.2222222222222222,
              "#7201a8"
             ],
             [
              0.3333333333333333,
              "#9c179e"
             ],
             [
              0.4444444444444444,
              "#bd3786"
             ],
             [
              0.5555555555555556,
              "#d8576b"
             ],
             [
              0.6666666666666666,
              "#ed7953"
             ],
             [
              0.7777777777777778,
              "#fb9f3a"
             ],
             [
              0.8888888888888888,
              "#fdca26"
             ],
             [
              1,
              "#f0f921"
             ]
            ],
            "type": "heatmap"
           }
          ],
          "heatmapgl": [
           {
            "colorbar": {
             "outlinewidth": 0,
             "ticks": ""
            },
            "colorscale": [
             [
              0,
              "#0d0887"
             ],
             [
              0.1111111111111111,
              "#46039f"
             ],
             [
              0.2222222222222222,
              "#7201a8"
             ],
             [
              0.3333333333333333,
              "#9c179e"
             ],
             [
              0.4444444444444444,
              "#bd3786"
             ],
             [
              0.5555555555555556,
              "#d8576b"
             ],
             [
              0.6666666666666666,
              "#ed7953"
             ],
             [
              0.7777777777777778,
              "#fb9f3a"
             ],
             [
              0.8888888888888888,
              "#fdca26"
             ],
             [
              1,
              "#f0f921"
             ]
            ],
            "type": "heatmapgl"
           }
          ],
          "histogram": [
           {
            "marker": {
             "pattern": {
              "fillmode": "overlay",
              "size": 10,
              "solidity": 0.2
             }
            },
            "type": "histogram"
           }
          ],
          "histogram2d": [
           {
            "colorbar": {
             "outlinewidth": 0,
             "ticks": ""
            },
            "colorscale": [
             [
              0,
              "#0d0887"
             ],
             [
              0.1111111111111111,
              "#46039f"
             ],
             [
              0.2222222222222222,
              "#7201a8"
             ],
             [
              0.3333333333333333,
              "#9c179e"
             ],
             [
              0.4444444444444444,
              "#bd3786"
             ],
             [
              0.5555555555555556,
              "#d8576b"
             ],
             [
              0.6666666666666666,
              "#ed7953"
             ],
             [
              0.7777777777777778,
              "#fb9f3a"
             ],
             [
              0.8888888888888888,
              "#fdca26"
             ],
             [
              1,
              "#f0f921"
             ]
            ],
            "type": "histogram2d"
           }
          ],
          "histogram2dcontour": [
           {
            "colorbar": {
             "outlinewidth": 0,
             "ticks": ""
            },
            "colorscale": [
             [
              0,
              "#0d0887"
             ],
             [
              0.1111111111111111,
              "#46039f"
             ],
             [
              0.2222222222222222,
              "#7201a8"
             ],
             [
              0.3333333333333333,
              "#9c179e"
             ],
             [
              0.4444444444444444,
              "#bd3786"
             ],
             [
              0.5555555555555556,
              "#d8576b"
             ],
             [
              0.6666666666666666,
              "#ed7953"
             ],
             [
              0.7777777777777778,
              "#fb9f3a"
             ],
             [
              0.8888888888888888,
              "#fdca26"
             ],
             [
              1,
              "#f0f921"
             ]
            ],
            "type": "histogram2dcontour"
           }
          ],
          "mesh3d": [
           {
            "colorbar": {
             "outlinewidth": 0,
             "ticks": ""
            },
            "type": "mesh3d"
           }
          ],
          "parcoords": [
           {
            "line": {
             "colorbar": {
              "outlinewidth": 0,
              "ticks": ""
             }
            },
            "type": "parcoords"
           }
          ],
          "pie": [
           {
            "automargin": true,
            "type": "pie"
           }
          ],
          "scatter": [
           {
            "marker": {
             "colorbar": {
              "outlinewidth": 0,
              "ticks": ""
             }
            },
            "type": "scatter"
           }
          ],
          "scatter3d": [
           {
            "line": {
             "colorbar": {
              "outlinewidth": 0,
              "ticks": ""
             }
            },
            "marker": {
             "colorbar": {
              "outlinewidth": 0,
              "ticks": ""
             }
            },
            "type": "scatter3d"
           }
          ],
          "scattercarpet": [
           {
            "marker": {
             "colorbar": {
              "outlinewidth": 0,
              "ticks": ""
             }
            },
            "type": "scattercarpet"
           }
          ],
          "scattergeo": [
           {
            "marker": {
             "colorbar": {
              "outlinewidth": 0,
              "ticks": ""
             }
            },
            "type": "scattergeo"
           }
          ],
          "scattergl": [
           {
            "marker": {
             "colorbar": {
              "outlinewidth": 0,
              "ticks": ""
             }
            },
            "type": "scattergl"
           }
          ],
          "scattermapbox": [
           {
            "marker": {
             "colorbar": {
              "outlinewidth": 0,
              "ticks": ""
             }
            },
            "type": "scattermapbox"
           }
          ],
          "scatterpolar": [
           {
            "marker": {
             "colorbar": {
              "outlinewidth": 0,
              "ticks": ""
             }
            },
            "type": "scatterpolar"
           }
          ],
          "scatterpolargl": [
           {
            "marker": {
             "colorbar": {
              "outlinewidth": 0,
              "ticks": ""
             }
            },
            "type": "scatterpolargl"
           }
          ],
          "scatterternary": [
           {
            "marker": {
             "colorbar": {
              "outlinewidth": 0,
              "ticks": ""
             }
            },
            "type": "scatterternary"
           }
          ],
          "surface": [
           {
            "colorbar": {
             "outlinewidth": 0,
             "ticks": ""
            },
            "colorscale": [
             [
              0,
              "#0d0887"
             ],
             [
              0.1111111111111111,
              "#46039f"
             ],
             [
              0.2222222222222222,
              "#7201a8"
             ],
             [
              0.3333333333333333,
              "#9c179e"
             ],
             [
              0.4444444444444444,
              "#bd3786"
             ],
             [
              0.5555555555555556,
              "#d8576b"
             ],
             [
              0.6666666666666666,
              "#ed7953"
             ],
             [
              0.7777777777777778,
              "#fb9f3a"
             ],
             [
              0.8888888888888888,
              "#fdca26"
             ],
             [
              1,
              "#f0f921"
             ]
            ],
            "type": "surface"
           }
          ],
          "table": [
           {
            "cells": {
             "fill": {
              "color": "#EBF0F8"
             },
             "line": {
              "color": "white"
             }
            },
            "header": {
             "fill": {
              "color": "#C8D4E3"
             },
             "line": {
              "color": "white"
             }
            },
            "type": "table"
           }
          ]
         },
         "layout": {
          "annotationdefaults": {
           "arrowcolor": "#2a3f5f",
           "arrowhead": 0,
           "arrowwidth": 1
          },
          "autotypenumbers": "strict",
          "coloraxis": {
           "colorbar": {
            "outlinewidth": 0,
            "ticks": ""
           }
          },
          "colorscale": {
           "diverging": [
            [
             0,
             "#8e0152"
            ],
            [
             0.1,
             "#c51b7d"
            ],
            [
             0.2,
             "#de77ae"
            ],
            [
             0.3,
             "#f1b6da"
            ],
            [
             0.4,
             "#fde0ef"
            ],
            [
             0.5,
             "#f7f7f7"
            ],
            [
             0.6,
             "#e6f5d0"
            ],
            [
             0.7,
             "#b8e186"
            ],
            [
             0.8,
             "#7fbc41"
            ],
            [
             0.9,
             "#4d9221"
            ],
            [
             1,
             "#276419"
            ]
           ],
           "sequential": [
            [
             0,
             "#0d0887"
            ],
            [
             0.1111111111111111,
             "#46039f"
            ],
            [
             0.2222222222222222,
             "#7201a8"
            ],
            [
             0.3333333333333333,
             "#9c179e"
            ],
            [
             0.4444444444444444,
             "#bd3786"
            ],
            [
             0.5555555555555556,
             "#d8576b"
            ],
            [
             0.6666666666666666,
             "#ed7953"
            ],
            [
             0.7777777777777778,
             "#fb9f3a"
            ],
            [
             0.8888888888888888,
             "#fdca26"
            ],
            [
             1,
             "#f0f921"
            ]
           ],
           "sequentialminus": [
            [
             0,
             "#0d0887"
            ],
            [
             0.1111111111111111,
             "#46039f"
            ],
            [
             0.2222222222222222,
             "#7201a8"
            ],
            [
             0.3333333333333333,
             "#9c179e"
            ],
            [
             0.4444444444444444,
             "#bd3786"
            ],
            [
             0.5555555555555556,
             "#d8576b"
            ],
            [
             0.6666666666666666,
             "#ed7953"
            ],
            [
             0.7777777777777778,
             "#fb9f3a"
            ],
            [
             0.8888888888888888,
             "#fdca26"
            ],
            [
             1,
             "#f0f921"
            ]
           ]
          },
          "colorway": [
           "#636efa",
           "#EF553B",
           "#00cc96",
           "#ab63fa",
           "#FFA15A",
           "#19d3f3",
           "#FF6692",
           "#B6E880",
           "#FF97FF",
           "#FECB52"
          ],
          "font": {
           "color": "#2a3f5f"
          },
          "geo": {
           "bgcolor": "white",
           "lakecolor": "white",
           "landcolor": "#E5ECF6",
           "showlakes": true,
           "showland": true,
           "subunitcolor": "white"
          },
          "hoverlabel": {
           "align": "left"
          },
          "hovermode": "closest",
          "mapbox": {
           "style": "light"
          },
          "paper_bgcolor": "white",
          "plot_bgcolor": "#E5ECF6",
          "polar": {
           "angularaxis": {
            "gridcolor": "white",
            "linecolor": "white",
            "ticks": ""
           },
           "bgcolor": "#E5ECF6",
           "radialaxis": {
            "gridcolor": "white",
            "linecolor": "white",
            "ticks": ""
           }
          },
          "scene": {
           "xaxis": {
            "backgroundcolor": "#E5ECF6",
            "gridcolor": "white",
            "gridwidth": 2,
            "linecolor": "white",
            "showbackground": true,
            "ticks": "",
            "zerolinecolor": "white"
           },
           "yaxis": {
            "backgroundcolor": "#E5ECF6",
            "gridcolor": "white",
            "gridwidth": 2,
            "linecolor": "white",
            "showbackground": true,
            "ticks": "",
            "zerolinecolor": "white"
           },
           "zaxis": {
            "backgroundcolor": "#E5ECF6",
            "gridcolor": "white",
            "gridwidth": 2,
            "linecolor": "white",
            "showbackground": true,
            "ticks": "",
            "zerolinecolor": "white"
           }
          },
          "shapedefaults": {
           "line": {
            "color": "#2a3f5f"
           }
          },
          "ternary": {
           "aaxis": {
            "gridcolor": "white",
            "linecolor": "white",
            "ticks": ""
           },
           "baxis": {
            "gridcolor": "white",
            "linecolor": "white",
            "ticks": ""
           },
           "bgcolor": "#E5ECF6",
           "caxis": {
            "gridcolor": "white",
            "linecolor": "white",
            "ticks": ""
           }
          },
          "title": {
           "x": 0.05
          },
          "xaxis": {
           "automargin": true,
           "gridcolor": "white",
           "linecolor": "white",
           "ticks": "",
           "title": {
            "standoff": 15
           },
           "zerolinecolor": "white",
           "zerolinewidth": 2
          },
          "yaxis": {
           "automargin": true,
           "gridcolor": "white",
           "linecolor": "white",
           "ticks": "",
           "title": {
            "standoff": 15
           },
           "zerolinecolor": "white",
           "zerolinewidth": 2
          }
         }
        },
        "title": {
         "text": "Ethnic Compositon in 2013 and 2019: Average for all Block Groups"
        },
        "xaxis": {
         "anchor": "y",
         "autorange": true,
         "domain": [
          0,
          1
         ],
         "range": [
          0,
          1.0526315789473684
         ],
         "title": {
          "text": "count"
         },
         "type": "linear"
        },
        "yaxis": {
         "anchor": "x",
         "autorange": true,
         "domain": [
          0,
          1
         ],
         "range": [
          -0.5,
          19.5
         ],
         "title": {
          "text": "value"
         },
         "type": "category"
        }
       }
      },
      "image/png": "[encoded data removed]",
      "text/html": [
       "<div>                            <div id=\"d14775fc-7e12-42fa-ba9f-fbc6a67c9402\" class=\"plotly-graph-div\" style=\"height:600px; width:100%;\"></div>            <script type=\"text/javascript\">                require([\"plotly\"], function(Plotly) {                    window.PLOTLYENV=window.PLOTLYENV || {};                                    if (document.getElementById(\"d14775fc-7e12-42fa-ba9f-fbc6a67c9402\")) {                    Plotly.newPlot(                        \"d14775fc-7e12-42fa-ba9f-fbc6a67c9402\",                        [{\"alignmentgroup\":\"True\",\"hovertemplate\":\"Year=2019<br>count=%{x}<br>value=%{y}<extra></extra>\",\"legendgroup\":\"2019\",\"marker\":{\"color\":\"#636efa\",\"line\":{\"width\":0},\"pattern\":{\"shape\":\"\"}},\"name\":\"2019\",\"offsetgroup\":\"2019\",\"orientation\":\"h\",\"showlegend\":true,\"textposition\":\"auto\",\"type\":\"bar\",\"x\":[1,1,1,1,1,1,1,1,1,1],\"xaxis\":\"x\",\"y\":[\"467.9354839\",\"386\",\"381\",\"234.1111111\",\"921\",\"586.4782609\",\"256.225\",\"67.07692308\",\"326.4814815\",\"500.58\"],\"yaxis\":\"y\"},{\"alignmentgroup\":\"True\",\"hovertemplate\":\"Year=2013<br>count=%{x}<br>value=%{y}<extra></extra>\",\"legendgroup\":\"2013\",\"marker\":{\"color\":\"#EF553B\",\"line\":{\"width\":0},\"pattern\":{\"shape\":\"\"}},\"name\":\"2013\",\"offsetgroup\":\"2013\",\"orientation\":\"h\",\"showlegend\":true,\"textposition\":\"auto\",\"type\":\"bar\",\"x\":[1,1,1,1,1,1,1,1,1,1],\"xaxis\":\"x\",\"y\":[\"361.5806452\",\"235.0967742\",\"272.1428571\",\"296.3888889\",\"567.0454545\",\"578.6956522\",\"233.8\",\"306.4615385\",\"351\",\"332.3\"],\"yaxis\":\"y\"}],                        {\"barmode\":\"group\",\"height\":600,\"legend\":{\"title\":{\"text\":\"Year\"},\"tracegroupgap\":0},\"template\":{\"data\":{\"bar\":[{\"error_x\":{\"color\":\"#2a3f5f\"},\"error_y\":{\"color\":\"#2a3f5f\"},\"marker\":{\"line\":{\"color\":\"#E5ECF6\",\"width\":0.5},\"pattern\":{\"fillmode\":\"overlay\",\"size\":10,\"solidity\":0.2}},\"type\":\"bar\"}],\"barpolar\":[{\"marker\":{\"line\":{\"color\":\"#E5ECF6\",\"width\":0.5},\"pattern\":{\"fillmode\":\"overlay\",\"size\":10,\"solidity\":0.2}},\"type\":\"barpolar\"}],\"carpet\":[{\"aaxis\":{\"endlinecolor\":\"#2a3f5f\",\"gridcolor\":\"white\",\"linecolor\":\"white\",\"minorgridcolor\":\"white\",\"startlinecolor\":\"#2a3f5f\"},\"baxis\":{\"endlinecolor\":\"#2a3f5f\",\"gridcolor\":\"white\",\"linecolor\":\"white\",\"minorgridcolor\":\"white\",\"startlinecolor\":\"#2a3f5f\"},\"type\":\"carpet\"}],\"choropleth\":[{\"colorbar\":{\"outlinewidth\":0,\"ticks\":\"\"},\"type\":\"choropleth\"}],\"contour\":[{\"colorbar\":{\"outlinewidth\":0,\"ticks\":\"\"},\"colorscale\":[[0.0,\"#0d0887\"],[0.1111111111111111,\"#46039f\"],[0.2222222222222222,\"#7201a8\"],[0.3333333333333333,\"#9c179e\"],[0.4444444444444444,\"#bd3786\"],[0.5555555555555556,\"#d8576b\"],[0.6666666666666666,\"#ed7953\"],[0.7777777777777778,\"#fb9f3a\"],[0.8888888888888888,\"#fdca26\"],[1.0,\"#f0f921\"]],\"type\":\"contour\"}],\"contourcarpet\":[{\"colorbar\":{\"outlinewidth\":0,\"ticks\":\"\"},\"type\":\"contourcarpet\"}],\"heatmap\":[{\"colorbar\":{\"outlinewidth\":0,\"ticks\":\"\"},\"colorscale\":[[0.0,\"#0d0887\"],[0.1111111111111111,\"#46039f\"],[0.2222222222222222,\"#7201a8\"],[0.3333333333333333,\"#9c179e\"],[0.4444444444444444,\"#bd3786\"],[0.5555555555555556,\"#d8576b\"],[0.6666666666666666,\"#ed7953\"],[0.7777777777777778,\"#fb9f3a\"],[0.8888888888888888,\"#fdca26\"],[1.0,\"#f0f921\"]],\"type\":\"heatmap\"}],\"heatmapgl\":[{\"colorbar\":{\"outlinewidth\":0,\"ticks\":\"\"},\"colorscale\":[[0.0,\"#0d0887\"],[0.1111111111111111,\"#46039f\"],[0.2222222222222222,\"#7201a8\"],[0.3333333333333333,\"#9c179e\"],[0.4444444444444444,\"#bd3786\"],[0.5555555555555556,\"#d8576b\"],[0.6666666666666666,\"#ed7953\"],[0.7777777777777778,\"#fb9f3a\"],[0.8888888888888888,\"#fdca26\"],[1.0,\"#f0f921\"]],\"type\":\"heatmapgl\"}],\"histogram\":[{\"marker\":{\"pattern\":{\"fillmode\":\"overlay\",\"size\":10,\"solidity\":0.2}},\"type\":\"histogram\"}],\"histogram2d\":[{\"colorbar\":{\"outlinewidth\":0,\"ticks\":\"\"},\"colorscale\":[[0.0,\"#0d0887\"],[0.1111111111111111,\"#46039f\"],[0.2222222222222222,\"#7201a8\"],[0.3333333333333333,\"#9c179e\"],[0.4444444444444444,\"#bd3786\"],[0.5555555555555556,\"#d8576b\"],[0.6666666666666666,\"#ed7953\"],[0.7777777777777778,\"#fb9f3a\"],[0.8888888888888888,\"#fdca26\"],[1.0,\"#f0f921\"]],\"type\":\"histogram2d\"}],\"histogram2dcontour\":[{\"colorbar\":{\"outlinewidth\":0,\"ticks\":\"\"},\"colorscale\":[[0.0,\"#0d0887\"],[0.1111111111111111,\"#46039f\"],[0.2222222222222222,\"#7201a8\"],[0.3333333333333333,\"#9c179e\"],[0.4444444444444444,\"#bd3786\"],[0.5555555555555556,\"#d8576b\"],[0.6666666666666666,\"#ed7953\"],[0.7777777777777778,\"#fb9f3a\"],[0.8888888888888888,\"#fdca26\"],[1.0,\"#f0f921\"]],\"type\":\"histogram2dcontour\"}],\"mesh3d\":[{\"colorbar\":{\"outlinewidth\":0,\"ticks\":\"\"},\"type\":\"mesh3d\"}],\"parcoords\":[{\"line\":{\"colorbar\":{\"outlinewidth\":0,\"ticks\":\"\"}},\"type\":\"parcoords\"}],\"pie\":[{\"automargin\":true,\"type\":\"pie\"}],\"scatter\":[{\"marker\":{\"colorbar\":{\"outlinewidth\":0,\"ticks\":\"\"}},\"type\":\"scatter\"}],\"scatter3d\":[{\"line\":{\"colorbar\":{\"outlinewidth\":0,\"ticks\":\"\"}},\"marker\":{\"colorbar\":{\"outlinewidth\":0,\"ticks\":\"\"}},\"type\":\"scatter3d\"}],\"scattercarpet\":[{\"marker\":{\"colorbar\":{\"outlinewidth\":0,\"ticks\":\"\"}},\"type\":\"scattercarpet\"}],\"scattergeo\":[{\"marker\":{\"colorbar\":{\"outlinewidth\":0,\"ticks\":\"\"}},\"type\":\"scattergeo\"}],\"scattergl\":[{\"marker\":{\"colorbar\":{\"outlinewidth\":0,\"ticks\":\"\"}},\"type\":\"scattergl\"}],\"scattermapbox\":[{\"marker\":{\"colorbar\":{\"outlinewidth\":0,\"ticks\":\"\"}},\"type\":\"scattermapbox\"}],\"scatterpolar\":[{\"marker\":{\"colorbar\":{\"outlinewidth\":0,\"ticks\":\"\"}},\"type\":\"scatterpolar\"}],\"scatterpolargl\":[{\"marker\":{\"colorbar\":{\"outlinewidth\":0,\"ticks\":\"\"}},\"type\":\"scatterpolargl\"}],\"scatterternary\":[{\"marker\":{\"colorbar\":{\"outlinewidth\":0,\"ticks\":\"\"}},\"type\":\"scatterternary\"}],\"surface\":[{\"colorbar\":{\"outlinewidth\":0,\"ticks\":\"\"},\"colorscale\":[[0.0,\"#0d0887\"],[0.1111111111111111,\"#46039f\"],[0.2222222222222222,\"#7201a8\"],[0.3333333333333333,\"#9c179e\"],[0.4444444444444444,\"#bd3786\"],[0.5555555555555556,\"#d8576b\"],[0.6666666666666666,\"#ed7953\"],[0.7777777777777778,\"#fb9f3a\"],[0.8888888888888888,\"#fdca26\"],[1.0,\"#f0f921\"]],\"type\":\"surface\"}],\"table\":[{\"cells\":{\"fill\":{\"color\":\"#EBF0F8\"},\"line\":{\"color\":\"white\"}},\"header\":{\"fill\":{\"color\":\"#C8D4E3\"},\"line\":{\"color\":\"white\"}},\"type\":\"table\"}]},\"layout\":{\"annotationdefaults\":{\"arrowcolor\":\"#2a3f5f\",\"arrowhead\":0,\"arrowwidth\":1},\"autotypenumbers\":\"strict\",\"coloraxis\":{\"colorbar\":{\"outlinewidth\":0,\"ticks\":\"\"}},\"colorscale\":{\"diverging\":[[0,\"#8e0152\"],[0.1,\"#c51b7d\"],[0.2,\"#de77ae\"],[0.3,\"#f1b6da\"],[0.4,\"#fde0ef\"],[0.5,\"#f7f7f7\"],[0.6,\"#e6f5d0\"],[0.7,\"#b8e186\"],[0.8,\"#7fbc41\"],[0.9,\"#4d9221\"],[1,\"#276419\"]],\"sequential\":[[0.0,\"#0d0887\"],[0.1111111111111111,\"#46039f\"],[0.2222222222222222,\"#7201a8\"],[0.3333333333333333,\"#9c179e\"],[0.4444444444444444,\"#bd3786\"],[0.5555555555555556,\"#d8576b\"],[0.6666666666666666,\"#ed7953\"],[0.7777777777777778,\"#fb9f3a\"],[0.8888888888888888,\"#fdca26\"],[1.0,\"#f0f921\"]],\"sequentialminus\":[[0.0,\"#0d0887\"],[0.1111111111111111,\"#46039f\"],[0.2222222222222222,\"#7201a8\"],[0.3333333333333333,\"#9c179e\"],[0.4444444444444444,\"#bd3786\"],[0.5555555555555556,\"#d8576b\"],[0.6666666666666666,\"#ed7953\"],[0.7777777777777778,\"#fb9f3a\"],[0.8888888888888888,\"#fdca26\"],[1.0,\"#f0f921\"]]},\"colorway\":[\"#636efa\",\"#EF553B\",\"#00cc96\",\"#ab63fa\",\"#FFA15A\",\"#19d3f3\",\"#FF6692\",\"#B6E880\",\"#FF97FF\",\"#FECB52\"],\"font\":{\"color\":\"#2a3f5f\"},\"geo\":{\"bgcolor\":\"white\",\"lakecolor\":\"white\",\"landcolor\":\"#E5ECF6\",\"showlakes\":true,\"showland\":true,\"subunitcolor\":\"white\"},\"hoverlabel\":{\"align\":\"left\"},\"hovermode\":\"closest\",\"mapbox\":{\"style\":\"light\"},\"paper_bgcolor\":\"white\",\"plot_bgcolor\":\"#E5ECF6\",\"polar\":{\"angularaxis\":{\"gridcolor\":\"white\",\"linecolor\":\"white\",\"ticks\":\"\"},\"bgcolor\":\"#E5ECF6\",\"radialaxis\":{\"gridcolor\":\"white\",\"linecolor\":\"white\",\"ticks\":\"\"}},\"scene\":{\"xaxis\":{\"backgroundcolor\":\"#E5ECF6\",\"gridcolor\":\"white\",\"gridwidth\":2,\"linecolor\":\"white\",\"showbackground\":true,\"ticks\":\"\",\"zerolinecolor\":\"white\"},\"yaxis\":{\"backgroundcolor\":\"#E5ECF6\",\"gridcolor\":\"white\",\"gridwidth\":2,\"linecolor\":\"white\",\"showbackground\":true,\"ticks\":\"\",\"zerolinecolor\":\"white\"},\"zaxis\":{\"backgroundcolor\":\"#E5ECF6\",\"gridcolor\":\"white\",\"gridwidth\":2,\"linecolor\":\"white\",\"showbackground\":true,\"ticks\":\"\",\"zerolinecolor\":\"white\"}},\"shapedefaults\":{\"line\":{\"color\":\"#2a3f5f\"}},\"ternary\":{\"aaxis\":{\"gridcolor\":\"white\",\"linecolor\":\"white\",\"ticks\":\"\"},\"baxis\":{\"gridcolor\":\"white\",\"linecolor\":\"white\",\"ticks\":\"\"},\"bgcolor\":\"#E5ECF6\",\"caxis\":{\"gridcolor\":\"white\",\"linecolor\":\"white\",\"ticks\":\"\"}},\"title\":{\"x\":0.05},\"xaxis\":{\"automargin\":true,\"gridcolor\":\"white\",\"linecolor\":\"white\",\"ticks\":\"\",\"title\":{\"standoff\":15},\"zerolinecolor\":\"white\",\"zerolinewidth\":2},\"yaxis\":{\"automargin\":true,\"gridcolor\":\"white\",\"linecolor\":\"white\",\"ticks\":\"\",\"title\":{\"standoff\":15},\"zerolinecolor\":\"white\",\"zerolinewidth\":2}}},\"title\":{\"text\":\"Ethnic Compositon in 2013 and 2019: Average for all Block Groups\"},\"xaxis\":{\"anchor\":\"y\",\"domain\":[0.0,1.0],\"title\":{\"text\":\"count\"}},\"yaxis\":{\"anchor\":\"x\",\"domain\":[0.0,1.0],\"title\":{\"text\":\"value\"}}},                        {\"responsive\": true}                    ).then(function(){\n",
       "                            \n",
       "var gd = document.getElementById('d14775fc-7e12-42fa-ba9f-fbc6a67c9402');\n",
       "var x = new MutationObserver(function (mutations, observer) {{\n",
       "        var display = window.getComputedStyle(gd).display;\n",
       "        if (!display || display === 'none') {{\n",
       "            console.log([gd, 'removed!']);\n",
       "            Plotly.purge(gd);\n",
       "            observer.disconnect();\n",
       "        }}\n",
       "}});\n",
       "\n",
       "// Listen for the removal of the full notebook cells\n",
       "var notebookContainer = gd.closest('#notebook-container');\n",
       "if (notebookContainer) {{\n",
       "    x.observe(notebookContainer, {childList: true});\n",
       "}}\n",
       "\n",
       "// Listen for the clearing of the current output cell\n",
       "var outputEl = gd.closest('.output');\n",
       "if (outputEl) {{\n",
       "    x.observe(outputEl, {childList: true});\n",
       "}}\n",
       "\n",
       "                        })                };                });            </script>        </div>"
      ]
     },
     "metadata": {},
     "output_type": "display_data"
    }
   ],
   "source": [
    "# a simple bar chart, putting date on the x-axis\n",
    "\n",
    "fig = px.bar(stationbuffer2,\n",
    "             y='index',\n",
    "             x=['Non Hispanic White'],\n",
    "             barmode='group',\n",
    "             height=600,\n",
    "             color='Year',\n",
    "             title=\"Ethnic Compositon in 2013 and 2019: Average for all Block Groups\",\n",
    "             #color_discrete_sequence=[\"#e9967a\",\"#a52a2a\"],\n",
    "             #labels={'Ethnicity':'Ethnicity','value':'# Residents', 'variable':'Year'}\n",
    "                     )\n",
    "\n",
    "# get rid of white lines inside the bars\n",
    "fig.update_traces(marker_line_width=0)\n",
    "\n",
    "# show the figure\n",
    "fig.show()"
   ]
  },
  {
   "cell_type": "markdown",
   "id": "b09a3bf6-c5c2-467c-a82f-cb82e8ebe71d",
   "metadata": {},
   "source": [
    "\n",
    "\n",
    "tod.plot(ax=ax,\n",
    "         color = 'black',\n",
    "         marker = \"D\",\n",
    "         markersize = 15,\n",
    "        label = tod.Station)\n",
    "\n",
    "brt.plot(ax=ax,\n",
    "         color = 'yellow',\n",
    "         marker = \"x\",\n",
    "         markersize = 25,\n",
    "        label = brt.Station)"
   ]
  },
  {
   "cell_type": "markdown",
   "id": "4e91e063-9a20-4478-9298-682d1802e0ba",
   "metadata": {},
   "source": [
    "fig, ax = plt.subplots(figsize=(12,12))\n",
    "\n",
    "# block groups\n",
    "ethindex_wm.plot(ax=ax, # this puts it in the ax plot\n",
    "        color='gray', \n",
    "        edgecolor='white',\n",
    "        alpha=0.5)\n",
    "buffer_plot.plot(ax=ax,\n",
    "           column = 'Index 2019',\n",
    "         cmap='coolwarm', \n",
    "         edgecolor='white',\n",
    "         alpha=0.8,\n",
    "           scheme='naturalbreaks',\n",
    "            linewidth=0.3,\n",
    "            legend=True)\n",
    "\n",
    "ax.set_xlim(minx - 2000, maxx + 2000) \n",
    "ax.set_ylim(miny - 2000, maxy + 2000)\n",
    "ax.axis('off')\n",
    "ax.set_title('Change in Block Groups who spend >30% of their income on rent',fontsize=15,pad=18)\n",
    "\n",
    "# add a basemap\n",
    "ctx.add_basemap(ax,source=ctx.providers.CartoDB.Positron)"
   ]
  },
  {
   "cell_type": "code",
   "execution_count": null,
   "id": "7bb8f5fb-2532-4fce-a787-dbe45eb92260",
   "metadata": {},
   "outputs": [],
   "source": []
  },
  {
   "cell_type": "markdown",
   "id": "49278c34-ff16-4ce7-9cdd-62a7af20e4a7",
   "metadata": {},
   "source": [
    "maps = folium.Map(location = [37.8,-121.870118961256], tiles = \"CartoDB positron\", zoom_start = 11)\n",
    "\n",
    "folium.Choropleth(\n",
    "    geo_data=buffer_plot,\n",
    "    name=\"choropleth\",\n",
    "    data=buffer_plot,\n",
    "    columns=[\"Station\", \"Index 2019\"],\n",
    "    key_on=\"feature.id\",\n",
    "    fill_color=\"YlGn\",\n",
    "    fill_opacity=0.7,\n",
    "    line_opacity=0.2,\n",
    "    legend_name=\"Unemployment Rate (%)\",\n",
    ").add_to(maps)\n",
    "\n",
    "\n",
    "folium.LayerControl().add_to(m)\n",
    "\n",
    "m\n",
    "for _, r in buffer_plot.iterrows():\n",
    "    # Without simplifying the representation of each borough,\n",
    "    # the map might not be displayed\n",
    "    geo_j = folium.GeoJson(data=buffer_plot,\n",
    "                           style_function=lambda x: {'fillColor': 'orange'})\n",
    "    folium.Popup(r['Station']).add_to(geo_j)\n",
    "    geo_j.add_to(maps)\n",
    "maps"
   ]
  },
  {
   "cell_type": "markdown",
   "id": "608e6153-0539-4a5e-a762-96ba09896605",
   "metadata": {},
   "source": [
    "fig = px.choropleth_mapbox(buffer_plot, geojson=buffer_plot, locations='geometry', color='Station',\n",
    "                           color_continuous_scale=\"Viridis\",\n",
    "                           range_color=(0, 12),\n",
    "                           mapbox_style=\"carto-positron\",\n",
    "                           zoom=3, center = {\"lat\": 37.666429, \"lon\": -122.057218},\n",
    "                           opacity=0.5,\n",
    "                           #labels={'Station':'unemployment rate'}\n",
    "                          )\n",
    "fig.update_layout(margin={\"r\":0,\"t\":0,\"l\":0,\"b\":0})\n",
    "fig.show()"
   ]
  },
  {
   "cell_type": "code",
   "execution_count": null,
   "id": "d1e90cd6-31de-4daf-9b30-89734878922b",
   "metadata": {},
   "outputs": [],
   "source": []
  }
 ],
 "metadata": {
  "kernelspec": {
   "display_name": "Python 3 (ipykernel)",
   "language": "python",
   "name": "python3"
  },
  "language_info": {
   "codemirror_mode": {
    "name": "ipython",
    "version": 3
   },
   "file_extension": ".py",
   "mimetype": "text/x-python",
   "name": "python",
   "nbconvert_exporter": "python",
   "pygments_lexer": "ipython3",
   "version": "3.9.6"
  }
 },
 "nbformat": 4,
 "nbformat_minor": 5
}
