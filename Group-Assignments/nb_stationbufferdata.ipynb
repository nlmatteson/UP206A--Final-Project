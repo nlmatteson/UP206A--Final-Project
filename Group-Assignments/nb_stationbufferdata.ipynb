{
 "cells": [
  {
   "cell_type": "markdown",
   "id": "8bc797d7-be08-4e78-be70-34bbb0b2b19b",
   "metadata": {},
   "source": [
    "# demographic detail for each station area\n"
   ]
  },
  {
   "cell_type": "code",
   "execution_count": 1,
   "id": "e384c2a7-e068-4054-b53e-8efc53afcb2f",
   "metadata": {},
   "outputs": [
    {
     "name": "stderr",
     "output_type": "stream",
     "text": [
      "/opt/conda/lib/python3.9/site-packages/geopandas/_compat.py:106: UserWarning: The Shapely GEOS version (3.9.1-CAPI-1.14.2) is incompatible with the GEOS version PyGEOS was compiled with (3.10.1-CAPI-1.16.0). Conversions between both will be slow.\n",
      "  warnings.warn(\n"
     ]
    }
   ],
   "source": [
    "import pandas as pd\n",
    "\n",
    "# for spatial data\n",
    "import geopandas as gpd\n",
    "\n",
    "# for plotting\n",
    "import matplotlib.pyplot as plt\n",
    "# for basemaps\n",
    "import contextily as ctx\n",
    "\n",
    "import folium\n",
    "from folium.plugins import MarkerCluster\n",
    "import pandas as pd\n",
    "\n",
    "import plotly.express as px"
   ]
  },
  {
   "cell_type": "code",
   "execution_count": 2,
   "id": "96047e58-fcea-43cb-ae39-13f32f1c36d6",
   "metadata": {},
   "outputs": [
    {
     "ename": "SyntaxError",
     "evalue": "invalid syntax (27034682.py, line 5)",
     "output_type": "error",
     "traceback": [
      "\u001b[0;36m  File \u001b[0;32m\"/tmp/ipykernel_109/27034682.py\"\u001b[0;36m, line \u001b[0;32m5\u001b[0m\n\u001b[0;31m    stationarea['lon']=station.geometry.x\u001b[0m\n\u001b[0m    ^\u001b[0m\n\u001b[0;31mSyntaxError\u001b[0m\u001b[0;31m:\u001b[0m invalid syntax\n"
     ]
    }
   ],
   "source": [
    "stationarea=gpd.read_file(\"stationarea.geojson\")\n",
    "station=gpd.read_file(\"stations.geojson\")\n",
    "ethdf=gpd.read_file(\n",
    "index=gpd.read_file(\"iqv_average.csv\")\n",
    "stationarea['lon']=station.geometry.x\n",
    "stationarea['lat']=station.geometry.y\n",
    "tod=stationarea[stationarea['TOD']=='Yes']\n",
    "ntod=stationarea[stationarea['TOD']=='No']\n",
    "station=gpd.read_file('stations.geojson')\n",
    "tod2=station[stationarea['TOD']=='Yes']\n",
    "ntod2=station[stationarea['TOD']=='No']"
   ]
  },
  {
   "cell_type": "code",
   "execution_count": null,
   "id": "60e88b6e-3d8e-4c2e-8742-9c0b63ef837c",
   "metadata": {},
   "outputs": [],
   "source": []
  },
  {
   "cell_type": "code",
   "execution_count": 3,
   "id": "6ff5574d-6ec0-4d6b-bb36-d3206080820c",
   "metadata": {},
   "outputs": [
    {
     "ename": "NameError",
     "evalue": "name 'ethdf' is not defined",
     "output_type": "error",
     "traceback": [
      "\u001b[0;31m---------------------------------------------------------------------------\u001b[0m",
      "\u001b[0;31mNameError\u001b[0m                                 Traceback (most recent call last)",
      "\u001b[0;32m/tmp/ipykernel_109/518929275.py\u001b[0m in \u001b[0;36m<module>\u001b[0;34m\u001b[0m\n\u001b[0;32m----> 1\u001b[0;31m \u001b[0methdf\u001b[0m\u001b[0;34m.\u001b[0m\u001b[0minfo\u001b[0m\u001b[0;34m(\u001b[0m\u001b[0;34m)\u001b[0m\u001b[0;34m\u001b[0m\u001b[0;34m\u001b[0m\u001b[0m\n\u001b[0m",
      "\u001b[0;31mNameError\u001b[0m: name 'ethdf' is not defined"
     ]
    }
   ],
   "source": [
    "ethdf.info()"
   ]
  },
  {
   "cell_type": "code",
   "execution_count": 4,
   "id": "008a7c07-3a33-4d48-8ef6-cb43435586a9",
   "metadata": {},
   "outputs": [],
   "source": [
    "df2=gpd.overlay(tod,ethdf, how='intersection')"
   ]
  },
  {
   "cell_type": "code",
   "execution_count": 5,
   "id": "daa88196-8335-4d20-a3bc-9f4af145a2f3",
   "metadata": {},
   "outputs": [],
   "source": [
    "df2.to_csv(r'df2.csv')"
   ]
  },
  {
   "cell_type": "code",
   "execution_count": 20,
   "id": "d819b676-1c4e-4aba-97d2-fa9b04b9a979",
   "metadata": {},
   "outputs": [
    {
     "data": {
      "text/html": [
       "<div>\n",
       "<style scoped>\n",
       "    .dataframe tbody tr th:only-of-type {\n",
       "        vertical-align: middle;\n",
       "    }\n",
       "\n",
       "    .dataframe tbody tr th {\n",
       "        vertical-align: top;\n",
       "    }\n",
       "\n",
       "    .dataframe thead th {\n",
       "        text-align: right;\n",
       "    }\n",
       "</style>\n",
       "<table border=\"1\" class=\"dataframe\">\n",
       "  <thead>\n",
       "    <tr style=\"text-align: right;\">\n",
       "      <th></th>\n",
       "      <th>Station</th>\n",
       "      <th>City</th>\n",
       "      <th>Code</th>\n",
       "      <th>TOD</th>\n",
       "      <th>County</th>\n",
       "      <th>Marker</th>\n",
       "      <th>buffer_polygon</th>\n",
       "      <th>geometry</th>\n",
       "      <th>lon</th>\n",
       "      <th>lat</th>\n",
       "    </tr>\n",
       "  </thead>\n",
       "  <tbody>\n",
       "    <tr>\n",
       "      <th>0</th>\n",
       "      <td>ASHBY</td>\n",
       "      <td>Berkeley</td>\n",
       "      <td>BKY</td>\n",
       "      <td>Yes</td>\n",
       "      <td>ALA</td>\n",
       "      <td>D</td>\n",
       "      <td>POLYGON ((563770.9742351742 4188779.586837385,...</td>\n",
       "      <td>POLYGON ((-122.27519 37.84423, -122.27886 37.8...</td>\n",
       "      <td>-122.270119</td>\n",
       "      <td>37.853207</td>\n",
       "    </tr>\n",
       "    <tr>\n",
       "      <th>1</th>\n",
       "      <td>MACARTHUR</td>\n",
       "      <td>Oakland</td>\n",
       "      <td>OAK</td>\n",
       "      <td>Yes</td>\n",
       "      <td>ALA</td>\n",
       "      <td>D</td>\n",
       "      <td>POLYGON ((563693.8852295046 4186061.965723997,...</td>\n",
       "      <td>POLYGON ((-122.27631 37.81974, -122.27785 37.8...</td>\n",
       "      <td>-122.267120</td>\n",
       "      <td>37.828705</td>\n",
       "    </tr>\n",
       "    <tr>\n",
       "      <th>2</th>\n",
       "      <td>HAYWARD</td>\n",
       "      <td>Hayward</td>\n",
       "      <td>HAY</td>\n",
       "      <td>Yes</td>\n",
       "      <td>ALA</td>\n",
       "      <td>D</td>\n",
       "      <td>POLYGON ((580092.9554610827 4168606.360613972,...</td>\n",
       "      <td>POLYGON ((-122.09192 37.66114, -122.09221 37.6...</td>\n",
       "      <td>-122.087204</td>\n",
       "      <td>37.670124</td>\n",
       "    </tr>\n",
       "    <tr>\n",
       "      <th>3</th>\n",
       "      <td>SOUTH HAYWARD</td>\n",
       "      <td>Hayward</td>\n",
       "      <td>HAY</td>\n",
       "      <td>Yes</td>\n",
       "      <td>ALA</td>\n",
       "      <td>D</td>\n",
       "      <td>POLYGON ((582418.4676641112 4164677.51896479, ...</td>\n",
       "      <td>POLYGON ((-122.06600 37.62552, -122.06785 37.6...</td>\n",
       "      <td>-122.057037</td>\n",
       "      <td>37.634483</td>\n",
       "    </tr>\n",
       "    <tr>\n",
       "      <th>4</th>\n",
       "      <td>FRUITVALE</td>\n",
       "      <td>Oakland</td>\n",
       "      <td>OAK</td>\n",
       "      <td>Yes</td>\n",
       "      <td>ALA</td>\n",
       "      <td>D</td>\n",
       "      <td>POLYGON ((567336.267085615 4180096.87365391, 5...</td>\n",
       "      <td>POLYGON ((-122.23548 37.76572, -122.23554 37.7...</td>\n",
       "      <td>-122.224197</td>\n",
       "      <td>37.774559</td>\n",
       "    </tr>\n",
       "  </tbody>\n",
       "</table>\n",
       "</div>"
      ],
      "text/plain": [
       "         Station      City Code  TOD County Marker  \\\n",
       "0          ASHBY  Berkeley  BKY  Yes    ALA      D   \n",
       "1      MACARTHUR   Oakland  OAK  Yes    ALA      D   \n",
       "2        HAYWARD   Hayward  HAY  Yes    ALA      D   \n",
       "3  SOUTH HAYWARD   Hayward  HAY  Yes    ALA      D   \n",
       "4      FRUITVALE   Oakland  OAK  Yes    ALA      D   \n",
       "\n",
       "                                      buffer_polygon  \\\n",
       "0  POLYGON ((563770.9742351742 4188779.586837385,...   \n",
       "1  POLYGON ((563693.8852295046 4186061.965723997,...   \n",
       "2  POLYGON ((580092.9554610827 4168606.360613972,...   \n",
       "3  POLYGON ((582418.4676641112 4164677.51896479, ...   \n",
       "4  POLYGON ((567336.267085615 4180096.87365391, 5...   \n",
       "\n",
       "                                            geometry         lon        lat  \n",
       "0  POLYGON ((-122.27519 37.84423, -122.27886 37.8... -122.270119  37.853207  \n",
       "1  POLYGON ((-122.27631 37.81974, -122.27785 37.8... -122.267120  37.828705  \n",
       "2  POLYGON ((-122.09192 37.66114, -122.09221 37.6... -122.087204  37.670124  \n",
       "3  POLYGON ((-122.06600 37.62552, -122.06785 37.6... -122.057037  37.634483  \n",
       "4  POLYGON ((-122.23548 37.76572, -122.23554 37.7... -122.224197  37.774559  "
      ]
     },
     "execution_count": 20,
     "metadata": {},
     "output_type": "execute_result"
    }
   ],
   "source": [
    "tod"
   ]
  },
  {
   "cell_type": "code",
   "execution_count": null,
   "id": "fc8205a6-732c-4bd9-9117-1343c7d2c6a1",
   "metadata": {},
   "outputs": [],
   "source": [
    "ASHBY2=df2[df2['Station']=='ASHBY']\n",
    "MACARTHUR2=df2[df2['Station']=='MACARTHUR']\n",
    "HAYWARD2=df2[df2['Station']=='HAYWARD']\n",
    "SOUTHH2=df2[df2['Station']=='SOUTH HAYWARD']\n",
    "FRUITVALE2=df2[df2['Station']=='FRUITVALE']"
   ]
  },
  {
   "cell_type": "code",
   "execution_count": null,
   "id": "c2b9394d-5bd5-4ec0-8ade-d7a2867af957",
   "metadata": {},
   "outputs": [],
   "source": [
    "df3=df2[['Station',\n",
    " 'Total_2019',\n",
    " 'Non Hispanic_2019',\n",
    " 'Non Hispanic White_2019',\n",
    " 'Non Hispanic Black_2019',\n",
    " 'Non Hispanic American Indian and Alaska Native_2019',\n",
    " 'Non Hispanic Asian_2019',\n",
    " 'Non Hispanic Native Hawaiian and Other Pacific Islander_2019',\n",
    " 'Non Hispanic Some other race_2019',\n",
    " 'Non Hispanic Two or more races_2019',\n",
    " 'Hispanic_2019',\n",
    " 'Total_2013',\n",
    " 'Non Hispanic_2013',\n",
    " 'Non Hispanic White_2013',\n",
    " 'Non Hispanic Black_2013',\n",
    " 'Non Hispanic American Indian and Alaska Native_2013',\n",
    " 'Non Hispanic Asian_2013',\n",
    " 'Non Hispanic Native Hawaiian and Other Pacific Islander_2013',\n",
    " 'Non Hispanic Some other race_2013',\n",
    " 'Non Hispanic Two or more races_2013',\n",
    " 'Hispanic_2013']]"
   ]
  },
  {
   "cell_type": "code",
   "execution_count": 68,
   "id": "ff6f72b0-c246-4ef9-8fef-d9e810b1c86d",
   "metadata": {},
   "outputs": [],
   "source": [
    "st=station['Station'].to_list()"
   ]
  },
  {
   "cell_type": "code",
   "execution_count": 70,
   "id": "b091c2ca-2398-4dd0-9ebc-908a3a3230fb",
   "metadata": {},
   "outputs": [
    {
     "ename": "AttributeError",
     "evalue": "'list' object attribute 'append' is read-only",
     "output_type": "error",
     "traceback": [
      "\u001b[0;31m---------------------------------------------------------------------------\u001b[0m",
      "\u001b[0;31mAttributeError\u001b[0m                            Traceback (most recent call last)",
      "\u001b[0;32m/tmp/ipykernel_1306/4095823830.py\u001b[0m in \u001b[0;36m<module>\u001b[0;34m\u001b[0m\n\u001b[1;32m      4\u001b[0m     \u001b[0;32mfor\u001b[0m \u001b[0mi\u001b[0m \u001b[0;32min\u001b[0m \u001b[0mdf3\u001b[0m\u001b[0;34m.\u001b[0m\u001b[0miterrows\u001b[0m\u001b[0;34m(\u001b[0m\u001b[0;34m)\u001b[0m\u001b[0;34m:\u001b[0m\u001b[0;34m\u001b[0m\u001b[0;34m\u001b[0m\u001b[0m\n\u001b[1;32m      5\u001b[0m         \u001b[0mfy\u001b[0m\u001b[0;34m=\u001b[0m\u001b[0mdf3\u001b[0m\u001b[0;34m[\u001b[0m\u001b[0mdf3\u001b[0m\u001b[0;34m[\u001b[0m\u001b[0;34m'Station'\u001b[0m\u001b[0;34m]\u001b[0m\u001b[0;34m==\u001b[0m\u001b[0mx\u001b[0m\u001b[0;34m]\u001b[0m\u001b[0;34m.\u001b[0m\u001b[0msum\u001b[0m\u001b[0;34m(\u001b[0m\u001b[0maxis\u001b[0m\u001b[0;34m=\u001b[0m\u001b[0;36m0\u001b[0m\u001b[0;34m)\u001b[0m\u001b[0;34m.\u001b[0m\u001b[0mto_frame\u001b[0m\u001b[0;34m(\u001b[0m\u001b[0;34m)\u001b[0m\u001b[0;34m\u001b[0m\u001b[0;34m\u001b[0m\u001b[0m\n\u001b[0;32m----> 6\u001b[0;31m         \u001b[0mdfy\u001b[0m\u001b[0;34m.\u001b[0m\u001b[0mappend\u001b[0m\u001b[0;34m=\u001b[0m\u001b[0mfy\u001b[0m\u001b[0;34m\u001b[0m\u001b[0;34m\u001b[0m\u001b[0m\n\u001b[0m\u001b[1;32m      7\u001b[0m     \u001b[0mcool\u001b[0m\u001b[0;34m.\u001b[0m\u001b[0mappend\u001b[0m\u001b[0;34m=\u001b[0m\u001b[0mdfy\u001b[0m\u001b[0;34m\u001b[0m\u001b[0;34m\u001b[0m\u001b[0m\n",
      "\u001b[0;31mAttributeError\u001b[0m: 'list' object attribute 'append' is read-only"
     ]
    }
   ],
   "source": [
    "cool=[]\n",
    "for s in st:\n",
    "    dfy=[]\n",
    "    for i in df3.iterrows():\n",
    "        fy=df3[df3['Station']==x].sum(axis=0).to_frame()\n",
    "        "
   ]
  },
  {
   "cell_type": "code",
   "execution_count": null,
   "id": "d04b4cf6-d404-4e88-b088-753f1e5dbfa3",
   "metadata": {},
   "outputs": [],
   "source": []
  }
 ],
 "metadata": {
  "kernelspec": {
   "display_name": "Python 3 (ipykernel)",
   "language": "python",
   "name": "python3"
  },
  "language_info": {
   "codemirror_mode": {
    "name": "ipython",
    "version": 3
   },
   "file_extension": ".py",
   "mimetype": "text/x-python",
   "name": "python",
   "nbconvert_exporter": "python",
   "pygments_lexer": "ipython3",
   "version": "3.9.6"
  }
 },
 "nbformat": 4,
 "nbformat_minor": 5
}
