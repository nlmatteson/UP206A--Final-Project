{
 "cells": [
  {
   "cell_type": "markdown",
   "id": "14ffab72-1e3a-4fe1-ab3b-53951fceb16d",
   "metadata": {},
   "source": [
    "# Ethnicity Alameda 2011 to 2019\n",
    "\n",
    "Plotting graphs and maps"
   ]
  },
  {
   "cell_type": "code",
   "execution_count": 1,
   "id": "2f28c215-cb9c-4373-96a1-2cf353dd9000",
   "metadata": {},
   "outputs": [
    {
     "name": "stderr",
     "output_type": "stream",
     "text": [
      "/opt/conda/lib/python3.9/site-packages/geopandas/_compat.py:106: UserWarning: The Shapely GEOS version (3.9.1-CAPI-1.14.2) is incompatible with the GEOS version PyGEOS was compiled with (3.10.1-CAPI-1.16.0). Conversions between both will be slow.\n",
      "  warnings.warn(\n"
     ]
    }
   ],
   "source": [
    "import pandas as pd\n",
    "import geopandas as gpd\n",
    "import contextily as ctx\n",
    "import matplotlib.pyplot as plt\n",
    "import numpy as np"
   ]
  },
  {
   "cell_type": "code",
   "execution_count": 2,
   "id": "86aa02b4-e586-4c08-9b49-6740f11ba2fa",
   "metadata": {},
   "outputs": [],
   "source": [
    "ethnala=gpd.read_file('ealamed2.geojson')"
   ]
  },
  {
   "cell_type": "code",
   "execution_count": 3,
   "id": "d18a52a5-42a3-4e13-a4ba-de30a1d9d950",
   "metadata": {},
   "outputs": [
    {
     "data": {
      "text/html": [
       "<div>\n",
       "<style scoped>\n",
       "    .dataframe tbody tr th:only-of-type {\n",
       "        vertical-align: middle;\n",
       "    }\n",
       "\n",
       "    .dataframe tbody tr th {\n",
       "        vertical-align: top;\n",
       "    }\n",
       "\n",
       "    .dataframe thead th {\n",
       "        text-align: right;\n",
       "    }\n",
       "</style>\n",
       "<table border=\"1\" class=\"dataframe\">\n",
       "  <thead>\n",
       "    <tr style=\"text-align: right;\">\n",
       "      <th></th>\n",
       "      <th>GEOID</th>\n",
       "      <th>NAME</th>\n",
       "      <th>Total_2019</th>\n",
       "      <th>Non Hispanic_2019</th>\n",
       "      <th>Non Hispanic White_2019</th>\n",
       "      <th>Non Hispanic Black_2019</th>\n",
       "      <th>Non Hispanic American Indian and Alaska Native_2019</th>\n",
       "      <th>Non Hispanic Asian_2019</th>\n",
       "      <th>Non Hispanic Native Hawaiian and Other Pacific Islander_2019</th>\n",
       "      <th>Non Hispanic Some other race_2019</th>\n",
       "      <th>...</th>\n",
       "      <th>Non Hispanic_change</th>\n",
       "      <th>Non Hispanic White_change</th>\n",
       "      <th>Non Hispanic Black_change</th>\n",
       "      <th>Non Hispanic American Indian and Alaska Native_change</th>\n",
       "      <th>Non Hispanic Asian_change</th>\n",
       "      <th>Non Hispanic Native Hawaiian and Other Pacific Islander_change</th>\n",
       "      <th>Non Hispanic Some other race_change</th>\n",
       "      <th>Non Hispanic Two or more races_change</th>\n",
       "      <th>Hispanic_change</th>\n",
       "      <th>geometry</th>\n",
       "    </tr>\n",
       "  </thead>\n",
       "  <tbody>\n",
       "    <tr>\n",
       "      <th>0</th>\n",
       "      <td>14000US06001400100</td>\n",
       "      <td>Census Tract 4001, Alameda, CA</td>\n",
       "      <td>3120.0</td>\n",
       "      <td>3002.0</td>\n",
       "      <td>2317.0</td>\n",
       "      <td>107.0</td>\n",
       "      <td>0.0</td>\n",
       "      <td>391.0</td>\n",
       "      <td>0.0</td>\n",
       "      <td>0.0</td>\n",
       "      <td>...</td>\n",
       "      <td>26.880811</td>\n",
       "      <td>22.333685</td>\n",
       "      <td>-13.709677</td>\n",
       "      <td>NaN</td>\n",
       "      <td>71.491228</td>\n",
       "      <td>-100.0</td>\n",
       "      <td>NaN</td>\n",
       "      <td>79.807692</td>\n",
       "      <td>38.823529</td>\n",
       "      <td>MULTIPOLYGON (((-122.24692 37.88544, -122.2466...</td>\n",
       "    </tr>\n",
       "    <tr>\n",
       "      <th>1</th>\n",
       "      <td>14000US06001400200</td>\n",
       "      <td>Census Tract 4002, Alameda, CA</td>\n",
       "      <td>2007.0</td>\n",
       "      <td>1833.0</td>\n",
       "      <td>1475.0</td>\n",
       "      <td>52.0</td>\n",
       "      <td>4.0</td>\n",
       "      <td>171.0</td>\n",
       "      <td>0.0</td>\n",
       "      <td>0.0</td>\n",
       "      <td>...</td>\n",
       "      <td>-4.231975</td>\n",
       "      <td>0.340136</td>\n",
       "      <td>-27.777778</td>\n",
       "      <td>-69.230769</td>\n",
       "      <td>-26.293103</td>\n",
       "      <td>NaN</td>\n",
       "      <td>-100.000000</td>\n",
       "      <td>11.965812</td>\n",
       "      <td>-7.936508</td>\n",
       "      <td>MULTIPOLYGON (((-122.25792 37.84261, -122.2577...</td>\n",
       "    </tr>\n",
       "    <tr>\n",
       "      <th>2</th>\n",
       "      <td>14000US06001400300</td>\n",
       "      <td>Census Tract 4003, Alameda, CA</td>\n",
       "      <td>5051.0</td>\n",
       "      <td>4700.0</td>\n",
       "      <td>3434.0</td>\n",
       "      <td>459.0</td>\n",
       "      <td>0.0</td>\n",
       "      <td>590.0</td>\n",
       "      <td>23.0</td>\n",
       "      <td>97.0</td>\n",
       "      <td>...</td>\n",
       "      <td>1.577696</td>\n",
       "      <td>-3.049125</td>\n",
       "      <td>-21.404110</td>\n",
       "      <td>-100.000000</td>\n",
       "      <td>102.749141</td>\n",
       "      <td>NaN</td>\n",
       "      <td>NaN</td>\n",
       "      <td>-43.274854</td>\n",
       "      <td>-23.861171</td>\n",
       "      <td>MULTIPOLYGON (((-122.26563 37.83764, -122.2655...</td>\n",
       "    </tr>\n",
       "    <tr>\n",
       "      <th>3</th>\n",
       "      <td>14000US06001400400</td>\n",
       "      <td>Census Tract 4004, Alameda, CA</td>\n",
       "      <td>4007.0</td>\n",
       "      <td>3522.0</td>\n",
       "      <td>2554.0</td>\n",
       "      <td>266.0</td>\n",
       "      <td>35.0</td>\n",
       "      <td>420.0</td>\n",
       "      <td>0.0</td>\n",
       "      <td>0.0</td>\n",
       "      <td>...</td>\n",
       "      <td>0.830232</td>\n",
       "      <td>-2.667683</td>\n",
       "      <td>-21.533923</td>\n",
       "      <td>20.689655</td>\n",
       "      <td>165.822785</td>\n",
       "      <td>NaN</td>\n",
       "      <td>-100.000000</td>\n",
       "      <td>-11.151079</td>\n",
       "      <td>7.777778</td>\n",
       "      <td>MULTIPOLYGON (((-122.26183 37.84162, -122.2618...</td>\n",
       "    </tr>\n",
       "    <tr>\n",
       "      <th>4</th>\n",
       "      <td>14000US06001400500</td>\n",
       "      <td>Census Tract 4005, Alameda, CA</td>\n",
       "      <td>4124.0</td>\n",
       "      <td>3734.0</td>\n",
       "      <td>1874.0</td>\n",
       "      <td>882.0</td>\n",
       "      <td>0.0</td>\n",
       "      <td>446.0</td>\n",
       "      <td>22.0</td>\n",
       "      <td>6.0</td>\n",
       "      <td>...</td>\n",
       "      <td>19.679487</td>\n",
       "      <td>12.350120</td>\n",
       "      <td>-17.260788</td>\n",
       "      <td>-100.000000</td>\n",
       "      <td>139.784946</td>\n",
       "      <td>NaN</td>\n",
       "      <td>-57.142857</td>\n",
       "      <td>188.000000</td>\n",
       "      <td>8.033241</td>\n",
       "      <td>MULTIPOLYGON (((-122.26951 37.84858, -122.2693...</td>\n",
       "    </tr>\n",
       "  </tbody>\n",
       "</table>\n",
       "<p>5 rows × 53 columns</p>\n",
       "</div>"
      ],
      "text/plain": [
       "                GEOID                            NAME  Total_2019  \\\n",
       "0  14000US06001400100  Census Tract 4001, Alameda, CA      3120.0   \n",
       "1  14000US06001400200  Census Tract 4002, Alameda, CA      2007.0   \n",
       "2  14000US06001400300  Census Tract 4003, Alameda, CA      5051.0   \n",
       "3  14000US06001400400  Census Tract 4004, Alameda, CA      4007.0   \n",
       "4  14000US06001400500  Census Tract 4005, Alameda, CA      4124.0   \n",
       "\n",
       "   Non Hispanic_2019  Non Hispanic White_2019  Non Hispanic Black_2019  \\\n",
       "0             3002.0                   2317.0                    107.0   \n",
       "1             1833.0                   1475.0                     52.0   \n",
       "2             4700.0                   3434.0                    459.0   \n",
       "3             3522.0                   2554.0                    266.0   \n",
       "4             3734.0                   1874.0                    882.0   \n",
       "\n",
       "   Non Hispanic American Indian and Alaska Native_2019  \\\n",
       "0                                                0.0     \n",
       "1                                                4.0     \n",
       "2                                                0.0     \n",
       "3                                               35.0     \n",
       "4                                                0.0     \n",
       "\n",
       "   Non Hispanic Asian_2019  \\\n",
       "0                    391.0   \n",
       "1                    171.0   \n",
       "2                    590.0   \n",
       "3                    420.0   \n",
       "4                    446.0   \n",
       "\n",
       "   Non Hispanic Native Hawaiian and Other Pacific Islander_2019  \\\n",
       "0                                                0.0              \n",
       "1                                                0.0              \n",
       "2                                               23.0              \n",
       "3                                                0.0              \n",
       "4                                               22.0              \n",
       "\n",
       "   Non Hispanic Some other race_2019  ...  Non Hispanic_change  \\\n",
       "0                                0.0  ...            26.880811   \n",
       "1                                0.0  ...            -4.231975   \n",
       "2                               97.0  ...             1.577696   \n",
       "3                                0.0  ...             0.830232   \n",
       "4                                6.0  ...            19.679487   \n",
       "\n",
       "   Non Hispanic White_change  Non Hispanic Black_change  \\\n",
       "0                  22.333685                 -13.709677   \n",
       "1                   0.340136                 -27.777778   \n",
       "2                  -3.049125                 -21.404110   \n",
       "3                  -2.667683                 -21.533923   \n",
       "4                  12.350120                 -17.260788   \n",
       "\n",
       "   Non Hispanic American Indian and Alaska Native_change  \\\n",
       "0                                                NaN       \n",
       "1                                         -69.230769       \n",
       "2                                        -100.000000       \n",
       "3                                          20.689655       \n",
       "4                                        -100.000000       \n",
       "\n",
       "   Non Hispanic Asian_change  \\\n",
       "0                  71.491228   \n",
       "1                 -26.293103   \n",
       "2                 102.749141   \n",
       "3                 165.822785   \n",
       "4                 139.784946   \n",
       "\n",
       "   Non Hispanic Native Hawaiian and Other Pacific Islander_change  \\\n",
       "0                                             -100.0                \n",
       "1                                                NaN                \n",
       "2                                                NaN                \n",
       "3                                                NaN                \n",
       "4                                                NaN                \n",
       "\n",
       "   Non Hispanic Some other race_change  Non Hispanic Two or more races_change  \\\n",
       "0                                  NaN                              79.807692   \n",
       "1                          -100.000000                              11.965812   \n",
       "2                                  NaN                             -43.274854   \n",
       "3                          -100.000000                             -11.151079   \n",
       "4                           -57.142857                             188.000000   \n",
       "\n",
       "   Hispanic_change                                           geometry  \n",
       "0        38.823529  MULTIPOLYGON (((-122.24692 37.88544, -122.2466...  \n",
       "1        -7.936508  MULTIPOLYGON (((-122.25792 37.84261, -122.2577...  \n",
       "2       -23.861171  MULTIPOLYGON (((-122.26563 37.83764, -122.2655...  \n",
       "3         7.777778  MULTIPOLYGON (((-122.26183 37.84162, -122.2618...  \n",
       "4         8.033241  MULTIPOLYGON (((-122.26951 37.84858, -122.2693...  \n",
       "\n",
       "[5 rows x 53 columns]"
      ]
     },
     "execution_count": 3,
     "metadata": {},
     "output_type": "execute_result"
    }
   ],
   "source": [
    "ethnala.head()"
   ]
  },
  {
   "cell_type": "code",
   "execution_count": null,
   "id": "30fa7b09-9f43-4474-8128-e6d968cd4d65",
   "metadata": {},
   "outputs": [],
   "source": [
    "for i in ethnala.columns:\n",
    "    "
   ]
  },
  {
   "cell_type": "code",
   "execution_count": null,
   "id": "7a3df9fa-6f86-435c-bebc-e68f764150eb",
   "metadata": {},
   "outputs": [],
   "source": [
    "if "
   ]
  },
  {
   "cell_type": "code",
   "execution_count": null,
   "id": "7dfa9727-08ab-4c71-bd51-baa0008abdce",
   "metadata": {},
   "outputs": [],
   "source": [
    "def create_hist(col, col2):\n",
    "    fig, ax = plt.subplots(figsize =(10, 7))\n",
    "    ax.hist(ethnala[col], bins = [-100, 0, 50, 100,200])\n",
    "    ax.set_xlabel(col)\n",
    "    ax.set_ylabel(\"No. of Census Tracts\")\n",
    "    ax.set_title(r'Histogram')\n",
    "    plt.show()\n"
   ]
  },
  {
   "cell_type": "code",
   "execution_count": null,
   "id": "5dc6db57-291c-4026-95c2-4c070dad6b9d",
   "metadata": {},
   "outputs": [],
   "source": []
  },
  {
   "cell_type": "code",
   "execution_count": null,
   "id": "6ec4c3c5-dd56-4633-bef0-af77c73930d4",
   "metadata": {},
   "outputs": [],
   "source": [
    "cols=['Total_change',\n",
    " 'Non Hispanic_change',\n",
    " 'Non Hispanic White_change',\n",
    " 'Non Hispanic Black_change',\n",
    " 'Non Hispanic American Indian and Alaska Native_change',\n",
    " 'Non Hispanic Asian_change',\n",
    " 'Non Hispanic Native Hawaiian and Other Pacific Islander_change',\n",
    " 'Non Hispanic Some other race_change',\n",
    " 'Non Hispanic Two or more races_change',\n",
    " 'Hispanic_change']"
   ]
  },
  {
   "cell_type": "code",
   "execution_count": null,
   "id": "9d5befe9-ddcd-47de-9aa5-0778f31ed0d6",
   "metadata": {},
   "outputs": [],
   "source": [
    "for i in cols:\n",
    "    x=\"\\n\"+i.split(\"_\")[0]+\" Population\"\n",
    "    print(x)\n",
    "    create_hist(i,x)"
   ]
  },
  {
   "cell_type": "code",
   "execution_count": null,
   "id": "02a29786-f374-4a1d-885d-557af92a1242",
   "metadata": {},
   "outputs": [],
   "source": [
    "# reproject to Web Mercator\n",
    "ethnala_webmer = ethnala.to_crs(epsg=3857)"
   ]
  },
  {
   "cell_type": "code",
   "execution_count": null,
   "id": "e0cd749b-b05a-4af0-a4d5-661e0b5cd25c",
   "metadata": {},
   "outputs": [],
   "source": [
    "list(ethnala)"
   ]
  },
  {
   "cell_type": "code",
   "execution_count": null,
   "id": "0c26d1fb-be86-41b8-8cc7-c920bd7bd4b3",
   "metadata": {},
   "outputs": [],
   "source": [
    "maps=['Percent Hispanic_2011',\n",
    " 'Total_change',\n",
    " 'Non Hispanic_change',\n",
    " 'Non Hispanic White_change',\n",
    " 'Non Hispanic Black_change',\n",
    " 'Non Hispanic American Indian and Alaska Native_change',\n",
    " 'Non Hispanic Asian_change',\n",
    " 'Non Hispanic Native Hawaiian and Other Pacific Islander_change',\n",
    " 'Non Hispanic Some other race_change',\n",
    " 'Non Hispanic Two or more races_change',\n",
    " 'Hispanic_change',\n",
    " 'geometry']"
   ]
  },
  {
   "cell_type": "code",
   "execution_count": null,
   "id": "ea7b14a4-e11e-421f-8818-1d68e750274f",
   "metadata": {},
   "outputs": [],
   "source": [
    "for i in enumerate(maps):\n",
    "    fig, ax = plt.subplots(figsize=(15, 15))\n",
    "    ethnala_webmer.plot(column=ethnala[i],\n",
    "                        cmap='PiYG', \n",
    "                        scheme='user_defined',\n",
    "                        classification_kwds={'bins':[0,50,100,200,300]},\n",
    "                        edgecolor='white', \n",
    "                        linewidth=0.3, \n",
    "                        ax=ax, \n",
    "                        legend=True\n",
    "                       )\n",
    "    ax.axis('off')\n",
    "    ax.set_title('Change in population for 2011 to 2019'+i,fontsize=10,pad=18)\n",
    "    ctx.add_basemap(ax,source=ctx.providers.Stamen.TonerLite)"
   ]
  },
  {
   "cell_type": "code",
   "execution_count": null,
   "id": "983a860e-c2c2-48d2-bdb4-38c399cb90f8",
   "metadata": {},
   "outputs": [],
   "source": [
    "ethnala['Total_2011'].describe()"
   ]
  },
  {
   "cell_type": "code",
   "execution_count": null,
   "id": "7c7dfd78-fcf9-4518-a831-2ae7412a2c63",
   "metadata": {},
   "outputs": [],
   "source": [
    "for i in ethnala.columns:\n",
    "    print( '\\033[1m', \"Summary\", i, '\\033[0m')\n",
    "    print(ethnala[i]."
   ]
  },
  {
   "cell_type": "code",
   "execution_count": 4,
   "id": "559d99b1-e581-4f56-8b07-43756b7f56f5",
   "metadata": {},
   "outputs": [],
   "source": [
    "ethnchange=ethnala[['GEOID',\n",
    " 'NAME',\n",
    " 'Total_change',\n",
    " 'Non Hispanic_change',\n",
    " 'Non Hispanic White_change',\n",
    " 'Non Hispanic Black_change',\n",
    " 'Non Hispanic American Indian and Alaska Native_change',\n",
    " 'Non Hispanic Asian_change',\n",
    " 'Non Hispanic Native Hawaiian and Other Pacific Islander_change',\n",
    " 'Non Hispanic Some other race_change',\n",
    " 'Non Hispanic Two or more races_change',\n",
    " 'Hispanic_change',\n",
    " 'geometry']]"
   ]
  },
  {
   "cell_type": "code",
   "execution_count": null,
   "id": "57df67e2-caed-4e86-92d6-432a01525097",
   "metadata": {},
   "outputs": [],
   "source": [
    "ethnchange.info()"
   ]
  },
  {
   "cell_type": "code",
   "execution_count": null,
   "id": "3dbafd4b-5028-47c2-b24f-1403b59c3204",
   "metadata": {},
   "outputs": [],
   "source": [
    "import numpy as np"
   ]
  },
  {
   "cell_type": "code",
   "execution_count": null,
   "id": "3b7231c0-f9d7-4f5b-ad3d-c0792c73edfe",
   "metadata": {},
   "outputs": [],
   "source": [
    "ethnchange.head()"
   ]
  },
  {
   "cell_type": "code",
   "execution_count": null,
   "id": "001b3ad4-5ff9-460a-8f85-9fd4a1858a2f",
   "metadata": {},
   "outputs": [],
   "source": [
    "ethnchange."
   ]
  },
  {
   "cell_type": "code",
   "execution_count": null,
   "id": "53fb6579-a6b6-4517-b341-cd8b8f3310b9",
   "metadata": {},
   "outputs": [],
   "source": [
    "ethnchange.replace([np.inf, -np.inf], np.nan, inplace=True)\n",
    "ethnchange.dropna(inplace=True)\n",
    "ethnchange.sample(5)"
   ]
  },
  {
   "cell_type": "code",
   "execution_count": null,
   "id": "cee1e1a6-c25c-4abd-8109-fc5dd9655550",
   "metadata": {},
   "outputs": [],
   "source": [
    "ethnchange.info()"
   ]
  },
  {
   "cell_type": "code",
   "execution_count": null,
   "id": "5c2449b3-6864-436a-b671-be5d166c3284",
   "metadata": {},
   "outputs": [],
   "source": [
    "ethn2=ethnala['GEOID',\n",
    "              'NAME',\n",
    "              'geometry',\n",
    "              'Non Hispanic White_2011',\n",
    "              'Non Hispanic White_2019',\n",
    "              'Hispanic_2011',\n",
    "              'Hispanic_2019']\n",
    "              \n",
    "              "
   ]
  },
  {
   "cell_type": "code",
   "execution_count": null,
   "id": "b1026daf-59fc-4505-92b0-1ec580d70ef4",
   "metadata": {},
   "outputs": [],
   "source": []
  }
 ],
 "metadata": {
  "kernelspec": {
   "display_name": "Python 3 (ipykernel)",
   "language": "python",
   "name": "python3"
  },
  "language_info": {
   "codemirror_mode": {
    "name": "ipython",
    "version": 3
   },
   "file_extension": ".py",
   "mimetype": "text/x-python",
   "name": "python",
   "nbconvert_exporter": "python",
   "pygments_lexer": "ipython3",
   "version": "3.9.6"
  }
 },
 "nbformat": 4,
 "nbformat_minor": 5
}
