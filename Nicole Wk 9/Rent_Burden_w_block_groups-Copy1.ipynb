{
 "cells": [
  {
   "cell_type": "markdown",
   "id": "035c7916-ff3e-4d08-8e06-39d686efbf46",
   "metadata": {},
   "source": [
    "# Cleaning Rent Burden Census Block Groups in Alameda County & Spatial Analysis\n",
    "\n",
    "In this notebook, I will clean the census block group data so that I can use it for my spatial analysis of rent burden changes in Alameda County. Cleaning the data takes up a lot of memory, so I expect to start another notebook for the actual analysis.\n",
    "\n",
    "Some key things to note before I begin, the census website did not have rent burden block group data from 2011. Our other analyses have compared census tracts from 2011 to 2019. However, since there is a lack of data for block groups, 2013 is the closests year and will still provide worthwhile analyses.\n",
    "\n",
    "I'll start by importing my libraries and then input and clean my 2019 rent burden data."
   ]
  },
  {
   "cell_type": "code",
   "execution_count": 1,
   "id": "a1fba17d-5d69-48e3-b1c5-09edd7a64486",
   "metadata": {},
   "outputs": [
    {
     "name": "stderr",
     "output_type": "stream",
     "text": [
      "/opt/conda/lib/python3.9/site-packages/geopandas/_compat.py:106: UserWarning: The Shapely GEOS version (3.9.1-CAPI-1.14.2) is incompatible with the GEOS version PyGEOS was compiled with (3.10.1-CAPI-1.16.0). Conversions between both will be slow.\n",
      "  warnings.warn(\n"
     ]
    }
   ],
   "source": [
    "# for general data wrangling tasks\n",
    "import pandas as pd\n",
    "\n",
    "# to read and visualize spatial data\n",
    "import geopandas as gpd\n",
    "\n",
    "# to provide basemaps \n",
    "import contextily as ctx\n",
    " \n",
    "# to give more power to your figures (plots)\n",
    "import matplotlib.pyplot as plt\n"
   ]
  },
  {
   "cell_type": "markdown",
   "id": "40cda6bf-3e0f-4b9f-86ec-4de404aeb54f",
   "metadata": {},
   "source": [
    "## 2019 Rent Burden Data"
   ]
  },
  {
   "cell_type": "code",
   "execution_count": 2,
   "id": "cf9ff5a1-6037-410b-9c6a-2dc10555c92f",
   "metadata": {},
   "outputs": [],
   "source": [
    "rb2019 = gpd.read_file('2019RB.csv')"
   ]
  },
  {
   "cell_type": "markdown",
   "id": "a9fe0c9d-483a-4a88-b735-32943c3aa9b3",
   "metadata": {},
   "source": [
    "I want to get a look at the data and see what I'm working with. I know there will be a row I need to get rid of, but it could be at the top or at the bottom."
   ]
  },
  {
   "cell_type": "code",
   "execution_count": 3,
   "id": "7358238c-cfa8-4a67-84f8-db907e974cc4",
   "metadata": {},
   "outputs": [
    {
     "data": {
      "text/html": [
       "<div>\n",
       "<style scoped>\n",
       "    .dataframe tbody tr th:only-of-type {\n",
       "        vertical-align: middle;\n",
       "    }\n",
       "\n",
       "    .dataframe tbody tr th {\n",
       "        vertical-align: top;\n",
       "    }\n",
       "\n",
       "    .dataframe thead th {\n",
       "        text-align: right;\n",
       "    }\n",
       "</style>\n",
       "<table border=\"1\" class=\"dataframe\">\n",
       "  <thead>\n",
       "    <tr style=\"text-align: right;\">\n",
       "      <th></th>\n",
       "      <th>B25070_001E</th>\n",
       "      <th>B25070_001M</th>\n",
       "      <th>B25070_002E</th>\n",
       "      <th>B25070_002M</th>\n",
       "      <th>B25070_003E</th>\n",
       "      <th>B25070_003M</th>\n",
       "      <th>B25070_004E</th>\n",
       "      <th>B25070_004M</th>\n",
       "      <th>B25070_005E</th>\n",
       "      <th>B25070_005M</th>\n",
       "      <th>...</th>\n",
       "      <th>B25070_008M</th>\n",
       "      <th>B25070_009E</th>\n",
       "      <th>B25070_009M</th>\n",
       "      <th>B25070_010E</th>\n",
       "      <th>B25070_010M</th>\n",
       "      <th>B25070_011E</th>\n",
       "      <th>B25070_011M</th>\n",
       "      <th>GEO_ID</th>\n",
       "      <th>NAME</th>\n",
       "      <th>geometry</th>\n",
       "    </tr>\n",
       "  </thead>\n",
       "  <tbody>\n",
       "    <tr>\n",
       "      <th>0</th>\n",
       "      <td>Estimate!!Total:</td>\n",
       "      <td>Margin of Error!!Total:</td>\n",
       "      <td>Estimate!!Total:!!Less than 10.0 percent</td>\n",
       "      <td>Margin of Error!!Total:!!Less than 10.0 percent</td>\n",
       "      <td>Estimate!!Total:!!10.0 to 14.9 percent</td>\n",
       "      <td>Margin of Error!!Total:!!10.0 to 14.9 percent</td>\n",
       "      <td>Estimate!!Total:!!15.0 to 19.9 percent</td>\n",
       "      <td>Margin of Error!!Total:!!15.0 to 19.9 percent</td>\n",
       "      <td>Estimate!!Total:!!20.0 to 24.9 percent</td>\n",
       "      <td>Margin of Error!!Total:!!20.0 to 24.9 percent</td>\n",
       "      <td>...</td>\n",
       "      <td>Margin of Error!!Total:!!35.0 to 39.9 percent</td>\n",
       "      <td>Estimate!!Total:!!40.0 to 49.9 percent</td>\n",
       "      <td>Margin of Error!!Total:!!40.0 to 49.9 percent</td>\n",
       "      <td>Estimate!!Total:!!50.0 percent or more</td>\n",
       "      <td>Margin of Error!!Total:!!50.0 percent or more</td>\n",
       "      <td>Estimate!!Total:!!Not computed</td>\n",
       "      <td>Margin of Error!!Total:!!Not computed</td>\n",
       "      <td>id</td>\n",
       "      <td>Geographic Area Name</td>\n",
       "      <td>None</td>\n",
       "    </tr>\n",
       "    <tr>\n",
       "      <th>1</th>\n",
       "      <td>143</td>\n",
       "      <td>65</td>\n",
       "      <td>42</td>\n",
       "      <td>35</td>\n",
       "      <td>0</td>\n",
       "      <td>12</td>\n",
       "      <td>10</td>\n",
       "      <td>15</td>\n",
       "      <td>41</td>\n",
       "      <td>47</td>\n",
       "      <td>...</td>\n",
       "      <td>15</td>\n",
       "      <td>9</td>\n",
       "      <td>13</td>\n",
       "      <td>25</td>\n",
       "      <td>19</td>\n",
       "      <td>7</td>\n",
       "      <td>11</td>\n",
       "      <td>1500000US060014001001</td>\n",
       "      <td>Block Group 1, Census Tract 4001, Alameda Coun...</td>\n",
       "      <td>None</td>\n",
       "    </tr>\n",
       "    <tr>\n",
       "      <th>2</th>\n",
       "      <td>114</td>\n",
       "      <td>34</td>\n",
       "      <td>13</td>\n",
       "      <td>14</td>\n",
       "      <td>19</td>\n",
       "      <td>16</td>\n",
       "      <td>27</td>\n",
       "      <td>18</td>\n",
       "      <td>19</td>\n",
       "      <td>14</td>\n",
       "      <td>...</td>\n",
       "      <td>8</td>\n",
       "      <td>0</td>\n",
       "      <td>12</td>\n",
       "      <td>21</td>\n",
       "      <td>17</td>\n",
       "      <td>0</td>\n",
       "      <td>12</td>\n",
       "      <td>1500000US060014002001</td>\n",
       "      <td>Block Group 1, Census Tract 4002, Alameda Coun...</td>\n",
       "      <td>None</td>\n",
       "    </tr>\n",
       "    <tr>\n",
       "      <th>3</th>\n",
       "      <td>208</td>\n",
       "      <td>43</td>\n",
       "      <td>21</td>\n",
       "      <td>19</td>\n",
       "      <td>46</td>\n",
       "      <td>23</td>\n",
       "      <td>51</td>\n",
       "      <td>27</td>\n",
       "      <td>18</td>\n",
       "      <td>16</td>\n",
       "      <td>...</td>\n",
       "      <td>12</td>\n",
       "      <td>8</td>\n",
       "      <td>11</td>\n",
       "      <td>0</td>\n",
       "      <td>12</td>\n",
       "      <td>0</td>\n",
       "      <td>12</td>\n",
       "      <td>1500000US060014002002</td>\n",
       "      <td>Block Group 2, Census Tract 4002, Alameda Coun...</td>\n",
       "      <td>None</td>\n",
       "    </tr>\n",
       "    <tr>\n",
       "      <th>4</th>\n",
       "      <td>141</td>\n",
       "      <td>63</td>\n",
       "      <td>9</td>\n",
       "      <td>15</td>\n",
       "      <td>29</td>\n",
       "      <td>32</td>\n",
       "      <td>30</td>\n",
       "      <td>34</td>\n",
       "      <td>46</td>\n",
       "      <td>41</td>\n",
       "      <td>...</td>\n",
       "      <td>19</td>\n",
       "      <td>0</td>\n",
       "      <td>12</td>\n",
       "      <td>0</td>\n",
       "      <td>12</td>\n",
       "      <td>0</td>\n",
       "      <td>12</td>\n",
       "      <td>1500000US060014003001</td>\n",
       "      <td>Block Group 1, Census Tract 4003, Alameda Coun...</td>\n",
       "      <td>None</td>\n",
       "    </tr>\n",
       "  </tbody>\n",
       "</table>\n",
       "<p>5 rows × 25 columns</p>\n",
       "</div>"
      ],
      "text/plain": [
       "        B25070_001E              B25070_001M  \\\n",
       "0  Estimate!!Total:  Margin of Error!!Total:   \n",
       "1               143                       65   \n",
       "2               114                       34   \n",
       "3               208                       43   \n",
       "4               141                       63   \n",
       "\n",
       "                                B25070_002E  \\\n",
       "0  Estimate!!Total:!!Less than 10.0 percent   \n",
       "1                                        42   \n",
       "2                                        13   \n",
       "3                                        21   \n",
       "4                                         9   \n",
       "\n",
       "                                       B25070_002M  \\\n",
       "0  Margin of Error!!Total:!!Less than 10.0 percent   \n",
       "1                                               35   \n",
       "2                                               14   \n",
       "3                                               19   \n",
       "4                                               15   \n",
       "\n",
       "                              B25070_003E  \\\n",
       "0  Estimate!!Total:!!10.0 to 14.9 percent   \n",
       "1                                       0   \n",
       "2                                      19   \n",
       "3                                      46   \n",
       "4                                      29   \n",
       "\n",
       "                                     B25070_003M  \\\n",
       "0  Margin of Error!!Total:!!10.0 to 14.9 percent   \n",
       "1                                             12   \n",
       "2                                             16   \n",
       "3                                             23   \n",
       "4                                             32   \n",
       "\n",
       "                              B25070_004E  \\\n",
       "0  Estimate!!Total:!!15.0 to 19.9 percent   \n",
       "1                                      10   \n",
       "2                                      27   \n",
       "3                                      51   \n",
       "4                                      30   \n",
       "\n",
       "                                     B25070_004M  \\\n",
       "0  Margin of Error!!Total:!!15.0 to 19.9 percent   \n",
       "1                                             15   \n",
       "2                                             18   \n",
       "3                                             27   \n",
       "4                                             34   \n",
       "\n",
       "                              B25070_005E  \\\n",
       "0  Estimate!!Total:!!20.0 to 24.9 percent   \n",
       "1                                      41   \n",
       "2                                      19   \n",
       "3                                      18   \n",
       "4                                      46   \n",
       "\n",
       "                                     B25070_005M  ...  \\\n",
       "0  Margin of Error!!Total:!!20.0 to 24.9 percent  ...   \n",
       "1                                             47  ...   \n",
       "2                                             14  ...   \n",
       "3                                             16  ...   \n",
       "4                                             41  ...   \n",
       "\n",
       "                                     B25070_008M  \\\n",
       "0  Margin of Error!!Total:!!35.0 to 39.9 percent   \n",
       "1                                             15   \n",
       "2                                              8   \n",
       "3                                             12   \n",
       "4                                             19   \n",
       "\n",
       "                              B25070_009E  \\\n",
       "0  Estimate!!Total:!!40.0 to 49.9 percent   \n",
       "1                                       9   \n",
       "2                                       0   \n",
       "3                                       8   \n",
       "4                                       0   \n",
       "\n",
       "                                     B25070_009M  \\\n",
       "0  Margin of Error!!Total:!!40.0 to 49.9 percent   \n",
       "1                                             13   \n",
       "2                                             12   \n",
       "3                                             11   \n",
       "4                                             12   \n",
       "\n",
       "                              B25070_010E  \\\n",
       "0  Estimate!!Total:!!50.0 percent or more   \n",
       "1                                      25   \n",
       "2                                      21   \n",
       "3                                       0   \n",
       "4                                       0   \n",
       "\n",
       "                                     B25070_010M  \\\n",
       "0  Margin of Error!!Total:!!50.0 percent or more   \n",
       "1                                             19   \n",
       "2                                             17   \n",
       "3                                             12   \n",
       "4                                             12   \n",
       "\n",
       "                      B25070_011E                            B25070_011M  \\\n",
       "0  Estimate!!Total:!!Not computed  Margin of Error!!Total:!!Not computed   \n",
       "1                               7                                     11   \n",
       "2                               0                                     12   \n",
       "3                               0                                     12   \n",
       "4                               0                                     12   \n",
       "\n",
       "                  GEO_ID                                               NAME  \\\n",
       "0                     id                               Geographic Area Name   \n",
       "1  1500000US060014001001  Block Group 1, Census Tract 4001, Alameda Coun...   \n",
       "2  1500000US060014002001  Block Group 1, Census Tract 4002, Alameda Coun...   \n",
       "3  1500000US060014002002  Block Group 2, Census Tract 4002, Alameda Coun...   \n",
       "4  1500000US060014003001  Block Group 1, Census Tract 4003, Alameda Coun...   \n",
       "\n",
       "  geometry  \n",
       "0     None  \n",
       "1     None  \n",
       "2     None  \n",
       "3     None  \n",
       "4     None  \n",
       "\n",
       "[5 rows x 25 columns]"
      ]
     },
     "execution_count": 3,
     "metadata": {},
     "output_type": "execute_result"
    }
   ],
   "source": [
    "rb2019.head()"
   ]
  },
  {
   "cell_type": "code",
   "execution_count": 4,
   "id": "def71b54-dd1c-4b7e-8031-231cf22dd309",
   "metadata": {},
   "outputs": [
    {
     "data": {
      "text/html": [
       "<div>\n",
       "<style scoped>\n",
       "    .dataframe tbody tr th:only-of-type {\n",
       "        vertical-align: middle;\n",
       "    }\n",
       "\n",
       "    .dataframe tbody tr th {\n",
       "        vertical-align: top;\n",
       "    }\n",
       "\n",
       "    .dataframe thead th {\n",
       "        text-align: right;\n",
       "    }\n",
       "</style>\n",
       "<table border=\"1\" class=\"dataframe\">\n",
       "  <thead>\n",
       "    <tr style=\"text-align: right;\">\n",
       "      <th></th>\n",
       "      <th>B25070_001E</th>\n",
       "      <th>B25070_001M</th>\n",
       "      <th>B25070_002E</th>\n",
       "      <th>B25070_002M</th>\n",
       "      <th>B25070_003E</th>\n",
       "      <th>B25070_003M</th>\n",
       "      <th>B25070_004E</th>\n",
       "      <th>B25070_004M</th>\n",
       "      <th>B25070_005E</th>\n",
       "      <th>B25070_005M</th>\n",
       "      <th>...</th>\n",
       "      <th>B25070_008M</th>\n",
       "      <th>B25070_009E</th>\n",
       "      <th>B25070_009M</th>\n",
       "      <th>B25070_010E</th>\n",
       "      <th>B25070_010M</th>\n",
       "      <th>B25070_011E</th>\n",
       "      <th>B25070_011M</th>\n",
       "      <th>GEO_ID</th>\n",
       "      <th>NAME</th>\n",
       "      <th>geometry</th>\n",
       "    </tr>\n",
       "  </thead>\n",
       "  <tbody>\n",
       "    <tr>\n",
       "      <th>1044</th>\n",
       "      <td>27</td>\n",
       "      <td>14</td>\n",
       "      <td>4</td>\n",
       "      <td>6</td>\n",
       "      <td>4</td>\n",
       "      <td>6</td>\n",
       "      <td>8</td>\n",
       "      <td>12</td>\n",
       "      <td>4</td>\n",
       "      <td>5</td>\n",
       "      <td>...</td>\n",
       "      <td>12</td>\n",
       "      <td>0</td>\n",
       "      <td>12</td>\n",
       "      <td>0</td>\n",
       "      <td>12</td>\n",
       "      <td>0</td>\n",
       "      <td>12</td>\n",
       "      <td>1500000US060019819001</td>\n",
       "      <td>Block Group 1, Census Tract 9819, Alameda Coun...</td>\n",
       "      <td>None</td>\n",
       "    </tr>\n",
       "    <tr>\n",
       "      <th>1045</th>\n",
       "      <td>0</td>\n",
       "      <td>12</td>\n",
       "      <td>0</td>\n",
       "      <td>12</td>\n",
       "      <td>0</td>\n",
       "      <td>12</td>\n",
       "      <td>0</td>\n",
       "      <td>12</td>\n",
       "      <td>0</td>\n",
       "      <td>12</td>\n",
       "      <td>...</td>\n",
       "      <td>12</td>\n",
       "      <td>0</td>\n",
       "      <td>12</td>\n",
       "      <td>0</td>\n",
       "      <td>12</td>\n",
       "      <td>0</td>\n",
       "      <td>12</td>\n",
       "      <td>1500000US060019820001</td>\n",
       "      <td>Block Group 1, Census Tract 9820, Alameda Coun...</td>\n",
       "      <td>None</td>\n",
       "    </tr>\n",
       "    <tr>\n",
       "      <th>1046</th>\n",
       "      <td>51</td>\n",
       "      <td>29</td>\n",
       "      <td>0</td>\n",
       "      <td>12</td>\n",
       "      <td>0</td>\n",
       "      <td>12</td>\n",
       "      <td>19</td>\n",
       "      <td>23</td>\n",
       "      <td>10</td>\n",
       "      <td>10</td>\n",
       "      <td>...</td>\n",
       "      <td>12</td>\n",
       "      <td>5</td>\n",
       "      <td>7</td>\n",
       "      <td>0</td>\n",
       "      <td>12</td>\n",
       "      <td>0</td>\n",
       "      <td>12</td>\n",
       "      <td>1500000US060019832001</td>\n",
       "      <td>Block Group 1, Census Tract 9832, Alameda Coun...</td>\n",
       "      <td>None</td>\n",
       "    </tr>\n",
       "    <tr>\n",
       "      <th>1047</th>\n",
       "      <td>0</td>\n",
       "      <td>12</td>\n",
       "      <td>0</td>\n",
       "      <td>12</td>\n",
       "      <td>0</td>\n",
       "      <td>12</td>\n",
       "      <td>0</td>\n",
       "      <td>12</td>\n",
       "      <td>0</td>\n",
       "      <td>12</td>\n",
       "      <td>...</td>\n",
       "      <td>12</td>\n",
       "      <td>0</td>\n",
       "      <td>12</td>\n",
       "      <td>0</td>\n",
       "      <td>12</td>\n",
       "      <td>0</td>\n",
       "      <td>12</td>\n",
       "      <td>1500000US060019900000</td>\n",
       "      <td>Block Group 0, Census Tract 9900, Alameda Coun...</td>\n",
       "      <td>None</td>\n",
       "    </tr>\n",
       "    <tr>\n",
       "      <th>1048</th>\n",
       "      <td>268286</td>\n",
       "      <td>2245</td>\n",
       "      <td>8948</td>\n",
       "      <td>700</td>\n",
       "      <td>21773</td>\n",
       "      <td>960</td>\n",
       "      <td>32074</td>\n",
       "      <td>1181</td>\n",
       "      <td>35669</td>\n",
       "      <td>1166</td>\n",
       "      <td>...</td>\n",
       "      <td>701</td>\n",
       "      <td>23644</td>\n",
       "      <td>1163</td>\n",
       "      <td>63047</td>\n",
       "      <td>1575</td>\n",
       "      <td>10963</td>\n",
       "      <td>819</td>\n",
       "      <td>0500000US06001</td>\n",
       "      <td>Alameda County, California</td>\n",
       "      <td>None</td>\n",
       "    </tr>\n",
       "  </tbody>\n",
       "</table>\n",
       "<p>5 rows × 25 columns</p>\n",
       "</div>"
      ],
      "text/plain": [
       "     B25070_001E B25070_001M B25070_002E B25070_002M B25070_003E B25070_003M  \\\n",
       "1044          27          14           4           6           4           6   \n",
       "1045           0          12           0          12           0          12   \n",
       "1046          51          29           0          12           0          12   \n",
       "1047           0          12           0          12           0          12   \n",
       "1048      268286        2245        8948         700       21773         960   \n",
       "\n",
       "     B25070_004E B25070_004M B25070_005E B25070_005M  ... B25070_008M  \\\n",
       "1044           8          12           4           5  ...          12   \n",
       "1045           0          12           0          12  ...          12   \n",
       "1046          19          23          10          10  ...          12   \n",
       "1047           0          12           0          12  ...          12   \n",
       "1048       32074        1181       35669        1166  ...         701   \n",
       "\n",
       "     B25070_009E B25070_009M B25070_010E B25070_010M B25070_011E B25070_011M  \\\n",
       "1044           0          12           0          12           0          12   \n",
       "1045           0          12           0          12           0          12   \n",
       "1046           5           7           0          12           0          12   \n",
       "1047           0          12           0          12           0          12   \n",
       "1048       23644        1163       63047        1575       10963         819   \n",
       "\n",
       "                     GEO_ID  \\\n",
       "1044  1500000US060019819001   \n",
       "1045  1500000US060019820001   \n",
       "1046  1500000US060019832001   \n",
       "1047  1500000US060019900000   \n",
       "1048         0500000US06001   \n",
       "\n",
       "                                                   NAME geometry  \n",
       "1044  Block Group 1, Census Tract 9819, Alameda Coun...     None  \n",
       "1045  Block Group 1, Census Tract 9820, Alameda Coun...     None  \n",
       "1046  Block Group 1, Census Tract 9832, Alameda Coun...     None  \n",
       "1047  Block Group 0, Census Tract 9900, Alameda Coun...     None  \n",
       "1048                         Alameda County, California     None  \n",
       "\n",
       "[5 rows x 25 columns]"
      ]
     },
     "execution_count": 4,
     "metadata": {},
     "output_type": "execute_result"
    }
   ],
   "source": [
    "rb2019.tail()"
   ]
  },
  {
   "cell_type": "markdown",
   "id": "2d30b82b-7d58-4a63-968b-3c1bbd5760e4",
   "metadata": {},
   "source": [
    "It was at the bottom! So I'll drop that row and move on with cleaning up the dataset to only have the necessary columns. The dataset comes with margin of error columns, which won't be too useful for our analyses."
   ]
  },
  {
   "cell_type": "code",
   "execution_count": 5,
   "id": "c895bf1b-4d75-42f4-b8f6-7d7b62a3c114",
   "metadata": {},
   "outputs": [],
   "source": [
    "rb2019= rb2019.drop([1048])"
   ]
  },
  {
   "cell_type": "code",
   "execution_count": 6,
   "id": "1f97d675-5a1d-4d92-8186-38f44c18d340",
   "metadata": {},
   "outputs": [
    {
     "data": {
      "text/html": [
       "<div>\n",
       "<style scoped>\n",
       "    .dataframe tbody tr th:only-of-type {\n",
       "        vertical-align: middle;\n",
       "    }\n",
       "\n",
       "    .dataframe tbody tr th {\n",
       "        vertical-align: top;\n",
       "    }\n",
       "\n",
       "    .dataframe thead th {\n",
       "        text-align: right;\n",
       "    }\n",
       "</style>\n",
       "<table border=\"1\" class=\"dataframe\">\n",
       "  <thead>\n",
       "    <tr style=\"text-align: right;\">\n",
       "      <th></th>\n",
       "      <th>B25070_001E</th>\n",
       "      <th>B25070_001M</th>\n",
       "      <th>B25070_002E</th>\n",
       "      <th>B25070_002M</th>\n",
       "      <th>B25070_003E</th>\n",
       "      <th>B25070_003M</th>\n",
       "      <th>B25070_004E</th>\n",
       "      <th>B25070_004M</th>\n",
       "      <th>B25070_005E</th>\n",
       "      <th>B25070_005M</th>\n",
       "      <th>...</th>\n",
       "      <th>B25070_008M</th>\n",
       "      <th>B25070_009E</th>\n",
       "      <th>B25070_009M</th>\n",
       "      <th>B25070_010E</th>\n",
       "      <th>B25070_010M</th>\n",
       "      <th>B25070_011E</th>\n",
       "      <th>B25070_011M</th>\n",
       "      <th>GEO_ID</th>\n",
       "      <th>NAME</th>\n",
       "      <th>geometry</th>\n",
       "    </tr>\n",
       "  </thead>\n",
       "  <tbody>\n",
       "    <tr>\n",
       "      <th>1043</th>\n",
       "      <td>206</td>\n",
       "      <td>61</td>\n",
       "      <td>0</td>\n",
       "      <td>12</td>\n",
       "      <td>9</td>\n",
       "      <td>16</td>\n",
       "      <td>43</td>\n",
       "      <td>49</td>\n",
       "      <td>23</td>\n",
       "      <td>22</td>\n",
       "      <td>...</td>\n",
       "      <td>21</td>\n",
       "      <td>11</td>\n",
       "      <td>17</td>\n",
       "      <td>54</td>\n",
       "      <td>36</td>\n",
       "      <td>0</td>\n",
       "      <td>12</td>\n",
       "      <td>1500000US060014517043</td>\n",
       "      <td>Block Group 3, Census Tract 4517.04, Alameda C...</td>\n",
       "      <td>None</td>\n",
       "    </tr>\n",
       "    <tr>\n",
       "      <th>1044</th>\n",
       "      <td>27</td>\n",
       "      <td>14</td>\n",
       "      <td>4</td>\n",
       "      <td>6</td>\n",
       "      <td>4</td>\n",
       "      <td>6</td>\n",
       "      <td>8</td>\n",
       "      <td>12</td>\n",
       "      <td>4</td>\n",
       "      <td>5</td>\n",
       "      <td>...</td>\n",
       "      <td>12</td>\n",
       "      <td>0</td>\n",
       "      <td>12</td>\n",
       "      <td>0</td>\n",
       "      <td>12</td>\n",
       "      <td>0</td>\n",
       "      <td>12</td>\n",
       "      <td>1500000US060019819001</td>\n",
       "      <td>Block Group 1, Census Tract 9819, Alameda Coun...</td>\n",
       "      <td>None</td>\n",
       "    </tr>\n",
       "    <tr>\n",
       "      <th>1045</th>\n",
       "      <td>0</td>\n",
       "      <td>12</td>\n",
       "      <td>0</td>\n",
       "      <td>12</td>\n",
       "      <td>0</td>\n",
       "      <td>12</td>\n",
       "      <td>0</td>\n",
       "      <td>12</td>\n",
       "      <td>0</td>\n",
       "      <td>12</td>\n",
       "      <td>...</td>\n",
       "      <td>12</td>\n",
       "      <td>0</td>\n",
       "      <td>12</td>\n",
       "      <td>0</td>\n",
       "      <td>12</td>\n",
       "      <td>0</td>\n",
       "      <td>12</td>\n",
       "      <td>1500000US060019820001</td>\n",
       "      <td>Block Group 1, Census Tract 9820, Alameda Coun...</td>\n",
       "      <td>None</td>\n",
       "    </tr>\n",
       "    <tr>\n",
       "      <th>1046</th>\n",
       "      <td>51</td>\n",
       "      <td>29</td>\n",
       "      <td>0</td>\n",
       "      <td>12</td>\n",
       "      <td>0</td>\n",
       "      <td>12</td>\n",
       "      <td>19</td>\n",
       "      <td>23</td>\n",
       "      <td>10</td>\n",
       "      <td>10</td>\n",
       "      <td>...</td>\n",
       "      <td>12</td>\n",
       "      <td>5</td>\n",
       "      <td>7</td>\n",
       "      <td>0</td>\n",
       "      <td>12</td>\n",
       "      <td>0</td>\n",
       "      <td>12</td>\n",
       "      <td>1500000US060019832001</td>\n",
       "      <td>Block Group 1, Census Tract 9832, Alameda Coun...</td>\n",
       "      <td>None</td>\n",
       "    </tr>\n",
       "    <tr>\n",
       "      <th>1047</th>\n",
       "      <td>0</td>\n",
       "      <td>12</td>\n",
       "      <td>0</td>\n",
       "      <td>12</td>\n",
       "      <td>0</td>\n",
       "      <td>12</td>\n",
       "      <td>0</td>\n",
       "      <td>12</td>\n",
       "      <td>0</td>\n",
       "      <td>12</td>\n",
       "      <td>...</td>\n",
       "      <td>12</td>\n",
       "      <td>0</td>\n",
       "      <td>12</td>\n",
       "      <td>0</td>\n",
       "      <td>12</td>\n",
       "      <td>0</td>\n",
       "      <td>12</td>\n",
       "      <td>1500000US060019900000</td>\n",
       "      <td>Block Group 0, Census Tract 9900, Alameda Coun...</td>\n",
       "      <td>None</td>\n",
       "    </tr>\n",
       "  </tbody>\n",
       "</table>\n",
       "<p>5 rows × 25 columns</p>\n",
       "</div>"
      ],
      "text/plain": [
       "     B25070_001E B25070_001M B25070_002E B25070_002M B25070_003E B25070_003M  \\\n",
       "1043         206          61           0          12           9          16   \n",
       "1044          27          14           4           6           4           6   \n",
       "1045           0          12           0          12           0          12   \n",
       "1046          51          29           0          12           0          12   \n",
       "1047           0          12           0          12           0          12   \n",
       "\n",
       "     B25070_004E B25070_004M B25070_005E B25070_005M  ... B25070_008M  \\\n",
       "1043          43          49          23          22  ...          21   \n",
       "1044           8          12           4           5  ...          12   \n",
       "1045           0          12           0          12  ...          12   \n",
       "1046          19          23          10          10  ...          12   \n",
       "1047           0          12           0          12  ...          12   \n",
       "\n",
       "     B25070_009E B25070_009M B25070_010E B25070_010M B25070_011E B25070_011M  \\\n",
       "1043          11          17          54          36           0          12   \n",
       "1044           0          12           0          12           0          12   \n",
       "1045           0          12           0          12           0          12   \n",
       "1046           5           7           0          12           0          12   \n",
       "1047           0          12           0          12           0          12   \n",
       "\n",
       "                     GEO_ID  \\\n",
       "1043  1500000US060014517043   \n",
       "1044  1500000US060019819001   \n",
       "1045  1500000US060019820001   \n",
       "1046  1500000US060019832001   \n",
       "1047  1500000US060019900000   \n",
       "\n",
       "                                                   NAME geometry  \n",
       "1043  Block Group 3, Census Tract 4517.04, Alameda C...     None  \n",
       "1044  Block Group 1, Census Tract 9819, Alameda Coun...     None  \n",
       "1045  Block Group 1, Census Tract 9820, Alameda Coun...     None  \n",
       "1046  Block Group 1, Census Tract 9832, Alameda Coun...     None  \n",
       "1047  Block Group 0, Census Tract 9900, Alameda Coun...     None  \n",
       "\n",
       "[5 rows x 25 columns]"
      ]
     },
     "execution_count": 6,
     "metadata": {},
     "output_type": "execute_result"
    }
   ],
   "source": [
    "rb2019.tail()"
   ]
  },
  {
   "cell_type": "code",
   "execution_count": 7,
   "id": "ac60473b-f7a4-4fdb-8da7-54a4c575e5b5",
   "metadata": {},
   "outputs": [
    {
     "data": {
      "text/plain": [
       "['B25070_001E',\n",
       " 'B25070_001M',\n",
       " 'B25070_002E',\n",
       " 'B25070_002M',\n",
       " 'B25070_003E',\n",
       " 'B25070_003M',\n",
       " 'B25070_004E',\n",
       " 'B25070_004M',\n",
       " 'B25070_005E',\n",
       " 'B25070_005M',\n",
       " 'B25070_006E',\n",
       " 'B25070_006M',\n",
       " 'B25070_007E',\n",
       " 'B25070_007M',\n",
       " 'B25070_008E',\n",
       " 'B25070_008M',\n",
       " 'B25070_009E',\n",
       " 'B25070_009M',\n",
       " 'B25070_010E',\n",
       " 'B25070_010M',\n",
       " 'B25070_011E',\n",
       " 'B25070_011M',\n",
       " 'GEO_ID',\n",
       " 'NAME',\n",
       " 'geometry']"
      ]
     },
     "execution_count": 7,
     "metadata": {},
     "output_type": "execute_result"
    }
   ],
   "source": [
    "list(rb2019)"
   ]
  },
  {
   "cell_type": "code",
   "execution_count": 8,
   "id": "e20b770d-1ac2-42a8-90f5-eec24fda5e70",
   "metadata": {},
   "outputs": [],
   "source": [
    "columns_to_keep =  ['B25070_001E',\n",
    "                    'B25070_002E',\n",
    "                    'B25070_003E',\n",
    "                    'B25070_004E',\n",
    "                    'B25070_005E',\n",
    "                    'B25070_006E',\n",
    "                    'B25070_007E',\n",
    "                    'B25070_008E',\n",
    "                    'B25070_009E',\n",
    "                    'B25070_010E',\n",
    "                    'B25070_011E',\n",
    "                    'GEO_ID',\n",
    "                    'NAME',\n",
    "                    'geometry']"
   ]
  },
  {
   "cell_type": "code",
   "execution_count": 9,
   "id": "f5b21c2e-3572-4ddd-961d-9168e0249e04",
   "metadata": {},
   "outputs": [],
   "source": [
    "rb2019 = rb2019[columns_to_keep]"
   ]
  },
  {
   "cell_type": "code",
   "execution_count": 10,
   "id": "d327de27-fca5-4bba-8b1b-4269e16c1803",
   "metadata": {},
   "outputs": [
    {
     "data": {
      "text/html": [
       "<div>\n",
       "<style scoped>\n",
       "    .dataframe tbody tr th:only-of-type {\n",
       "        vertical-align: middle;\n",
       "    }\n",
       "\n",
       "    .dataframe tbody tr th {\n",
       "        vertical-align: top;\n",
       "    }\n",
       "\n",
       "    .dataframe thead th {\n",
       "        text-align: right;\n",
       "    }\n",
       "</style>\n",
       "<table border=\"1\" class=\"dataframe\">\n",
       "  <thead>\n",
       "    <tr style=\"text-align: right;\">\n",
       "      <th></th>\n",
       "      <th>B25070_001E</th>\n",
       "      <th>B25070_002E</th>\n",
       "      <th>B25070_003E</th>\n",
       "      <th>B25070_004E</th>\n",
       "      <th>B25070_005E</th>\n",
       "      <th>B25070_006E</th>\n",
       "      <th>B25070_007E</th>\n",
       "      <th>B25070_008E</th>\n",
       "      <th>B25070_009E</th>\n",
       "      <th>B25070_010E</th>\n",
       "      <th>B25070_011E</th>\n",
       "      <th>GEO_ID</th>\n",
       "      <th>NAME</th>\n",
       "      <th>geometry</th>\n",
       "    </tr>\n",
       "  </thead>\n",
       "  <tbody>\n",
       "    <tr>\n",
       "      <th>0</th>\n",
       "      <td>Estimate!!Total:</td>\n",
       "      <td>Estimate!!Total:!!Less than 10.0 percent</td>\n",
       "      <td>Estimate!!Total:!!10.0 to 14.9 percent</td>\n",
       "      <td>Estimate!!Total:!!15.0 to 19.9 percent</td>\n",
       "      <td>Estimate!!Total:!!20.0 to 24.9 percent</td>\n",
       "      <td>Estimate!!Total:!!25.0 to 29.9 percent</td>\n",
       "      <td>Estimate!!Total:!!30.0 to 34.9 percent</td>\n",
       "      <td>Estimate!!Total:!!35.0 to 39.9 percent</td>\n",
       "      <td>Estimate!!Total:!!40.0 to 49.9 percent</td>\n",
       "      <td>Estimate!!Total:!!50.0 percent or more</td>\n",
       "      <td>Estimate!!Total:!!Not computed</td>\n",
       "      <td>id</td>\n",
       "      <td>Geographic Area Name</td>\n",
       "      <td>None</td>\n",
       "    </tr>\n",
       "    <tr>\n",
       "      <th>1</th>\n",
       "      <td>143</td>\n",
       "      <td>42</td>\n",
       "      <td>0</td>\n",
       "      <td>10</td>\n",
       "      <td>41</td>\n",
       "      <td>0</td>\n",
       "      <td>0</td>\n",
       "      <td>9</td>\n",
       "      <td>9</td>\n",
       "      <td>25</td>\n",
       "      <td>7</td>\n",
       "      <td>1500000US060014001001</td>\n",
       "      <td>Block Group 1, Census Tract 4001, Alameda Coun...</td>\n",
       "      <td>None</td>\n",
       "    </tr>\n",
       "    <tr>\n",
       "      <th>2</th>\n",
       "      <td>114</td>\n",
       "      <td>13</td>\n",
       "      <td>19</td>\n",
       "      <td>27</td>\n",
       "      <td>19</td>\n",
       "      <td>6</td>\n",
       "      <td>3</td>\n",
       "      <td>6</td>\n",
       "      <td>0</td>\n",
       "      <td>21</td>\n",
       "      <td>0</td>\n",
       "      <td>1500000US060014002001</td>\n",
       "      <td>Block Group 1, Census Tract 4002, Alameda Coun...</td>\n",
       "      <td>None</td>\n",
       "    </tr>\n",
       "    <tr>\n",
       "      <th>3</th>\n",
       "      <td>208</td>\n",
       "      <td>21</td>\n",
       "      <td>46</td>\n",
       "      <td>51</td>\n",
       "      <td>18</td>\n",
       "      <td>40</td>\n",
       "      <td>13</td>\n",
       "      <td>11</td>\n",
       "      <td>8</td>\n",
       "      <td>0</td>\n",
       "      <td>0</td>\n",
       "      <td>1500000US060014002002</td>\n",
       "      <td>Block Group 2, Census Tract 4002, Alameda Coun...</td>\n",
       "      <td>None</td>\n",
       "    </tr>\n",
       "    <tr>\n",
       "      <th>4</th>\n",
       "      <td>141</td>\n",
       "      <td>9</td>\n",
       "      <td>29</td>\n",
       "      <td>30</td>\n",
       "      <td>46</td>\n",
       "      <td>0</td>\n",
       "      <td>15</td>\n",
       "      <td>12</td>\n",
       "      <td>0</td>\n",
       "      <td>0</td>\n",
       "      <td>0</td>\n",
       "      <td>1500000US060014003001</td>\n",
       "      <td>Block Group 1, Census Tract 4003, Alameda Coun...</td>\n",
       "      <td>None</td>\n",
       "    </tr>\n",
       "  </tbody>\n",
       "</table>\n",
       "</div>"
      ],
      "text/plain": [
       "        B25070_001E                               B25070_002E  \\\n",
       "0  Estimate!!Total:  Estimate!!Total:!!Less than 10.0 percent   \n",
       "1               143                                        42   \n",
       "2               114                                        13   \n",
       "3               208                                        21   \n",
       "4               141                                         9   \n",
       "\n",
       "                              B25070_003E  \\\n",
       "0  Estimate!!Total:!!10.0 to 14.9 percent   \n",
       "1                                       0   \n",
       "2                                      19   \n",
       "3                                      46   \n",
       "4                                      29   \n",
       "\n",
       "                              B25070_004E  \\\n",
       "0  Estimate!!Total:!!15.0 to 19.9 percent   \n",
       "1                                      10   \n",
       "2                                      27   \n",
       "3                                      51   \n",
       "4                                      30   \n",
       "\n",
       "                              B25070_005E  \\\n",
       "0  Estimate!!Total:!!20.0 to 24.9 percent   \n",
       "1                                      41   \n",
       "2                                      19   \n",
       "3                                      18   \n",
       "4                                      46   \n",
       "\n",
       "                              B25070_006E  \\\n",
       "0  Estimate!!Total:!!25.0 to 29.9 percent   \n",
       "1                                       0   \n",
       "2                                       6   \n",
       "3                                      40   \n",
       "4                                       0   \n",
       "\n",
       "                              B25070_007E  \\\n",
       "0  Estimate!!Total:!!30.0 to 34.9 percent   \n",
       "1                                       0   \n",
       "2                                       3   \n",
       "3                                      13   \n",
       "4                                      15   \n",
       "\n",
       "                              B25070_008E  \\\n",
       "0  Estimate!!Total:!!35.0 to 39.9 percent   \n",
       "1                                       9   \n",
       "2                                       6   \n",
       "3                                      11   \n",
       "4                                      12   \n",
       "\n",
       "                              B25070_009E  \\\n",
       "0  Estimate!!Total:!!40.0 to 49.9 percent   \n",
       "1                                       9   \n",
       "2                                       0   \n",
       "3                                       8   \n",
       "4                                       0   \n",
       "\n",
       "                              B25070_010E                     B25070_011E  \\\n",
       "0  Estimate!!Total:!!50.0 percent or more  Estimate!!Total:!!Not computed   \n",
       "1                                      25                               7   \n",
       "2                                      21                               0   \n",
       "3                                       0                               0   \n",
       "4                                       0                               0   \n",
       "\n",
       "                  GEO_ID                                               NAME  \\\n",
       "0                     id                               Geographic Area Name   \n",
       "1  1500000US060014001001  Block Group 1, Census Tract 4001, Alameda Coun...   \n",
       "2  1500000US060014002001  Block Group 1, Census Tract 4002, Alameda Coun...   \n",
       "3  1500000US060014002002  Block Group 2, Census Tract 4002, Alameda Coun...   \n",
       "4  1500000US060014003001  Block Group 1, Census Tract 4003, Alameda Coun...   \n",
       "\n",
       "  geometry  \n",
       "0     None  \n",
       "1     None  \n",
       "2     None  \n",
       "3     None  \n",
       "4     None  "
      ]
     },
     "execution_count": 10,
     "metadata": {},
     "output_type": "execute_result"
    }
   ],
   "source": [
    "rb2019.head()"
   ]
  },
  {
   "cell_type": "markdown",
   "id": "5f2f744a-9ec6-451e-b6ea-ac40e60cee67",
   "metadata": {},
   "source": [
    "I was able to just copy and paste and cut out the M columns. However I see that there is another row I need to drop, row 0, since I will rename the columns myself."
   ]
  },
  {
   "cell_type": "code",
   "execution_count": 11,
   "id": "4a328ef1-819b-4dde-ab89-c7951393e2e9",
   "metadata": {},
   "outputs": [],
   "source": [
    "rb2019 = rb2019.drop([0])"
   ]
  },
  {
   "cell_type": "code",
   "execution_count": 12,
   "id": "dd4dbcca-aef0-4e3c-8094-376ea2935908",
   "metadata": {},
   "outputs": [
    {
     "data": {
      "text/plain": [
       "['B25070_001E',\n",
       " 'B25070_002E',\n",
       " 'B25070_003E',\n",
       " 'B25070_004E',\n",
       " 'B25070_005E',\n",
       " 'B25070_006E',\n",
       " 'B25070_007E',\n",
       " 'B25070_008E',\n",
       " 'B25070_009E',\n",
       " 'B25070_010E',\n",
       " 'B25070_011E',\n",
       " 'GEO_ID',\n",
       " 'NAME',\n",
       " 'geometry']"
      ]
     },
     "execution_count": 12,
     "metadata": {},
     "output_type": "execute_result"
    }
   ],
   "source": [
    "rb2019.columns.to_list()"
   ]
  },
  {
   "cell_type": "code",
   "execution_count": 13,
   "id": "27a6e581-fdc4-440c-9807-efa8591037f6",
   "metadata": {},
   "outputs": [],
   "source": [
    "rb2019.columns = ['Total',\n",
    "                  '<10% 2019',\n",
    "                  '10-14.9% 2019',\n",
    "                  '15-19.9% 2019',\n",
    "                  '20-24.9% 2019',\n",
    "                  '25-29.9% 2019',\n",
    "                  '30-34.9% 2019',\n",
    "                  '35-39.9% 2019',\n",
    "                  '40-49.9% 2019',\n",
    "                  '>50% 2019',\n",
    "                  'Not Computed 2019',\n",
    "                  'GEO_ID',\n",
    "                  'Name',\n",
    "                 'geometry']"
   ]
  },
  {
   "cell_type": "markdown",
   "id": "31fffbd9-b618-4b6f-be7b-7bd685e57bca",
   "metadata": {},
   "source": [
    "Here I renamed the columns to actually useful names! I see that the GEO_ID is huge, and we only want the FIPS code, so I will replace the '1500000US' with '' (an empty space) so that it essentially is replaced with nothing. "
   ]
  },
  {
   "cell_type": "code",
   "execution_count": 14,
   "id": "f1a9935e-6038-4602-b616-a14239dc9ce0",
   "metadata": {},
   "outputs": [
    {
     "data": {
      "text/html": [
       "<div>\n",
       "<style scoped>\n",
       "    .dataframe tbody tr th:only-of-type {\n",
       "        vertical-align: middle;\n",
       "    }\n",
       "\n",
       "    .dataframe tbody tr th {\n",
       "        vertical-align: top;\n",
       "    }\n",
       "\n",
       "    .dataframe thead th {\n",
       "        text-align: right;\n",
       "    }\n",
       "</style>\n",
       "<table border=\"1\" class=\"dataframe\">\n",
       "  <thead>\n",
       "    <tr style=\"text-align: right;\">\n",
       "      <th></th>\n",
       "      <th>Total</th>\n",
       "      <th>&lt;10% 2019</th>\n",
       "      <th>10-14.9% 2019</th>\n",
       "      <th>15-19.9% 2019</th>\n",
       "      <th>20-24.9% 2019</th>\n",
       "      <th>25-29.9% 2019</th>\n",
       "      <th>30-34.9% 2019</th>\n",
       "      <th>35-39.9% 2019</th>\n",
       "      <th>40-49.9% 2019</th>\n",
       "      <th>&gt;50% 2019</th>\n",
       "      <th>Not Computed 2019</th>\n",
       "      <th>GEO_ID</th>\n",
       "      <th>Name</th>\n",
       "      <th>geometry</th>\n",
       "    </tr>\n",
       "  </thead>\n",
       "  <tbody>\n",
       "    <tr>\n",
       "      <th>1</th>\n",
       "      <td>143</td>\n",
       "      <td>42</td>\n",
       "      <td>0</td>\n",
       "      <td>10</td>\n",
       "      <td>41</td>\n",
       "      <td>0</td>\n",
       "      <td>0</td>\n",
       "      <td>9</td>\n",
       "      <td>9</td>\n",
       "      <td>25</td>\n",
       "      <td>7</td>\n",
       "      <td>1500000US060014001001</td>\n",
       "      <td>Block Group 1, Census Tract 4001, Alameda Coun...</td>\n",
       "      <td>None</td>\n",
       "    </tr>\n",
       "    <tr>\n",
       "      <th>2</th>\n",
       "      <td>114</td>\n",
       "      <td>13</td>\n",
       "      <td>19</td>\n",
       "      <td>27</td>\n",
       "      <td>19</td>\n",
       "      <td>6</td>\n",
       "      <td>3</td>\n",
       "      <td>6</td>\n",
       "      <td>0</td>\n",
       "      <td>21</td>\n",
       "      <td>0</td>\n",
       "      <td>1500000US060014002001</td>\n",
       "      <td>Block Group 1, Census Tract 4002, Alameda Coun...</td>\n",
       "      <td>None</td>\n",
       "    </tr>\n",
       "    <tr>\n",
       "      <th>3</th>\n",
       "      <td>208</td>\n",
       "      <td>21</td>\n",
       "      <td>46</td>\n",
       "      <td>51</td>\n",
       "      <td>18</td>\n",
       "      <td>40</td>\n",
       "      <td>13</td>\n",
       "      <td>11</td>\n",
       "      <td>8</td>\n",
       "      <td>0</td>\n",
       "      <td>0</td>\n",
       "      <td>1500000US060014002002</td>\n",
       "      <td>Block Group 2, Census Tract 4002, Alameda Coun...</td>\n",
       "      <td>None</td>\n",
       "    </tr>\n",
       "    <tr>\n",
       "      <th>4</th>\n",
       "      <td>141</td>\n",
       "      <td>9</td>\n",
       "      <td>29</td>\n",
       "      <td>30</td>\n",
       "      <td>46</td>\n",
       "      <td>0</td>\n",
       "      <td>15</td>\n",
       "      <td>12</td>\n",
       "      <td>0</td>\n",
       "      <td>0</td>\n",
       "      <td>0</td>\n",
       "      <td>1500000US060014003001</td>\n",
       "      <td>Block Group 1, Census Tract 4003, Alameda Coun...</td>\n",
       "      <td>None</td>\n",
       "    </tr>\n",
       "    <tr>\n",
       "      <th>5</th>\n",
       "      <td>490</td>\n",
       "      <td>31</td>\n",
       "      <td>93</td>\n",
       "      <td>95</td>\n",
       "      <td>16</td>\n",
       "      <td>78</td>\n",
       "      <td>61</td>\n",
       "      <td>41</td>\n",
       "      <td>0</td>\n",
       "      <td>62</td>\n",
       "      <td>13</td>\n",
       "      <td>1500000US060014003002</td>\n",
       "      <td>Block Group 2, Census Tract 4003, Alameda Coun...</td>\n",
       "      <td>None</td>\n",
       "    </tr>\n",
       "  </tbody>\n",
       "</table>\n",
       "</div>"
      ],
      "text/plain": [
       "  Total <10% 2019 10-14.9% 2019 15-19.9% 2019 20-24.9% 2019 25-29.9% 2019  \\\n",
       "1   143        42             0            10            41             0   \n",
       "2   114        13            19            27            19             6   \n",
       "3   208        21            46            51            18            40   \n",
       "4   141         9            29            30            46             0   \n",
       "5   490        31            93            95            16            78   \n",
       "\n",
       "  30-34.9% 2019 35-39.9% 2019 40-49.9% 2019 >50% 2019 Not Computed 2019  \\\n",
       "1             0             9             9        25                 7   \n",
       "2             3             6             0        21                 0   \n",
       "3            13            11             8         0                 0   \n",
       "4            15            12             0         0                 0   \n",
       "5            61            41             0        62                13   \n",
       "\n",
       "                  GEO_ID                                               Name  \\\n",
       "1  1500000US060014001001  Block Group 1, Census Tract 4001, Alameda Coun...   \n",
       "2  1500000US060014002001  Block Group 1, Census Tract 4002, Alameda Coun...   \n",
       "3  1500000US060014002002  Block Group 2, Census Tract 4002, Alameda Coun...   \n",
       "4  1500000US060014003001  Block Group 1, Census Tract 4003, Alameda Coun...   \n",
       "5  1500000US060014003002  Block Group 2, Census Tract 4003, Alameda Coun...   \n",
       "\n",
       "  geometry  \n",
       "1     None  \n",
       "2     None  \n",
       "3     None  \n",
       "4     None  \n",
       "5     None  "
      ]
     },
     "execution_count": 14,
     "metadata": {},
     "output_type": "execute_result"
    }
   ],
   "source": [
    "rb2019.head()"
   ]
  },
  {
   "cell_type": "code",
   "execution_count": 15,
   "id": "0ef0703c-7777-40f9-9667-a3dd6bbe4d41",
   "metadata": {},
   "outputs": [
    {
     "data": {
      "text/html": [
       "<div>\n",
       "<style scoped>\n",
       "    .dataframe tbody tr th:only-of-type {\n",
       "        vertical-align: middle;\n",
       "    }\n",
       "\n",
       "    .dataframe tbody tr th {\n",
       "        vertical-align: top;\n",
       "    }\n",
       "\n",
       "    .dataframe thead th {\n",
       "        text-align: right;\n",
       "    }\n",
       "</style>\n",
       "<table border=\"1\" class=\"dataframe\">\n",
       "  <thead>\n",
       "    <tr style=\"text-align: right;\">\n",
       "      <th></th>\n",
       "      <th>Total</th>\n",
       "      <th>&lt;10% 2019</th>\n",
       "      <th>10-14.9% 2019</th>\n",
       "      <th>15-19.9% 2019</th>\n",
       "      <th>20-24.9% 2019</th>\n",
       "      <th>25-29.9% 2019</th>\n",
       "      <th>30-34.9% 2019</th>\n",
       "      <th>35-39.9% 2019</th>\n",
       "      <th>40-49.9% 2019</th>\n",
       "      <th>&gt;50% 2019</th>\n",
       "      <th>Not Computed 2019</th>\n",
       "      <th>GEO_ID</th>\n",
       "      <th>Name</th>\n",
       "      <th>geometry</th>\n",
       "    </tr>\n",
       "  </thead>\n",
       "  <tbody>\n",
       "    <tr>\n",
       "      <th>1</th>\n",
       "      <td>143</td>\n",
       "      <td>42</td>\n",
       "      <td>0</td>\n",
       "      <td>10</td>\n",
       "      <td>41</td>\n",
       "      <td>0</td>\n",
       "      <td>0</td>\n",
       "      <td>9</td>\n",
       "      <td>9</td>\n",
       "      <td>25</td>\n",
       "      <td>7</td>\n",
       "      <td>060014001001</td>\n",
       "      <td>Block Group 1, Census Tract 4001, Alameda Coun...</td>\n",
       "      <td>None</td>\n",
       "    </tr>\n",
       "    <tr>\n",
       "      <th>2</th>\n",
       "      <td>114</td>\n",
       "      <td>13</td>\n",
       "      <td>19</td>\n",
       "      <td>27</td>\n",
       "      <td>19</td>\n",
       "      <td>6</td>\n",
       "      <td>3</td>\n",
       "      <td>6</td>\n",
       "      <td>0</td>\n",
       "      <td>21</td>\n",
       "      <td>0</td>\n",
       "      <td>060014002001</td>\n",
       "      <td>Block Group 1, Census Tract 4002, Alameda Coun...</td>\n",
       "      <td>None</td>\n",
       "    </tr>\n",
       "    <tr>\n",
       "      <th>3</th>\n",
       "      <td>208</td>\n",
       "      <td>21</td>\n",
       "      <td>46</td>\n",
       "      <td>51</td>\n",
       "      <td>18</td>\n",
       "      <td>40</td>\n",
       "      <td>13</td>\n",
       "      <td>11</td>\n",
       "      <td>8</td>\n",
       "      <td>0</td>\n",
       "      <td>0</td>\n",
       "      <td>060014002002</td>\n",
       "      <td>Block Group 2, Census Tract 4002, Alameda Coun...</td>\n",
       "      <td>None</td>\n",
       "    </tr>\n",
       "    <tr>\n",
       "      <th>4</th>\n",
       "      <td>141</td>\n",
       "      <td>9</td>\n",
       "      <td>29</td>\n",
       "      <td>30</td>\n",
       "      <td>46</td>\n",
       "      <td>0</td>\n",
       "      <td>15</td>\n",
       "      <td>12</td>\n",
       "      <td>0</td>\n",
       "      <td>0</td>\n",
       "      <td>0</td>\n",
       "      <td>060014003001</td>\n",
       "      <td>Block Group 1, Census Tract 4003, Alameda Coun...</td>\n",
       "      <td>None</td>\n",
       "    </tr>\n",
       "    <tr>\n",
       "      <th>5</th>\n",
       "      <td>490</td>\n",
       "      <td>31</td>\n",
       "      <td>93</td>\n",
       "      <td>95</td>\n",
       "      <td>16</td>\n",
       "      <td>78</td>\n",
       "      <td>61</td>\n",
       "      <td>41</td>\n",
       "      <td>0</td>\n",
       "      <td>62</td>\n",
       "      <td>13</td>\n",
       "      <td>060014003002</td>\n",
       "      <td>Block Group 2, Census Tract 4003, Alameda Coun...</td>\n",
       "      <td>None</td>\n",
       "    </tr>\n",
       "  </tbody>\n",
       "</table>\n",
       "</div>"
      ],
      "text/plain": [
       "  Total <10% 2019 10-14.9% 2019 15-19.9% 2019 20-24.9% 2019 25-29.9% 2019  \\\n",
       "1   143        42             0            10            41             0   \n",
       "2   114        13            19            27            19             6   \n",
       "3   208        21            46            51            18            40   \n",
       "4   141         9            29            30            46             0   \n",
       "5   490        31            93            95            16            78   \n",
       "\n",
       "  30-34.9% 2019 35-39.9% 2019 40-49.9% 2019 >50% 2019 Not Computed 2019  \\\n",
       "1             0             9             9        25                 7   \n",
       "2             3             6             0        21                 0   \n",
       "3            13            11             8         0                 0   \n",
       "4            15            12             0         0                 0   \n",
       "5            61            41             0        62                13   \n",
       "\n",
       "         GEO_ID                                               Name geometry  \n",
       "1  060014001001  Block Group 1, Census Tract 4001, Alameda Coun...     None  \n",
       "2  060014002001  Block Group 1, Census Tract 4002, Alameda Coun...     None  \n",
       "3  060014002002  Block Group 2, Census Tract 4002, Alameda Coun...     None  \n",
       "4  060014003001  Block Group 1, Census Tract 4003, Alameda Coun...     None  \n",
       "5  060014003002  Block Group 2, Census Tract 4003, Alameda Coun...     None  "
      ]
     },
     "execution_count": 15,
     "metadata": {},
     "output_type": "execute_result"
    }
   ],
   "source": [
    "rb2019['GEO_ID'] = rb2019['GEO_ID'].str.replace('1500000US','')\n",
    "rb2019.head()"
   ]
  },
  {
   "cell_type": "code",
   "execution_count": 16,
   "id": "ee782607-aec6-4a3f-8f92-564cc46f7d25",
   "metadata": {},
   "outputs": [],
   "source": [
    "rb2019= rb2019[['Total',\n",
    "                  '<10% 2019',\n",
    "                  '10-14.9% 2019',\n",
    "                  '15-19.9% 2019',\n",
    "                  '20-24.9% 2019',\n",
    "                  '25-29.9% 2019',\n",
    "                  '30-34.9% 2019',\n",
    "                  '35-39.9% 2019',\n",
    "                  '40-49.9% 2019',\n",
    "                  '>50% 2019',\n",
    "                  'GEO_ID',\n",
    "                  'Name']]"
   ]
  },
  {
   "cell_type": "markdown",
   "id": "eaabbd52-5ba6-4326-b5e4-a36b5d9ff39b",
   "metadata": {},
   "source": [
    "Here I got rid of the geometry and not computed columns."
   ]
  },
  {
   "cell_type": "code",
   "execution_count": 17,
   "id": "90bb4e31-08c1-4642-bfb4-a5ef4a2ceab7",
   "metadata": {},
   "outputs": [
    {
     "data": {
      "text/html": [
       "<div>\n",
       "<style scoped>\n",
       "    .dataframe tbody tr th:only-of-type {\n",
       "        vertical-align: middle;\n",
       "    }\n",
       "\n",
       "    .dataframe tbody tr th {\n",
       "        vertical-align: top;\n",
       "    }\n",
       "\n",
       "    .dataframe thead th {\n",
       "        text-align: right;\n",
       "    }\n",
       "</style>\n",
       "<table border=\"1\" class=\"dataframe\">\n",
       "  <thead>\n",
       "    <tr style=\"text-align: right;\">\n",
       "      <th></th>\n",
       "      <th>Total</th>\n",
       "      <th>&lt;10% 2019</th>\n",
       "      <th>10-14.9% 2019</th>\n",
       "      <th>15-19.9% 2019</th>\n",
       "      <th>20-24.9% 2019</th>\n",
       "      <th>25-29.9% 2019</th>\n",
       "      <th>30-34.9% 2019</th>\n",
       "      <th>35-39.9% 2019</th>\n",
       "      <th>40-49.9% 2019</th>\n",
       "      <th>&gt;50% 2019</th>\n",
       "      <th>GEO_ID</th>\n",
       "      <th>Name</th>\n",
       "    </tr>\n",
       "  </thead>\n",
       "  <tbody>\n",
       "    <tr>\n",
       "      <th>1</th>\n",
       "      <td>143</td>\n",
       "      <td>42</td>\n",
       "      <td>0</td>\n",
       "      <td>10</td>\n",
       "      <td>41</td>\n",
       "      <td>0</td>\n",
       "      <td>0</td>\n",
       "      <td>9</td>\n",
       "      <td>9</td>\n",
       "      <td>25</td>\n",
       "      <td>060014001001</td>\n",
       "      <td>Block Group 1, Census Tract 4001, Alameda Coun...</td>\n",
       "    </tr>\n",
       "    <tr>\n",
       "      <th>2</th>\n",
       "      <td>114</td>\n",
       "      <td>13</td>\n",
       "      <td>19</td>\n",
       "      <td>27</td>\n",
       "      <td>19</td>\n",
       "      <td>6</td>\n",
       "      <td>3</td>\n",
       "      <td>6</td>\n",
       "      <td>0</td>\n",
       "      <td>21</td>\n",
       "      <td>060014002001</td>\n",
       "      <td>Block Group 1, Census Tract 4002, Alameda Coun...</td>\n",
       "    </tr>\n",
       "    <tr>\n",
       "      <th>3</th>\n",
       "      <td>208</td>\n",
       "      <td>21</td>\n",
       "      <td>46</td>\n",
       "      <td>51</td>\n",
       "      <td>18</td>\n",
       "      <td>40</td>\n",
       "      <td>13</td>\n",
       "      <td>11</td>\n",
       "      <td>8</td>\n",
       "      <td>0</td>\n",
       "      <td>060014002002</td>\n",
       "      <td>Block Group 2, Census Tract 4002, Alameda Coun...</td>\n",
       "    </tr>\n",
       "    <tr>\n",
       "      <th>4</th>\n",
       "      <td>141</td>\n",
       "      <td>9</td>\n",
       "      <td>29</td>\n",
       "      <td>30</td>\n",
       "      <td>46</td>\n",
       "      <td>0</td>\n",
       "      <td>15</td>\n",
       "      <td>12</td>\n",
       "      <td>0</td>\n",
       "      <td>0</td>\n",
       "      <td>060014003001</td>\n",
       "      <td>Block Group 1, Census Tract 4003, Alameda Coun...</td>\n",
       "    </tr>\n",
       "    <tr>\n",
       "      <th>5</th>\n",
       "      <td>490</td>\n",
       "      <td>31</td>\n",
       "      <td>93</td>\n",
       "      <td>95</td>\n",
       "      <td>16</td>\n",
       "      <td>78</td>\n",
       "      <td>61</td>\n",
       "      <td>41</td>\n",
       "      <td>0</td>\n",
       "      <td>62</td>\n",
       "      <td>060014003002</td>\n",
       "      <td>Block Group 2, Census Tract 4003, Alameda Coun...</td>\n",
       "    </tr>\n",
       "  </tbody>\n",
       "</table>\n",
       "</div>"
      ],
      "text/plain": [
       "  Total <10% 2019 10-14.9% 2019 15-19.9% 2019 20-24.9% 2019 25-29.9% 2019  \\\n",
       "1   143        42             0            10            41             0   \n",
       "2   114        13            19            27            19             6   \n",
       "3   208        21            46            51            18            40   \n",
       "4   141         9            29            30            46             0   \n",
       "5   490        31            93            95            16            78   \n",
       "\n",
       "  30-34.9% 2019 35-39.9% 2019 40-49.9% 2019 >50% 2019        GEO_ID  \\\n",
       "1             0             9             9        25  060014001001   \n",
       "2             3             6             0        21  060014002001   \n",
       "3            13            11             8         0  060014002002   \n",
       "4            15            12             0         0  060014003001   \n",
       "5            61            41             0        62  060014003002   \n",
       "\n",
       "                                                Name  \n",
       "1  Block Group 1, Census Tract 4001, Alameda Coun...  \n",
       "2  Block Group 1, Census Tract 4002, Alameda Coun...  \n",
       "3  Block Group 2, Census Tract 4002, Alameda Coun...  \n",
       "4  Block Group 1, Census Tract 4003, Alameda Coun...  \n",
       "5  Block Group 2, Census Tract 4003, Alameda Coun...  "
      ]
     },
     "execution_count": 17,
     "metadata": {},
     "output_type": "execute_result"
    }
   ],
   "source": [
    "rb2019.head()"
   ]
  },
  {
   "cell_type": "markdown",
   "id": "cc2ccbf1-a9ec-474e-bfb3-89bde2145d3e",
   "metadata": {},
   "source": [
    "Now I'm going to join the pandas file with the block group shapefile to turn my dataset into a geodataframe. This will add the correct geometry information for each block group."
   ]
  },
  {
   "cell_type": "code",
   "execution_count": 18,
   "id": "e90ef478-071b-44e8-9d4e-b0ebcea4267e",
   "metadata": {},
   "outputs": [],
   "source": [
    "blockshape = gpd.read_file('tl_2013_06_bg.shp')"
   ]
  },
  {
   "cell_type": "code",
   "execution_count": 19,
   "id": "42a58d72-f6fe-48a8-b1f8-efaba7c180eb",
   "metadata": {},
   "outputs": [
    {
     "data": {
      "text/plain": [
       "(23212, 13)"
      ]
     },
     "execution_count": 19,
     "metadata": {},
     "output_type": "execute_result"
    }
   ],
   "source": [
    "blockshape.shape"
   ]
  },
  {
   "cell_type": "code",
   "execution_count": 20,
   "id": "56d97133-b7b8-4cba-9838-8561d0abcd72",
   "metadata": {},
   "outputs": [
    {
     "data": {
      "text/html": [
       "<div>\n",
       "<style scoped>\n",
       "    .dataframe tbody tr th:only-of-type {\n",
       "        vertical-align: middle;\n",
       "    }\n",
       "\n",
       "    .dataframe tbody tr th {\n",
       "        vertical-align: top;\n",
       "    }\n",
       "\n",
       "    .dataframe thead th {\n",
       "        text-align: right;\n",
       "    }\n",
       "</style>\n",
       "<table border=\"1\" class=\"dataframe\">\n",
       "  <thead>\n",
       "    <tr style=\"text-align: right;\">\n",
       "      <th></th>\n",
       "      <th>STATEFP</th>\n",
       "      <th>COUNTYFP</th>\n",
       "      <th>TRACTCE</th>\n",
       "      <th>BLKGRPCE</th>\n",
       "      <th>GEOID</th>\n",
       "      <th>NAMELSAD</th>\n",
       "      <th>MTFCC</th>\n",
       "      <th>FUNCSTAT</th>\n",
       "      <th>ALAND</th>\n",
       "      <th>AWATER</th>\n",
       "      <th>INTPTLAT</th>\n",
       "      <th>INTPTLON</th>\n",
       "      <th>geometry</th>\n",
       "    </tr>\n",
       "  </thead>\n",
       "  <tbody>\n",
       "    <tr>\n",
       "      <th>0</th>\n",
       "      <td>06</td>\n",
       "      <td>025</td>\n",
       "      <td>940000</td>\n",
       "      <td>3</td>\n",
       "      <td>060259400003</td>\n",
       "      <td>Block Group 3</td>\n",
       "      <td>G5030</td>\n",
       "      <td>S</td>\n",
       "      <td>12266442</td>\n",
       "      <td>680335</td>\n",
       "      <td>+32.7424027</td>\n",
       "      <td>-114.6675664</td>\n",
       "      <td>POLYGON ((-114.72653 32.71824, -114.72639 32.7...</td>\n",
       "    </tr>\n",
       "    <tr>\n",
       "      <th>1</th>\n",
       "      <td>06</td>\n",
       "      <td>025</td>\n",
       "      <td>010800</td>\n",
       "      <td>2</td>\n",
       "      <td>060250108002</td>\n",
       "      <td>Block Group 2</td>\n",
       "      <td>G5030</td>\n",
       "      <td>S</td>\n",
       "      <td>59331705</td>\n",
       "      <td>0</td>\n",
       "      <td>+32.7658550</td>\n",
       "      <td>-115.3923893</td>\n",
       "      <td>POLYGON ((-115.43082 32.73090, -115.43082 32.7...</td>\n",
       "    </tr>\n",
       "    <tr>\n",
       "      <th>2</th>\n",
       "      <td>06</td>\n",
       "      <td>025</td>\n",
       "      <td>010800</td>\n",
       "      <td>1</td>\n",
       "      <td>060250108001</td>\n",
       "      <td>Block Group 1</td>\n",
       "      <td>G5030</td>\n",
       "      <td>S</td>\n",
       "      <td>230656790</td>\n",
       "      <td>0</td>\n",
       "      <td>+32.8363463</td>\n",
       "      <td>-115.3514134</td>\n",
       "      <td>POLYGON ((-115.45784 32.90895, -115.45773 32.9...</td>\n",
       "    </tr>\n",
       "    <tr>\n",
       "      <th>3</th>\n",
       "      <td>06</td>\n",
       "      <td>025</td>\n",
       "      <td>011100</td>\n",
       "      <td>3</td>\n",
       "      <td>060250111003</td>\n",
       "      <td>Block Group 3</td>\n",
       "      <td>G5030</td>\n",
       "      <td>S</td>\n",
       "      <td>1209336</td>\n",
       "      <td>0</td>\n",
       "      <td>+32.7932442</td>\n",
       "      <td>-115.6903925</td>\n",
       "      <td>POLYGON ((-115.70134 32.79085, -115.70091 32.7...</td>\n",
       "    </tr>\n",
       "    <tr>\n",
       "      <th>4</th>\n",
       "      <td>06</td>\n",
       "      <td>073</td>\n",
       "      <td>010013</td>\n",
       "      <td>2</td>\n",
       "      <td>060730100132</td>\n",
       "      <td>Block Group 2</td>\n",
       "      <td>G5030</td>\n",
       "      <td>S</td>\n",
       "      <td>404606</td>\n",
       "      <td>0</td>\n",
       "      <td>+32.5564082</td>\n",
       "      <td>-117.0507980</td>\n",
       "      <td>POLYGON ((-117.05430 32.55542, -117.05430 32.5...</td>\n",
       "    </tr>\n",
       "  </tbody>\n",
       "</table>\n",
       "</div>"
      ],
      "text/plain": [
       "  STATEFP COUNTYFP TRACTCE BLKGRPCE         GEOID       NAMELSAD  MTFCC  \\\n",
       "0      06      025  940000        3  060259400003  Block Group 3  G5030   \n",
       "1      06      025  010800        2  060250108002  Block Group 2  G5030   \n",
       "2      06      025  010800        1  060250108001  Block Group 1  G5030   \n",
       "3      06      025  011100        3  060250111003  Block Group 3  G5030   \n",
       "4      06      073  010013        2  060730100132  Block Group 2  G5030   \n",
       "\n",
       "  FUNCSTAT      ALAND  AWATER     INTPTLAT      INTPTLON  \\\n",
       "0        S   12266442  680335  +32.7424027  -114.6675664   \n",
       "1        S   59331705       0  +32.7658550  -115.3923893   \n",
       "2        S  230656790       0  +32.8363463  -115.3514134   \n",
       "3        S    1209336       0  +32.7932442  -115.6903925   \n",
       "4        S     404606       0  +32.5564082  -117.0507980   \n",
       "\n",
       "                                            geometry  \n",
       "0  POLYGON ((-114.72653 32.71824, -114.72639 32.7...  \n",
       "1  POLYGON ((-115.43082 32.73090, -115.43082 32.7...  \n",
       "2  POLYGON ((-115.45784 32.90895, -115.45773 32.9...  \n",
       "3  POLYGON ((-115.70134 32.79085, -115.70091 32.7...  \n",
       "4  POLYGON ((-117.05430 32.55542, -117.05430 32.5...  "
      ]
     },
     "execution_count": 20,
     "metadata": {},
     "output_type": "execute_result"
    }
   ],
   "source": [
    "blockshape.head()"
   ]
  },
  {
   "cell_type": "code",
   "execution_count": 21,
   "id": "691ef598-51cf-4014-aaab-dda4b891181c",
   "metadata": {},
   "outputs": [],
   "source": [
    "rb2019.columns=['Total',\n",
    "                  '<10% 2019',\n",
    "                  '10-14.9% 2019',\n",
    "                  '15-19.9% 2019',\n",
    "                  '20-24.9% 2019',\n",
    "                  '25-29.9% 2019',\n",
    "                  '30-34.9% 2019',\n",
    "                  '35-39.9% 2019',\n",
    "                  '40-49.9% 2019',\n",
    "                  '>50% 2019',\n",
    "                  'GEOID',\n",
    "                  'Name']"
   ]
  },
  {
   "cell_type": "markdown",
   "id": "eda8ce84-2963-4108-a757-db47770063dc",
   "metadata": {},
   "source": [
    "Here I changed the GEO_ID name to GEOID so that it matches the shapefile. I need to do the join on GEOID, so they need to match. I'll also clean up the blockshape shapefile so that it only has the two columns I need, GEOID and geometry."
   ]
  },
  {
   "cell_type": "code",
   "execution_count": 22,
   "id": "2491d19d-b66e-4cc4-9045-a6c78cd9d8e6",
   "metadata": {},
   "outputs": [
    {
     "data": {
      "text/plain": [
       "(1047, 12)"
      ]
     },
     "execution_count": 22,
     "metadata": {},
     "output_type": "execute_result"
    }
   ],
   "source": [
    "rb2019.shape"
   ]
  },
  {
   "cell_type": "code",
   "execution_count": 23,
   "id": "cc4d7d5b-d134-45e7-8553-eab5711b7cc1",
   "metadata": {},
   "outputs": [],
   "source": [
    "blockshape=blockshape[['GEOID', 'geometry']]"
   ]
  },
  {
   "cell_type": "code",
   "execution_count": 24,
   "id": "dadfcf1a-058b-4c77-8737-236e549337e0",
   "metadata": {},
   "outputs": [],
   "source": [
    "rb_block2019 = blockshape.merge(rb2019, on='GEOID')"
   ]
  },
  {
   "cell_type": "code",
   "execution_count": 25,
   "id": "cf0efa8f-5cc9-40ea-953c-2d78f5653d0c",
   "metadata": {},
   "outputs": [
    {
     "data": {
      "text/html": [
       "<div>\n",
       "<style scoped>\n",
       "    .dataframe tbody tr th:only-of-type {\n",
       "        vertical-align: middle;\n",
       "    }\n",
       "\n",
       "    .dataframe tbody tr th {\n",
       "        vertical-align: top;\n",
       "    }\n",
       "\n",
       "    .dataframe thead th {\n",
       "        text-align: right;\n",
       "    }\n",
       "</style>\n",
       "<table border=\"1\" class=\"dataframe\">\n",
       "  <thead>\n",
       "    <tr style=\"text-align: right;\">\n",
       "      <th></th>\n",
       "      <th>GEOID</th>\n",
       "      <th>geometry</th>\n",
       "      <th>Total</th>\n",
       "      <th>&lt;10% 2019</th>\n",
       "      <th>10-14.9% 2019</th>\n",
       "      <th>15-19.9% 2019</th>\n",
       "      <th>20-24.9% 2019</th>\n",
       "      <th>25-29.9% 2019</th>\n",
       "      <th>30-34.9% 2019</th>\n",
       "      <th>35-39.9% 2019</th>\n",
       "      <th>40-49.9% 2019</th>\n",
       "      <th>&gt;50% 2019</th>\n",
       "      <th>Name</th>\n",
       "    </tr>\n",
       "  </thead>\n",
       "  <tbody>\n",
       "    <tr>\n",
       "      <th>0</th>\n",
       "      <td>060014403351</td>\n",
       "      <td>POLYGON ((-122.01845 37.59582, -122.01841 37.5...</td>\n",
       "      <td>79</td>\n",
       "      <td>0</td>\n",
       "      <td>0</td>\n",
       "      <td>42</td>\n",
       "      <td>37</td>\n",
       "      <td>0</td>\n",
       "      <td>0</td>\n",
       "      <td>0</td>\n",
       "      <td>0</td>\n",
       "      <td>0</td>\n",
       "      <td>Block Group 1, Census Tract 4403.35, Alameda C...</td>\n",
       "    </tr>\n",
       "    <tr>\n",
       "      <th>1</th>\n",
       "      <td>060014423012</td>\n",
       "      <td>POLYGON ((-121.96678 37.53030, -121.96678 37.5...</td>\n",
       "      <td>301</td>\n",
       "      <td>0</td>\n",
       "      <td>8</td>\n",
       "      <td>41</td>\n",
       "      <td>48</td>\n",
       "      <td>60</td>\n",
       "      <td>65</td>\n",
       "      <td>0</td>\n",
       "      <td>0</td>\n",
       "      <td>79</td>\n",
       "      <td>Block Group 2, Census Tract 4423.01, Alameda C...</td>\n",
       "    </tr>\n",
       "    <tr>\n",
       "      <th>2</th>\n",
       "      <td>060014060001</td>\n",
       "      <td>POLYGON ((-122.26735 37.78872, -122.26445 37.7...</td>\n",
       "      <td>339</td>\n",
       "      <td>0</td>\n",
       "      <td>18</td>\n",
       "      <td>100</td>\n",
       "      <td>36</td>\n",
       "      <td>88</td>\n",
       "      <td>57</td>\n",
       "      <td>0</td>\n",
       "      <td>10</td>\n",
       "      <td>25</td>\n",
       "      <td>Block Group 1, Census Tract 4060, Alameda Coun...</td>\n",
       "    </tr>\n",
       "    <tr>\n",
       "      <th>3</th>\n",
       "      <td>060014337001</td>\n",
       "      <td>POLYGON ((-122.11467 37.68870, -122.11462 37.6...</td>\n",
       "      <td>232</td>\n",
       "      <td>0</td>\n",
       "      <td>0</td>\n",
       "      <td>13</td>\n",
       "      <td>53</td>\n",
       "      <td>21</td>\n",
       "      <td>0</td>\n",
       "      <td>33</td>\n",
       "      <td>60</td>\n",
       "      <td>45</td>\n",
       "      <td>Block Group 1, Census Tract 4337, Alameda Coun...</td>\n",
       "    </tr>\n",
       "    <tr>\n",
       "      <th>4</th>\n",
       "      <td>060014364012</td>\n",
       "      <td>POLYGON ((-122.07302 37.67305, -122.07265 37.6...</td>\n",
       "      <td>382</td>\n",
       "      <td>0</td>\n",
       "      <td>36</td>\n",
       "      <td>29</td>\n",
       "      <td>28</td>\n",
       "      <td>38</td>\n",
       "      <td>45</td>\n",
       "      <td>47</td>\n",
       "      <td>0</td>\n",
       "      <td>159</td>\n",
       "      <td>Block Group 2, Census Tract 4364.01, Alameda C...</td>\n",
       "    </tr>\n",
       "  </tbody>\n",
       "</table>\n",
       "</div>"
      ],
      "text/plain": [
       "          GEOID                                           geometry Total  \\\n",
       "0  060014403351  POLYGON ((-122.01845 37.59582, -122.01841 37.5...    79   \n",
       "1  060014423012  POLYGON ((-121.96678 37.53030, -121.96678 37.5...   301   \n",
       "2  060014060001  POLYGON ((-122.26735 37.78872, -122.26445 37.7...   339   \n",
       "3  060014337001  POLYGON ((-122.11467 37.68870, -122.11462 37.6...   232   \n",
       "4  060014364012  POLYGON ((-122.07302 37.67305, -122.07265 37.6...   382   \n",
       "\n",
       "  <10% 2019 10-14.9% 2019 15-19.9% 2019 20-24.9% 2019 25-29.9% 2019  \\\n",
       "0         0             0            42            37             0   \n",
       "1         0             8            41            48            60   \n",
       "2         0            18           100            36            88   \n",
       "3         0             0            13            53            21   \n",
       "4         0            36            29            28            38   \n",
       "\n",
       "  30-34.9% 2019 35-39.9% 2019 40-49.9% 2019 >50% 2019  \\\n",
       "0             0             0             0         0   \n",
       "1            65             0             0        79   \n",
       "2            57             0            10        25   \n",
       "3             0            33            60        45   \n",
       "4            45            47             0       159   \n",
       "\n",
       "                                                Name  \n",
       "0  Block Group 1, Census Tract 4403.35, Alameda C...  \n",
       "1  Block Group 2, Census Tract 4423.01, Alameda C...  \n",
       "2  Block Group 1, Census Tract 4060, Alameda Coun...  \n",
       "3  Block Group 1, Census Tract 4337, Alameda Coun...  \n",
       "4  Block Group 2, Census Tract 4364.01, Alameda C...  "
      ]
     },
     "execution_count": 25,
     "metadata": {},
     "output_type": "execute_result"
    }
   ],
   "source": [
    "rb_block2019.head()"
   ]
  },
  {
   "cell_type": "code",
   "execution_count": 26,
   "id": "9e46c197-fff9-4165-b29d-87e8a598a21f",
   "metadata": {},
   "outputs": [
    {
     "data": {
      "text/plain": [
       "(1047, 13)"
      ]
     },
     "execution_count": 26,
     "metadata": {},
     "output_type": "execute_result"
    }
   ],
   "source": [
    "rb_block2019.shape"
   ]
  },
  {
   "cell_type": "markdown",
   "id": "a953742c-9f13-4364-af1c-52ac0164a853",
   "metadata": {},
   "source": [
    "Super huge dataset! But cleaner than before. Now I want to make sure my data is in the right format so that I can do some arithmetic functions to normalize the data. But first, I want to make a dataset that only has the block group, geometry, and total population. This will be important for the spatial auto correlation maps I will produce later. That way we can see which census block groups have had the most change because they will stand out on the map. I'll do this by making a copy of this newly joined dataset."
   ]
  },
  {
   "cell_type": "code",
   "execution_count": 27,
   "id": "9042e2b1-8d07-4d98-9fd9-cda9a80a65a5",
   "metadata": {},
   "outputs": [],
   "source": [
    "bg = rb_block2019.copy()"
   ]
  },
  {
   "cell_type": "code",
   "execution_count": 28,
   "id": "74ba4d4e-630e-460a-8110-dd237291c7cf",
   "metadata": {},
   "outputs": [
    {
     "data": {
      "text/html": [
       "<div>\n",
       "<style scoped>\n",
       "    .dataframe tbody tr th:only-of-type {\n",
       "        vertical-align: middle;\n",
       "    }\n",
       "\n",
       "    .dataframe tbody tr th {\n",
       "        vertical-align: top;\n",
       "    }\n",
       "\n",
       "    .dataframe thead th {\n",
       "        text-align: right;\n",
       "    }\n",
       "</style>\n",
       "<table border=\"1\" class=\"dataframe\">\n",
       "  <thead>\n",
       "    <tr style=\"text-align: right;\">\n",
       "      <th></th>\n",
       "      <th>GEOID</th>\n",
       "      <th>geometry</th>\n",
       "      <th>Total</th>\n",
       "      <th>&lt;10% 2019</th>\n",
       "      <th>10-14.9% 2019</th>\n",
       "      <th>15-19.9% 2019</th>\n",
       "      <th>20-24.9% 2019</th>\n",
       "      <th>25-29.9% 2019</th>\n",
       "      <th>30-34.9% 2019</th>\n",
       "      <th>35-39.9% 2019</th>\n",
       "      <th>40-49.9% 2019</th>\n",
       "      <th>&gt;50% 2019</th>\n",
       "      <th>Name</th>\n",
       "    </tr>\n",
       "  </thead>\n",
       "  <tbody>\n",
       "    <tr>\n",
       "      <th>0</th>\n",
       "      <td>060014403351</td>\n",
       "      <td>POLYGON ((-122.01845 37.59582, -122.01841 37.5...</td>\n",
       "      <td>79</td>\n",
       "      <td>0</td>\n",
       "      <td>0</td>\n",
       "      <td>42</td>\n",
       "      <td>37</td>\n",
       "      <td>0</td>\n",
       "      <td>0</td>\n",
       "      <td>0</td>\n",
       "      <td>0</td>\n",
       "      <td>0</td>\n",
       "      <td>Block Group 1, Census Tract 4403.35, Alameda C...</td>\n",
       "    </tr>\n",
       "    <tr>\n",
       "      <th>1</th>\n",
       "      <td>060014423012</td>\n",
       "      <td>POLYGON ((-121.96678 37.53030, -121.96678 37.5...</td>\n",
       "      <td>301</td>\n",
       "      <td>0</td>\n",
       "      <td>8</td>\n",
       "      <td>41</td>\n",
       "      <td>48</td>\n",
       "      <td>60</td>\n",
       "      <td>65</td>\n",
       "      <td>0</td>\n",
       "      <td>0</td>\n",
       "      <td>79</td>\n",
       "      <td>Block Group 2, Census Tract 4423.01, Alameda C...</td>\n",
       "    </tr>\n",
       "    <tr>\n",
       "      <th>2</th>\n",
       "      <td>060014060001</td>\n",
       "      <td>POLYGON ((-122.26735 37.78872, -122.26445 37.7...</td>\n",
       "      <td>339</td>\n",
       "      <td>0</td>\n",
       "      <td>18</td>\n",
       "      <td>100</td>\n",
       "      <td>36</td>\n",
       "      <td>88</td>\n",
       "      <td>57</td>\n",
       "      <td>0</td>\n",
       "      <td>10</td>\n",
       "      <td>25</td>\n",
       "      <td>Block Group 1, Census Tract 4060, Alameda Coun...</td>\n",
       "    </tr>\n",
       "  </tbody>\n",
       "</table>\n",
       "</div>"
      ],
      "text/plain": [
       "          GEOID                                           geometry Total  \\\n",
       "0  060014403351  POLYGON ((-122.01845 37.59582, -122.01841 37.5...    79   \n",
       "1  060014423012  POLYGON ((-121.96678 37.53030, -121.96678 37.5...   301   \n",
       "2  060014060001  POLYGON ((-122.26735 37.78872, -122.26445 37.7...   339   \n",
       "\n",
       "  <10% 2019 10-14.9% 2019 15-19.9% 2019 20-24.9% 2019 25-29.9% 2019  \\\n",
       "0         0             0            42            37             0   \n",
       "1         0             8            41            48            60   \n",
       "2         0            18           100            36            88   \n",
       "\n",
       "  30-34.9% 2019 35-39.9% 2019 40-49.9% 2019 >50% 2019  \\\n",
       "0             0             0             0         0   \n",
       "1            65             0             0        79   \n",
       "2            57             0            10        25   \n",
       "\n",
       "                                                Name  \n",
       "0  Block Group 1, Census Tract 4403.35, Alameda C...  \n",
       "1  Block Group 2, Census Tract 4423.01, Alameda C...  \n",
       "2  Block Group 1, Census Tract 4060, Alameda Coun...  "
      ]
     },
     "execution_count": 28,
     "metadata": {},
     "output_type": "execute_result"
    }
   ],
   "source": [
    "bg.head(3)"
   ]
  },
  {
   "cell_type": "code",
   "execution_count": 29,
   "id": "70d6d48c-c9e7-4deb-9878-40a28dc3a398",
   "metadata": {},
   "outputs": [
    {
     "data": {
      "text/plain": [
       "['GEOID',\n",
       " 'geometry',\n",
       " 'Total',\n",
       " '<10% 2019',\n",
       " '10-14.9% 2019',\n",
       " '15-19.9% 2019',\n",
       " '20-24.9% 2019',\n",
       " '25-29.9% 2019',\n",
       " '30-34.9% 2019',\n",
       " '35-39.9% 2019',\n",
       " '40-49.9% 2019',\n",
       " '>50% 2019',\n",
       " 'Name']"
      ]
     },
     "execution_count": 29,
     "metadata": {},
     "output_type": "execute_result"
    }
   ],
   "source": [
    "list(bg)"
   ]
  },
  {
   "cell_type": "code",
   "execution_count": 30,
   "id": "e3f8d2e5-7286-4c53-b2e3-e5a5fc595b99",
   "metadata": {},
   "outputs": [],
   "source": [
    "col_keep = ['GEOID',\n",
    " 'geometry',\n",
    " 'Total']"
   ]
  },
  {
   "cell_type": "code",
   "execution_count": 31,
   "id": "04a79e8f-5cd3-430e-be05-0574255fb87e",
   "metadata": {},
   "outputs": [
    {
     "data": {
      "text/html": [
       "<div>\n",
       "<style scoped>\n",
       "    .dataframe tbody tr th:only-of-type {\n",
       "        vertical-align: middle;\n",
       "    }\n",
       "\n",
       "    .dataframe tbody tr th {\n",
       "        vertical-align: top;\n",
       "    }\n",
       "\n",
       "    .dataframe thead th {\n",
       "        text-align: right;\n",
       "    }\n",
       "</style>\n",
       "<table border=\"1\" class=\"dataframe\">\n",
       "  <thead>\n",
       "    <tr style=\"text-align: right;\">\n",
       "      <th></th>\n",
       "      <th>GEOID</th>\n",
       "      <th>geometry</th>\n",
       "      <th>Total</th>\n",
       "    </tr>\n",
       "  </thead>\n",
       "  <tbody>\n",
       "    <tr>\n",
       "      <th>0</th>\n",
       "      <td>060014403351</td>\n",
       "      <td>POLYGON ((-122.01845 37.59582, -122.01841 37.5...</td>\n",
       "      <td>79</td>\n",
       "    </tr>\n",
       "    <tr>\n",
       "      <th>1</th>\n",
       "      <td>060014423012</td>\n",
       "      <td>POLYGON ((-121.96678 37.53030, -121.96678 37.5...</td>\n",
       "      <td>301</td>\n",
       "    </tr>\n",
       "  </tbody>\n",
       "</table>\n",
       "</div>"
      ],
      "text/plain": [
       "          GEOID                                           geometry Total\n",
       "0  060014403351  POLYGON ((-122.01845 37.59582, -122.01841 37.5...    79\n",
       "1  060014423012  POLYGON ((-121.96678 37.53030, -121.96678 37.5...   301"
      ]
     },
     "execution_count": 31,
     "metadata": {},
     "output_type": "execute_result"
    }
   ],
   "source": [
    "bg = bg[col_keep]\n",
    "bg.head(2)"
   ]
  },
  {
   "cell_type": "markdown",
   "id": "a36ba4b0-3e28-49d7-b7c6-ddcb80d27004",
   "metadata": {},
   "source": [
    "Awesome, now I'm going to save this for later use. After this, I'm going to project it to web mercator and take see what it looks like."
   ]
  },
  {
   "cell_type": "code",
   "execution_count": 32,
   "id": "70644430-203d-4a44-9a0d-697b73d2d42e",
   "metadata": {},
   "outputs": [
    {
     "data": {
      "text/html": [
       "<div>\n",
       "<style scoped>\n",
       "    .dataframe tbody tr th:only-of-type {\n",
       "        vertical-align: middle;\n",
       "    }\n",
       "\n",
       "    .dataframe tbody tr th {\n",
       "        vertical-align: top;\n",
       "    }\n",
       "\n",
       "    .dataframe thead th {\n",
       "        text-align: right;\n",
       "    }\n",
       "</style>\n",
       "<table border=\"1\" class=\"dataframe\">\n",
       "  <thead>\n",
       "    <tr style=\"text-align: right;\">\n",
       "      <th></th>\n",
       "      <th>Total</th>\n",
       "    </tr>\n",
       "  </thead>\n",
       "  <tbody>\n",
       "    <tr>\n",
       "      <th>count</th>\n",
       "      <td>1047.000000</td>\n",
       "    </tr>\n",
       "    <tr>\n",
       "      <th>mean</th>\n",
       "      <td>256.242598</td>\n",
       "    </tr>\n",
       "    <tr>\n",
       "      <th>std</th>\n",
       "      <td>225.732101</td>\n",
       "    </tr>\n",
       "    <tr>\n",
       "      <th>min</th>\n",
       "      <td>0.000000</td>\n",
       "    </tr>\n",
       "    <tr>\n",
       "      <th>25%</th>\n",
       "      <td>89.000000</td>\n",
       "    </tr>\n",
       "    <tr>\n",
       "      <th>50%</th>\n",
       "      <td>197.000000</td>\n",
       "    </tr>\n",
       "    <tr>\n",
       "      <th>75%</th>\n",
       "      <td>349.000000</td>\n",
       "    </tr>\n",
       "    <tr>\n",
       "      <th>max</th>\n",
       "      <td>1518.000000</td>\n",
       "    </tr>\n",
       "  </tbody>\n",
       "</table>\n",
       "</div>"
      ],
      "text/plain": [
       "             Total\n",
       "count  1047.000000\n",
       "mean    256.242598\n",
       "std     225.732101\n",
       "min       0.000000\n",
       "25%      89.000000\n",
       "50%     197.000000\n",
       "75%     349.000000\n",
       "max    1518.000000"
      ]
     },
     "execution_count": 32,
     "metadata": {},
     "output_type": "execute_result"
    }
   ],
   "source": [
    "bg['Total'] = bg['Total'].astype(int)\n",
    "bg.describe()"
   ]
  },
  {
   "cell_type": "markdown",
   "id": "e55ddb94-9bd5-4d26-a662-8c4df45f104a",
   "metadata": {},
   "source": [
    "I wanted to see what the range in the populations were so that I can delete the block groups that have too few people. I'm going to cut it off a 50 people. "
   ]
  },
  {
   "cell_type": "code",
   "execution_count": 33,
   "id": "aa1d5559-1e7c-4bbc-8d96-e939655ce4ed",
   "metadata": {},
   "outputs": [
    {
     "data": {
      "text/html": [
       "<div>\n",
       "<style scoped>\n",
       "    .dataframe tbody tr th:only-of-type {\n",
       "        vertical-align: middle;\n",
       "    }\n",
       "\n",
       "    .dataframe tbody tr th {\n",
       "        vertical-align: top;\n",
       "    }\n",
       "\n",
       "    .dataframe thead th {\n",
       "        text-align: right;\n",
       "    }\n",
       "</style>\n",
       "<table border=\"1\" class=\"dataframe\">\n",
       "  <thead>\n",
       "    <tr style=\"text-align: right;\">\n",
       "      <th></th>\n",
       "      <th>GEOID</th>\n",
       "      <th>geometry</th>\n",
       "      <th>Total</th>\n",
       "    </tr>\n",
       "  </thead>\n",
       "  <tbody>\n",
       "    <tr>\n",
       "      <th>974</th>\n",
       "      <td>060019820001</td>\n",
       "      <td>POLYGON ((-122.31439 37.79484, -122.31350 37.7...</td>\n",
       "      <td>0</td>\n",
       "    </tr>\n",
       "    <tr>\n",
       "      <th>566</th>\n",
       "      <td>060014513002</td>\n",
       "      <td>POLYGON ((-121.80195 37.68391, -121.80195 37.6...</td>\n",
       "      <td>0</td>\n",
       "    </tr>\n",
       "    <tr>\n",
       "      <th>739</th>\n",
       "      <td>060014431023</td>\n",
       "      <td>POLYGON ((-121.93466 37.50622, -121.93435 37.5...</td>\n",
       "      <td>0</td>\n",
       "    </tr>\n",
       "    <tr>\n",
       "      <th>542</th>\n",
       "      <td>060014272005</td>\n",
       "      <td>POLYGON ((-122.25694 37.78573, -122.25558 37.7...</td>\n",
       "      <td>0</td>\n",
       "    </tr>\n",
       "    <tr>\n",
       "      <th>221</th>\n",
       "      <td>060014416011</td>\n",
       "      <td>POLYGON ((-122.03634 37.56651, -122.03567 37.5...</td>\n",
       "      <td>0</td>\n",
       "    </tr>\n",
       "    <tr>\n",
       "      <th>675</th>\n",
       "      <td>060014403043</td>\n",
       "      <td>POLYGON ((-122.08120 37.58757, -122.08097 37.5...</td>\n",
       "      <td>0</td>\n",
       "    </tr>\n",
       "    <tr>\n",
       "      <th>377</th>\n",
       "      <td>060014506044</td>\n",
       "      <td>POLYGON ((-121.89485 37.67759, -121.89484 37.6...</td>\n",
       "      <td>0</td>\n",
       "    </tr>\n",
       "    <tr>\n",
       "      <th>226</th>\n",
       "      <td>060014506022</td>\n",
       "      <td>POLYGON ((-121.93029 37.68880, -121.93008 37.6...</td>\n",
       "      <td>0</td>\n",
       "    </tr>\n",
       "    <tr>\n",
       "      <th>444</th>\n",
       "      <td>060014261006</td>\n",
       "      <td>POLYGON ((-122.22576 37.82096, -122.22575 37.8...</td>\n",
       "      <td>0</td>\n",
       "    </tr>\n",
       "    <tr>\n",
       "      <th>365</th>\n",
       "      <td>060014330001</td>\n",
       "      <td>POLYGON ((-122.14545 37.72172, -122.14534 37.7...</td>\n",
       "      <td>0</td>\n",
       "    </tr>\n",
       "    <tr>\n",
       "      <th>77</th>\n",
       "      <td>060014017003</td>\n",
       "      <td>POLYGON ((-122.34668 37.81103, -122.34093 37.8...</td>\n",
       "      <td>0</td>\n",
       "    </tr>\n",
       "    <tr>\n",
       "      <th>363</th>\n",
       "      <td>060014328001</td>\n",
       "      <td>POLYGON ((-122.13872 37.73092, -122.13868 37.7...</td>\n",
       "      <td>0</td>\n",
       "    </tr>\n",
       "    <tr>\n",
       "      <th>65</th>\n",
       "      <td>060014359004</td>\n",
       "      <td>POLYGON ((-122.15033 37.67353, -122.14982 37.6...</td>\n",
       "      <td>0</td>\n",
       "    </tr>\n",
       "    <tr>\n",
       "      <th>34</th>\n",
       "      <td>060014090004</td>\n",
       "      <td>POLYGON ((-122.25550 37.72177, -122.25153 37.7...</td>\n",
       "      <td>0</td>\n",
       "    </tr>\n",
       "    <tr>\n",
       "      <th>949</th>\n",
       "      <td>060014351033</td>\n",
       "      <td>POLYGON ((-122.04439 37.67499, -122.04363 37.6...</td>\n",
       "      <td>0</td>\n",
       "    </tr>\n",
       "    <tr>\n",
       "      <th>854</th>\n",
       "      <td>060019900000</td>\n",
       "      <td>MULTIPOLYGON (((-122.09859 37.49488, -122.0910...</td>\n",
       "      <td>0</td>\n",
       "    </tr>\n",
       "    <tr>\n",
       "      <th>905</th>\n",
       "      <td>060014501022</td>\n",
       "      <td>POLYGON ((-121.89321 37.71640, -121.89321 37.7...</td>\n",
       "      <td>0</td>\n",
       "    </tr>\n",
       "    <tr>\n",
       "      <th>470</th>\n",
       "      <td>060014083003</td>\n",
       "      <td>POLYGON ((-122.16976 37.77425, -122.16974 37.7...</td>\n",
       "      <td>0</td>\n",
       "    </tr>\n",
       "    <tr>\n",
       "      <th>851</th>\n",
       "      <td>060014511014</td>\n",
       "      <td>POLYGON ((-121.71878 37.67985, -121.71874 37.6...</td>\n",
       "      <td>0</td>\n",
       "    </tr>\n",
       "    <tr>\n",
       "      <th>1033</th>\n",
       "      <td>060014090002</td>\n",
       "      <td>POLYGON ((-122.22655 37.74684, -122.22651 37.7...</td>\n",
       "      <td>0</td>\n",
       "    </tr>\n",
       "    <tr>\n",
       "      <th>599</th>\n",
       "      <td>060014226001</td>\n",
       "      <td>POLYGON ((-122.26637 37.87411, -122.26633 37.8...</td>\n",
       "      <td>0</td>\n",
       "    </tr>\n",
       "    <tr>\n",
       "      <th>128</th>\n",
       "      <td>060014100003</td>\n",
       "      <td>POLYGON ((-122.15170 37.75191, -122.15168 37.7...</td>\n",
       "      <td>0</td>\n",
       "    </tr>\n",
       "    <tr>\n",
       "      <th>775</th>\n",
       "      <td>060014238001</td>\n",
       "      <td>POLYGON ((-122.24272 37.85684, -122.24271 37.8...</td>\n",
       "      <td>0</td>\n",
       "    </tr>\n",
       "    <tr>\n",
       "      <th>985</th>\n",
       "      <td>060014511015</td>\n",
       "      <td>POLYGON ((-121.80311 37.62864, -121.80302 37.6...</td>\n",
       "      <td>0</td>\n",
       "    </tr>\n",
       "    <tr>\n",
       "      <th>518</th>\n",
       "      <td>060014051005</td>\n",
       "      <td>POLYGON ((-122.23628 37.81363, -122.23591 37.8...</td>\n",
       "      <td>0</td>\n",
       "    </tr>\n",
       "    <tr>\n",
       "      <th>794</th>\n",
       "      <td>060014357002</td>\n",
       "      <td>POLYGON ((-122.12877 37.68427, -122.12873 37.6...</td>\n",
       "      <td>7</td>\n",
       "    </tr>\n",
       "    <tr>\n",
       "      <th>467</th>\n",
       "      <td>060014051002</td>\n",
       "      <td>POLYGON ((-122.23557 37.80945, -122.23509 37.8...</td>\n",
       "      <td>8</td>\n",
       "    </tr>\n",
       "    <tr>\n",
       "      <th>180</th>\n",
       "      <td>060014069001</td>\n",
       "      <td>POLYGON ((-122.19298 37.79812, -122.19284 37.7...</td>\n",
       "      <td>8</td>\n",
       "    </tr>\n",
       "    <tr>\n",
       "      <th>206</th>\n",
       "      <td>060014321003</td>\n",
       "      <td>POLYGON ((-122.15106 37.73357, -122.15092 37.7...</td>\n",
       "      <td>9</td>\n",
       "    </tr>\n",
       "    <tr>\n",
       "      <th>395</th>\n",
       "      <td>060014078001</td>\n",
       "      <td>POLYGON ((-122.18859 37.78445, -122.18795 37.7...</td>\n",
       "      <td>9</td>\n",
       "    </tr>\n",
       "  </tbody>\n",
       "</table>\n",
       "</div>"
      ],
      "text/plain": [
       "             GEOID                                           geometry  Total\n",
       "974   060019820001  POLYGON ((-122.31439 37.79484, -122.31350 37.7...      0\n",
       "566   060014513002  POLYGON ((-121.80195 37.68391, -121.80195 37.6...      0\n",
       "739   060014431023  POLYGON ((-121.93466 37.50622, -121.93435 37.5...      0\n",
       "542   060014272005  POLYGON ((-122.25694 37.78573, -122.25558 37.7...      0\n",
       "221   060014416011  POLYGON ((-122.03634 37.56651, -122.03567 37.5...      0\n",
       "675   060014403043  POLYGON ((-122.08120 37.58757, -122.08097 37.5...      0\n",
       "377   060014506044  POLYGON ((-121.89485 37.67759, -121.89484 37.6...      0\n",
       "226   060014506022  POLYGON ((-121.93029 37.68880, -121.93008 37.6...      0\n",
       "444   060014261006  POLYGON ((-122.22576 37.82096, -122.22575 37.8...      0\n",
       "365   060014330001  POLYGON ((-122.14545 37.72172, -122.14534 37.7...      0\n",
       "77    060014017003  POLYGON ((-122.34668 37.81103, -122.34093 37.8...      0\n",
       "363   060014328001  POLYGON ((-122.13872 37.73092, -122.13868 37.7...      0\n",
       "65    060014359004  POLYGON ((-122.15033 37.67353, -122.14982 37.6...      0\n",
       "34    060014090004  POLYGON ((-122.25550 37.72177, -122.25153 37.7...      0\n",
       "949   060014351033  POLYGON ((-122.04439 37.67499, -122.04363 37.6...      0\n",
       "854   060019900000  MULTIPOLYGON (((-122.09859 37.49488, -122.0910...      0\n",
       "905   060014501022  POLYGON ((-121.89321 37.71640, -121.89321 37.7...      0\n",
       "470   060014083003  POLYGON ((-122.16976 37.77425, -122.16974 37.7...      0\n",
       "851   060014511014  POLYGON ((-121.71878 37.67985, -121.71874 37.6...      0\n",
       "1033  060014090002  POLYGON ((-122.22655 37.74684, -122.22651 37.7...      0\n",
       "599   060014226001  POLYGON ((-122.26637 37.87411, -122.26633 37.8...      0\n",
       "128   060014100003  POLYGON ((-122.15170 37.75191, -122.15168 37.7...      0\n",
       "775   060014238001  POLYGON ((-122.24272 37.85684, -122.24271 37.8...      0\n",
       "985   060014511015  POLYGON ((-121.80311 37.62864, -121.80302 37.6...      0\n",
       "518   060014051005  POLYGON ((-122.23628 37.81363, -122.23591 37.8...      0\n",
       "794   060014357002  POLYGON ((-122.12877 37.68427, -122.12873 37.6...      7\n",
       "467   060014051002  POLYGON ((-122.23557 37.80945, -122.23509 37.8...      8\n",
       "180   060014069001  POLYGON ((-122.19298 37.79812, -122.19284 37.7...      8\n",
       "206   060014321003  POLYGON ((-122.15106 37.73357, -122.15092 37.7...      9\n",
       "395   060014078001  POLYGON ((-122.18859 37.78445, -122.18795 37.7...      9"
      ]
     },
     "execution_count": 33,
     "metadata": {},
     "output_type": "execute_result"
    }
   ],
   "source": [
    "bg.sort_values(by='Total').head(30)"
   ]
  },
  {
   "cell_type": "code",
   "execution_count": 34,
   "id": "7883b9f0-e062-4ae8-ab4c-0edbc4755b6d",
   "metadata": {},
   "outputs": [],
   "source": [
    "# delete less than 75 population geographies\n",
    "bg = bg[bg['Total']>50]"
   ]
  },
  {
   "cell_type": "code",
   "execution_count": 35,
   "id": "fabf159b-5f70-4761-978f-9f1fa7565455",
   "metadata": {},
   "outputs": [],
   "source": [
    "# reprojecting to web mercator\n",
    "bg = bg.to_crs(epsg=3857)"
   ]
  },
  {
   "cell_type": "code",
   "execution_count": 36,
   "id": "3770bc26-2e20-48a1-9735-c9abcca6b176",
   "metadata": {},
   "outputs": [
    {
     "data": {
      "image/png": "[encoded data removed]",
      "text/plain": [
       "<Figure size 864x864 with 1 Axes>"
      ]
     },
     "metadata": {
      "needs_background": "light"
     },
     "output_type": "display_data"
    }
   ],
   "source": [
    "# plot\n",
    "fig, ax = plt.subplots(figsize=(12,12))\n",
    "\n",
    "bg.plot(ax=ax,\n",
    "         color='black', \n",
    "         edgecolor='white',\n",
    "         lw=0.5,\n",
    "         alpha=0.4)\n",
    "\n",
    "# no axis\n",
    "ax.axis('off')\n",
    "\n",
    "# add a basemap\n",
    "ctx.add_basemap(ax,source=ctx.providers.CartoDB.Positron)"
   ]
  },
  {
   "cell_type": "markdown",
   "id": "a5ebeff9-bff0-4f03-9aad-485ceaae181e",
   "metadata": {},
   "source": [
    "That's fine for now, I'm a little worried that the populations near our transit stops might not have >50 people, which will greatly impact the validity of our analysis. I'll just save this dataset so that I can use it later."
   ]
  },
  {
   "cell_type": "code",
   "execution_count": null,
   "id": "50365c06-0668-483b-96f9-bed4b9c53623",
   "metadata": {},
   "outputs": [],
   "source": [
    "bg.to_file(\"Alameda_BG.geojson\", driver='GeoJSON')"
   ]
  },
  {
   "cell_type": "code",
   "execution_count": null,
   "id": "1714bfc4-f070-4522-a47b-b06ce3cd24bb",
   "metadata": {},
   "outputs": [],
   "source": [
    "rb_block2019.info"
   ]
  },
  {
   "cell_type": "code",
   "execution_count": null,
   "id": "46f0b0bd-800d-426c-8592-d4df67384e45",
   "metadata": {},
   "outputs": [],
   "source": [
    "random_tract= rb_block2019.sample(1)"
   ]
  },
  {
   "cell_type": "code",
   "execution_count": null,
   "id": "d3676158-ccd4-4c93-bcee-7fa507e87416",
   "metadata": {},
   "outputs": [],
   "source": [
    "random_tract"
   ]
  },
  {
   "cell_type": "code",
   "execution_count": null,
   "id": "f91145a3-bb5e-4560-b02d-d65fe1ce7aab",
   "metadata": {},
   "outputs": [],
   "source": [
    "type(random_tract.iloc[0]['<10% 2019'])"
   ]
  },
  {
   "cell_type": "markdown",
   "id": "26431fe7-405e-4940-a02e-a6b7f93030ca",
   "metadata": {},
   "source": [
    "So here I created a variable of just a random block group and I wanted to check its data type. We want floats, not strings, but looks like they are strings! So, I'll create a loop function to change them into floats (decimals)"
   ]
  },
  {
   "cell_type": "code",
   "execution_count": null,
   "id": "b0bd8fe1-1e97-4a53-9b90-efbfa3fc2a9c",
   "metadata": {},
   "outputs": [],
   "source": [
    "list(rb_block2019)"
   ]
  },
  {
   "cell_type": "code",
   "execution_count": null,
   "id": "368dc5cd-b16b-4c99-ae2a-8b7aba69e5c1",
   "metadata": {},
   "outputs": [],
   "source": [
    "dtypes = ['Total', \n",
    "          '<10% 2019',\n",
    "          '10-14.9% 2019',\n",
    "          '15-19.9% 2019',\n",
    "          '20-24.9% 2019',\n",
    "          '25-29.9% 2019',\n",
    "          '30-34.9% 2019',\n",
    "          '35-39.9% 2019',\n",
    "          '40-49.9% 2019',\n",
    "          '>50% 2019']"
   ]
  },
  {
   "cell_type": "code",
   "execution_count": null,
   "id": "3b96eec1-2e9c-4372-b1db-e670d9ec282a",
   "metadata": {},
   "outputs": [],
   "source": [
    "for i in dtypes:\n",
    "    rb_block2019[i]=rb_block2019[i].astype(float)"
   ]
  },
  {
   "cell_type": "code",
   "execution_count": null,
   "id": "b541f9bb-5cbb-41f6-a147-3a5e22a0eb2c",
   "metadata": {},
   "outputs": [],
   "source": [
    "random_tract2 = rb_block2019.sample(1)"
   ]
  },
  {
   "cell_type": "code",
   "execution_count": null,
   "id": "95025175-ff2b-4b02-b98c-1765c1389e59",
   "metadata": {},
   "outputs": [],
   "source": [
    "type(random_tract2.iloc[0][ '<10% 2019'])"
   ]
  },
  {
   "cell_type": "code",
   "execution_count": null,
   "id": "a9a48735-1624-4b73-b08f-a9124ba721b5",
   "metadata": {},
   "outputs": [],
   "source": [
    "rb_block2019.info()"
   ]
  },
  {
   "cell_type": "markdown",
   "id": "a565f95c-e0eb-47a7-b0c2-121ef212690e",
   "metadata": {},
   "source": [
    "Great! It worked. Now I want to normalize the data. Counts are cool, but percent's give more relative information. I'll do this by creating a function that will create a percentages column in my dataset."
   ]
  },
  {
   "cell_type": "code",
   "execution_count": null,
   "id": "1d4c3171-2fd7-4448-9f91-a706cbc95bda",
   "metadata": {},
   "outputs": [],
   "source": [
    "def createpercentage(block):\n",
    "    for x in dtypes:\n",
    "        block[(\"Percent \" + x)] = block[x]/block['Total']*100\n",
    "        print(x, \"Completed\")"
   ]
  },
  {
   "cell_type": "code",
   "execution_count": null,
   "id": "8005d12e-7ac4-436d-a95c-6e5090d301a6",
   "metadata": {},
   "outputs": [],
   "source": [
    "createpercentage(rb_block2019)"
   ]
  },
  {
   "cell_type": "code",
   "execution_count": null,
   "id": "542c6acd-9589-4dd5-a23b-1e527ee187a4",
   "metadata": {},
   "outputs": [],
   "source": [
    "rb_block2019.head()"
   ]
  },
  {
   "cell_type": "markdown",
   "id": "49cdc1bf-65b6-4e6a-b494-8ce95fc04e28",
   "metadata": {},
   "source": [
    "Great! Now to get rid of that count data, because the percent data is really what we're going to use. "
   ]
  },
  {
   "cell_type": "code",
   "execution_count": null,
   "id": "cc2663bf-de84-4296-ab75-31b21521bc6a",
   "metadata": {},
   "outputs": [],
   "source": [
    "list(rb_block2019)"
   ]
  },
  {
   "cell_type": "code",
   "execution_count": null,
   "id": "8dbb3d5f-efa3-4fb3-82d3-01ff6d85d99e",
   "metadata": {},
   "outputs": [],
   "source": [
    "keep1 = ['GEOID',\n",
    "         'geometry',\n",
    "         'Name',\n",
    " 'Percent Total',\n",
    " 'Percent <10% 2019',\n",
    " 'Percent 10-14.9% 2019',\n",
    " 'Percent 15-19.9% 2019',\n",
    " 'Percent 20-24.9% 2019',\n",
    " 'Percent 25-29.9% 2019',\n",
    " 'Percent 30-34.9% 2019',\n",
    " 'Percent 35-39.9% 2019',\n",
    " 'Percent 40-49.9% 2019',\n",
    " 'Percent >50% 2019']"
   ]
  },
  {
   "cell_type": "code",
   "execution_count": null,
   "id": "7156941d-e967-49bd-a763-50adb3a15595",
   "metadata": {},
   "outputs": [],
   "source": [
    "rb2019_pct = rb_block2019[keep1]"
   ]
  },
  {
   "cell_type": "code",
   "execution_count": null,
   "id": "9d8b28bc-3890-4212-b75a-1b06b0a76fc2",
   "metadata": {},
   "outputs": [],
   "source": [
    "rb2019_pct.head()"
   ]
  },
  {
   "cell_type": "markdown",
   "id": "a02bba75-7f96-4b97-8f6b-8a813f27b026",
   "metadata": {},
   "source": [
    "Awesome. Now I want to save this just so that I can use it later without going through all that work again. The following code adds the data to my jupyterhub folder, which I can then download. I'll then make a copy so that I don't mess with this cleaned dataset when I do some other work. "
   ]
  },
  {
   "cell_type": "code",
   "execution_count": null,
   "id": "98fba193-bc14-457c-81cd-b82ba73a53f1",
   "metadata": {},
   "outputs": [],
   "source": [
    "rb2019_pct.to_file(\"RB_2019.geojson\", driver='GeoJSON')"
   ]
  },
  {
   "cell_type": "code",
   "execution_count": null,
   "id": "ea43684d-c8fd-4cb9-a84f-822b21f2bebf",
   "metadata": {},
   "outputs": [],
   "source": [
    "cln_rb2019 = rb2019_pct.copy()"
   ]
  },
  {
   "cell_type": "code",
   "execution_count": null,
   "id": "a55c37be-29ae-455c-9f72-d3f9d1aa5f06",
   "metadata": {},
   "outputs": [],
   "source": [
    "cln_rb2019.head()"
   ]
  },
  {
   "cell_type": "code",
   "execution_count": null,
   "id": "bb9f26fa-1381-4ca1-beba-6e9c7cd4a66b",
   "metadata": {},
   "outputs": [],
   "source": [
    "cln_rb2019.info()"
   ]
  },
  {
   "cell_type": "code",
   "execution_count": null,
   "id": "5e7c0c00-4706-41de-9d00-b2c932019615",
   "metadata": {},
   "outputs": [],
   "source": [
    "sumcolumn = cln_rb2019[\"Percent 30-34.9% 2019\"] + cln_rb2019[\"Percent 35-39.9% 2019\"] + cln_rb2019[\"Percent 40-49.9% 2019\"] "
   ]
  },
  {
   "cell_type": "markdown",
   "id": "47c775c0-4a94-4370-920f-2009a9e9a305",
   "metadata": {},
   "source": [
    "I wanted to make a column for >30% because rent burden is defined as a household spending more than 30% of their income on rent. It will be helpful to have this column so that I can specifically call it out on my future maps. "
   ]
  },
  {
   "cell_type": "code",
   "execution_count": null,
   "id": "3c31d630-cdbc-44cb-9c75-ec7df1721c99",
   "metadata": {},
   "outputs": [],
   "source": [
    "cln_rb2019[\">30% 2019\"] = sumcolumn"
   ]
  },
  {
   "cell_type": "code",
   "execution_count": null,
   "id": "ee9750b9-d17e-4c58-b481-f47b8228ec81",
   "metadata": {},
   "outputs": [],
   "source": [
    "cln_rb2019.head()"
   ]
  },
  {
   "cell_type": "markdown",
   "id": "f5c38323-3724-48fd-be69-c098827ab8fc",
   "metadata": {},
   "source": [
    "Now I'm going to do the same thing for 2013 data. After that, I will join the tables and create a percent change column to see how things changed between the two years. "
   ]
  },
  {
   "cell_type": "code",
   "execution_count": null,
   "id": "d01e640a-5355-4338-8a98-e6b02e8fc102",
   "metadata": {},
   "outputs": [],
   "source": [
    "rb2013 = gpd.read_file('2013RB.csv')"
   ]
  },
  {
   "cell_type": "code",
   "execution_count": null,
   "id": "997a1597-3d60-4963-9ea1-fe08f107061e",
   "metadata": {},
   "outputs": [],
   "source": [
    "rb2013.head()"
   ]
  },
  {
   "cell_type": "code",
   "execution_count": null,
   "id": "ac02fad0-4cf7-4015-b3eb-77fdf07d16bb",
   "metadata": {},
   "outputs": [],
   "source": [
    "rb2013.tail()"
   ]
  },
  {
   "cell_type": "code",
   "execution_count": null,
   "id": "ff9109fe-d13d-4d0b-9fd7-18b1597c3fc4",
   "metadata": {},
   "outputs": [],
   "source": [
    "rb2013= rb2013.drop([1048])"
   ]
  },
  {
   "cell_type": "code",
   "execution_count": null,
   "id": "22ec64be-6b6f-4df5-a38d-e2664f2b9dea",
   "metadata": {},
   "outputs": [],
   "source": [
    "rb2013= rb2013.drop([0])"
   ]
  },
  {
   "cell_type": "code",
   "execution_count": null,
   "id": "5ae7e196-f86e-4474-af03-7758f816efbb",
   "metadata": {},
   "outputs": [],
   "source": [
    "list(rb2013)"
   ]
  },
  {
   "cell_type": "code",
   "execution_count": null,
   "id": "347f1134-763e-49df-9dfe-6a9bdad67420",
   "metadata": {},
   "outputs": [],
   "source": [
    "columns_to_keep2= ['B25070_001E',\n",
    "                   'B25070_002E',\n",
    "                   'B25070_003E',\n",
    "                   'B25070_004E',\n",
    "                   'B25070_005E',\n",
    "                   'B25070_006E',\n",
    "                   'B25070_007E',\n",
    "                   'B25070_008E',\n",
    "                   'B25070_009E',\n",
    "                   'B25070_010E',\n",
    "                   'B25070_011E',\n",
    "                   'GEO_ID',\n",
    "                   'NAME',\n",
    "                   'geometry']"
   ]
  },
  {
   "cell_type": "code",
   "execution_count": null,
   "id": "333c991e-8d74-45a5-a53c-a2b75e2872eb",
   "metadata": {},
   "outputs": [],
   "source": [
    "rb2013= rb2013[columns_to_keep2]"
   ]
  },
  {
   "cell_type": "code",
   "execution_count": null,
   "id": "6953f248-6242-45ef-b7ef-d3bf2673f7c5",
   "metadata": {},
   "outputs": [],
   "source": [
    "rb2013.head()"
   ]
  },
  {
   "cell_type": "code",
   "execution_count": null,
   "id": "25a72699-ef5c-40c4-84a0-2cfd0d8fe53c",
   "metadata": {},
   "outputs": [],
   "source": [
    "rb2013.columns = ['Total',\n",
    "                  '<10% 2013',\n",
    "                  '10-14.9% 2013',\n",
    "                  '15-19.9% 2013',\n",
    "                  '20-24.9% 2013',\n",
    "                  '25-29.9% 2013',\n",
    "                  '30-34.9% 2013',\n",
    "                  '35-39.9% 2013',\n",
    "                  '40-49.9% 2013',\n",
    "                  '>50% 2013',\n",
    "                  'Not Computed 2013',\n",
    "                  'GEO_ID',\n",
    "                  'Name',\n",
    "                 'geometry']"
   ]
  },
  {
   "cell_type": "code",
   "execution_count": null,
   "id": "e12235a5-3678-4f5d-9eb7-7bf8500ac1e9",
   "metadata": {},
   "outputs": [],
   "source": [
    "rb2013.head()"
   ]
  },
  {
   "cell_type": "code",
   "execution_count": null,
   "id": "8b93e330-6d0c-48df-ad12-36c0a5040218",
   "metadata": {},
   "outputs": [],
   "source": [
    "rb2013['GEO_ID'] = rb2013['GEO_ID'].str.replace('1500000US','')\n",
    "rb2013.head()"
   ]
  },
  {
   "cell_type": "code",
   "execution_count": null,
   "id": "20259f61-6719-4dfd-b322-c4229981d05c",
   "metadata": {},
   "outputs": [],
   "source": [
    "rb2013.columns=['Total',\n",
    "                  '<10% 2013',\n",
    "                  '10-14.9% 2013',\n",
    "                  '15-19.9% 2013',\n",
    "                  '20-24.9% 2013',\n",
    "                  '25-29.9% 2013',\n",
    "                  '30-34.9% 2013',\n",
    "                  '35-39.9% 2013',\n",
    "                  '40-49.9% 2013',\n",
    "                  '>50% 2013',\n",
    "                  'Not Computed 2013',\n",
    "                  'GEOID',\n",
    "                  'Name',\n",
    "                 'geometry']"
   ]
  },
  {
   "cell_type": "code",
   "execution_count": null,
   "id": "e179b8c9-1c96-4ccd-91c9-7b3b3f0b8b36",
   "metadata": {},
   "outputs": [],
   "source": [
    "rb2013.head()"
   ]
  },
  {
   "cell_type": "code",
   "execution_count": null,
   "id": "bd5b9d29-92b2-4a3e-a2a1-2d696645254f",
   "metadata": {},
   "outputs": [],
   "source": [
    "rb2013= rb2013[['Total',\n",
    "                  '<10% 2013',\n",
    "                  '10-14.9% 2013',\n",
    "                  '15-19.9% 2013',\n",
    "                  '20-24.9% 2013',\n",
    "                  '25-29.9% 2013',\n",
    "                  '30-34.9% 2013',\n",
    "                  '35-39.9% 2013',\n",
    "                  '40-49.9% 2013',\n",
    "                  '>50% 2013',\n",
    "                  'GEOID',\n",
    "                  'Name']]"
   ]
  },
  {
   "cell_type": "code",
   "execution_count": null,
   "id": "4a33342d-0add-4258-8dbb-eb78adb9ed7e",
   "metadata": {},
   "outputs": [],
   "source": [
    "rb2013.head()"
   ]
  },
  {
   "cell_type": "code",
   "execution_count": null,
   "id": "6bbabe46-1009-4e40-b457-ec4586b8b67e",
   "metadata": {},
   "outputs": [],
   "source": [
    "random= rb2013.sample(1)\n",
    "random"
   ]
  },
  {
   "cell_type": "code",
   "execution_count": null,
   "id": "67fbd7b3-4a33-4de0-b8a6-0826927be8ce",
   "metadata": {},
   "outputs": [],
   "source": [
    "dtypes2 = ['Total',\n",
    "                  '<10% 2013',\n",
    "                  '10-14.9% 2013',\n",
    "                  '15-19.9% 2013',\n",
    "                  '20-24.9% 2013',\n",
    "                  '25-29.9% 2013',\n",
    "                  '30-34.9% 2013',\n",
    "                  '35-39.9% 2013',\n",
    "                  '40-49.9% 2013',\n",
    "                  '>50% 2013']"
   ]
  },
  {
   "cell_type": "code",
   "execution_count": null,
   "id": "57cda650-aba1-4d85-9b61-78061e9cef29",
   "metadata": {},
   "outputs": [],
   "source": [
    "for i in dtypes2:\n",
    "    rb2013[i]=rb2013[i].astype(float)"
   ]
  },
  {
   "cell_type": "code",
   "execution_count": null,
   "id": "df3fd927-0488-47a9-93a6-b287fe02c49b",
   "metadata": {},
   "outputs": [],
   "source": [
    "rb2013.info()"
   ]
  },
  {
   "cell_type": "code",
   "execution_count": null,
   "id": "cfeff196-b9f1-431a-928f-94ba315c55ee",
   "metadata": {},
   "outputs": [],
   "source": [
    "rb2013['GEOID']=rb2013['GEOID'].astype(object)"
   ]
  },
  {
   "cell_type": "code",
   "execution_count": null,
   "id": "9195acda-d652-4297-989b-738ec0d261bd",
   "metadata": {},
   "outputs": [],
   "source": [
    "rb2013.info()"
   ]
  },
  {
   "cell_type": "code",
   "execution_count": null,
   "id": "74cb0b79-8daa-49e0-b160-22fd973d702e",
   "metadata": {},
   "outputs": [],
   "source": [
    "def createpercentage2(block):\n",
    "    for x in dtypes2:\n",
    "        block[(\"Percent \" + x)] = block[x]/block['Total']*100\n",
    "        print(x, \"Completed\")"
   ]
  },
  {
   "cell_type": "code",
   "execution_count": null,
   "id": "777fd4b6-d8b4-4d21-8c08-c510b4e88c39",
   "metadata": {},
   "outputs": [],
   "source": [
    "createpercentage2(rb2013)"
   ]
  },
  {
   "cell_type": "code",
   "execution_count": null,
   "id": "f888e74e-8075-4706-a60b-45eab4f8d867",
   "metadata": {},
   "outputs": [],
   "source": [
    "rb2013.head()"
   ]
  },
  {
   "cell_type": "code",
   "execution_count": null,
   "id": "25cb4585-a781-4557-9b96-5594d8e6f5be",
   "metadata": {},
   "outputs": [],
   "source": [
    "list(rb2013)"
   ]
  },
  {
   "cell_type": "code",
   "execution_count": null,
   "id": "04ff011e-ae21-4370-9abf-5e8e0abdcbb9",
   "metadata": {},
   "outputs": [],
   "source": [
    "keep3= ['GEOID',\n",
    " 'Name',\n",
    " 'Percent Total',\n",
    " 'Percent <10% 2013',\n",
    " 'Percent 10-14.9% 2013',\n",
    " 'Percent 15-19.9% 2013',\n",
    " 'Percent 20-24.9% 2013',\n",
    " 'Percent 25-29.9% 2013',\n",
    " 'Percent 30-34.9% 2013',\n",
    " 'Percent 35-39.9% 2013',\n",
    " 'Percent 40-49.9% 2013',\n",
    " 'Percent >50% 2013']"
   ]
  },
  {
   "cell_type": "code",
   "execution_count": null,
   "id": "0a3b3a87-1cfb-4966-919a-1795ede0005e",
   "metadata": {},
   "outputs": [],
   "source": [
    "rb2013_pct = rb2013[keep3]\n",
    "rb2013_pct.head()"
   ]
  },
  {
   "cell_type": "code",
   "execution_count": null,
   "id": "14db0c61-024f-4d6a-b236-4f527ba6b0a4",
   "metadata": {},
   "outputs": [],
   "source": [
    "sumcolumn2 = rb2013_pct[\"Percent 30-34.9% 2013\"] + rb2013_pct[\"Percent 35-39.9% 2013\"] + rb2013_pct[\"Percent 40-49.9% 2013\"]"
   ]
  },
  {
   "cell_type": "code",
   "execution_count": null,
   "id": "2fd19fb7-ff15-4de2-bf0f-ab68d0cc5d5c",
   "metadata": {},
   "outputs": [],
   "source": [
    "rb2013_pct['>30% 2013'] = sumcolumn2\n",
    "rb2013_pct.head()"
   ]
  },
  {
   "cell_type": "code",
   "execution_count": null,
   "id": "9bfbe100-2a8e-41be-b784-b17cc556e2d3",
   "metadata": {},
   "outputs": [],
   "source": [
    "rb2019.head(1)"
   ]
  },
  {
   "cell_type": "markdown",
   "id": "49e39c7d-9342-4c71-85d9-dfdbd4f9425c",
   "metadata": {},
   "source": [
    "Awesome! After all that work, now I can join the two datasets together so that I can create a percent change column. This will let me see if there were positive or negative changes in the rent burden categories within each block group. I can join the 2013 data and the 2019 data on GEOID because I didn't join the 2013 data with the blockgroup shapefile like I did the 2019 data. Saves me a headache."
   ]
  },
  {
   "cell_type": "code",
   "execution_count": null,
   "id": "88239579-f5b6-4617-b8f1-353a8c95a54a",
   "metadata": {},
   "outputs": [],
   "source": [
    "rb_bg_pc = cln_rb2019.merge(rb2013_pct, on='GEOID')"
   ]
  },
  {
   "cell_type": "code",
   "execution_count": null,
   "id": "3603f1b4-1a07-436f-bbc4-aeff8a8e8740",
   "metadata": {},
   "outputs": [],
   "source": [
    "rb_bg_pc.head()"
   ]
  },
  {
   "cell_type": "code",
   "execution_count": null,
   "id": "61e8d924-d438-49be-9b67-3ea489d9c0d8",
   "metadata": {},
   "outputs": [],
   "source": [
    "rb_bg_pc.info()"
   ]
  },
  {
   "cell_type": "markdown",
   "id": "3c7f6c34-795b-4d81-a6c3-f10b5ef5ed04",
   "metadata": {},
   "source": [
    "Awesome, looking good. Now I want to clean it up and cut out the columns I don't need. "
   ]
  },
  {
   "cell_type": "code",
   "execution_count": null,
   "id": "16947caf-b22c-4481-b77b-9c6b491edd99",
   "metadata": {},
   "outputs": [],
   "source": [
    "list(rb_bg_pc)"
   ]
  },
  {
   "cell_type": "code",
   "execution_count": null,
   "id": "8ad752a0-1f1b-4e2d-9e90-d10d0ef2cb7f",
   "metadata": {},
   "outputs": [],
   "source": [
    "keep4 = ['GEOID',\n",
    "         'geometry',\n",
    "         'Name_x',\n",
    "         'Percent <10% 2019',\n",
    "         'Percent 10-14.9% 2019',\n",
    "         'Percent 15-19.9% 2019',\n",
    "         'Percent 20-24.9% 2019',\n",
    "         'Percent 25-29.9% 2019',\n",
    "         'Percent 30-34.9% 2019',\n",
    "         'Percent 35-39.9% 2019',\n",
    "         'Percent 40-49.9% 2019',\n",
    "         'Percent >50% 2019',\n",
    "         '>30% 2019',\n",
    "         'Percent <10% 2013',\n",
    "         'Percent 10-14.9% 2013',\n",
    "         'Percent 15-19.9% 2013',\n",
    "         'Percent 20-24.9% 2013',\n",
    "         'Percent 25-29.9% 2013',\n",
    "         'Percent 30-34.9% 2013',\n",
    "         'Percent 35-39.9% 2013',\n",
    "         'Percent 40-49.9% 2013',\n",
    "         'Percent >50% 2013',\n",
    "         '>30% 2013']"
   ]
  },
  {
   "cell_type": "code",
   "execution_count": null,
   "id": "e4aa58de-1a09-4e3e-9606-d6809134f729",
   "metadata": {},
   "outputs": [],
   "source": [
    "rb_bg_pc = rb_bg_pc[keep4]\n",
    "rb_bg_pc.head()"
   ]
  },
  {
   "cell_type": "code",
   "execution_count": null,
   "id": "d920f9c9-4768-4ec2-a015-d04df747dec0",
   "metadata": {},
   "outputs": [],
   "source": [
    "list(rb_bg_pc)"
   ]
  },
  {
   "cell_type": "code",
   "execution_count": null,
   "id": "8f3f32f5-6cd8-484c-bc39-599a8da63f6b",
   "metadata": {},
   "outputs": [],
   "source": [
    "rb_bg_pc.columns = ['GEOID',\n",
    " 'geometry',\n",
    " 'Name',\n",
    " '<10% 2019',\n",
    " '10-14.9% 2019',\n",
    " '15-19.9% 2019',\n",
    " '20-24.9% 2019',\n",
    " '25-29.9% 2019',\n",
    " '30-34.9% 2019',\n",
    " '35-39.9% 2019',\n",
    " '40-49.9% 2019',\n",
    " '>50% 2019',\n",
    " '>30% 2019',\n",
    " '<10% 2013',\n",
    " '10-14.9% 2013',\n",
    " '15-19.9% 2013',\n",
    " '20-24.9% 2013',\n",
    " '25-29.9% 2013',\n",
    " '30-34.9% 2013',\n",
    " '35-39.9% 2013',\n",
    " '40-49.9% 2013',\n",
    " '>50% 2013',\n",
    " '>30% 2013']"
   ]
  },
  {
   "cell_type": "code",
   "execution_count": null,
   "id": "8bcca14a-a108-4c17-9087-d1211f006e42",
   "metadata": {},
   "outputs": [],
   "source": [
    "rb_bg_pc.head(2)"
   ]
  },
  {
   "cell_type": "markdown",
   "id": "833e79c2-5797-4388-8655-a34c41dd6745",
   "metadata": {},
   "source": [
    "Now to save this dataset so that I can use it again later. I'm going to create a copy and work on the copy so that I don't mess with any of the hard work I just did!"
   ]
  },
  {
   "cell_type": "code",
   "execution_count": null,
   "id": "d73469b4-b492-44ac-870e-f6e09dc11849",
   "metadata": {},
   "outputs": [],
   "source": [
    "rb_bg_pc.to_file(\"RB_Pcts.geojson\", driver='GeoJSON')"
   ]
  },
  {
   "cell_type": "code",
   "execution_count": null,
   "id": "25567660-fa54-4dfd-87bd-565779f871d1",
   "metadata": {},
   "outputs": [],
   "source": [
    "pcnt_chng = rb_bg_pc.copy()\n",
    "pcnt_chng.head()"
   ]
  },
  {
   "cell_type": "markdown",
   "id": "1a9b0622-2151-4e50-8242-2953b5152aa7",
   "metadata": {},
   "source": [
    "Now I am going to make a percent change column for each rent burden category. I'll start by listing the column names, then I will change the names so that they end in _19 or _13 so that I can use a for loop to make the new columns. If the numbers aren't connected by a _ python will assume its a stand alone number. The loop will go through each column and subtract the 2019 by the 2013, and then divide by 2013. Percent change formula is new-old/old."
   ]
  },
  {
   "cell_type": "code",
   "execution_count": null,
   "id": "043e29fc-da04-4a51-9e6e-918500033e98",
   "metadata": {},
   "outputs": [],
   "source": [
    "list(pcnt_chng)"
   ]
  },
  {
   "cell_type": "code",
   "execution_count": null,
   "id": "d6546838-0abf-4c8f-a127-b7483b733a0d",
   "metadata": {},
   "outputs": [],
   "source": [
    "pcnt_chng.columns = ['GEOID',\n",
    " 'geometry',\n",
    " 'Name',\n",
    " '<10%_2019',\n",
    " '10-14.9%_2019',\n",
    " '15-19.9%_2019',\n",
    " '20-24.9%_2019',\n",
    " '25-29.9%_2019',\n",
    " '30-34.9%_2019',\n",
    " '35-39.9%_2019',\n",
    " '40-49.9%_2019',\n",
    " '>50%_2019',\n",
    " '>30%_2019',\n",
    " '<10%_2013',\n",
    " '10-14.9%_2013',\n",
    " '15-19.9%_2013',\n",
    " '20-24.9%_2013',\n",
    " '25-29.9%_2013',\n",
    " '30-34.9%_2013',\n",
    " '35-39.9%_2013',\n",
    " '40-49.9%_2013',\n",
    " '>50%_2013',\n",
    " '>30%_2013']"
   ]
  },
  {
   "cell_type": "code",
   "execution_count": null,
   "id": "a90bcc65-4a0b-484e-ac03-65581f33a636",
   "metadata": {},
   "outputs": [],
   "source": [
    "list(pcnt_chng)"
   ]
  },
  {
   "cell_type": "code",
   "execution_count": null,
   "id": "031a795d-6081-4a82-8db4-0396894994a6",
   "metadata": {},
   "outputs": [],
   "source": [
    "pcnt_chng=pcnt_chng\n",
    "for i in list(pcnt_chng.columns):\n",
    "    if \"2019\" in i:\n",
    "        pcnt_chng[i.split(\"_\")[0]+\"_change\"]= (((pcnt_chng[i]-pcnt_chng[i.split(\"_\")[0]+\"_2013\"])/pcnt_chng[i.split(\"_\")[0]+\"_2013\"]))\n",
    "       "
   ]
  },
  {
   "cell_type": "code",
   "execution_count": null,
   "id": "2c5cb456-dd69-4815-91a1-9299fa92e35c",
   "metadata": {},
   "outputs": [],
   "source": [
    "pcnt_chng.info()"
   ]
  },
  {
   "cell_type": "markdown",
   "id": "d014f48a-4af3-43c6-9de1-d8aa20eca476",
   "metadata": {},
   "source": [
    "Great! It worked. "
   ]
  },
  {
   "cell_type": "code",
   "execution_count": null,
   "id": "b0831130-edb3-4dcf-9b1e-29f5dc338128",
   "metadata": {},
   "outputs": [],
   "source": [
    "pcnt_chng.head()"
   ]
  },
  {
   "cell_type": "markdown",
   "id": "2fe8240b-527c-4b84-a2ac-565774fd489f",
   "metadata": {},
   "source": [
    "I need to get rid of the null and infinite values. I do this with the following:"
   ]
  },
  {
   "cell_type": "code",
   "execution_count": null,
   "id": "f23cfb60-db2a-44f1-979d-e4e12550d7d2",
   "metadata": {},
   "outputs": [],
   "source": [
    "import numpy as np"
   ]
  },
  {
   "cell_type": "code",
   "execution_count": null,
   "id": "0ebb7831-ec52-4c60-8899-0fc873b24e2c",
   "metadata": {},
   "outputs": [],
   "source": [
    "# Replace infinite updated data with nan\n",
    "pcnt_chng.replace([np.inf, -np.inf], np.nan, inplace=True)\n",
    "# Drop rows with NaN\n",
    "pcnt_chng.dropna(inplace=True)\n",
    "pcnt_chng.sample(15)"
   ]
  },
  {
   "cell_type": "code",
   "execution_count": null,
   "id": "ae95f095-043f-461d-927f-f76b2f85d416",
   "metadata": {},
   "outputs": [],
   "source": [
    "pcnt_chng.to_file(\"BlockGroup_PcntChange.geojson\", driver='GeoJSON')"
   ]
  },
  {
   "cell_type": "markdown",
   "id": "97f1925f-71ee-4996-b0aa-096652c82b40",
   "metadata": {},
   "source": [
    "Now I am going to save this dataset, and then create a new one with only the percent change data. Then I'll create another one that will just have <10%, >30%, and >50%. I think these groups will be the most informative/meaningful for our analysis. "
   ]
  },
  {
   "cell_type": "code",
   "execution_count": null,
   "id": "30fbfb25-2a57-4f2d-8abd-d832b4af910d",
   "metadata": {},
   "outputs": [],
   "source": [
    "newrb = pcnt_chng.copy()"
   ]
  },
  {
   "cell_type": "code",
   "execution_count": null,
   "id": "ec4743ef-ba3e-4cc5-95d4-3d7dcbcda4fe",
   "metadata": {},
   "outputs": [],
   "source": [
    "list(newrb)"
   ]
  },
  {
   "cell_type": "code",
   "execution_count": null,
   "id": "59ac75c9-c31e-4548-b890-2123c5278380",
   "metadata": {},
   "outputs": [],
   "source": [
    "keep5 = ['GEOID',\n",
    "         'geometry',\n",
    "         'Name',\n",
    "         '<10%_change',\n",
    "         '>50%_change',\n",
    "         '>30%_change']"
   ]
  },
  {
   "cell_type": "code",
   "execution_count": null,
   "id": "2b85664a-14c1-422d-af95-1d176d8776b2",
   "metadata": {},
   "outputs": [],
   "source": [
    "newrb= newrb[keep5]\n",
    "newrb.head(2)"
   ]
  },
  {
   "cell_type": "code",
   "execution_count": null,
   "id": "52edf25f-dca2-471d-a1d1-7514d7423829",
   "metadata": {},
   "outputs": [],
   "source": [
    "newrb.to_file(\"RB_focus.geojson\", driver=\"GeoJSON\")"
   ]
  },
  {
   "cell_type": "markdown",
   "id": "6e4ec97f-d8b6-441d-92b2-c29042133f23",
   "metadata": {},
   "source": [
    "Great! Now I saved this one so I won't have to go though that mess again. Now I'm going to plot the block groups and see how they look. First, I'll reproject my data to webmercator. I'll need to import some more libraries first"
   ]
  },
  {
   "cell_type": "code",
   "execution_count": null,
   "id": "45233689-782f-4122-8713-1775f3db9011",
   "metadata": {},
   "outputs": [],
   "source": [
    "#for basemaps\n",
    "import contextily as ctx\n",
    "\n",
    "# to give more power to my figures\n",
    "import matplotlib.pyplot as plt\n"
   ]
  },
  {
   "cell_type": "code",
   "execution_count": null,
   "id": "65524926-7287-487f-b9d3-218df6cc48fb",
   "metadata": {},
   "outputs": [],
   "source": [
    "pcnt_chng = pcnt_chng.to_crs(epsg=3857)\n",
    "newrb = newrb.to_crs(epsg=3857)\n",
    "blockshape = blockshape.to_crs(epsg=3857)"
   ]
  },
  {
   "cell_type": "code",
   "execution_count": null,
   "id": "ae5f7138-a567-41fe-b05a-abdbf93809ca",
   "metadata": {},
   "outputs": [],
   "source": [
    "stations = gpd.read_file('Data/stations.geojson')\n",
    "stations.head(10)"
   ]
  },
  {
   "cell_type": "markdown",
   "id": "62c6c171-3148-4086-84f1-ae482249d456",
   "metadata": {},
   "source": [
    "I need to make a lat and lon column for the stations dataset. This will allow me to plot them later."
   ]
  },
  {
   "cell_type": "code",
   "execution_count": null,
   "id": "7fa1f717-4986-449d-b22d-d454a944e796",
   "metadata": {},
   "outputs": [],
   "source": [
    "stations['lon']=stations.geometry.x\n",
    "stations['lat']=stations.geometry.y"
   ]
  },
  {
   "cell_type": "code",
   "execution_count": null,
   "id": "45a1dc51-86e6-4a65-80eb-0ae813b73ce9",
   "metadata": {},
   "outputs": [],
   "source": [
    "stations.head()"
   ]
  },
  {
   "cell_type": "code",
   "execution_count": null,
   "id": "6a26aa23-ef73-474e-8f0c-ffee24437c7d",
   "metadata": {},
   "outputs": [],
   "source": [
    "stations['Marker'].dtypes"
   ]
  },
  {
   "cell_type": "code",
   "execution_count": null,
   "id": "c37d2c0f-80f5-43fe-b60d-8ff488c3f226",
   "metadata": {},
   "outputs": [],
   "source": [
    "minx, miny, maxx, maxy = stations.geometry.total_bounds\n",
    "print(minx)\n",
    "print(maxx)\n",
    "print(miny)\n",
    "print(maxy)\n"
   ]
  },
  {
   "cell_type": "markdown",
   "id": "14248f2e-02c0-4055-ad19-7d9759d9c30e",
   "metadata": {},
   "source": [
    "Now I'm going to  make a folium map with code that Chaithra made in an earlier notebook."
   ]
  },
  {
   "cell_type": "code",
   "execution_count": null,
   "id": "2d74d8e9-2474-46f4-b5e9-81887f339a57",
   "metadata": {},
   "outputs": [],
   "source": [
    "import folium"
   ]
  },
  {
   "cell_type": "code",
   "execution_count": null,
   "id": "36ab9362-e9e7-4ce2-8fcc-c923d1bfc947",
   "metadata": {},
   "outputs": [],
   "source": [
    "longitude = (maxx-minx)/2 + minx\n",
    "latitude = (maxy-miny)/2 + miny\n",
    "print(longitude)\n",
    "print(latitude)"
   ]
  },
  {
   "cell_type": "code",
   "execution_count": null,
   "id": "2722aa6b-520f-44b2-8509-0a628a472473",
   "metadata": {},
   "outputs": [],
   "source": [
    "m = folium.Map(location=[latitude,longitude], zoom_start=11)"
   ]
  },
  {
   "cell_type": "code",
   "execution_count": null,
   "id": "31d72d03-9b86-42a6-bd2d-e6b634f179c9",
   "metadata": {},
   "outputs": [],
   "source": [
    "m"
   ]
  },
  {
   "cell_type": "code",
   "execution_count": null,
   "id": "f39019f1-f004-4752-9cc6-ef447cacf9a0",
   "metadata": {},
   "outputs": [],
   "source": [
    "for index, row in stations.iterrows():\n",
    "    # add folium marker code\n",
    "    folium.Marker([row.lat, row.lon], popup=row.Station, tooltip=row.Station).add_to(m)\n",
    "m"
   ]
  },
  {
   "cell_type": "code",
   "execution_count": null,
   "id": "455fcd02-b049-44c3-bef9-ba6ab0dc63b1",
   "metadata": {},
   "outputs": [],
   "source": [
    "stations.to_file(\"new_stations.geojson\", driver='GeoJSON')"
   ]
  },
  {
   "cell_type": "code",
   "execution_count": null,
   "id": "cc98c2c5-be8b-463e-9b71-a1024caae7fe",
   "metadata": {},
   "outputs": [],
   "source": [
    "stations_web_mercator = stations.to_crs(epsg=3857)"
   ]
  },
  {
   "cell_type": "code",
   "execution_count": null,
   "id": "64881e29-187f-46e1-9036-3951e1fc56c7",
   "metadata": {},
   "outputs": [],
   "source": [
    "minx, miny, maxx, maxy = stations.geometry.total_bounds\n",
    "print(minx)\n",
    "print(maxx)\n",
    "print(miny)\n",
    "print(maxy)\n"
   ]
  },
  {
   "cell_type": "code",
   "execution_count": null,
   "id": "14f08c5d-d03c-4e2f-bf9c-321e994b2b56",
   "metadata": {},
   "outputs": [],
   "source": [
    "stations.plot(figsize=(12,12))"
   ]
  },
  {
   "cell_type": "code",
   "execution_count": null,
   "id": "fcfd151d-ccae-41d3-be3c-1cc58887f578",
   "metadata": {},
   "outputs": [],
   "source": [
    "fig, ax = plt.subplots(figsize=(12,12))\n",
    "\n",
    "# block groups\n",
    "bg.plot(ax=ax, # this puts it in the ax plot\n",
    "        color='gray', \n",
    "        edgecolor='white',\n",
    "        alpha=0.5)\n",
    "\n",
    "newrb.plot(ax=ax,\n",
    "           column = '>30%_change',\n",
    "         cmap='coolwarm', \n",
    "         edgecolor='white',\n",
    "         alpha=0.8,\n",
    "           scheme='user_defined',\n",
    "            classification_kwds={'bins':[-2,-1, 0, 1, 2]},\n",
    "            linewidth=0.3,\n",
    "            legend=True)\n",
    "\n",
    "stations_web_mercator.plot(ax=ax,\n",
    "                           color = 'black',\n",
    "                           marker = 'X',\n",
    "                           markersize = 10)\n",
    "\n",
    "\n",
    "ax.axis('off')\n",
    "ax.set_title('Change in Block Groups who spend >30% of their income on rent',fontsize=15,pad=18)\n",
    "\n",
    "# add a basemap\n",
    "ctx.add_basemap(ax,source=ctx.providers.CartoDB.Positron)"
   ]
  },
  {
   "cell_type": "code",
   "execution_count": null,
   "id": "a75bd390-1532-47a8-b42a-278b68b53bdb",
   "metadata": {},
   "outputs": [],
   "source": [
    "fig, ax = plt.subplots(figsize=(12,12))\n",
    "\n",
    "# block groups\n",
    "bg.plot(ax=ax, # this puts it in the ax plot\n",
    "        color='gray', \n",
    "        edgecolor='white',\n",
    "        alpha=0.5)\n",
    "\n",
    "newrb.plot(ax=ax,\n",
    "           column = '>50%_change',\n",
    "         cmap='coolwarm', \n",
    "         edgecolor='white',\n",
    "         alpha=0.8,\n",
    "           scheme='user_defined',\n",
    "            classification_kwds={'bins':[-2,-1, 0, 1, 2]},\n",
    "            linewidth=0.3,\n",
    "            legend=True)\n",
    "\n",
    "stations_web_mercator.plot(ax=ax,\n",
    "                           color = 'black',\n",
    "                           marker = 'X',\n",
    "                           markersize = 10)\n",
    "\n",
    "\n",
    "\n",
    "\n",
    "ax.axis('off')\n",
    "ax.set_title('Change in Block Groups who spend >50% of their income on rent',fontsize=15,pad=18)\n",
    "\n",
    "# add a basemap\n",
    "ctx.add_basemap(ax,source=ctx.providers.CartoDB.Positron)"
   ]
  },
  {
   "cell_type": "markdown",
   "id": "1e2d5dcf-8d1c-442f-98a1-9d6ea970dea6",
   "metadata": {},
   "source": [
    "I'm going to start a fresh notebook so that I can do the spatial analysis and make better maps. I want to zoom in to focus on the areas around the stations, so I need to figure out how to do that, but everything is moving slowly in this notebook so I should start fresh."
   ]
  }
 ],
 "metadata": {
  "kernelspec": {
   "display_name": "Python 3 (ipykernel)",
   "language": "python",
   "name": "python3"
  },
  "language_info": {
   "codemirror_mode": {
    "name": "ipython",
    "version": 3
   },
   "file_extension": ".py",
   "mimetype": "text/x-python",
   "name": "python",
   "nbconvert_exporter": "python",
   "pygments_lexer": "ipython3",
   "version": "3.9.6"
  }
 },
 "nbformat": 4,
 "nbformat_minor": 5
}
