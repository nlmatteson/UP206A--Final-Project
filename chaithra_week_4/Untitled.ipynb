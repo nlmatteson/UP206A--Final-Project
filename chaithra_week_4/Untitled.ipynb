{
 "cells": [
  {
   "cell_type": "code",
   "execution_count": 1,
   "id": "c3bcb00d-64b5-42f6-bc9e-f549c1587e53",
   "metadata": {},
   "outputs": [
    {
     "name": "stderr",
     "output_type": "stream",
     "text": [
      "/opt/conda/lib/python3.9/site-packages/geopandas/_compat.py:106: UserWarning: The Shapely GEOS version (3.9.1-CAPI-1.14.2) is incompatible with the GEOS version PyGEOS was compiled with (3.10.1-CAPI-1.16.0). Conversions between both will be slow.\n",
      "  warnings.warn(\n"
     ]
    }
   ],
   "source": [
    "import pandas as pd\n",
    "import geopandas as gpd\n",
    "\n",
    "# for plotting\n",
    "import matplotlib.pyplot as plt\n",
    "\n",
    "# for network analysis\n",
    "import networkx as nx\n",
    "\n",
    "# for street network analysis\n",
    "import osmnx as ox\n",
    "\n",
    "# for basemaps\n",
    "import contextily as ctx"
   ]
  },
  {
   "cell_type": "code",
   "execution_count": 2,
   "id": "82ade7e6-cc0f-4993-98a9-e93bda093322",
   "metadata": {},
   "outputs": [],
   "source": [
    "cstations = gpd.read_file(\"California_Rail_Stations.geojson\")"
   ]
  },
  {
   "cell_type": "code",
   "execution_count": 3,
   "id": "8797d79c-eb26-4abb-9bf0-b93e9818c676",
   "metadata": {},
   "outputs": [
    {
     "data": {
      "text/plain": [
       "geopandas.geodataframe.GeoDataFrame"
      ]
     },
     "execution_count": 3,
     "metadata": {},
     "output_type": "execute_result"
    }
   ],
   "source": [
    "type(cstations)"
   ]
  },
  {
   "cell_type": "code",
   "execution_count": 6,
   "id": "877685e2-9e55-4a8c-b0ee-fa6698e17009",
   "metadata": {},
   "outputs": [
    {
     "data": {
      "text/plain": [
       "(292, 18)"
      ]
     },
     "execution_count": 6,
     "metadata": {},
     "output_type": "execute_result"
    }
   ],
   "source": [
    "cstations.shape"
   ]
  },
  {
   "cell_type": "code",
   "execution_count": 29,
   "id": "e2e43da7-f297-47bb-81d3-f7408308d4e2",
   "metadata": {},
   "outputs": [
    {
     "data": {
      "text/html": [
       "<div>\n",
       "<style scoped>\n",
       "    .dataframe tbody tr th:only-of-type {\n",
       "        vertical-align: middle;\n",
       "    }\n",
       "\n",
       "    .dataframe tbody tr th {\n",
       "        vertical-align: top;\n",
       "    }\n",
       "\n",
       "    .dataframe thead th {\n",
       "        text-align: right;\n",
       "    }\n",
       "</style>\n",
       "<table border=\"1\" class=\"dataframe\">\n",
       "  <thead>\n",
       "    <tr style=\"text-align: right;\">\n",
       "      <th></th>\n",
       "      <th>OBJECTID</th>\n",
       "      <th>LOCATION</th>\n",
       "      <th>STATION</th>\n",
       "      <th>CODE</th>\n",
       "      <th>ADDRESS</th>\n",
       "      <th>ZIP</th>\n",
       "      <th>PASS_OP</th>\n",
       "      <th>PASS_NETWO</th>\n",
       "      <th>COMM_OP</th>\n",
       "      <th>COMM_NETWO</th>\n",
       "      <th>BUS_ROUTES</th>\n",
       "      <th>TRANSIT</th>\n",
       "      <th>AIRPORT</th>\n",
       "      <th>STATION_TY</th>\n",
       "      <th>INTERMODAL</th>\n",
       "      <th>DIST</th>\n",
       "      <th>CO</th>\n",
       "      <th>geometry</th>\n",
       "    </tr>\n",
       "  </thead>\n",
       "  <tbody>\n",
       "    <tr>\n",
       "      <th>0</th>\n",
       "      <td>1</td>\n",
       "      <td>Parking Garage</td>\n",
       "      <td>MONTEREY - Parking Garage</td>\n",
       "      <td>-</td>\n",
       "      <td>Tyler, between Del Monte &amp; Franklin</td>\n",
       "      <td>93940</td>\n",
       "      <td></td>\n",
       "      <td></td>\n",
       "      <td></td>\n",
       "      <td></td>\n",
       "      <td>55</td>\n",
       "      <td></td>\n",
       "      <td></td>\n",
       "      <td>2</td>\n",
       "      <td>0</td>\n",
       "      <td>5</td>\n",
       "      <td>MON</td>\n",
       "      <td>POINT (-121.89330 36.60033)</td>\n",
       "    </tr>\n",
       "    <tr>\n",
       "      <th>1</th>\n",
       "      <td>2</td>\n",
       "      <td>El Segundo</td>\n",
       "      <td>EL SEGUNDO</td>\n",
       "      <td>ESG</td>\n",
       "      <td>700 South Douglas Street</td>\n",
       "      <td>90245</td>\n",
       "      <td></td>\n",
       "      <td></td>\n",
       "      <td></td>\n",
       "      <td></td>\n",
       "      <td>1c</td>\n",
       "      <td></td>\n",
       "      <td></td>\n",
       "      <td>2</td>\n",
       "      <td>0</td>\n",
       "      <td>7</td>\n",
       "      <td>LA</td>\n",
       "      <td>POINT (-118.38342 33.90512)</td>\n",
       "    </tr>\n",
       "    <tr>\n",
       "      <th>2</th>\n",
       "      <td>3</td>\n",
       "      <td>Morgan Hill</td>\n",
       "      <td>MORGAN HILL</td>\n",
       "      <td>MHC</td>\n",
       "      <td>17200 Depot Street</td>\n",
       "      <td>95037</td>\n",
       "      <td></td>\n",
       "      <td></td>\n",
       "      <td>PCJPB</td>\n",
       "      <td>Caltrain</td>\n",
       "      <td>55</td>\n",
       "      <td></td>\n",
       "      <td></td>\n",
       "      <td>3</td>\n",
       "      <td>1</td>\n",
       "      <td>4</td>\n",
       "      <td>SCL</td>\n",
       "      <td>POINT (-121.65053 37.12966)</td>\n",
       "    </tr>\n",
       "    <tr>\n",
       "      <th>3</th>\n",
       "      <td>4</td>\n",
       "      <td>Amtrak Station</td>\n",
       "      <td>OAKLAND COLISEUM</td>\n",
       "      <td>OAC</td>\n",
       "      <td>700 Seventy-third Avenue</td>\n",
       "      <td>94621</td>\n",
       "      <td>Amtrak</td>\n",
       "      <td>Capitol Corridor</td>\n",
       "      <td></td>\n",
       "      <td></td>\n",
       "      <td></td>\n",
       "      <td>AC Transit,BART</td>\n",
       "      <td>AirBART connector to OAK</td>\n",
       "      <td>6</td>\n",
       "      <td>1</td>\n",
       "      <td>4</td>\n",
       "      <td>ALA</td>\n",
       "      <td>POINT (-122.19820 37.75252)</td>\n",
       "    </tr>\n",
       "    <tr>\n",
       "      <th>4</th>\n",
       "      <td>5</td>\n",
       "      <td>Amtrak Station</td>\n",
       "      <td>SANTA BARBARA</td>\n",
       "      <td>SBA</td>\n",
       "      <td>209 State Street</td>\n",
       "      <td>93101</td>\n",
       "      <td>Amtrak</td>\n",
       "      <td>Coast Starlight,Pacific Surfliner</td>\n",
       "      <td></td>\n",
       "      <td></td>\n",
       "      <td>4,10,17,21</td>\n",
       "      <td>Santa Barbara MTD</td>\n",
       "      <td></td>\n",
       "      <td>5</td>\n",
       "      <td>1</td>\n",
       "      <td>5</td>\n",
       "      <td>SB</td>\n",
       "      <td>POINT (-119.69260 34.41430)</td>\n",
       "    </tr>\n",
       "  </tbody>\n",
       "</table>\n",
       "</div>"
      ],
      "text/plain": [
       "   OBJECTID        LOCATION                    STATION CODE  \\\n",
       "0         1  Parking Garage  MONTEREY - Parking Garage    -   \n",
       "1         2      El Segundo                 EL SEGUNDO  ESG   \n",
       "2         3     Morgan Hill                MORGAN HILL  MHC   \n",
       "3         4  Amtrak Station           OAKLAND COLISEUM  OAC   \n",
       "4         5  Amtrak Station              SANTA BARBARA  SBA   \n",
       "\n",
       "                               ADDRESS    ZIP PASS_OP  \\\n",
       "0  Tyler, between Del Monte & Franklin  93940           \n",
       "1             700 South Douglas Street  90245           \n",
       "2                   17200 Depot Street  95037           \n",
       "3             700 Seventy-third Avenue  94621  Amtrak   \n",
       "4                     209 State Street  93101  Amtrak   \n",
       "\n",
       "                          PASS_NETWO COMM_OP COMM_NETWO  BUS_ROUTES  \\\n",
       "0                                                                55   \n",
       "1                                                                1c   \n",
       "2                                      PCJPB   Caltrain          55   \n",
       "3                   Capitol Corridor                                  \n",
       "4  Coast Starlight,Pacific Surfliner                     4,10,17,21   \n",
       "\n",
       "             TRANSIT                   AIRPORT  STATION_TY INTERMODAL  DIST  \\\n",
       "0                                                        2          0     5   \n",
       "1                                                        2          0     7   \n",
       "2                                                        3          1     4   \n",
       "3    AC Transit,BART  AirBART connector to OAK           6          1     4   \n",
       "4  Santa Barbara MTD                                     5          1     5   \n",
       "\n",
       "    CO                     geometry  \n",
       "0  MON  POINT (-121.89330 36.60033)  \n",
       "1   LA  POINT (-118.38342 33.90512)  \n",
       "2  SCL  POINT (-121.65053 37.12966)  \n",
       "3  ALA  POINT (-122.19820 37.75252)  \n",
       "4   SB  POINT (-119.69260 34.41430)  "
      ]
     },
     "execution_count": 29,
     "metadata": {},
     "output_type": "execute_result"
    }
   ],
   "source": [
    "cstations.head()"
   ]
  },
  {
   "cell_type": "code",
   "execution_count": 28,
   "id": "318bea6e-9b6d-4407-81cd-eb1431aceaac",
   "metadata": {},
   "outputs": [],
   "source": [
    "azip = gpd.read_file('Zip_Code_Boundaries.geojson')"
   ]
  },
  {
   "cell_type": "code",
   "execution_count": 30,
   "id": "e2ac0304-e749-48ad-8b9f-1901a4216b34",
   "metadata": {},
   "outputs": [
    {
     "data": {
      "text/html": [
       "<div>\n",
       "<style scoped>\n",
       "    .dataframe tbody tr th:only-of-type {\n",
       "        vertical-align: middle;\n",
       "    }\n",
       "\n",
       "    .dataframe tbody tr th {\n",
       "        vertical-align: top;\n",
       "    }\n",
       "\n",
       "    .dataframe thead th {\n",
       "        text-align: right;\n",
       "    }\n",
       "</style>\n",
       "<table border=\"1\" class=\"dataframe\">\n",
       "  <thead>\n",
       "    <tr style=\"text-align: right;\">\n",
       "      <th></th>\n",
       "      <th>OBJECTID</th>\n",
       "      <th>ZIP_CODE</th>\n",
       "      <th>PO_NAME</th>\n",
       "      <th>STATE</th>\n",
       "      <th>POPULATION</th>\n",
       "      <th>POP_SQMI</th>\n",
       "      <th>SQMI</th>\n",
       "      <th>SHAPE_Length</th>\n",
       "      <th>SHAPE_Area</th>\n",
       "      <th>geometry</th>\n",
       "    </tr>\n",
       "  </thead>\n",
       "  <tbody>\n",
       "    <tr>\n",
       "      <th>0</th>\n",
       "      <td>1</td>\n",
       "      <td>94502</td>\n",
       "      <td>Alameda</td>\n",
       "      <td>CA</td>\n",
       "      <td>14117</td>\n",
       "      <td>5669.48</td>\n",
       "      <td>2.49</td>\n",
       "      <td>0.121167</td>\n",
       "      <td>0.000659</td>\n",
       "      <td>MULTIPOLYGON (((-122.22677 37.74798, -122.2268...</td>\n",
       "    </tr>\n",
       "    <tr>\n",
       "      <th>1</th>\n",
       "      <td>2</td>\n",
       "      <td>94577</td>\n",
       "      <td>San Leandro</td>\n",
       "      <td>CA</td>\n",
       "      <td>48666</td>\n",
       "      <td>5993.35</td>\n",
       "      <td>8.12</td>\n",
       "      <td>0.394127</td>\n",
       "      <td>0.002148</td>\n",
       "      <td>MULTIPOLYGON (((-122.12165 37.72974, -122.1217...</td>\n",
       "    </tr>\n",
       "    <tr>\n",
       "      <th>2</th>\n",
       "      <td>3</td>\n",
       "      <td>94579</td>\n",
       "      <td>San Leandro</td>\n",
       "      <td>CA</td>\n",
       "      <td>20237</td>\n",
       "      <td>6528.06</td>\n",
       "      <td>3.10</td>\n",
       "      <td>0.176203</td>\n",
       "      <td>0.000821</td>\n",
       "      <td>MULTIPOLYGON (((-122.13297 37.69046, -122.1331...</td>\n",
       "    </tr>\n",
       "    <tr>\n",
       "      <th>3</th>\n",
       "      <td>4</td>\n",
       "      <td>94603</td>\n",
       "      <td>Oakland</td>\n",
       "      <td>CA</td>\n",
       "      <td>33241</td>\n",
       "      <td>11957.19</td>\n",
       "      <td>2.78</td>\n",
       "      <td>0.181344</td>\n",
       "      <td>0.000736</td>\n",
       "      <td>MULTIPOLYGON (((-122.14867 37.74088, -122.1487...</td>\n",
       "    </tr>\n",
       "    <tr>\n",
       "      <th>4</th>\n",
       "      <td>5</td>\n",
       "      <td>94605</td>\n",
       "      <td>Oakland</td>\n",
       "      <td>CA</td>\n",
       "      <td>42375</td>\n",
       "      <td>4848.40</td>\n",
       "      <td>8.74</td>\n",
       "      <td>0.294314</td>\n",
       "      <td>0.002315</td>\n",
       "      <td>MULTIPOLYGON (((-122.12917 37.77135, -122.1284...</td>\n",
       "    </tr>\n",
       "  </tbody>\n",
       "</table>\n",
       "</div>"
      ],
      "text/plain": [
       "   OBJECTID ZIP_CODE      PO_NAME STATE  POPULATION  POP_SQMI  SQMI  \\\n",
       "0         1    94502      Alameda    CA       14117   5669.48  2.49   \n",
       "1         2    94577  San Leandro    CA       48666   5993.35  8.12   \n",
       "2         3    94579  San Leandro    CA       20237   6528.06  3.10   \n",
       "3         4    94603      Oakland    CA       33241  11957.19  2.78   \n",
       "4         5    94605      Oakland    CA       42375   4848.40  8.74   \n",
       "\n",
       "   SHAPE_Length  SHAPE_Area                                           geometry  \n",
       "0      0.121167    0.000659  MULTIPOLYGON (((-122.22677 37.74798, -122.2268...  \n",
       "1      0.394127    0.002148  MULTIPOLYGON (((-122.12165 37.72974, -122.1217...  \n",
       "2      0.176203    0.000821  MULTIPOLYGON (((-122.13297 37.69046, -122.1331...  \n",
       "3      0.181344    0.000736  MULTIPOLYGON (((-122.14867 37.74088, -122.1487...  \n",
       "4      0.294314    0.002315  MULTIPOLYGON (((-122.12917 37.77135, -122.1284...  "
      ]
     },
     "execution_count": 30,
     "metadata": {},
     "output_type": "execute_result"
    }
   ],
   "source": [
    "azip.head()"
   ]
  },
  {
   "cell_type": "code",
   "execution_count": 32,
   "id": "edba3a7b-a60d-468f-a476-5d83edef7d58",
   "metadata": {},
   "outputs": [
    {
     "data": {
      "text/plain": [
       "['OBJECTID',\n",
       " 'ZIP_CODE',\n",
       " 'PO_NAME',\n",
       " 'STATE',\n",
       " 'POPULATION',\n",
       " 'POP_SQMI',\n",
       " 'SQMI',\n",
       " 'SHAPE_Length',\n",
       " 'SHAPE_Area',\n",
       " 'geometry']"
      ]
     },
     "execution_count": 32,
     "metadata": {},
     "output_type": "execute_result"
    }
   ],
   "source": [
    "list(azip)"
   ]
  },
  {
   "cell_type": "code",
   "execution_count": 35,
   "id": "2661b242-f784-4c46-9a8e-91b7a631e54f",
   "metadata": {},
   "outputs": [],
   "source": [
    "azip.columns=['OBJECTID',\n",
    " 'ZIP',\n",
    " 'PO_NAME',\n",
    " 'STATE',\n",
    " 'POPULATION',\n",
    " 'POP_SQMI',\n",
    " 'SQMI',\n",
    " 'SHAPE_Length',\n",
    " 'SHAPE_Area',\n",
    " 'geometry']"
   ]
  },
  {
   "cell_type": "code",
   "execution_count": 36,
   "id": "c48b8e86-28b0-4b98-9e22-d25c6d4a0318",
   "metadata": {},
   "outputs": [
    {
     "data": {
      "text/html": [
       "<div>\n",
       "<style scoped>\n",
       "    .dataframe tbody tr th:only-of-type {\n",
       "        vertical-align: middle;\n",
       "    }\n",
       "\n",
       "    .dataframe tbody tr th {\n",
       "        vertical-align: top;\n",
       "    }\n",
       "\n",
       "    .dataframe thead th {\n",
       "        text-align: right;\n",
       "    }\n",
       "</style>\n",
       "<table border=\"1\" class=\"dataframe\">\n",
       "  <thead>\n",
       "    <tr style=\"text-align: right;\">\n",
       "      <th></th>\n",
       "      <th>OBJECTID</th>\n",
       "      <th>ZIP</th>\n",
       "      <th>PO_NAME</th>\n",
       "      <th>STATE</th>\n",
       "      <th>POPULATION</th>\n",
       "      <th>POP_SQMI</th>\n",
       "      <th>SQMI</th>\n",
       "      <th>SHAPE_Length</th>\n",
       "      <th>SHAPE_Area</th>\n",
       "      <th>geometry</th>\n",
       "    </tr>\n",
       "  </thead>\n",
       "  <tbody>\n",
       "    <tr>\n",
       "      <th>0</th>\n",
       "      <td>1</td>\n",
       "      <td>94502</td>\n",
       "      <td>Alameda</td>\n",
       "      <td>CA</td>\n",
       "      <td>14117</td>\n",
       "      <td>5669.48</td>\n",
       "      <td>2.49</td>\n",
       "      <td>0.121167</td>\n",
       "      <td>0.000659</td>\n",
       "      <td>MULTIPOLYGON (((-122.22677 37.74798, -122.2268...</td>\n",
       "    </tr>\n",
       "    <tr>\n",
       "      <th>1</th>\n",
       "      <td>2</td>\n",
       "      <td>94577</td>\n",
       "      <td>San Leandro</td>\n",
       "      <td>CA</td>\n",
       "      <td>48666</td>\n",
       "      <td>5993.35</td>\n",
       "      <td>8.12</td>\n",
       "      <td>0.394127</td>\n",
       "      <td>0.002148</td>\n",
       "      <td>MULTIPOLYGON (((-122.12165 37.72974, -122.1217...</td>\n",
       "    </tr>\n",
       "    <tr>\n",
       "      <th>2</th>\n",
       "      <td>3</td>\n",
       "      <td>94579</td>\n",
       "      <td>San Leandro</td>\n",
       "      <td>CA</td>\n",
       "      <td>20237</td>\n",
       "      <td>6528.06</td>\n",
       "      <td>3.10</td>\n",
       "      <td>0.176203</td>\n",
       "      <td>0.000821</td>\n",
       "      <td>MULTIPOLYGON (((-122.13297 37.69046, -122.1331...</td>\n",
       "    </tr>\n",
       "    <tr>\n",
       "      <th>3</th>\n",
       "      <td>4</td>\n",
       "      <td>94603</td>\n",
       "      <td>Oakland</td>\n",
       "      <td>CA</td>\n",
       "      <td>33241</td>\n",
       "      <td>11957.19</td>\n",
       "      <td>2.78</td>\n",
       "      <td>0.181344</td>\n",
       "      <td>0.000736</td>\n",
       "      <td>MULTIPOLYGON (((-122.14867 37.74088, -122.1487...</td>\n",
       "    </tr>\n",
       "    <tr>\n",
       "      <th>4</th>\n",
       "      <td>5</td>\n",
       "      <td>94605</td>\n",
       "      <td>Oakland</td>\n",
       "      <td>CA</td>\n",
       "      <td>42375</td>\n",
       "      <td>4848.40</td>\n",
       "      <td>8.74</td>\n",
       "      <td>0.294314</td>\n",
       "      <td>0.002315</td>\n",
       "      <td>MULTIPOLYGON (((-122.12917 37.77135, -122.1284...</td>\n",
       "    </tr>\n",
       "  </tbody>\n",
       "</table>\n",
       "</div>"
      ],
      "text/plain": [
       "   OBJECTID    ZIP      PO_NAME STATE  POPULATION  POP_SQMI  SQMI  \\\n",
       "0         1  94502      Alameda    CA       14117   5669.48  2.49   \n",
       "1         2  94577  San Leandro    CA       48666   5993.35  8.12   \n",
       "2         3  94579  San Leandro    CA       20237   6528.06  3.10   \n",
       "3         4  94603      Oakland    CA       33241  11957.19  2.78   \n",
       "4         5  94605      Oakland    CA       42375   4848.40  8.74   \n",
       "\n",
       "   SHAPE_Length  SHAPE_Area                                           geometry  \n",
       "0      0.121167    0.000659  MULTIPOLYGON (((-122.22677 37.74798, -122.2268...  \n",
       "1      0.394127    0.002148  MULTIPOLYGON (((-122.12165 37.72974, -122.1217...  \n",
       "2      0.176203    0.000821  MULTIPOLYGON (((-122.13297 37.69046, -122.1331...  \n",
       "3      0.181344    0.000736  MULTIPOLYGON (((-122.14867 37.74088, -122.1487...  \n",
       "4      0.294314    0.002315  MULTIPOLYGON (((-122.12917 37.77135, -122.1284...  "
      ]
     },
     "execution_count": 36,
     "metadata": {},
     "output_type": "execute_result"
    }
   ],
   "source": [
    "azip.head()"
   ]
  },
  {
   "cell_type": "code",
   "execution_count": 49,
   "id": "6c8b9b9d-9f45-4b8e-b16a-ff1367facec7",
   "metadata": {},
   "outputs": [],
   "source": [
    "to_keep=azip['geometry']"
   ]
  },
  {
   "cell_type": "code",
   "execution_count": 50,
   "id": "2327f204-5553-476c-b69e-1b7e08294835",
   "metadata": {},
   "outputs": [
    {
     "data": {
      "text/plain": [
       "0     MULTIPOLYGON (((-122.22677 37.74798, -122.2268...\n",
       "1     MULTIPOLYGON (((-122.12165 37.72974, -122.1217...\n",
       "2     MULTIPOLYGON (((-122.13297 37.69046, -122.1331...\n",
       "3     MULTIPOLYGON (((-122.14867 37.74088, -122.1487...\n",
       "4     MULTIPOLYGON (((-122.12917 37.77135, -122.1284...\n",
       "5     MULTIPOLYGON (((-122.16579 37.75356, -122.1667...\n",
       "6     MULTIPOLYGON (((-122.32929 37.79679, -122.3289...\n",
       "7     MULTIPOLYGON (((-122.23470 37.79980, -122.2344...\n",
       "8     MULTIPOLYGON (((-122.27588 37.81848, -122.2758...\n",
       "9     MULTIPOLYGON (((-122.21479 37.81276, -122.2148...\n",
       "10    MULTIPOLYGON (((-122.26306 37.81744, -122.2637...\n",
       "11    MULTIPOLYGON (((-122.27669 37.84712, -122.2761...\n",
       "12    MULTIPOLYGON (((-122.25300 37.83356, -122.2532...\n",
       "13    MULTIPOLYGON (((-122.22060 37.86016, -122.2204...\n",
       "14    MULTIPOLYGON (((-122.28325 37.88099, -122.2832...\n",
       "15    MULTIPOLYGON (((-122.27453 37.88493, -122.2745...\n",
       "16    MULTIPOLYGON (((-122.22405 37.87183, -122.2240...\n",
       "17    MULTIPOLYGON (((-122.21785 37.86836, -122.2179...\n",
       "18    MULTIPOLYGON (((-122.25558 37.87992, -122.2550...\n",
       "19    MULTIPOLYGON (((-122.29588 37.88047, -122.2958...\n",
       "20    MULTIPOLYGON (((-122.22047 37.87235, -122.2206...\n",
       "21    MULTIPOLYGON (((-122.22277 37.79530, -122.2227...\n",
       "22    MULTIPOLYGON (((-122.18099 37.80866, -122.1809...\n",
       "23    MULTIPOLYGON (((-122.17848 37.81733, -122.1800...\n",
       "24    MULTIPOLYGON (((-122.18077 37.78364, -122.1806...\n",
       "25    MULTIPOLYGON (((-122.17698 37.81623, -122.1750...\n",
       "26    MULTIPOLYGON (((-122.28808 37.89813, -122.2871...\n",
       "27    MULTIPOLYGON (((-122.27771 37.91399, -122.2779...\n",
       "28    MULTIPOLYGON (((-122.25448 37.91989, -122.2543...\n",
       "29    MULTIPOLYGON (((-121.95864 37.55862, -121.9584...\n",
       "30    MULTIPOLYGON (((-122.02548 37.57836, -122.0256...\n",
       "31    MULTIPOLYGON (((-122.00223 37.52990, -122.0020...\n",
       "32    MULTIPOLYGON (((-121.91010 37.59419, -121.9099...\n",
       "33    MULTIPOLYGON (((-121.64135 37.74471, -121.6396...\n",
       "34    MULTIPOLYGON (((-121.94731 37.59798, -121.9472...\n",
       "35    MULTIPOLYGON (((-121.98886 37.63393, -121.9890...\n",
       "36    MULTIPOLYGON (((-122.07804 37.66554, -122.0777...\n",
       "37    MULTIPOLYGON (((-122.10163 37.65644, -122.1015...\n",
       "38    MULTIPOLYGON (((-121.94731 37.59798, -121.9474...\n",
       "39    MULTIPOLYGON (((-122.10353 37.69477, -122.1034...\n",
       "40    MULTIPOLYGON (((-122.13840 37.80439, -122.1382...\n",
       "41    MULTIPOLYGON (((-121.97251 37.72856, -121.9729...\n",
       "42    MULTIPOLYGON (((-122.10353 37.69477, -122.1037...\n",
       "43    MULTIPOLYGON (((-122.11045 37.68941, -122.1104...\n",
       "44    MULTIPOLYGON (((-121.82134 37.67615, -121.8211...\n",
       "45    MULTIPOLYGON (((-121.97760 37.69788, -121.9776...\n",
       "46    MULTIPOLYGON (((-121.90569 37.63283, -121.9056...\n",
       "47    MULTIPOLYGON (((-121.82134 37.67615, -121.8214...\n",
       "48    MULTIPOLYGON (((-121.81772 37.84020, -121.8176...\n",
       "Name: geometry, dtype: geometry"
      ]
     },
     "execution_count": 50,
     "metadata": {},
     "output_type": "execute_result"
    }
   ],
   "source": [
    "to_keep"
   ]
  },
  {
   "cell_type": "code",
   "execution_count": 57,
   "id": "8a1c5412-89e2-4aff-9438-2fc1a2bfc472",
   "metadata": {},
   "outputs": [
    {
     "ename": "AttributeError",
     "evalue": "'GeoDataFrame' object has no attribute 'sjoin'",
     "output_type": "error",
     "traceback": [
      "\u001b[0;31m---------------------------------------------------------------------------\u001b[0m",
      "\u001b[0;31mAttributeError\u001b[0m                            Traceback (most recent call last)",
      "\u001b[0;32m/tmp/ipykernel_215/2260975304.py\u001b[0m in \u001b[0;36m<module>\u001b[0;34m\u001b[0m\n\u001b[0;32m----> 1\u001b[0;31m \u001b[0mbstations\u001b[0m \u001b[0;34m=\u001b[0m \u001b[0mcstations\u001b[0m\u001b[0;34m.\u001b[0m\u001b[0msjoin\u001b[0m\u001b[0;34m(\u001b[0m\u001b[0mazip\u001b[0m\u001b[0;34m,\u001b[0m \u001b[0mhow\u001b[0m\u001b[0;34m=\u001b[0m\u001b[0;34m\"inner\"\u001b[0m\u001b[0;34m,\u001b[0m \u001b[0mpredicate\u001b[0m\u001b[0;34m=\u001b[0m\u001b[0;34m'intersects'\u001b[0m\u001b[0;34m)\u001b[0m\u001b[0;34m\u001b[0m\u001b[0;34m\u001b[0m\u001b[0m\n\u001b[0m",
      "\u001b[0;32m/opt/conda/lib/python3.9/site-packages/pandas/core/generic.py\u001b[0m in \u001b[0;36m__getattr__\u001b[0;34m(self, name)\u001b[0m\n\u001b[1;32m   5485\u001b[0m         ):\n\u001b[1;32m   5486\u001b[0m             \u001b[0;32mreturn\u001b[0m \u001b[0mself\u001b[0m\u001b[0;34m[\u001b[0m\u001b[0mname\u001b[0m\u001b[0;34m]\u001b[0m\u001b[0;34m\u001b[0m\u001b[0;34m\u001b[0m\u001b[0m\n\u001b[0;32m-> 5487\u001b[0;31m         \u001b[0;32mreturn\u001b[0m \u001b[0mobject\u001b[0m\u001b[0;34m.\u001b[0m\u001b[0m__getattribute__\u001b[0m\u001b[0;34m(\u001b[0m\u001b[0mself\u001b[0m\u001b[0;34m,\u001b[0m \u001b[0mname\u001b[0m\u001b[0;34m)\u001b[0m\u001b[0;34m\u001b[0m\u001b[0;34m\u001b[0m\u001b[0m\n\u001b[0m\u001b[1;32m   5488\u001b[0m \u001b[0;34m\u001b[0m\u001b[0m\n\u001b[1;32m   5489\u001b[0m     \u001b[0;32mdef\u001b[0m \u001b[0m__setattr__\u001b[0m\u001b[0;34m(\u001b[0m\u001b[0mself\u001b[0m\u001b[0;34m,\u001b[0m \u001b[0mname\u001b[0m\u001b[0;34m:\u001b[0m \u001b[0mstr\u001b[0m\u001b[0;34m,\u001b[0m \u001b[0mvalue\u001b[0m\u001b[0;34m)\u001b[0m \u001b[0;34m->\u001b[0m \u001b[0;32mNone\u001b[0m\u001b[0;34m:\u001b[0m\u001b[0;34m\u001b[0m\u001b[0;34m\u001b[0m\u001b[0m\n",
      "\u001b[0;31mAttributeError\u001b[0m: 'GeoDataFrame' object has no attribute 'sjoin'"
     ]
    }
   ],
   "source": [
    "bstations = cstations.sjoin(azip, how=\"inner\", predicate='intersects')\n"
   ]
  },
  {
   "cell_type": "code",
   "execution_count": 52,
   "id": "2080b88f-295e-4b0b-9531-9d6f881d95b4",
   "metadata": {},
   "outputs": [
    {
     "data": {
      "text/plain": [
       "geopandas.geodataframe.GeoDataFrame"
      ]
     },
     "execution_count": 52,
     "metadata": {},
     "output_type": "execute_result"
    }
   ],
   "source": [
    "type(cstations)"
   ]
  },
  {
   "cell_type": "code",
   "execution_count": 53,
   "id": "97524dd9-970d-4969-8b4b-823da6abef2a",
   "metadata": {},
   "outputs": [
    {
     "data": {
      "text/plain": [
       "geopandas.geodataframe.GeoDataFrame"
      ]
     },
     "execution_count": 53,
     "metadata": {},
     "output_type": "execute_result"
    }
   ],
   "source": [
    "type(azip)"
   ]
  },
  {
   "cell_type": "code",
   "execution_count": null,
   "id": "1f0778d5-91eb-4244-b5af-7730b58eee86",
   "metadata": {},
   "outputs": [],
   "source": []
  }
 ],
 "metadata": {
  "kernelspec": {
   "display_name": "Python 3 (ipykernel)",
   "language": "python",
   "name": "python3"
  },
  "language_info": {
   "codemirror_mode": {
    "name": "ipython",
    "version": 3
   },
   "file_extension": ".py",
   "mimetype": "text/x-python",
   "name": "python",
   "nbconvert_exporter": "python",
   "pygments_lexer": "ipython3",
   "version": "3.9.6"
  }
 },
 "nbformat": 4,
 "nbformat_minor": 5
}
